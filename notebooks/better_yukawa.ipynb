{
 "cells": [
  {
   "cell_type": "code",
   "execution_count": 48,
   "metadata": {},
   "outputs": [],
   "source": [
    "from openparticle import *\n",
    "import numpy as np\n",
    "import sys, os\n",
    "sys.path.append(os.path.join(os.path.dirname(os.path.realpath('__file__')), '..'))\n",
    "from openparticle import ParticleOperator\n",
    "import numpy as np\n",
    "import cirq\n",
    "from src.lobe.system import System\n",
    "from src.lobe.lobe_circuit import lobe_circuit\n",
    "from src.lobe.block_encoding import add_lobe_oracle\n",
    "from cirq.contrib.svg import SVGCircuit\n",
    "from src.lobe.usp import add_naive_usp\n",
    "from src.lobe.asp import get_target_state, add_prepare_circuit\n",
    "from src.lobe.rescale import bosonically_rescale_terms, rescale_terms_usp, get_numbers_of_bosonic_operators_in_terms, get_number_of_active_bosonic_modes\n",
    "from src.lobe._utils import get_basis_of_full_system\n",
    "import matplotlib.pyplot as plt\n",
    "from colors import *"
   ]
  },
  {
   "cell_type": "markdown",
   "metadata": {},
   "source": [
    "### Yukawa Model"
   ]
  },
  {
   "cell_type": "markdown",
   "metadata": {},
   "source": [
    "$$\n",
    "\\psi(x) = \\sum_{k = 1/2}^\\infty\\frac{b_k u(p_k)e^{-ip_k x} + d_k^\\dagger v(p_k)e^{ip_k x}}{\\sqrt{4\\pi k}}\n",
    "$$"
   ]
  },
  {
   "cell_type": "markdown",
   "metadata": {},
   "source": [
    "$$\n",
    "\\bar \\psi(x) = \\sum_{k = 1/2}^\\infty\\frac{b_k^\\dagger \\bar u(p_k)e^{ip_k x} + d_k \\bar v(p_k)e^{-ip_k x}}{\\sqrt{4\\pi k}}\n",
    "$$"
   ]
  },
  {
   "cell_type": "markdown",
   "metadata": {},
   "source": [
    "$$\n",
    "\\phi(x) = \\sum_{k = 1}^\\infty\\frac{a_k e^{-ip_k x} + a_k^\\dagger e^{ip_k x}}{\\sqrt{4\\pi k}}\n",
    "$$"
   ]
  },
  {
   "cell_type": "markdown",
   "metadata": {},
   "source": [
    "$$\n",
    "u(p_k) = \\frac{1}{\\sqrt{p_k^+}}\\begin{bmatrix}\n",
    "p^+_k\\\\\n",
    "m\n",
    "\\end{bmatrix}\n",
    "$$"
   ]
  },
  {
   "cell_type": "markdown",
   "metadata": {},
   "source": [
    "$$\n",
    "v(p_k) = \\frac{1}{\\sqrt{p_k^+}}\\begin{bmatrix}\n",
    "-p^+_k\\\\\n",
    "m\n",
    "\\end{bmatrix}\n",
    "$$"
   ]
  },
  {
   "cell_type": "markdown",
   "metadata": {},
   "source": [
    "$$\n",
    "p_k^+ = \\frac{2\\pi k}{L}\n",
    "$$"
   ]
  },
  {
   "cell_type": "markdown",
   "metadata": {},
   "source": [
    "$$\n",
    "\n",
    "H_{int} = g\\int_{-L}^{L}\\int_{-L}^{L}\\int_{-L}^{L}dx_1^-dx_2^-dx_3^- \\bar \\psi(x_1^-) \\psi(x_2^-) \\phi(x_3^-)\n",
    "$$"
   ]
  },
  {
   "cell_type": "code",
   "execution_count": 49,
   "metadata": {},
   "outputs": [],
   "source": [
    "def p_k(k, L = 1):\n",
    "    return 2 * np.pi * k / L"
   ]
  },
  {
   "cell_type": "code",
   "execution_count": 50,
   "metadata": {},
   "outputs": [],
   "source": [
    "def u(k, m = 1):\n",
    "    return 1/np.sqrt(p_k(k)) * np.array([p_k(k), m]).reshape([-1, 1])"
   ]
  },
  {
   "cell_type": "code",
   "execution_count": 51,
   "metadata": {},
   "outputs": [],
   "source": [
    "def v(k, m = 1):\n",
    "    return 1/np.sqrt(p_k(k)) * np.array([-p_k(k), m]).reshape([-1, 1])"
   ]
  },
  {
   "cell_type": "code",
   "execution_count": 52,
   "metadata": {},
   "outputs": [],
   "source": [
    "def ubar(k, m = 1):\n",
    "    gamma0 = np.array([[0, 1],\n",
    "                       [1, 0]])\n",
    "    return (u(k).reshape([1, -1])).dot(gamma0) #u(p) is real"
   ]
  },
  {
   "cell_type": "code",
   "execution_count": 53,
   "metadata": {},
   "outputs": [],
   "source": [
    "def vbar(k, m = 1):\n",
    "    return v(k).reshape([1, -1]) #u(p) is real"
   ]
  },
  {
   "cell_type": "code",
   "execution_count": 54,
   "metadata": {},
   "outputs": [],
   "source": [
    "def psi(I, m = 1, L = 1):\n",
    "\n",
    "    _psi = np.array([ParticleOperator({}), ParticleOperator({})]).reshape([-1, 1])\n",
    "\n",
    "    for i, k in enumerate(np.arange(1/2, I, 1)):\n",
    "        _psi += 1 / np.sqrt(4 * np.pi * k) * (\n",
    "            u(k) * ParticleOperator('b' + str(k))\n",
    "            + v(k) * ParticleOperator('d' + str(k) + '^')\n",
    "        )\n",
    "\n",
    "    return _psi\n"
   ]
  },
  {
   "cell_type": "code",
   "execution_count": 55,
   "metadata": {},
   "outputs": [],
   "source": [
    "def barpsi(I, m = 1, L = 1):\n",
    "    xminus = np.arange(-L, L, 0.01)\n",
    "\n",
    "    _barpsi = np.array([[ParticleOperator({}), ParticleOperator({})]])\n",
    "\n",
    "    for i, k in enumerate(np.arange(1/2, I, 1)):\n",
    "        _barpsi += 1 / np.sqrt(4 * np.pi * k) * (\n",
    "            ubar(k) * ParticleOperator('b' + str(k) + \"^\")\n",
    "            + vbar(k) * ParticleOperator('d' + str(k))\n",
    "        )\n",
    "\n",
    "    return _barpsi"
   ]
  },
  {
   "cell_type": "code",
   "execution_count": 56,
   "metadata": {},
   "outputs": [],
   "source": [
    "def phi(I, m = 1, L = 1):\n",
    "    xminus = np.arange(-L, L, 0.01)\n",
    "\n",
    "    _phi = ParticleOperator({})\n",
    "    for i, k in enumerate(np.arange(1, I, 1)):\n",
    "        _phi += 1 / np.sqrt(4 * np.pi * k) * (\n",
    "             ParticleOperator('a' + str(k))\n",
    "            + ParticleOperator('a' + str(k) + '^')\n",
    "        )\n",
    "\n",
    "    return _phi"
   ]
  },
  {
   "cell_type": "code",
   "execution_count": 57,
   "metadata": {},
   "outputs": [],
   "source": [
    "def apply_deltas(interaction):\n",
    "    clean_terms = ParticleOperator({})\n",
    "    for term, term_coeff in interaction.op_dict.items():\n",
    "        delta = 0\n",
    "        new_term = ''\n",
    "        for op in term.split():\n",
    "            if op[-1] == '^':\n",
    "                mode = float(op[1:-1])\n",
    "                delta += mode\n",
    "                new_term += op[0] + str(int(np.floor(mode))) + \"^ \"\n",
    "            else: \n",
    "                mode = float(op[1:])\n",
    "                delta -= mode\n",
    "                new_term += op[0] + str(int(np.floor(mode))) + \" \"\n",
    "        if delta == 0:\n",
    "            clean_terms += term_coeff * ParticleOperator(new_term[:-1])\n",
    "    return clean_terms"
   ]
  },
  {
   "cell_type": "code",
   "execution_count": 58,
   "metadata": {},
   "outputs": [],
   "source": [
    "def apply_idp(interaction):\n",
    "    ##apply 1/(idelta^+) phi * psi\n",
    "    #gives -1 / (+- k3 +- k4) where + -> create, - -> annihilate\n",
    "    idp_upper_comp = ParticleOperator({})\n",
    "    idp_lower_comp = ParticleOperator({})\n",
    "\n",
    "    for term, term_coeff in interaction[0][0].op_dict.items():\n",
    "        p_factor = 0\n",
    "        for op in term.split():\n",
    "            if op[-1] == '^':\n",
    "                p_factor += float(op[1:-1])\n",
    "            else: p_factor -= float(op[1:])\n",
    "        idp_upper_comp += -term_coeff * p_factor * ParticleOperator(term)\n",
    "\n",
    "    for term, term_coeff in interaction[1][0].op_dict.items():\n",
    "        p_factor = 0\n",
    "        for op in term.split():\n",
    "            if op[-1] == '^':\n",
    "                p_factor += float(op[1:-1])\n",
    "            else: p_factor -= float(op[1:])\n",
    "        idp_lower_comp += -term_coeff * p_factor * ParticleOperator(term)\n",
    "\n",
    "    return np.array([idp_upper_comp, idp_lower_comp])\n"
   ]
  },
  {
   "cell_type": "code",
   "execution_count": 59,
   "metadata": {},
   "outputs": [],
   "source": [
    "def three_point(I):\n",
    "    Y_int = barpsi(I).dot(psi(I)).dot(phi(I))\n",
    "    return apply_deltas(Y_int[0][0])"
   ]
  },
  {
   "cell_type": "code",
   "execution_count": 60,
   "metadata": {},
   "outputs": [],
   "source": [
    "def four_point(I):\n",
    "    phi_psi = phi(I) * psi(I)\n",
    "\n",
    "    idp_phi_psi = apply_idp(phi_psi)\n",
    "\n",
    "    gamma_0 = np.array([[0,1],[1,0]])\n",
    "    gamma_1 = np.array([[0,-1],[1,0]])\n",
    "    gamma_p = gamma_0 + gamma_1\n",
    "\n",
    "    four_pt_int = barpsi(I).dot(phi(I)).dot(gamma_p.dot(idp_phi_psi))[0]\n",
    "    return apply_deltas(four_pt_int)\n",
    "    "
   ]
  },
  {
   "cell_type": "code",
   "execution_count": 61,
   "metadata": {},
   "outputs": [],
   "source": [
    "def H_free(I, mf = 1, mb = 1, L = 10):\n",
    "    hamiltonian_free = ParticleOperator({})\n",
    "\n",
    "    for i, k in enumerate(np.arange(1/2, I, 1)):\n",
    "        bstr = 'b' + str(i) + \"^ \" + \"b\" + str(i)\n",
    "        dstr = 'd' + str(i) + \"^ \" + \"d\" + str(i)\n",
    "        hamiltonian_free += (mf**2 / k) * ParticleOperator(bstr) +\\\n",
    "                            (mf**2 / k) * ParticleOperator(dstr)\n",
    "    for i, k, in enumerate(np.arange(1, I, 1)):\n",
    "        astr = 'a' + str(i) + \"^ \" + \"a\" + str(i)\n",
    "        hamiltonian_free += (mb**2 / k) * ParticleOperator(astr) \n",
    "\n",
    "    return 1/np.pi * hamiltonian_free"
   ]
  },
  {
   "cell_type": "code",
   "execution_count": 62,
   "metadata": {},
   "outputs": [],
   "source": [
    "def Yukawa(I):\n",
    "    return H_free(I) + three_point(I) + four_point(I)"
   ]
  },
  {
   "cell_type": "code",
   "execution_count": 63,
   "metadata": {},
   "outputs": [],
   "source": [
    "def generate_yukawa_circuit(number_of_modes, maximum_bosonic_occupation):\n",
    "\n",
    "    operator =  Yukawa(number_of_modes)\n",
    "    terms = operator.to_list()\n",
    "\n",
    "    bosonically_rescaled_terms, bosonic_rescaling_factor = bosonically_rescale_terms(terms, maximum_bosonic_occupation)\n",
    "    coefficients = [term.coeff for term in bosonically_rescaled_terms]\n",
    "\n",
    "\n",
    "    norm = sum(np.abs(coefficients))\n",
    "    target_state = get_target_state(coefficients)\n",
    "    asp_rescaling_factor = (bosonic_rescaling_factor * norm)\n",
    "\n",
    "    number_of_modes = max([term.max_mode() for term in terms]) + 1\n",
    "\n",
    "    number_of_ancillae = (\n",
    "        1000  # Some arbitrary large number with most ancilla disregarded\n",
    "    )\n",
    "    number_of_index_qubits = max(int(np.ceil(np.log2(len(terms)))), 1)\n",
    "    number_of_rotation_qubits = max(get_number_of_active_bosonic_modes(terms)) + 1\n",
    "    \n",
    "    usp_rescaled_terms, usp_rescaling_factor = rescale_terms_usp(bosonically_rescaled_terms)\n",
    "    usp_rescaling_factor *= (bosonic_rescaling_factor * (1 << number_of_index_qubits))\n",
    "\n",
    "    # Declare Qubits\n",
    "    validation = cirq.LineQubit(0)\n",
    "    clean_ancillae = [cirq.LineQubit(i + 1) for i in range(number_of_ancillae)]\n",
    "    rotation_qubits = [\n",
    "        cirq.LineQubit(i + 1 + number_of_ancillae)\n",
    "        for i in range(number_of_rotation_qubits)\n",
    "    ]\n",
    "    index_register = [\n",
    "        cirq.LineQubit(i + 1 + number_of_ancillae + number_of_rotation_qubits)\n",
    "        for i in range(number_of_index_qubits)\n",
    "    ]\n",
    "    system = System(\n",
    "        number_of_modes=number_of_modes,\n",
    "        maximum_occupation_number=maximum_bosonic_occupation,\n",
    "        number_of_used_qubits=1\n",
    "        + number_of_ancillae\n",
    "        + number_of_rotation_qubits\n",
    "        + number_of_index_qubits,\n",
    "        has_fermions=operator.has_fermions,\n",
    "        has_antifermions=operator.has_antifermions,\n",
    "        has_bosons=operator.has_bosons,\n",
    "    )\n",
    "    \n",
    "    #### USP Circuit Generation\n",
    "    USP_numerics = {\n",
    "        \"left_elbows\": 0,\n",
    "        \"right_elbows\": 0,\n",
    "        \"rotations\": 0,\n",
    "        \"ancillae_tracker\": [1 + number_of_rotation_qubits + number_of_index_qubits],\n",
    "        \"angles\": [],\n",
    "        \"number_of_nonclifford_rotations\": 0,\n",
    "        \"rescaling_factor\": usp_rescaling_factor,\n",
    "        \"number_of_modes\": number_of_modes,\n",
    "        \"maximum_bosonic_occupation\": maximum_bosonic_occupation,\n",
    "        \"maximum_number_of_active_bosonic_modes\": number_of_rotation_qubits - 1,\n",
    "        \"number_of_terms\": len(terms),\n",
    "    }\n",
    "    circuit = cirq.Circuit()\n",
    "    circuit.append(cirq.I.on_each(*system.fermionic_register))\n",
    "    circuit.append(cirq.I.on_each(*system.antifermionic_register))\n",
    "    for bosonic_reg in system.bosonic_system:\n",
    "        circuit.append(cirq.I.on_each(*bosonic_reg))\n",
    "    circuit.append(cirq.X.on(validation))\n",
    "    circuit += add_naive_usp(index_register)\n",
    "    circuit += add_lobe_oracle(\n",
    "        usp_rescaled_terms,\n",
    "        validation,\n",
    "        index_register,\n",
    "        system,\n",
    "        rotation_qubits,\n",
    "        clean_ancillae,\n",
    "        perform_coefficient_oracle=True,\n",
    "        decompose=True,\n",
    "        numerics=USP_numerics,\n",
    "    )\n",
    "    circuit += add_naive_usp(index_register)\n",
    "    USP_numerics[\"number_of_ancillae\"] = max(USP_numerics[\"ancillae_tracker\"])\n",
    "    USP_numerics[\"number_of_qubits\"] = max(USP_numerics[\"ancillae_tracker\"]) + system.number_of_system_qubits\n",
    "    for angle in USP_numerics[\"angles\"]:\n",
    "        angle = np.abs(angle)\n",
    "        if not np.isclose(angle%np.pi/4, 0):\n",
    "            USP_numerics[\"number_of_nonclifford_rotations\"] += 1\n",
    "    \n",
    "    \n",
    "    #### ASP Circuit Generation\n",
    "    ASP_numerics = {\n",
    "        \"left_elbows\": 0,\n",
    "        \"right_elbows\": 0,\n",
    "        \"rotations\": 0,\n",
    "        \"ancillae_tracker\": [1 + number_of_rotation_qubits - 1 + number_of_index_qubits],\n",
    "        \"angles\": [],\n",
    "        \"number_of_nonclifford_rotations\": 0,\n",
    "        \"rescaling_factor\": asp_rescaling_factor,\n",
    "        \"number_of_modes\": number_of_modes,\n",
    "        \"maximum_bosonic_occupation\": maximum_bosonic_occupation,\n",
    "        \"maximum_number_of_active_bosonic_modes\": number_of_rotation_qubits - 1,\n",
    "        \"number_of_terms\": len(terms)\n",
    "    }\n",
    "    circuit = cirq.Circuit()\n",
    "    circuit.append(cirq.I.on_each(*system.fermionic_register))\n",
    "    circuit.append(cirq.I.on_each(*system.antifermionic_register))\n",
    "    for bosonic_reg in system.bosonic_system:\n",
    "        circuit.append(cirq.I.on_each(*bosonic_reg))\n",
    "    circuit.append(cirq.X.on(validation))\n",
    "    circuit += add_prepare_circuit(\n",
    "        index_register,\n",
    "        target_state=target_state,\n",
    "        numerics=ASP_numerics,\n",
    "        clean_ancillae=clean_ancillae\n",
    "    )\n",
    "    circuit += add_lobe_oracle(\n",
    "        bosonically_rescaled_terms,\n",
    "        validation,\n",
    "        index_register,\n",
    "        system,\n",
    "        rotation_qubits,\n",
    "        clean_ancillae,\n",
    "        perform_coefficient_oracle=False,\n",
    "        decompose=True,\n",
    "        numerics=ASP_numerics,\n",
    "    )\n",
    "    circuit += add_prepare_circuit(\n",
    "        index_register,\n",
    "        target_state=target_state,\n",
    "        dagger=True,\n",
    "        numerics=ASP_numerics,\n",
    "        clean_ancillae=clean_ancillae\n",
    "    )\n",
    "    ASP_numerics[\"number_of_ancillae\"] = max(ASP_numerics[\"ancillae_tracker\"])\n",
    "    ASP_numerics[\"number_of_qubits\"] = max(ASP_numerics[\"ancillae_tracker\"]) + system.number_of_system_qubits\n",
    "    for angle in ASP_numerics[\"angles\"]:\n",
    "        angle = np.abs(angle)\n",
    "        if not np.isclose(angle%np.pi/4, 0):\n",
    "            ASP_numerics[\"number_of_nonclifford_rotations\"] += 1\n",
    "    \n",
    "    return {\n",
    "        \"USP\": USP_numerics,\n",
    "        \"ASP\": ASP_numerics \n",
    "    }"
   ]
  },
  {
   "cell_type": "code",
   "execution_count": 64,
   "metadata": {},
   "outputs": [
    {
     "name": "stdout",
     "output_type": "stream",
     "text": [
      "----1 of 10----\n",
      "* 0.0 (s) *\n",
      "----2 of 10----\n",
      "* 0.0 (s) *\n",
      "----3 of 10----\n",
      "* 0.2 (s) *\n",
      "----4 of 10----\n",
      "* 1.0 (s) *\n",
      "----5 of 10----\n",
      "* 2.2 (s) *\n",
      "----6 of 10----\n",
      "* 4.5 (s) *\n",
      "----7 of 10----\n",
      "* 10.0 (s) *\n",
      "----8 of 10----\n",
      "* 23.3 (s) *\n",
      "----9 of 10----\n",
      "* 32.8 (s) *\n",
      "----10 of 10----\n",
      "* 79.0 (s) *\n"
     ]
    }
   ],
   "source": [
    "from time import time\n",
    "fix_Omega = 3\n",
    "number_of_modes_range = range(1, 11)\n",
    "\n",
    "DATA_FOR_FIXED_OMEGA = []\n",
    "for number_of_modes in number_of_modes_range:\n",
    "    start = time()\n",
    "    print(\"----{} of {}----\".format(number_of_modes, max(number_of_modes_range)))\n",
    "    DATA_FOR_FIXED_OMEGA.append(generate_yukawa_circuit(number_of_modes, fix_Omega))\n",
    "    print(\"* {} (s) *\".format(round(time() - start, 1)))"
   ]
  },
  {
   "cell_type": "code",
   "execution_count": 65,
   "metadata": {},
   "outputs": [
    {
     "data": {
      "image/png": "[encoded data removed]",
      "text/plain": [
       "<Figure size 629.921x236.22 with 3 Axes>"
      ]
     },
     "metadata": {},
     "output_type": "display_data"
    }
   ],
   "source": [
    "fig, axes = plt.subplots(1, 3, figsize=(16 / 2.54, 6 / 2.54))\n",
    "\n",
    "numbers_of_terms = [DATA_POINT[\"USP\"][\"number_of_terms\"] for DATA_POINT in DATA_FOR_FIXED_OMEGA]\n",
    "M_vals = [DATA_POINT[\"USP\"][\"maximum_number_of_active_bosonic_modes\"] for DATA_POINT in DATA_FOR_FIXED_OMEGA]\n",
    "# rotation_upper_bound = [(L*M*(fix_Omega+3)) for L, M in zip(numbers_of_terms, M_vals)]\n",
    "# elbow_upper_bound = [(L + L*I + L*M*(fix_Omega + np.log2(fix_Omega))) for L, M, I in zip(numbers_of_terms, M_vals, number_of_modes_range)]\n",
    "\n",
    "left_elbows_usp = [DATA_POINT[\"USP\"][\"left_elbows\"] for DATA_POINT in DATA_FOR_FIXED_OMEGA]\n",
    "right_elbows_usp = [DATA_POINT[\"USP\"][\"right_elbows\"] for DATA_POINT in DATA_FOR_FIXED_OMEGA]\n",
    "rotations_usp = [DATA_POINT[\"USP\"][\"rotations\"] for DATA_POINT in DATA_FOR_FIXED_OMEGA]\n",
    "nonclifford_rotations_usp = [DATA_POINT[\"USP\"][\"number_of_nonclifford_rotations\"] for DATA_POINT in DATA_FOR_FIXED_OMEGA]\n",
    "rescaling_factors_usp = [DATA_POINT[\"USP\"][\"rescaling_factor\"] for DATA_POINT in DATA_FOR_FIXED_OMEGA]\n",
    "numbers_of_qubits_usp = [DATA_POINT[\"USP\"][\"number_of_qubits\"] for DATA_POINT in DATA_FOR_FIXED_OMEGA]\n",
    "numbers_of_ancillae_usp = [DATA_POINT[\"USP\"][\"number_of_ancillae\"] for DATA_POINT in DATA_FOR_FIXED_OMEGA]\n",
    "\n",
    "left_elbows_asp = [DATA_POINT[\"ASP\"][\"left_elbows\"] for DATA_POINT in DATA_FOR_FIXED_OMEGA]\n",
    "right_elbows_asp = [DATA_POINT[\"ASP\"][\"right_elbows\"] for DATA_POINT in DATA_FOR_FIXED_OMEGA]\n",
    "rotations_asp = [DATA_POINT[\"ASP\"][\"rotations\"] for DATA_POINT in DATA_FOR_FIXED_OMEGA]\n",
    "nonclifford_rotations_asp = [DATA_POINT[\"ASP\"][\"number_of_nonclifford_rotations\"] for DATA_POINT in DATA_FOR_FIXED_OMEGA]\n",
    "rescaling_factors_asp = [DATA_POINT[\"ASP\"][\"rescaling_factor\"] for DATA_POINT in DATA_FOR_FIXED_OMEGA]\n",
    "numbers_of_qubits_asp = [DATA_POINT[\"ASP\"][\"number_of_qubits\"] for DATA_POINT in DATA_FOR_FIXED_OMEGA]\n",
    "numbers_of_ancillae_asp = [DATA_POINT[\"ASP\"][\"number_of_ancillae\"] for DATA_POINT in DATA_FOR_FIXED_OMEGA]\n",
    "\n",
    "# axes[0].plot(numbers_of_terms, rotations_usp, color=BLUE, marker='s', alpha = 1)\n",
    "# axes[0].plot(numbers_of_terms, rotations_asp, color=ORANGE, marker='.', alpha = 1)\n",
    "axes[0].plot(numbers_of_terms, nonclifford_rotations_usp, color=BLUE, marker='s', alpha = 1)\n",
    "axes[0].plot(numbers_of_terms, nonclifford_rotations_asp, color=ORANGE, marker='.', alpha = 1)\n",
    "# axes[0].plot(numbers_of_terms, rotation_upper_bound, color=RED, ls='--', alpha = 1)\n",
    "axes[0].set_ylabel(\"Number of Rotations\")\n",
    "axes[0].set_xlabel(\"Number of Terms ($L$)\")\n",
    "\n",
    "axes[1].plot(numbers_of_terms, left_elbows_usp, color=BLUE, marker='s', alpha = 1)\n",
    "axes[1].plot(numbers_of_terms, left_elbows_asp, color=ORANGE, marker='.', alpha = 1)\n",
    "# axes[1].plot(numbers_of_terms, elbow_upper_bound, color=RED, ls='--', alpha = 1)\n",
    "axes[1].set_ylabel(\"Number of Left-Elbows\")\n",
    "axes[1].set_xlabel(\"Number of Terms ($L$)\")\n",
    "\n",
    "axes[2].plot(numbers_of_terms, right_elbows_usp, color=BLUE, marker='s', alpha = 1)\n",
    "axes[2].plot(numbers_of_terms, right_elbows_asp, color=ORANGE, marker='.', alpha = 1)\n",
    "# axes[2].plot(numbers_of_terms, elbow_upper_bound, color=RED, ls='--', alpha = 1)\n",
    "axes[2].set_ylabel(\"Number of Right-Elbows\")\n",
    "axes[2].set_xlabel(\"Number of Terms ($L$)\")\n",
    "\n",
    "plt.tight_layout()\n",
    "plt.savefig(\"../manuscript/figures/yukawa_hamiltonian_gates_vs_terms.pdf\", dpi=600)"
   ]
  },
  {
   "cell_type": "code",
   "execution_count": 66,
   "metadata": {},
   "outputs": [
    {
     "data": {
      "image/png": "[encoded data removed]",
      "text/plain": [
       "<Figure size 472.441x236.22 with 2 Axes>"
      ]
     },
     "metadata": {},
     "output_type": "display_data"
    }
   ],
   "source": [
    "fig, axes = plt.subplots(1, 2, figsize=(12 / 2.54, 6 / 2.54))\n",
    "\n",
    "# axes[0].plot(numbers_of_terms, numbers_of_qubits_usp, color=BLUE, marker='s', alpha = 1)\n",
    "# axes[0].plot(numbers_of_terms, numbers_of_qubits_asp, color=ORANGE, marker='.', alpha = 1)\n",
    "# axes[0].set_ylabel(\"Number of Qubits\")\n",
    "# axes[0].set_xlabel(\"Number of Terms ($L$)\")\n",
    "\n",
    "axes[0].plot(numbers_of_terms, numbers_of_ancillae_usp, color=BLUE, marker='s', alpha = 1)\n",
    "axes[0].plot(numbers_of_terms, numbers_of_ancillae_asp, color=ORANGE, marker='.', alpha = 1)\n",
    "axes[0].set_ylabel(\"Number of Ancillae\")\n",
    "axes[0].set_xlabel(\"Number of Terms ($L$)\")\n",
    "\n",
    "axes[1].plot(numbers_of_terms, rescaling_factors_usp, color=BLUE, marker='s', alpha = 1)\n",
    "axes[1].plot(numbers_of_terms, rescaling_factors_asp, color=ORANGE, marker='.', alpha = 1)\n",
    "axes[1].set_ylabel(\"Rescaling Factor ($\\\\lambda$)\")\n",
    "axes[1].set_xlabel(\"Number of Terms ($L$)\")\n",
    "\n",
    "plt.tight_layout()\n",
    "plt.savefig(\"../manuscript/figures/yukawa_hamiltonian_qubits_and_rescaling_vs_terms.pdf\", dpi=600)"
   ]
  },
  {
   "cell_type": "code",
   "execution_count": 67,
   "metadata": {},
   "outputs": [
    {
     "name": "stdout",
     "output_type": "stream",
     "text": [
      "----1 of 10----\n",
      "* 0.0 (s) *\n",
      "----2 of 10----\n",
      "* 0.1 (s) *\n",
      "----3 of 10----\n",
      "* 0.1 (s) *\n",
      "----4 of 10----\n",
      "* 0.1 (s) *\n",
      "----5 of 10----\n",
      "* 0.3 (s) *\n",
      "----6 of 10----\n",
      "* 1.4 (s) *\n",
      "----7 of 10----\n",
      "* 4.0 (s) *\n",
      "----8 of 10----\n",
      "* 13.2 (s) *\n",
      "----9 of 10----\n",
      "* 40.2 (s) *\n",
      "----10 of 10----\n",
      "* 148.6 (s) *\n"
     ]
    }
   ],
   "source": [
    "fixed_I = 2\n",
    "occupation_cutoff_range = [1 << (i) for i in range(1, 11)]\n",
    "\n",
    "DATA_FOR_FIXED_I = []\n",
    "for occupation_cutoff in occupation_cutoff_range:\n",
    "    start = time()\n",
    "    print(\"----{} of {}----\".format(len(DATA_FOR_FIXED_I) + 1, len(occupation_cutoff_range)))\n",
    "    DATA_FOR_FIXED_I.append(generate_yukawa_circuit(fixed_I, occupation_cutoff))\n",
    "    print(\"* {} (s) *\".format(round(time() - start, 1)))"
   ]
  },
  {
   "cell_type": "code",
   "execution_count": 68,
   "metadata": {},
   "outputs": [
    {
     "data": {
      "image/png": "[encoded data removed]",
      "text/plain": [
       "<Figure size 629.921x236.22 with 3 Axes>"
      ]
     },
     "metadata": {},
     "output_type": "display_data"
    }
   ],
   "source": [
    "fig, axes = plt.subplots(1, 3, figsize=(16 / 2.54, 6 / 2.54))\n",
    "\n",
    "numbers_of_terms = [DATA_POINT[\"USP\"][\"number_of_terms\"] for DATA_POINT in DATA_FOR_FIXED_I]\n",
    "M_vals = [DATA_POINT[\"USP\"][\"maximum_number_of_active_bosonic_modes\"] for DATA_POINT in DATA_FOR_FIXED_I]\n",
    "# rotation_upper_bound = [(L*M*(fix_Omega+3)) for L, M in zip(numbers_of_terms, M_vals)]\n",
    "# elbow_upper_bound = [(L + L*I + L*M*(fix_Omega + np.log2(fix_Omega))) for L, M, I in zip(numbers_of_terms, M_vals, number_of_modes_range)]\n",
    "\n",
    "left_elbows_usp = [DATA_POINT[\"USP\"][\"left_elbows\"] for DATA_POINT in DATA_FOR_FIXED_I]\n",
    "right_elbows_usp = [DATA_POINT[\"USP\"][\"right_elbows\"] for DATA_POINT in DATA_FOR_FIXED_I]\n",
    "rotations_usp = [DATA_POINT[\"USP\"][\"rotations\"] for DATA_POINT in DATA_FOR_FIXED_I]\n",
    "nonclifford_rotations_usp = [DATA_POINT[\"USP\"][\"number_of_nonclifford_rotations\"] for DATA_POINT in DATA_FOR_FIXED_I]\n",
    "rescaling_factors_usp = [DATA_POINT[\"USP\"][\"rescaling_factor\"] for DATA_POINT in DATA_FOR_FIXED_I]\n",
    "numbers_of_qubits_usp = [DATA_POINT[\"USP\"][\"number_of_qubits\"] for DATA_POINT in DATA_FOR_FIXED_I]\n",
    "numbers_of_ancillae_usp = [DATA_POINT[\"USP\"][\"number_of_ancillae\"] for DATA_POINT in DATA_FOR_FIXED_I]\n",
    "\n",
    "left_elbows_asp = [DATA_POINT[\"ASP\"][\"left_elbows\"] for DATA_POINT in DATA_FOR_FIXED_I]\n",
    "right_elbows_asp = [DATA_POINT[\"ASP\"][\"right_elbows\"] for DATA_POINT in DATA_FOR_FIXED_I]\n",
    "rotations_asp = [DATA_POINT[\"ASP\"][\"rotations\"] for DATA_POINT in DATA_FOR_FIXED_I]\n",
    "nonclifford_rotations_asp = [DATA_POINT[\"ASP\"][\"number_of_nonclifford_rotations\"] for DATA_POINT in DATA_FOR_FIXED_I]\n",
    "rescaling_factors_asp = [DATA_POINT[\"ASP\"][\"rescaling_factor\"] for DATA_POINT in DATA_FOR_FIXED_I]\n",
    "numbers_of_qubits_asp = [DATA_POINT[\"ASP\"][\"number_of_qubits\"] for DATA_POINT in DATA_FOR_FIXED_I]\n",
    "numbers_of_ancillae_asp = [DATA_POINT[\"ASP\"][\"number_of_ancillae\"] for DATA_POINT in DATA_FOR_FIXED_I]\n",
    "\n",
    "axes[0].plot(occupation_cutoff_range, nonclifford_rotations_usp, color=BLUE, marker='s', alpha = 1)\n",
    "axes[0].plot(occupation_cutoff_range, nonclifford_rotations_asp, color=ORANGE, marker='.', alpha = 1)\n",
    "# axes[0].plot(occupation_cutoff_range, rotation_upper_bound, color=RED, ls='--', alpha = 1)\n",
    "axes[0].set_ylabel(\"Number of Rotations\")\n",
    "axes[0].set_xlabel(\"Occupation Cutoff ($\\\\Omega$)\")\n",
    "\n",
    "axes[1].plot(occupation_cutoff_range, left_elbows_usp, color=BLUE, marker='s', alpha = 1)\n",
    "axes[1].plot(occupation_cutoff_range, left_elbows_asp, color=ORANGE, marker='.', alpha = 1)\n",
    "# axes[1].plot(occupation_cutoff_range, elbow_upper_bound, color=RED, ls='--', alpha = 1)\n",
    "axes[1].set_ylabel(\"Number of Left-Elbows\")\n",
    "axes[1].set_xlabel(\"Occupation Cutoff ($\\\\Omega$)\")\n",
    "\n",
    "axes[2].plot(occupation_cutoff_range, right_elbows_usp, color=BLUE, marker='s', alpha = 1)\n",
    "axes[2].plot(occupation_cutoff_range, right_elbows_asp, color=ORANGE, marker='.', alpha = 1)\n",
    "# axes[2].plot(occupation_cutoff_range, elbow_upper_bound, color=RED, ls='--', alpha = 1)\n",
    "axes[2].set_ylabel(\"Number of Right-Elbows\")\n",
    "axes[2].set_xlabel(\"Occupation Cutoff ($\\\\Omega$)\")\n",
    "\n",
    "plt.tight_layout()\n",
    "plt.savefig(\"../manuscript/figures/yukawa_hamiltonian_gates_vs_omega.pdf\", dpi=600)"
   ]
  },
  {
   "cell_type": "code",
   "execution_count": 69,
   "metadata": {},
   "outputs": [
    {
     "data": {
      "image/png": "[encoded data removed]",
      "text/plain": [
       "<Figure size 472.441x236.22 with 2 Axes>"
      ]
     },
     "metadata": {},
     "output_type": "display_data"
    }
   ],
   "source": [
    "fig, axes = plt.subplots(1, 2, figsize=(12 / 2.54, 6 / 2.54))\n",
    "\n",
    "# axes[0].plot(occupation_cutoff_range, numbers_of_qubits_usp, color=BLUE, marker='s', alpha = 1)\n",
    "# axes[0].plot(occupation_cutoff_range, numbers_of_qubits_asp, color=ORANGE, marker='.', alpha = 1)\n",
    "# axes[0].set_ylabel(\"Number of Qubits\")\n",
    "# axes[0].set_xlabel(\"Occupation Cutoff ($\\\\Omega$)\")\n",
    "\n",
    "axes[0].plot(occupation_cutoff_range, numbers_of_ancillae_usp, color=BLUE, marker='s', alpha = 1)\n",
    "axes[0].plot(occupation_cutoff_range, numbers_of_ancillae_asp, color=ORANGE, marker='.', alpha = 1)\n",
    "axes[0].set_ylabel(\"Number of Ancillae\")\n",
    "axes[0].set_xlabel(\"Occupation Cutoff ($\\\\Omega$)\")\n",
    "\n",
    "axes[1].plot(occupation_cutoff_range, rescaling_factors_usp, color=BLUE, marker='s', alpha = 1)\n",
    "axes[1].plot(occupation_cutoff_range, rescaling_factors_asp, color=ORANGE, marker='.', alpha = 1)\n",
    "axes[1].set_ylabel(\"Rescaling Factor ($\\\\lambda$)\")\n",
    "axes[1].set_xlabel(\"Occupation Cutoff ($\\\\Omega$)\")\n",
    "\n",
    "plt.tight_layout()\n",
    "plt.savefig(\"../manuscript/figures/yukawa_hamiltonian_qubits_and_rescaling_vs_omega.pdf\", dpi=600)"
   ]
  },
  {
   "cell_type": "code",
   "execution_count": null,
   "metadata": {},
   "outputs": [],
   "source": []
  }
 ],
 "metadata": {
  "kernelspec": {
   "display_name": "phd",
   "language": "python",
   "name": "python3"
  },
  "language_info": {
   "codemirror_mode": {
    "name": "ipython",
    "version": 3
   },
   "file_extension": ".py",
   "mimetype": "text/x-python",
   "name": "python",
   "nbconvert_exporter": "python",
   "pygments_lexer": "ipython3",
   "version": "3.9.18"
  },
  "orig_nbformat": 4
 },
 "nbformat": 4,
 "nbformat_minor": 2
}
