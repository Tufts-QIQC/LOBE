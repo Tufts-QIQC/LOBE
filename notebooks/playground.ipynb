{
 "cells": [
  {
   "cell_type": "code",
   "execution_count": 1,
   "metadata": {},
   "outputs": [],
   "source": [
    "import sys, os\n",
    "sys.path.append(os.path.join(os.path.dirname(os.path.realpath('__file__')), '..'))\n",
    "\n",
    "from src.lobe.fermionic import fermionic_plus_hc_block_encoding, fermionic_product_block_encoding\n",
    "from src.lobe.bosonic import bosonic_mode_block_encoding\n",
    "from src.lobe.system import System\n",
    "from openparticle import ParticleOperator, generate_matrix\n",
    "from src.lobe._utils import get_basis_of_full_system\n",
    "import cirq\n",
    "from cirq.contrib.svg import SVGCircuit\n",
    "import numpy as np"
   ]
  },
  {
   "cell_type": "code",
   "execution_count": 2,
   "metadata": {},
   "outputs": [],
   "source": [
    "MAX_MODES = 5\n",
    "MAX_ACTIVE_MODES = 3\n",
    "MIN_ACTIVE_MODES = 2"
   ]
  },
  {
   "cell_type": "code",
   "execution_count": 7,
   "metadata": {},
   "outputs": [
    {
     "data": {
      "text/plain": [
       "1.0 * b1^ b5"
      ]
     },
     "execution_count": 7,
     "metadata": {},
     "output_type": "execute_result"
    }
   ],
   "source": [
    "number_of_active_modes = np.random.random_integers(\n",
    "    MIN_ACTIVE_MODES, MAX_ACTIVE_MODES\n",
    ")\n",
    "active_modes = np.random.choice(\n",
    "    range(MAX_MODES + 1), size=number_of_active_modes, replace=False\n",
    ")\n",
    "\n",
    "operator_types_reversed = np.random.choice(\n",
    "    [2, 1, 0], size=number_of_active_modes, replace=True\n",
    ")\n",
    "\n",
    "while np.allclose(operator_types_reversed, [2] * number_of_active_modes):\n",
    "    operator_types_reversed = np.random.choice(\n",
    "        [2, 1, 0], size=number_of_active_modes, replace=True\n",
    "    )\n",
    "operator_types_reversed = operator_types_reversed[:number_of_active_modes]\n",
    "operator_types_reversed = list(operator_types_reversed)\n",
    "\n",
    "operator_string = \"\"\n",
    "for mode, operator_type in zip(active_modes, operator_types_reversed):\n",
    "    if operator_type == 0:\n",
    "        operator_string += f\" b{mode}\"\n",
    "    if operator_type == 1:\n",
    "        operator_string += f\" b{mode}^\"\n",
    "    if operator_type == 2:\n",
    "        operator_string += f\" b{mode}^ b{mode}\"\n",
    "\n",
    "operator = ParticleOperator(operator_string)\n",
    "\n",
    "operator"
   ]
  },
  {
   "cell_type": "code",
   "execution_count": 8,
   "metadata": {},
   "outputs": [
    {
     "name": "stdout",
     "output_type": "stream",
     "text": [
      "<src.lobe.system.System object at 0x1059336a0> q(1) [1 5] [1, 0] [cirq.LineQubit(2), cirq.LineQubit(3), cirq.LineQubit(4), cirq.LineQubit(5), cirq.LineQubit(6), cirq.LineQubit(7), cirq.LineQubit(8), cirq.LineQubit(9), cirq.LineQubit(10), cirq.LineQubit(11), cirq.LineQubit(12), cirq.LineQubit(13), cirq.LineQubit(14), cirq.LineQubit(15), cirq.LineQubit(16), cirq.LineQubit(17), cirq.LineQubit(18), cirq.LineQubit(19), cirq.LineQubit(20), cirq.LineQubit(21), cirq.LineQubit(22), cirq.LineQubit(23), cirq.LineQubit(24), cirq.LineQubit(25), cirq.LineQubit(26), cirq.LineQubit(27), cirq.LineQubit(28), cirq.LineQubit(29), cirq.LineQubit(30), cirq.LineQubit(31), cirq.LineQubit(32), cirq.LineQubit(33), cirq.LineQubit(34), cirq.LineQubit(35), cirq.LineQubit(36), cirq.LineQubit(37), cirq.LineQubit(38), cirq.LineQubit(39), cirq.LineQubit(40), cirq.LineQubit(41), cirq.LineQubit(42), cirq.LineQubit(43), cirq.LineQubit(44), cirq.LineQubit(45), cirq.LineQubit(46), cirq.LineQubit(47), cirq.LineQubit(48), cirq.LineQubit(49), cirq.LineQubit(50), cirq.LineQubit(51), cirq.LineQubit(52), cirq.LineQubit(53), cirq.LineQubit(54), cirq.LineQubit(55), cirq.LineQubit(56), cirq.LineQubit(57), cirq.LineQubit(58), cirq.LineQubit(59), cirq.LineQubit(60), cirq.LineQubit(61), cirq.LineQubit(62), cirq.LineQubit(63), cirq.LineQubit(64), cirq.LineQubit(65), cirq.LineQubit(66), cirq.LineQubit(67), cirq.LineQubit(68), cirq.LineQubit(69), cirq.LineQubit(70), cirq.LineQubit(71), cirq.LineQubit(72), cirq.LineQubit(73), cirq.LineQubit(74), cirq.LineQubit(75), cirq.LineQubit(76), cirq.LineQubit(77), cirq.LineQubit(78), cirq.LineQubit(79), cirq.LineQubit(80), cirq.LineQubit(81), cirq.LineQubit(82), cirq.LineQubit(83), cirq.LineQubit(84), cirq.LineQubit(85), cirq.LineQubit(86), cirq.LineQubit(87), cirq.LineQubit(88), cirq.LineQubit(89), cirq.LineQubit(90), cirq.LineQubit(91), cirq.LineQubit(92), cirq.LineQubit(93), cirq.LineQubit(94), cirq.LineQubit(95), cirq.LineQubit(96), cirq.LineQubit(97), cirq.LineQubit(98), cirq.LineQubit(99), cirq.LineQubit(100), cirq.LineQubit(101)] q(0)\n",
      "1.0 * b1^ b5\n",
      "\n"
     ]
    },
    {
     "data": {
      "image/svg+xml": [
       "<svg xmlns=\"http://www.w3.org/2000/svg\" width=\"940.0\" height=\"450.0\"><line x1=\"30.0\" x2=\"910.0\" y1=\"25.0\" y2=\"25.0\" stroke=\"#1967d2\" stroke-width=\"1\" /><line x1=\"30.0\" x2=\"910.0\" y1=\"75.0\" y2=\"75.0\" stroke=\"#1967d2\" stroke-width=\"1\" /><line x1=\"30.0\" x2=\"910.0\" y1=\"125.0\" y2=\"125.0\" stroke=\"#1967d2\" stroke-width=\"1\" /><line x1=\"30.0\" x2=\"910.0\" y1=\"175.0\" y2=\"175.0\" stroke=\"#1967d2\" stroke-width=\"1\" /><line x1=\"30.0\" x2=\"910.0\" y1=\"225.0\" y2=\"225.0\" stroke=\"#1967d2\" stroke-width=\"1\" /><line x1=\"30.0\" x2=\"910.0\" y1=\"275.0\" y2=\"275.0\" stroke=\"#1967d2\" stroke-width=\"1\" /><line x1=\"30.0\" x2=\"910.0\" y1=\"325.0\" y2=\"325.0\" stroke=\"#1967d2\" stroke-width=\"1\" /><line x1=\"30.0\" x2=\"910.0\" y1=\"375.0\" y2=\"375.0\" stroke=\"#1967d2\" stroke-width=\"1\" /><line x1=\"30.0\" x2=\"910.0\" y1=\"425.0\" y2=\"425.0\" stroke=\"#1967d2\" stroke-width=\"1\" /><line x1=\"210.0\" x2=\"210.0\" y1=\"125.0\" y2=\"425.0\" stroke=\"black\" stroke-width=\"3\" /><line x1=\"270.0\" x2=\"270.0\" y1=\"25.0\" y2=\"125.0\" stroke=\"black\" stroke-width=\"3\" /><line x1=\"330.0\" x2=\"330.0\" y1=\"125.0\" y2=\"425.0\" stroke=\"black\" stroke-width=\"3\" /><line x1=\"390.0\" x2=\"390.0\" y1=\"25.0\" y2=\"175.0\" stroke=\"black\" stroke-width=\"3\" /><line x1=\"450.0\" x2=\"450.0\" y1=\"25.0\" y2=\"225.0\" stroke=\"black\" stroke-width=\"3\" /><line x1=\"510.0\" x2=\"510.0\" y1=\"25.0\" y2=\"275.0\" stroke=\"black\" stroke-width=\"3\" /><line x1=\"570.0\" x2=\"570.0\" y1=\"25.0\" y2=\"325.0\" stroke=\"black\" stroke-width=\"3\" /><line x1=\"630.0\" x2=\"630.0\" y1=\"25.0\" y2=\"375.0\" stroke=\"black\" stroke-width=\"3\" /><line x1=\"690.0\" x2=\"690.0\" y1=\"25.0\" y2=\"425.0\" stroke=\"black\" stroke-width=\"3\" /><line x1=\"750.0\" x2=\"750.0\" y1=\"25.0\" y2=\"175.0\" stroke=\"black\" stroke-width=\"3\" /><line x1=\"810.0\" x2=\"810.0\" y1=\"25.0\" y2=\"225.0\" stroke=\"black\" stroke-width=\"3\" /><rect x=\"10.0\" y=\"5.0\" width=\"40\" height=\"40\" stroke=\"black\" fill=\"white\" stroke-width=\"0\" /><text x=\"30.0\" y=\"25.0\" dominant-baseline=\"middle\" text-anchor=\"middle\" font-size=\"14px\" font-family=\"Arial:style=normal:variant=normal:weight=normal:stretch=normal:size=10.0\">0: </text><rect x=\"10.0\" y=\"55.0\" width=\"40\" height=\"40\" stroke=\"black\" fill=\"white\" stroke-width=\"0\" /><text x=\"30.0\" y=\"75.0\" dominant-baseline=\"middle\" text-anchor=\"middle\" font-size=\"14px\" font-family=\"Arial:style=normal:variant=normal:weight=normal:stretch=normal:size=10.0\">1: </text><rect x=\"10.0\" y=\"105.0\" width=\"40\" height=\"40\" stroke=\"black\" fill=\"white\" stroke-width=\"0\" /><text x=\"30.0\" y=\"125.0\" dominant-baseline=\"middle\" text-anchor=\"middle\" font-size=\"14px\" font-family=\"Arial:style=normal:variant=normal:weight=normal:stretch=normal:size=10.0\">2: </text><rect x=\"10.0\" y=\"155.0\" width=\"40\" height=\"40\" stroke=\"black\" fill=\"white\" stroke-width=\"0\" /><text x=\"30.0\" y=\"175.0\" dominant-baseline=\"middle\" text-anchor=\"middle\" font-size=\"14px\" font-family=\"Arial:style=normal:variant=normal:weight=normal:stretch=normal:size=10.0\">102: </text><rect x=\"10.0\" y=\"205.0\" width=\"40\" height=\"40\" stroke=\"black\" fill=\"white\" stroke-width=\"0\" /><text x=\"30.0\" y=\"225.0\" dominant-baseline=\"middle\" text-anchor=\"middle\" font-size=\"14px\" font-family=\"Arial:style=normal:variant=normal:weight=normal:stretch=normal:size=10.0\">103: </text><rect x=\"10.0\" y=\"255.0\" width=\"40\" height=\"40\" stroke=\"black\" fill=\"white\" stroke-width=\"0\" /><text x=\"30.0\" y=\"275.0\" dominant-baseline=\"middle\" text-anchor=\"middle\" font-size=\"14px\" font-family=\"Arial:style=normal:variant=normal:weight=normal:stretch=normal:size=10.0\">104: </text><rect x=\"10.0\" y=\"305.0\" width=\"40\" height=\"40\" stroke=\"black\" fill=\"white\" stroke-width=\"0\" /><text x=\"30.0\" y=\"325.0\" dominant-baseline=\"middle\" text-anchor=\"middle\" font-size=\"14px\" font-family=\"Arial:style=normal:variant=normal:weight=normal:stretch=normal:size=10.0\">105: </text><rect x=\"10.0\" y=\"355.0\" width=\"40\" height=\"40\" stroke=\"black\" fill=\"white\" stroke-width=\"0\" /><text x=\"30.0\" y=\"375.0\" dominant-baseline=\"middle\" text-anchor=\"middle\" font-size=\"14px\" font-family=\"Arial:style=normal:variant=normal:weight=normal:stretch=normal:size=10.0\">106: </text><rect x=\"10.0\" y=\"405.0\" width=\"40\" height=\"40\" stroke=\"black\" fill=\"white\" stroke-width=\"0\" /><text x=\"30.0\" y=\"425.0\" dominant-baseline=\"middle\" text-anchor=\"middle\" font-size=\"14px\" font-family=\"Arial:style=normal:variant=normal:weight=normal:stretch=normal:size=10.0\">107: </text><rect x=\"70.0\" y=\"5.0\" width=\"40\" height=\"40\" stroke=\"black\" fill=\"white\" stroke-width=\"1\" /><text x=\"90.0\" y=\"25.0\" dominant-baseline=\"middle\" text-anchor=\"middle\" font-size=\"18px\" font-family=\"Arial:style=normal:variant=normal:weight=normal:stretch=normal:size=10.0\">I</text><rect x=\"70.0\" y=\"55.0\" width=\"40\" height=\"40\" stroke=\"black\" fill=\"white\" stroke-width=\"1\" /><text x=\"90.0\" y=\"75.0\" dominant-baseline=\"middle\" text-anchor=\"middle\" font-size=\"18px\" font-family=\"Arial:style=normal:variant=normal:weight=normal:stretch=normal:size=10.0\">I</text><rect x=\"70.0\" y=\"155.0\" width=\"40\" height=\"40\" stroke=\"black\" fill=\"white\" stroke-width=\"1\" /><text x=\"90.0\" y=\"175.0\" dominant-baseline=\"middle\" text-anchor=\"middle\" font-size=\"18px\" font-family=\"Arial:style=normal:variant=normal:weight=normal:stretch=normal:size=10.0\">I</text><rect x=\"70.0\" y=\"205.0\" width=\"40\" height=\"40\" stroke=\"black\" fill=\"white\" stroke-width=\"1\" /><text x=\"90.0\" y=\"225.0\" dominant-baseline=\"middle\" text-anchor=\"middle\" font-size=\"18px\" font-family=\"Arial:style=normal:variant=normal:weight=normal:stretch=normal:size=10.0\">I</text><rect x=\"70.0\" y=\"255.0\" width=\"40\" height=\"40\" stroke=\"black\" fill=\"white\" stroke-width=\"1\" /><text x=\"90.0\" y=\"275.0\" dominant-baseline=\"middle\" text-anchor=\"middle\" font-size=\"18px\" font-family=\"Arial:style=normal:variant=normal:weight=normal:stretch=normal:size=10.0\">I</text><rect x=\"70.0\" y=\"305.0\" width=\"40\" height=\"40\" stroke=\"black\" fill=\"white\" stroke-width=\"1\" /><text x=\"90.0\" y=\"325.0\" dominant-baseline=\"middle\" text-anchor=\"middle\" font-size=\"18px\" font-family=\"Arial:style=normal:variant=normal:weight=normal:stretch=normal:size=10.0\">I</text><rect x=\"70.0\" y=\"355.0\" width=\"40\" height=\"40\" stroke=\"black\" fill=\"white\" stroke-width=\"1\" /><text x=\"90.0\" y=\"375.0\" dominant-baseline=\"middle\" text-anchor=\"middle\" font-size=\"18px\" font-family=\"Arial:style=normal:variant=normal:weight=normal:stretch=normal:size=10.0\">I</text><rect x=\"70.0\" y=\"405.0\" width=\"40\" height=\"40\" stroke=\"black\" fill=\"white\" stroke-width=\"1\" /><text x=\"90.0\" y=\"425.0\" dominant-baseline=\"middle\" text-anchor=\"middle\" font-size=\"18px\" font-family=\"Arial:style=normal:variant=normal:weight=normal:stretch=normal:size=10.0\">I</text><rect x=\"130.0\" y=\"5.0\" width=\"40\" height=\"40\" stroke=\"black\" fill=\"white\" stroke-width=\"1\" /><text x=\"150.0\" y=\"25.0\" dominant-baseline=\"middle\" text-anchor=\"middle\" font-size=\"18px\" font-family=\"Arial:style=normal:variant=normal:weight=normal:stretch=normal:size=10.0\">X</text><rect x=\"190.0\" y=\"405.0\" width=\"40\" height=\"40\" stroke=\"black\" fill=\"white\" stroke-width=\"1\" /><text x=\"210.0\" y=\"425.0\" dominant-baseline=\"middle\" text-anchor=\"middle\" font-size=\"14px\" font-family=\"Arial:style=normal:variant=normal:weight=normal:stretch=normal:size=10.0\">(0)</text><circle cx=\"210.0\" cy=\"225.0\" r=\"10.0\" /><rect x=\"190.0\" y=\"105.0\" width=\"40\" height=\"40\" stroke=\"black\" fill=\"white\" stroke-width=\"1\" /><text x=\"210.0\" y=\"125.0\" dominant-baseline=\"middle\" text-anchor=\"middle\" font-size=\"18px\" font-family=\"Arial:style=normal:variant=normal:weight=normal:stretch=normal:size=10.0\">X</text><circle cx=\"270.0\" cy=\"25.0\" r=\"10.0\" /><rect x=\"250.0\" y=\"105.0\" width=\"40\" height=\"40\" stroke=\"black\" fill=\"white\" stroke-width=\"1\" /><text x=\"270.0\" y=\"125.0\" dominant-baseline=\"middle\" text-anchor=\"middle\" font-size=\"14px\" font-family=\"Arial:style=normal:variant=normal:weight=normal:stretch=normal:size=10.0\">(0)</text><rect x=\"250.0\" y=\"55.0\" width=\"40\" height=\"40\" stroke=\"black\" fill=\"white\" stroke-width=\"1\" /><text x=\"270.0\" y=\"75.0\" dominant-baseline=\"middle\" text-anchor=\"middle\" font-size=\"18px\" font-family=\"Arial:style=normal:variant=normal:weight=normal:stretch=normal:size=10.0\">X</text><rect x=\"310.0\" y=\"405.0\" width=\"40\" height=\"40\" stroke=\"black\" fill=\"white\" stroke-width=\"1\" /><text x=\"330.0\" y=\"425.0\" dominant-baseline=\"middle\" text-anchor=\"middle\" font-size=\"14px\" font-family=\"Arial:style=normal:variant=normal:weight=normal:stretch=normal:size=10.0\">(0)</text><circle cx=\"330.0\" cy=\"225.0\" r=\"10.0\" /><rect x=\"310.0\" y=\"105.0\" width=\"40\" height=\"40\" stroke=\"black\" fill=\"white\" stroke-width=\"1\" /><text x=\"330.0\" y=\"125.0\" dominant-baseline=\"middle\" text-anchor=\"middle\" font-size=\"18px\" font-family=\"Arial:style=normal:variant=normal:weight=normal:stretch=normal:size=10.0\">X</text><circle cx=\"390.0\" cy=\"25.0\" r=\"10.0\" /><circle cx=\"390.0\" cy=\"175.0\" r=\"10.0\" /><circle cx=\"450.0\" cy=\"25.0\" r=\"10.0\" /><circle cx=\"450.0\" cy=\"225.0\" r=\"10.0\" /><circle cx=\"510.0\" cy=\"25.0\" r=\"10.0\" /><circle cx=\"510.0\" cy=\"275.0\" r=\"10.0\" /><circle cx=\"570.0\" cy=\"25.0\" r=\"10.0\" /><circle cx=\"570.0\" cy=\"325.0\" r=\"10.0\" /><circle cx=\"630.0\" cy=\"25.0\" r=\"10.0\" /><circle cx=\"630.0\" cy=\"375.0\" r=\"10.0\" /><circle cx=\"690.0\" cy=\"25.0\" r=\"10.0\" /><rect x=\"670.0\" y=\"405.0\" width=\"40\" height=\"40\" stroke=\"black\" fill=\"white\" stroke-width=\"1\" /><text x=\"690.0\" y=\"425.0\" dominant-baseline=\"middle\" text-anchor=\"middle\" font-size=\"18px\" font-family=\"Arial:style=normal:variant=normal:weight=normal:stretch=normal:size=10.0\">X</text><circle cx=\"750.0\" cy=\"25.0\" r=\"10.0\" /><circle cx=\"750.0\" cy=\"175.0\" r=\"10.0\" /><circle cx=\"810.0\" cy=\"25.0\" r=\"10.0\" /><rect x=\"790.0\" y=\"205.0\" width=\"40\" height=\"40\" stroke=\"black\" fill=\"white\" stroke-width=\"1\" /><text x=\"810.0\" y=\"225.0\" dominant-baseline=\"middle\" text-anchor=\"middle\" font-size=\"18px\" font-family=\"Arial:style=normal:variant=normal:weight=normal:stretch=normal:size=10.0\">X</text><rect x=\"850.0\" y=\"5.0\" width=\"40\" height=\"40\" stroke=\"black\" fill=\"white\" stroke-width=\"1\" /><text x=\"870.0\" y=\"25.0\" dominant-baseline=\"middle\" text-anchor=\"middle\" font-size=\"18px\" font-family=\"Arial:style=normal:variant=normal:weight=normal:stretch=normal:size=10.0\">X</text></svg>"
      ],
      "text/plain": [
       "<cirq.contrib.svg.svg.SVGCircuit at 0x169d46260>"
      ]
     },
     "execution_count": 8,
     "metadata": {},
     "output_type": "execute_result"
    }
   ],
   "source": [
    "number_of_modes = max([term.max_mode for term in operator.to_list()]) + 1\n",
    "\n",
    "number_of_clean_ancillae = 100\n",
    "\n",
    "# Declare Qubits\n",
    "circuit = cirq.Circuit()\n",
    "control = cirq.LineQubit(0)\n",
    "block_encoding_ancilla = cirq.LineQubit(1)\n",
    "\n",
    "clean_ancillae = [cirq.LineQubit(i + 2) for i in range(number_of_clean_ancillae)]\n",
    "system = System(\n",
    "    number_of_modes=number_of_modes,\n",
    "    maximum_occupation_number=1,\n",
    "    number_of_used_qubits=2 + number_of_clean_ancillae,\n",
    "    has_fermions=True,\n",
    ")\n",
    "circuit.append(\n",
    "    cirq.I.on_each(\n",
    "        control,\n",
    "        block_encoding_ancilla,\n",
    "        *system.fermionic_register,\n",
    "    )\n",
    ")\n",
    "\n",
    "print(system, block_encoding_ancilla, active_modes, operator_types_reversed, clean_ancillae, control)\n",
    "# Flip control qubit so that we can focus on the 0-subspace of the control\n",
    "circuit.append(cirq.X.on(control))\n",
    "# Generate full Block-Encoding circuit\n",
    "gates, metrics = fermionic_product_block_encoding(\n",
    "    system,\n",
    "    block_encoding_ancilla,\n",
    "    active_modes[::-1],\n",
    "    operator_types_reversed[::-1],\n",
    "    clean_ancillae=clean_ancillae,\n",
    "    ctrls=([control], [1]),\n",
    ")\n",
    "circuit += gates\n",
    "# Flip control qubit so that we can focus on the 0-subspace of the control\n",
    "circuit.append(cirq.X.on(control))\n",
    "print(operator)\n",
    "SVGCircuit(circuit)"
   ]
  },
  {
   "cell_type": "code",
   "execution_count": 36,
   "metadata": {},
   "outputs": [
    {
     "name": "stdout",
     "output_type": "stream",
     "text": [
      "1.0 * a1^ a1\n",
      "\n"
     ]
    },
    {
     "data": {
      "image/svg+xml": [
       "<svg xmlns=\"http://www.w3.org/2000/svg\" width=\"935.9096093750001\" height=\"290.0\"><line x1=\"30.0\" x2=\"905.9096093750001\" y1=\"45.0\" y2=\"45.0\" stroke=\"#1967d2\" stroke-width=\"1\" /><line x1=\"30.0\" x2=\"905.9096093750001\" y1=\"95.0\" y2=\"95.0\" stroke=\"#1967d2\" stroke-width=\"1\" /><line x1=\"30.0\" x2=\"905.9096093750001\" y1=\"145.0\" y2=\"145.0\" stroke=\"#1967d2\" stroke-width=\"1\" /><line x1=\"30.0\" x2=\"905.9096093750001\" y1=\"195.0\" y2=\"195.0\" stroke=\"#1967d2\" stroke-width=\"1\" /><line x1=\"30.0\" x2=\"905.9096093750001\" y1=\"245.0\" y2=\"245.0\" stroke=\"#1967d2\" stroke-width=\"1\" /><line x1=\"444.1838671875\" x2=\"573.705625\" y1=\"5.0\" y2=\"5.0\" stroke=\"black\" stroke-width=\"1\" /><line x1=\"444.1838671875\" x2=\"573.705625\" y1=\"285.0\" y2=\"285.0\" stroke=\"black\" stroke-width=\"1\" /><line x1=\"240.0\" x2=\"374.1838671875\" y1=\"5.0\" y2=\"5.0\" stroke=\"black\" stroke-width=\"1\" /><line x1=\"240.0\" x2=\"374.1838671875\" y1=\"285.0\" y2=\"285.0\" stroke=\"black\" stroke-width=\"1\" /><line x1=\"210.0\" x2=\"210.0\" y1=\"45.0\" y2=\"95.0\" stroke=\"black\" stroke-width=\"3\" /><line x1=\"344.1838671875\" x2=\"344.1838671875\" y1=\"45.0\" y2=\"245.0\" stroke=\"black\" stroke-width=\"3\" /><line x1=\"414.1838671875\" x2=\"414.1838671875\" y1=\"95.0\" y2=\"145.0\" stroke=\"black\" stroke-width=\"3\" /><line x1=\"464.1838671875\" x2=\"464.1838671875\" y1=\"45.0\" y2=\"245.0\" stroke=\"black\" stroke-width=\"3\" /><line x1=\"613.705625\" x2=\"613.705625\" y1=\"45.0\" y2=\"245.0\" stroke=\"black\" stroke-width=\"3\" /><line x1=\"673.705625\" x2=\"673.705625\" y1=\"95.0\" y2=\"145.0\" stroke=\"black\" stroke-width=\"3\" /><line x1=\"733.705625\" x2=\"733.705625\" y1=\"45.0\" y2=\"245.0\" stroke=\"black\" stroke-width=\"3\" /><line x1=\"799.8076171875\" x2=\"799.8076171875\" y1=\"45.0\" y2=\"95.0\" stroke=\"black\" stroke-width=\"3\" /><line x1=\"444.1838671875\" x2=\"444.1838671875\" y1=\"5.0\" y2=\"15.0\" stroke=\"black\" stroke-width=\"3\" /><line x1=\"573.705625\" x2=\"573.705625\" y1=\"5.0\" y2=\"15.0\" stroke=\"black\" stroke-width=\"3\" /><line x1=\"444.1838671875\" x2=\"444.1838671875\" y1=\"275.0\" y2=\"285.0\" stroke=\"black\" stroke-width=\"3\" /><line x1=\"573.705625\" x2=\"573.705625\" y1=\"275.0\" y2=\"285.0\" stroke=\"black\" stroke-width=\"3\" /><line x1=\"240.0\" x2=\"240.0\" y1=\"5.0\" y2=\"15.0\" stroke=\"black\" stroke-width=\"3\" /><line x1=\"374.1838671875\" x2=\"374.1838671875\" y1=\"5.0\" y2=\"15.0\" stroke=\"black\" stroke-width=\"3\" /><line x1=\"240.0\" x2=\"240.0\" y1=\"275.0\" y2=\"285.0\" stroke=\"black\" stroke-width=\"3\" /><line x1=\"374.1838671875\" x2=\"374.1838671875\" y1=\"275.0\" y2=\"285.0\" stroke=\"black\" stroke-width=\"3\" /><rect x=\"10.0\" y=\"25.0\" width=\"40\" height=\"40\" stroke=\"black\" fill=\"white\" stroke-width=\"0\" /><text x=\"30.0\" y=\"45.0\" dominant-baseline=\"middle\" text-anchor=\"middle\" font-size=\"14px\" font-family=\"Arial:style=normal:variant=normal:weight=normal:stretch=normal:size=10.0\">0: </text><rect x=\"10.0\" y=\"75.0\" width=\"40\" height=\"40\" stroke=\"black\" fill=\"white\" stroke-width=\"0\" /><text x=\"30.0\" y=\"95.0\" dominant-baseline=\"middle\" text-anchor=\"middle\" font-size=\"14px\" font-family=\"Arial:style=normal:variant=normal:weight=normal:stretch=normal:size=10.0\">1: </text><rect x=\"10.0\" y=\"125.0\" width=\"40\" height=\"40\" stroke=\"black\" fill=\"white\" stroke-width=\"0\" /><text x=\"30.0\" y=\"145.0\" dominant-baseline=\"middle\" text-anchor=\"middle\" font-size=\"14px\" font-family=\"Arial:style=normal:variant=normal:weight=normal:stretch=normal:size=10.0\">2: </text><rect x=\"10.0\" y=\"175.0\" width=\"40\" height=\"40\" stroke=\"black\" fill=\"white\" stroke-width=\"0\" /><text x=\"30.0\" y=\"195.0\" dominant-baseline=\"middle\" text-anchor=\"middle\" font-size=\"14px\" font-family=\"Arial:style=normal:variant=normal:weight=normal:stretch=normal:size=10.0\">102: </text><rect x=\"10.0\" y=\"225.0\" width=\"40\" height=\"40\" stroke=\"black\" fill=\"white\" stroke-width=\"0\" /><text x=\"30.0\" y=\"245.0\" dominant-baseline=\"middle\" text-anchor=\"middle\" font-size=\"14px\" font-family=\"Arial:style=normal:variant=normal:weight=normal:stretch=normal:size=10.0\">103: </text><rect x=\"70.0\" y=\"25.0\" width=\"40\" height=\"40\" stroke=\"black\" fill=\"white\" stroke-width=\"1\" /><text x=\"90.0\" y=\"45.0\" dominant-baseline=\"middle\" text-anchor=\"middle\" font-size=\"18px\" font-family=\"Arial:style=normal:variant=normal:weight=normal:stretch=normal:size=10.0\">I</text><rect x=\"70.0\" y=\"75.0\" width=\"40\" height=\"40\" stroke=\"black\" fill=\"white\" stroke-width=\"1\" /><text x=\"90.0\" y=\"95.0\" dominant-baseline=\"middle\" text-anchor=\"middle\" font-size=\"18px\" font-family=\"Arial:style=normal:variant=normal:weight=normal:stretch=normal:size=10.0\">I</text><rect x=\"70.0\" y=\"175.0\" width=\"40\" height=\"40\" stroke=\"black\" fill=\"white\" stroke-width=\"1\" /><text x=\"90.0\" y=\"195.0\" dominant-baseline=\"middle\" text-anchor=\"middle\" font-size=\"18px\" font-family=\"Arial:style=normal:variant=normal:weight=normal:stretch=normal:size=10.0\">I</text><rect x=\"70.0\" y=\"225.0\" width=\"40\" height=\"40\" stroke=\"black\" fill=\"white\" stroke-width=\"1\" /><text x=\"90.0\" y=\"245.0\" dominant-baseline=\"middle\" text-anchor=\"middle\" font-size=\"18px\" font-family=\"Arial:style=normal:variant=normal:weight=normal:stretch=normal:size=10.0\">I</text><rect x=\"130.0\" y=\"25.0\" width=\"40\" height=\"40\" stroke=\"black\" fill=\"white\" stroke-width=\"1\" /><text x=\"150.0\" y=\"45.0\" dominant-baseline=\"middle\" text-anchor=\"middle\" font-size=\"18px\" font-family=\"Arial:style=normal:variant=normal:weight=normal:stretch=normal:size=10.0\">X</text><circle cx=\"210.0\" cy=\"45.0\" r=\"10.0\" /><rect x=\"190.0\" y=\"75.0\" width=\"40\" height=\"40\" stroke=\"black\" fill=\"white\" stroke-width=\"1\" /><text x=\"210.0\" y=\"95.0\" dominant-baseline=\"middle\" text-anchor=\"middle\" font-size=\"18px\" font-family=\"Arial:style=normal:variant=normal:weight=normal:stretch=normal:size=10.0\">X</text><rect x=\"240.0\" y=\"75.0\" width=\"84.18386718750001\" height=\"40\" stroke=\"black\" fill=\"white\" stroke-width=\"1\" /><text x=\"282.09193359375\" y=\"95.0\" dominant-baseline=\"middle\" text-anchor=\"middle\" font-size=\"14px\" font-family=\"Arial:style=normal:variant=normal:weight=normal:stretch=normal:size=10.0\">Ry(-0.167π)</text><circle cx=\"344.1838671875\" cy=\"245.0\" r=\"10.0\" /><circle cx=\"344.1838671875\" cy=\"45.0\" r=\"10.0\" /><rect x=\"324.1838671875\" y=\"125.0\" width=\"40\" height=\"40\" stroke=\"black\" fill=\"white\" stroke-width=\"1\" /><text x=\"344.1838671875\" y=\"145.0\" dominant-baseline=\"middle\" text-anchor=\"middle\" font-size=\"18px\" font-family=\"Arial:style=normal:variant=normal:weight=normal:stretch=normal:size=10.0\">X</text><circle cx=\"414.1838671875\" cy=\"145.0\" r=\"10.0\" /><rect x=\"394.1838671875\" y=\"75.0\" width=\"40\" height=\"40\" stroke=\"black\" fill=\"white\" stroke-width=\"1\" /><text x=\"414.1838671875\" y=\"95.0\" dominant-baseline=\"middle\" text-anchor=\"middle\" font-size=\"18px\" font-family=\"Arial:style=normal:variant=normal:weight=normal:stretch=normal:size=10.0\">X</text><circle cx=\"464.1838671875\" cy=\"245.0\" r=\"10.0\" /><circle cx=\"464.1838671875\" cy=\"45.0\" r=\"10.0\" /><rect x=\"444.1838671875\" y=\"125.0\" width=\"40\" height=\"40\" stroke=\"black\" fill=\"white\" stroke-width=\"1\" /><text x=\"464.1838671875\" y=\"145.0\" dominant-baseline=\"middle\" text-anchor=\"middle\" font-size=\"18px\" font-family=\"Arial:style=normal:variant=normal:weight=normal:stretch=normal:size=10.0\">X</text><rect x=\"484.1838671875\" y=\"75.0\" width=\"79.5217578125\" height=\"40\" stroke=\"black\" fill=\"white\" stroke-width=\"1\" /><text x=\"523.94474609375\" y=\"95.0\" dominant-baseline=\"middle\" text-anchor=\"middle\" font-size=\"14px\" font-family=\"Arial:style=normal:variant=normal:weight=normal:stretch=normal:size=10.0\">Ry(0.167π)</text><circle cx=\"613.705625\" cy=\"245.0\" r=\"10.0\" /><circle cx=\"613.705625\" cy=\"45.0\" r=\"10.0\" /><rect x=\"593.705625\" y=\"125.0\" width=\"40\" height=\"40\" stroke=\"black\" fill=\"white\" stroke-width=\"1\" /><text x=\"613.705625\" y=\"145.0\" dominant-baseline=\"middle\" text-anchor=\"middle\" font-size=\"18px\" font-family=\"Arial:style=normal:variant=normal:weight=normal:stretch=normal:size=10.0\">X</text><circle cx=\"673.705625\" cy=\"145.0\" r=\"10.0\" /><rect x=\"653.705625\" y=\"75.0\" width=\"40\" height=\"40\" stroke=\"black\" fill=\"white\" stroke-width=\"1\" /><text x=\"673.705625\" y=\"95.0\" dominant-baseline=\"middle\" text-anchor=\"middle\" font-size=\"18px\" font-family=\"Arial:style=normal:variant=normal:weight=normal:stretch=normal:size=10.0\">X</text><circle cx=\"733.705625\" cy=\"245.0\" r=\"10.0\" /><circle cx=\"733.705625\" cy=\"45.0\" r=\"10.0\" /><rect x=\"713.705625\" y=\"125.0\" width=\"40\" height=\"40\" stroke=\"black\" fill=\"white\" stroke-width=\"1\" /><text x=\"733.705625\" y=\"145.0\" dominant-baseline=\"middle\" text-anchor=\"middle\" font-size=\"18px\" font-family=\"Arial:style=normal:variant=normal:weight=normal:stretch=normal:size=10.0\">X</text><rect x=\"773.705625\" y=\"25.0\" width=\"52.203984375000005\" height=\"40\" stroke=\"black\" fill=\"white\" stroke-width=\"1\" /><text x=\"799.8076171875\" y=\"45.0\" dominant-baseline=\"middle\" text-anchor=\"middle\" font-size=\"14px\" font-family=\"Arial:style=normal:variant=normal:weight=normal:stretch=normal:size=10.0\">(False)</text><rect x=\"773.705625\" y=\"75.0\" width=\"52.203984375000005\" height=\"40\" stroke=\"black\" fill=\"white\" stroke-width=\"1\" /><text x=\"799.8076171875\" y=\"95.0\" dominant-baseline=\"middle\" text-anchor=\"middle\" font-size=\"14px\" font-family=\"Arial:style=normal:variant=normal:weight=normal:stretch=normal:size=10.0\">Ry(0)</text><rect x=\"845.9096093750001\" y=\"25.0\" width=\"40\" height=\"40\" stroke=\"black\" fill=\"white\" stroke-width=\"1\" /><text x=\"865.9096093750001\" y=\"45.0\" dominant-baseline=\"middle\" text-anchor=\"middle\" font-size=\"18px\" font-family=\"Arial:style=normal:variant=normal:weight=normal:stretch=normal:size=10.0\">X</text></svg>"
      ],
      "text/plain": [
       "<cirq.contrib.svg.svg.SVGCircuit at 0x10c41fd90>"
      ]
     },
     "execution_count": 36,
     "metadata": {},
     "output_type": "execute_result"
    }
   ],
   "source": [
    "number_of_modes = 2\n",
    "active_mode = 1\n",
    "maximum_occupation_number = 1\n",
    "R = 1\n",
    "S = 1\n",
    "\n",
    "active_mode = active_mode % number_of_modes\n",
    "operator = ParticleOperator(f\"a{active_mode}^\") ** R\n",
    "operator *= ParticleOperator(f\"a{active_mode}\") ** S\n",
    "\n",
    "number_of_modes = max([term.max_mode for term in operator.to_list()]) + 1\n",
    "\n",
    "number_of_clean_ancillae = 100\n",
    "\n",
    "# Declare Qubits\n",
    "circuit = cirq.Circuit()\n",
    "control = cirq.LineQubit(0)\n",
    "block_encoding_ancilla = cirq.LineQubit(1)\n",
    "\n",
    "clean_ancillae = [cirq.LineQubit(i + 2) for i in range(number_of_clean_ancillae)]\n",
    "system = System(\n",
    "    number_of_modes=number_of_modes,\n",
    "    maximum_occupation_number=maximum_occupation_number,\n",
    "    number_of_used_qubits=2 + number_of_clean_ancillae,\n",
    "    has_fermions=False,\n",
    "    has_bosons=True,\n",
    ")\n",
    "circuit.append(\n",
    "    cirq.I.on_each(\n",
    "        control,\n",
    "        block_encoding_ancilla,\n",
    "        *system.bosonic_system,\n",
    "    )\n",
    ")\n",
    "\n",
    "\n",
    "# Flip control qubit so that we can focus on the 0-subspace of the control\n",
    "circuit.append(cirq.X.on(control))\n",
    "# Generate full Block-Encoding circuit\n",
    "gates, metrics = bosonic_mode_block_encoding(\n",
    "    system,\n",
    "    block_encoding_ancilla,\n",
    "    active_mode,\n",
    "    (R, S),\n",
    "    clean_ancillae=clean_ancillae,\n",
    "    ctrls=([control], [1]),\n",
    ")\n",
    "circuit += gates\n",
    "# Flip control qubit so that we can focus on the 0-subspace of the control\n",
    "circuit.append(cirq.X.on(control))\n",
    "\n",
    "print(operator)\n",
    "SVGCircuit(circuit)"
   ]
  },
  {
   "cell_type": "code",
   "execution_count": 39,
   "metadata": {},
   "outputs": [],
   "source": [
    "full_fock_basis = get_basis_of_full_system(\n",
    "    number_of_modes,\n",
    "    maximum_occupation_number=maximum_occupation_number,\n",
    "    has_fermions=operator.has_fermions,\n",
    "    has_antifermions=operator.has_antifermions,\n",
    "    has_bosons=operator.has_bosons,\n",
    ")\n",
    "matrix = generate_matrix(operator, full_fock_basis)\n",
    "\n",
    "upper_left_block = (\n",
    "        (np.sqrt(maximum_occupation_number + 1)) ** ((R + S))\n",
    "    ) * circuit.unitary(dtype=complex)[\n",
    "    : 1 << system.number_of_system_qubits, : 1 << system.number_of_system_qubits\n",
    "]\n",
    "\n",
    "assert np.allclose(upper_left_block, matrix)"
   ]
  }
 ],
 "metadata": {
  "kernelspec": {
   "display_name": "openparticle",
   "language": "python",
   "name": "python3"
  },
  "language_info": {
   "codemirror_mode": {
    "name": "ipython",
    "version": 3
   },
   "file_extension": ".py",
   "mimetype": "text/x-python",
   "name": "python",
   "nbconvert_exporter": "python",
   "pygments_lexer": "ipython3",
   "version": "3.10.15"
  },
  "orig_nbformat": 4
 },
 "nbformat": 4,
 "nbformat_minor": 2
}
