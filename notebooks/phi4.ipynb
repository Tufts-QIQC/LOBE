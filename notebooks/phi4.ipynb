{
 "cells": [
  {
   "cell_type": "code",
   "execution_count": 1,
   "metadata": {},
   "outputs": [],
   "source": [
    "from openparticle import ParticleOperator\n",
    "from openparticle.utils import get_fock_basis, generate_matrix\n",
    "from openparticle.hamiltonians.phi4_hamiltonian import phi4_Hamiltonian\n",
    "import cirq\n",
    "import matplotlib.pyplot as plt\n",
    "import numpy as np\n",
    "from functools import partial\n",
    "import sys, os\n",
    "sys.path.append(os.path.join(os.path.dirname(os.path.realpath('__file__')), '..'))\n",
    "\n",
    "from src.lobe.system import System\n",
    "from src.lobe.lcu import LCU\n",
    "from src.lobe.lobe_circuit import lobe_circuit\n",
    "from src.lobe.block_encoding import add_lobe_oracle\n",
    "from cirq.contrib.svg import SVGCircuit\n",
    "from src.lobe.usp import add_naive_usp\n",
    "from src.lobe.asp import get_target_state, add_prepare_circuit\n",
    "from src.lobe.rescale import bosonically_rescale_terms, rescale_terms_usp, get_numbers_of_bosonic_operators_in_terms, get_number_of_active_bosonic_modes,get_active_bosonic_modes\n",
    "from src.lobe._utils import get_basis_of_full_system, get_bosonic_exponents, pretty_print\n",
    "from src.lobe.index import index_over_terms\n",
    "from src.lobe.metrics import CircuitMetrics\n",
    "from src.lobe.bosonic import bosonic_product_plus_hc_block_encoding, bosonic_modes_block_encoding\n",
    "\n",
    "from colors import *"
   ]
  },
  {
   "cell_type": "code",
   "execution_count": 2,
   "metadata": {},
   "outputs": [],
   "source": [
    "def check_unitary(operator, circuit, resolution, max_bosonic_occupancy, system, rescaling_factor):\n",
    "    if len(circuit.all_qubits()) > 18:\n",
    "        print(\"Skipped: \", len(circuit.all_qubits()))\n",
    "    \n",
    "    # full_fock_basis = get_fock_basis(operator, max_bosonic_occupancy)\n",
    "    full_fock_basis = get_basis_of_full_system(operator.max_bosonic_mode + 1, \n",
    "                                               max_bosonic_occupancy, \n",
    "                                               False, False, True)\n",
    "    expected_unitary = generate_matrix(operator, full_fock_basis)\n",
    "\n",
    "    if len(circuit.all_qubits()) <= 8:\n",
    "        print(\"Checking Unitary: \", resolution)\n",
    "        rescaled_block = circuit.unitary()[:1 << system.number_of_system_qubits, :1 << system.number_of_system_qubits]*rescaling_factor\n",
    "        if not np.allclose(rescaled_block, expected_unitary):\n",
    "            print(circuit)\n",
    "            print(full_fock_basis)\n",
    "            print(\"Obtained:\\n\", rescaled_block.real.round(2))\n",
    "            print(\"---\")\n",
    "            print(\"Expected:\\n\", expected_unitary.real.round(2))\n",
    "            assert False\n",
    "        print(\"Passed\")\n",
    "    else:\n",
    "        print(\n",
    "            f\"Testing singular quantum state for circuit with {len(circuit.all_qubits())} qubits\"\n",
    "        )\n",
    "        simulator = cirq.Simulator()\n",
    "\n",
    "        zero_state = np.zeros(\n",
    "            1 << (\n",
    "                len(circuit.all_qubits())\n",
    "                - system.number_of_system_qubits\n",
    "                - 1\n",
    "            ), dtype=complex,\n",
    "        )\n",
    "        zero_state[0] = 1\n",
    "\n",
    "        initial_control_state = [1, 0]\n",
    "\n",
    "        random_system_state = np.zeros(1 << system.number_of_system_qubits)\n",
    "        # random_system_state[0] = 1\n",
    "        # random_system_state[5] = 1/np.sqrt(2)\n",
    "        while np.isclose(np.linalg.norm(expected_unitary @ random_system_state), 0):\n",
    "            random_system_state = 1j * np.random.uniform(\n",
    "                -1, 1, 1 << system.number_of_system_qubits\n",
    "            )\n",
    "            random_system_state += np.random.uniform(\n",
    "                -1, 1, 1 << system.number_of_system_qubits\n",
    "            )\n",
    "            random_system_state = random_system_state / np.linalg.norm(\n",
    "                random_system_state\n",
    "            )\n",
    "\n",
    "        initial_state = np.kron(np.kron(zero_state, initial_control_state), random_system_state)\n",
    "\n",
    "        output_state = simulator.simulate(\n",
    "            circuit, initial_state=initial_state\n",
    "        ).final_state_vector\n",
    "        final_state = output_state[: 1 << system.number_of_system_qubits]\n",
    "\n",
    "        expected_final_state = expected_unitary @ random_system_state\n",
    "        expected_final_state = expected_final_state / np.linalg.norm(\n",
    "            expected_final_state\n",
    "        )\n",
    "        normalized_final_state = final_state/ np.linalg.norm(final_state)\n",
    "        if not np.allclose(expected_final_state, normalized_final_state, atol=1e-4):\n",
    "            print(pretty_print(random_system_state, [system.number_of_system_qubits]))\n",
    "            print(\"Failed\")\n",
    "            print(expected_unitary.real.round(2))\n",
    "            print(\"Expected\", pretty_print(expected_final_state, [system.number_of_system_qubits]))\n",
    "            print(\"Obtained\", pretty_print(normalized_final_state, [system.number_of_system_qubits]))\n",
    "            assert False\n",
    "        print(\"Passed\")"
   ]
  },
  {
   "cell_type": "code",
   "execution_count": 19,
   "metadata": {},
   "outputs": [
    {
     "data": {
      "text/plain": [
       "[0.23873241463784312 * a1^ a1^ a1 a1,\n",
       " 1.909859317102745 * a1^ a0^ a1 a0,\n",
       " 2.432394487827059 * a1^ a1,\n",
       " 0.9549296585513725 * a0^ a0^ a0 a0,\n",
       " 4.864788975654118 * a0^ a0]"
      ]
     },
     "execution_count": 19,
     "metadata": {},
     "output_type": "execute_result"
    }
   ],
   "source": [
    "phi4_Hamiltonian(2, 1, 1).group()"
   ]
  },
  {
   "cell_type": "code",
   "execution_count": 27,
   "metadata": {},
   "outputs": [],
   "source": [
    "def phi4_lcu_circuit_metrics(resolution, max_bose_occ):\n",
    "    print(\"---\", resolution, \"---\")\n",
    "    operator = operator = phi4_Hamiltonian(resolution, g = 1, mb = 1)\n",
    "    operator.remove_identity()\n",
    "\n",
    "    lcu = LCU(operator, max_bosonic_occupancy=max_bose_occ, zero_threshold=1e-6)\n",
    "\n",
    "    circuit = lcu.get_circuit()\n",
    "    system = System(operator.max_bosonic_mode + 1, max_bose_occ, 1000, False, False, True)\n",
    "    full_fock_basis = get_fock_basis(operator, max_bose_occ=max_bose_occ)\n",
    "    # full_fock_basis = get_basis_of_full_system(operator.max_bosonic_mode + 1, \n",
    "    #                                            max_bose_occ, \n",
    "    #                                            False, False, True)\n",
    "    \n",
    "    expected_unitary = generate_matrix(operator, full_fock_basis)\n",
    "    unitary = circuit.unitary()[:1 << system.number_of_system_qubits, :1 << system.number_of_system_qubits]*lcu.one_norm\n",
    "    \n",
    "    \n",
    "    # check_unitary(operator=operator, circuit=circuit, resolution = resolution, max_bosonic_occupancy=max_bose_occ, system = system, rescaling_factor=lcu.one_norm)\n",
    "    \n",
    "    return lcu.circuit_metrics, lcu.one_norm, len(lcu.index_register)"
   ]
  },
  {
   "cell_type": "code",
   "execution_count": 28,
   "metadata": {},
   "outputs": [],
   "source": [
    "# def phi4_lobe_circuit_metrics(resolution, max_bose_occ):\n",
    "#     # operator = phi4_Hamiltonian(resolution, g = 1, mb = 1)\n",
    "#     operator = ParticleOperator('a1^ a1^ a1 a1') + ParticleOperator('a1^ a0^ a1 a0') + ParticleOperator('a0^ a0')\n",
    "#     groups = operator.group()\n",
    "#     max_number_of_active_modes = max(get_number_of_active_bosonic_modes(groups))\n",
    "    \n",
    "#     number_of_block_encoding_anillae = 1 + int(np.ceil(np.log2(len(groups)))) + max_number_of_active_modes\n",
    "#     index_register = [cirq.LineQubit(-i - 2) for i in range(int(np.ceil(np.log2(len(groups)))))]\n",
    "#     block_encoding_ancillae = [cirq.LineQubit(-100 - i - len(index_register)) for i in range(number_of_block_encoding_anillae)]\n",
    "#     ctrls = ([cirq.LineQubit(0)], [1])\n",
    "#     clean_ancillae = [cirq.LineQubit(i + 100) for i in range(100)]\n",
    "#     system = System(operator.max_bosonic_mode + 1, max_bose_occ, 1000, False, False, True)\n",
    "\n",
    "#     block_encoding_functions = []\n",
    "#     rescaling_factors = []\n",
    "    \n",
    "#     for term in groups:\n",
    "#         plus_hc = False\n",
    "#         if len(term) == 2:\n",
    "#             plus_hc = True\n",
    "#             term = term.to_list()[0]\n",
    "#         active_modes, exponents = get_bosonic_exponents(term, \n",
    "#                                 operator.max_bosonic_mode + 1)\n",
    "\n",
    "#         if not plus_hc:\n",
    "#             print(term, \"not HC\")\n",
    "#             block_encoding_functions.append(partial(\n",
    "#                 bosonic_modes_block_encoding,\n",
    "#                 system=system,\n",
    "#                 block_encoding_ancillae=block_encoding_ancillae,\n",
    "#                 active_indices=active_modes,\n",
    "#                 exponents_list=exponents,\n",
    "#                 clean_ancillae=clean_ancillae[1:]\n",
    "#             ))\n",
    "#             rescaling_factors.append(np.sqrt(max_bose_occ)**(sum(sum(np.asarray(exponents)))))\n",
    "#         else:\n",
    "#             block_encoding_functions.append(partial(\n",
    "#                 bosonic_product_plus_hc_block_encoding,\n",
    "#                 system=system,\n",
    "#                 block_encoding_ancillae=block_encoding_ancillae,\n",
    "#                 active_indices=active_modes,\n",
    "#                 exponents_list=exponents,\n",
    "#                 clean_ancillae=clean_ancillae[1:]\n",
    "#             ))\n",
    "#             rescaling_factors.append(2*np.sqrt(max_bose_occ)**(sum(sum(np.asarray(exponents)))))\n",
    "\n",
    "\n",
    "\n",
    "#     rescaled_coefficients = []\n",
    "#     for term, rescaling_factor in zip(groups, rescaling_factors):\n",
    "#         rescaled_coefficients.append(term.coeffs[0] * rescaling_factor / max(rescaling_factors))\n",
    "\n",
    "#     target_state = get_target_state(rescaled_coefficients)\n",
    "#     gates = []\n",
    "#     metrics = CircuitMetrics()\n",
    "\n",
    "#     gates.append(cirq.X.on(ctrls[0][0]))\n",
    "\n",
    "#     _gates, _metrics = add_prepare_circuit(index_register, target_state, clean_ancillae=clean_ancillae)\n",
    "#     gates += _gates\n",
    "#     metrics += _metrics\n",
    "\n",
    "#     _gates, _metrics = index_over_terms(index_register, block_encoding_functions, clean_ancillae, ctrls=ctrls)\n",
    "#     gates += _gates\n",
    "#     metrics += _metrics\n",
    "\n",
    "#     _gates, _metrics = add_prepare_circuit(index_register, target_state, dagger=True, clean_ancillae=clean_ancillae)\n",
    "#     gates += _gates\n",
    "#     metrics += _metrics\n",
    "\n",
    "#     gates.append(cirq.X.on(ctrls[0][0]))\n",
    "\n",
    "#     overall_rescaling_factor = sum([term.coeffs[0]*rescaling_factor for term, rescaling_factor in zip(groups, rescaling_factors)])\n",
    "#     circuit = cirq.Circuit(gates)\n",
    "#     print(\"Checking LOBE unitary...\")\n",
    "#     unitary_rescaling_factor = 2 * np.sqrt(max_bose_occ)**sum(sum(np.asarray(exponents)))\n",
    "#     print(generate_matrix(operator, get_fock_basis(operator, max_bose_occ)).real.round(2))\n",
    "#     unitary = circuit.unitary()[\n",
    "#         :1<<system.number_of_system_qubits, :1<<system.number_of_system_qubits\n",
    "#     ] * unitary_rescaling_factor\n",
    "#     print(unitary.real.round(2))\n",
    "    \n",
    "#     check_unitary(operator, circuit, resolution, max_bose_occ, system, overall_rescaling_factor)\n",
    "\n",
    "#     return  metrics, overall_rescaling_factor, len(index_register) + number_of_block_encoding_anillae\n",
    "\n",
    "            "
   ]
  },
  {
   "cell_type": "code",
   "execution_count": 29,
   "metadata": {},
   "outputs": [],
   "source": [
    "def phi4_LOBE_circuit_metrics(resolution, maximum_occupation_number):\n",
    "    operator = phi4_Hamiltonian(resolution, 1, 1)\n",
    "\n",
    "\n",
    "    grouped_terms = operator.group()\n",
    "    number_of_block_encoding_ancillae = max(\n",
    "        get_number_of_active_bosonic_modes(grouped_terms)\n",
    "    )\n",
    "\n",
    "    index_register = [\n",
    "        cirq.LineQubit(-i - 2) for i in range(int(np.ceil(np.log2(len(grouped_terms)))))\n",
    "    ]\n",
    "    block_encoding_ancillae = [\n",
    "        cirq.LineQubit(-100 - i - len(index_register))\n",
    "        for i in range(number_of_block_encoding_ancillae)\n",
    "    ]\n",
    "    number_of_block_encoding_ancillae = len(block_encoding_ancillae)\n",
    "    ctrls = ([cirq.LineQubit(0)], [1])\n",
    "    clean_ancillae = [cirq.LineQubit(i + 100) for i in range(100)]\n",
    "    system = System(\n",
    "        operator.max_bosonic_mode + 1,\n",
    "        maximum_occupation_number,\n",
    "        1000,\n",
    "        False,\n",
    "        False,\n",
    "        True,\n",
    "    )\n",
    "\n",
    "    block_encoding_functions = []\n",
    "    rescaling_factors = []\n",
    "    for term in grouped_terms:\n",
    "        plus_hc = False\n",
    "        if len(term) == 2:\n",
    "            plus_hc = True\n",
    "            term = term.to_list()[0]\n",
    "        active_modes, exponents = get_bosonic_exponents(\n",
    "            term, operator.max_bosonic_mode + 1\n",
    "        )\n",
    "\n",
    "        if not plus_hc:\n",
    "            block_encoding_functions.append(\n",
    "                partial(\n",
    "                    bosonic_modes_block_encoding,\n",
    "                    system=system,\n",
    "                    block_encoding_ancillae=block_encoding_ancillae,\n",
    "                    active_indices=active_modes,\n",
    "                    exponents_list=exponents,\n",
    "                    clean_ancillae=clean_ancillae[1:],\n",
    "                )\n",
    "            )\n",
    "            rescaling_factors.append(\n",
    "                np.sqrt(maximum_occupation_number) ** (sum(sum(np.asarray(exponents))))\n",
    "            )\n",
    "        else:\n",
    "            block_encoding_functions.append(\n",
    "                partial(\n",
    "                    bosonic_product_plus_hc_block_encoding,\n",
    "                    system=system,\n",
    "                    block_encoding_ancillae=block_encoding_ancillae,\n",
    "                    active_indices=active_modes,\n",
    "                    exponents_list=exponents,\n",
    "                    clean_ancillae=clean_ancillae[1:],\n",
    "                )\n",
    "            )\n",
    "            rescaling_factors.append(\n",
    "                2\n",
    "                * np.sqrt(maximum_occupation_number)\n",
    "                ** (sum(sum(np.asarray(exponents))))\n",
    "            )\n",
    "\n",
    "    rescaled_coefficients = []\n",
    "    for term, rescaling_factor in zip(grouped_terms, rescaling_factors):\n",
    "        rescaled_coefficients.append(\n",
    "            term.coeffs[0] * rescaling_factor / max(rescaling_factors)\n",
    "        )\n",
    "\n",
    "    target_state = get_target_state(rescaled_coefficients)\n",
    "    gates = []\n",
    "    metrics = CircuitMetrics()\n",
    "    for mode in system.bosonic_system:\n",
    "        for qubit in mode:\n",
    "            gates.append(cirq.I.on(qubit))\n",
    "\n",
    "    gates.append(cirq.X.on(ctrls[0][0]))\n",
    "\n",
    "    _gates, _metrics = add_prepare_circuit(\n",
    "        index_register, target_state, clean_ancillae=clean_ancillae\n",
    "    )\n",
    "    gates += _gates\n",
    "    metrics += _metrics\n",
    "\n",
    "    _gates, _metrics = index_over_terms(\n",
    "        index_register, block_encoding_functions, clean_ancillae, ctrls=ctrls\n",
    "    )\n",
    "    gates += _gates\n",
    "    metrics += _metrics\n",
    "\n",
    "    _gates, _metrics = add_prepare_circuit(\n",
    "        index_register, target_state, dagger=True, clean_ancillae=clean_ancillae\n",
    "    )\n",
    "    gates += _gates\n",
    "    metrics += _metrics\n",
    "\n",
    "    gates.append(cirq.X.on(ctrls[0][0]))\n",
    "\n",
    "    overall_rescaling_factor = sum(\n",
    "        [\n",
    "            term.coeffs[0] * rescaling_factor\n",
    "            for term, rescaling_factor in zip(grouped_terms, rescaling_factors)\n",
    "        ]\n",
    "    )\n",
    "\n",
    "    check_unitary(operator, cirq.Circuit(gates), resolution, maximum_occupation_number, system, overall_rescaling_factor)\n",
    "\n",
    "    return metrics, overall_rescaling_factor, len(index_register) + number_of_block_encoding_ancillae\n"
   ]
  },
  {
   "cell_type": "code",
   "execution_count": null,
   "metadata": {},
   "outputs": [],
   "source": []
  },
  {
   "cell_type": "code",
   "execution_count": 32,
   "metadata": {},
   "outputs": [
    {
     "name": "stdout",
     "output_type": "stream",
     "text": [
      "--- 2 ---\n"
     ]
    },
    {
     "data": {
      "text/plain": [
       "3"
      ]
     },
     "execution_count": 32,
     "metadata": {},
     "output_type": "execute_result"
    }
   ],
   "source": [
    "phi4_lcu_circuit_metrics(2, 1)[0].number_of_elbows"
   ]
  },
  {
   "cell_type": "code",
   "execution_count": 33,
   "metadata": {},
   "outputs": [
    {
     "name": "stdout",
     "output_type": "stream",
     "text": [
      "Testing singular quantum state for circuit with 10 qubits\n",
      "Passed\n"
     ]
    },
    {
     "data": {
      "text/plain": [
       "10"
      ]
     },
     "execution_count": 33,
     "metadata": {},
     "output_type": "execute_result"
    }
   ],
   "source": [
    "phi4_LOBE_circuit_metrics(2, 1)[0].number_of_elbows"
   ]
  },
  {
   "cell_type": "code",
   "execution_count": 35,
   "metadata": {},
   "outputs": [
    {
     "data": {
      "text/plain": [
       " 17.630+0.000j IIII +\n",
       "-5.775+0.000j ZIII +\n",
       "-2.887+0.000j IZII +\n",
       " 0.239+0.000j ZZII +\n",
       "-9.639+0.000j IIZI +\n",
       " 1.910+0.000j ZIZI +\n",
       " 0.955+0.000j IZZI +\n",
       "-4.820+0.000j IIIZ +\n",
       " 0.955+0.000j ZIIZ +\n",
       " 0.477+0.000j IZIZ +\n",
       " 0.955+0.000j IIZZ"
      ]
     },
     "execution_count": 35,
     "metadata": {},
     "output_type": "execute_result"
    }
   ],
   "source": [
    "LCU(phi4_Hamiltonian(2, 1, 1), max_bosonic_occupancy=3, zero_threshold=1e-6).paulis"
   ]
  },
  {
   "cell_type": "code",
   "execution_count": 7,
   "metadata": {},
   "outputs": [],
   "source": [
    "def _get_phi4_hamiltonian_norm(res, max_bose_occ, g=1):\n",
    "    ham = phi4_Hamiltonian(res, g = g, mb = 1)\n",
    "    basis = get_fock_basis(ham, max_bose_occ)\n",
    "    matrix = generate_matrix(ham, basis)\n",
    "\n",
    "\n",
    "    vals = np.linalg.eigvalsh(matrix)\n",
    "    return max(np.abs(vals))"
   ]
  },
  {
   "cell_type": "code",
   "execution_count": 12,
   "metadata": {},
   "outputs": [
    {
     "name": "stdout",
     "output_type": "stream",
     "text": [
      "LOBE\n",
      "Testing singular quantum state for circuit with 10 qubits\n",
      "Passed\n",
      "Testing singular quantum state for circuit with 14 qubits\n",
      "Passed\n",
      "Testing singular quantum state for circuit with 17 qubits\n",
      "Passed\n",
      "Skipped:  19\n",
      "Testing singular quantum state for circuit with 19 qubits\n",
      "Passed\n",
      "LCU\n",
      "--- 2 ---\n",
      "--- 3 ---\n",
      "--- 4 ---\n",
      "--- 5 ---\n",
      "2 9.207042780583922\n",
      "3 20.8584520083679\n",
      "4 36.052819255171784\n",
      "5 54.214757155269744\n"
     ]
    }
   ],
   "source": [
    "omega = 1\n",
    "resolutions = np.arange(2, 6, 1)\n",
    "print(\"LOBE\")\n",
    "\n",
    "GROUPED_LOBE_DATA = [phi4_LOBE_circuit_metrics(res, omega) for res in resolutions]\n",
    "print(\"LCU\")\n",
    "LCU_DATA = [phi4_lcu_circuit_metrics(res, omega) for res in resolutions]\n",
    "\n",
    "operator_norms = []\n",
    "for res in resolutions:\n",
    "    operator = phi4_Hamiltonian(res, 1, 1).normal_order()\n",
    "    operator.remove_identity()\n",
    "    operator_norms.append(_get_phi4_hamiltonian_norm(res, omega))\n",
    "    print(res, operator_norms[-1])\n",
    "system_qubits = [System(phi4_Hamiltonian(res, 1, 1).max_bosonic_mode, omega, 1000, False, False, True).number_of_system_qubits for res in resolutions]"
   ]
  },
  {
   "cell_type": "code",
   "execution_count": 13,
   "metadata": {},
   "outputs": [
    {
     "data": {
      "image/png": "[encoded data removed]",
      "text/plain": [
       "<Figure size 629.921x708.661 with 5 Axes>"
      ]
     },
     "metadata": {},
     "output_type": "display_data"
    }
   ],
   "source": [
    "fig, axes = plt.subplots(3, 2, figsize=(16 / 2.54, 18 / 2.54))\n",
    "\n",
    "axes[0][0].plot(resolutions, [4 * GROUPED_LOBE_DATA[i][0].number_of_elbows for i in range(len(resolutions))], color=BLUE, marker='s', alpha = 1, label = 'LOBE')\n",
    "axes[0][0].plot(resolutions, [4 * LCU_DATA[i][0].number_of_elbows for i in range(len(resolutions))], color=ORANGE, marker='o', alpha = 1, label = 'LCU')\n",
    "axes[0][0].set_ylabel(\"Number of T-gates\")\n",
    "axes[0][0].set_xlabel(\"Resolution $(K$)\")\n",
    "\n",
    "axes[0][1].plot(resolutions, [GROUPED_LOBE_DATA[i][0].number_of_rotations for i in range(len(resolutions))], color=BLUE, marker='s', alpha = 1, label = 'LOBE')\n",
    "axes[0][1].plot(resolutions, [LCU_DATA[i][0].number_of_rotations for i in range(len(resolutions))], color=ORANGE, marker='o', alpha = 1, label = 'LCU')\n",
    "axes[0][1].set_ylabel(\"Number of Rotations\")\n",
    "axes[0][1].set_xlabel(\"Resolution $(K$)\")\n",
    "\n",
    "axes[1][0].plot(resolutions, [GROUPED_LOBE_DATA[i][2] for i in range(len(resolutions))], color=BLUE, marker='s', alpha = 1, label = 'LOBE')\n",
    "axes[1][0].plot(resolutions, [LCU_DATA[i][2] for i in range(len(resolutions))], color=ORANGE, marker='o', alpha = 1, label = 'LCU')\n",
    "axes[1][0].set_ylabel(\"Number of BE-Ancillae\")\n",
    "axes[1][0].set_xlabel(\"Resolution $(K$)\")\n",
    "\n",
    "axes[1][1].plot(resolutions, [GROUPED_LOBE_DATA[i][1] for i in range(len(resolutions))], color=BLUE, marker='s', alpha = 1, label = 'LOBE')\n",
    "axes[1][1].plot(resolutions, [LCU_DATA[i][1] for i in range(len(resolutions))], color=ORANGE, marker='o', alpha = 1, label = 'LCU')\n",
    "axes[1][1].plot(resolutions, [operator_norms[i] for i in range(len(resolutions))], color=\"black\", marker='x', ls='--', alpha = 1)\n",
    "axes[1][1].set_ylabel(\"Rescaling Factor\")\n",
    "axes[1][1].set_xlabel(\"Resolution $(K$)\")\n",
    "\n",
    "\n",
    "axes[2][0].plot(resolutions, [LCU_DATA[i][0].ancillae_highwater() + LCU_DATA[i][2] + system_qubits[i] + 1 for i in range(len(resolutions))], color=ORANGE, marker='^', alpha = 1, label=\"LCU\")\n",
    "axes[2][0].plot(resolutions, [GROUPED_LOBE_DATA[i][0].ancillae_highwater() + GROUPED_LOBE_DATA[i][2] + system_qubits[i] + 1 for i in range(len(resolutions))], color=BLUE, marker='s', alpha = 1, label=\"LOBE\")\n",
    "axes[2][0].plot([], [], color=\"black\", marker='x', ls='--', alpha = 1, label=\"Hamiltonian Norm\")\n",
    "axes[2][0].set_ylabel(\"Total Qubit Highwater\")\n",
    "axes[2][0].set_xlabel(\"Resolution ($K$)\")\n",
    "\n",
    "fig.delaxes(axes[2][1])\n",
    "plt.tight_layout()\n",
    "axes[2][0].legend(loc='upper center', bbox_to_anchor=(1.5, 0.75),\n",
    "          fancybox=True, shadow=True, ncol=1)\n",
    "plt.savefig(\"../manuscript/figures/phi4_resolution_scaling.pdf\", dpi=300)"
   ]
  },
  {
   "cell_type": "code",
   "execution_count": null,
   "metadata": {},
   "outputs": [
    {
     "data": {
      "text/plain": [
       "[0.23873241463784312 * a1^ a1^ a1 a1,\n",
       " 3.81971863420549 * a1^ a0^ a1 a0,\n",
       " 2.432394487827059 * a1^ a1,\n",
       " 0.9549296585513725 * a0^ a0^ a0 a0,\n",
       " 4.864788975654118 * a0^ a0]"
      ]
     },
     "execution_count": 113,
     "metadata": {},
     "output_type": "execute_result"
    }
   ],
   "source": [
    "phi4_Hamiltonian(2, 1, 1).group()"
   ]
  },
  {
   "cell_type": "code",
   "execution_count": null,
   "metadata": {},
   "outputs": [
    {
     "data": {
      "text/plain": [
       "([1, 0], [(1, 0), (0, 2)])"
      ]
     },
     "execution_count": 13,
     "metadata": {},
     "output_type": "execute_result"
    }
   ],
   "source": [
    "op = ParticleOperator('a1^ a0 a0')\n",
    "active_modes, exponents = get_bosonic_exponents(op, \n",
    "                                op.max_bosonic_mode + 1)\n",
    "active_modes, exponents"
   ]
  },
  {
   "cell_type": "code",
   "execution_count": null,
   "metadata": {},
   "outputs": [],
   "source": [
    "op = ParticleOperator('a1^ a0 a0')\n",
    "active_indices = [0, 1]\n",
    "exponents = [(0, 2), (1, 0)]\n",
    "\n",
    "max_bose_occ = 3\n",
    "terms = op.to_list()\n",
    "\n",
    "bosonically_rescaled_terms, bosonic_rescaling_factor = bosonically_rescale_terms(terms, max_bose_occ)\n",
    "coefficients = [term.coeff for term in bosonically_rescaled_terms]\n",
    "\n",
    "norm = sum(np.abs(coefficients))\n",
    "target_state = get_target_state(coefficients)\n",
    "asp_rescaling_factor = (bosonic_rescaling_factor * norm)\n",
    "\n",
    "number_of_modes = max([term.max_mode for term in terms]) + 1\n",
    "\n",
    "number_of_ancillae = (\n",
    "    1000  # Some arbitrary large number with most ancilla disregarded\n",
    ")\n",
    "number_of_index_qubits = max(int(np.ceil(np.log2(len(terms)))), 1)\n",
    "number_of_rotation_qubits = len(active_indices)\n",
    "\n",
    "# Declare Qubits\n",
    "control = cirq.LineQubit(0)\n",
    "clean_ancillae = [cirq.LineQubit(i + 1) for i in range(number_of_ancillae)]\n",
    "\n",
    "block_encoding_ancillae = [\n",
    "    cirq.LineQubit(number_of_index_qubits + i + number_of_ancillae)\n",
    "    for i in range(number_of_rotation_qubits + 1)\n",
    "] #Index register + rotation qubits\n",
    "\n",
    "system = System(\n",
    "    number_of_modes=number_of_modes,\n",
    "    maximum_occupation_number=max_bose_occ,\n",
    "    number_of_used_qubits=1\n",
    "    + number_of_ancillae\n",
    "    + number_of_rotation_qubits\n",
    "    + number_of_index_qubits,\n",
    "    has_fermions=op.has_fermions,\n",
    "    has_antifermions=op.has_antifermions,\n",
    "    has_bosons=op.has_bosons,\n",
    ")\n",
    "gates = []\n",
    "gates.append(cirq.X.on(control))\n",
    "_gates, metrics = bosonic_product_plus_hc_block_encoding(\n",
    "    system,\n",
    "    block_encoding_ancillae,\n",
    "    active_indices,\n",
    "    exponents,\n",
    "    clean_ancillae=clean_ancillae,\n",
    "    ctrls = ([control], [1])\n",
    ")\n",
    "gates += _gates\n",
    "gates.append(cirq.X.on(control))"
   ]
  },
  {
   "cell_type": "code",
   "execution_count": null,
   "metadata": {},
   "outputs": [
    {
     "name": "stdout",
     "output_type": "stream",
     "text": [
      "Block encoding\n",
      " 1.0 * a1^ a0 a0\n",
      "1.0 * a0^ a0^ a1\n",
      "\n"
     ]
    },
    {
     "data": {
      "image/svg+xml": [
       "<svg xmlns=\"http://www.w3.org/2000/svg\" width=\"3531.4586718749997\" height=\"550.0\"><line x1=\"31.143203125000003\" x2=\"3501.4586718749997\" y1=\"25.0\" y2=\"25.0\" stroke=\"#1967d2\" stroke-width=\"1\" /><line x1=\"31.143203125000003\" x2=\"3501.4586718749997\" y1=\"75.0\" y2=\"75.0\" stroke=\"#1967d2\" stroke-width=\"1\" /><line x1=\"31.143203125000003\" x2=\"3501.4586718749997\" y1=\"125.0\" y2=\"125.0\" stroke=\"#1967d2\" stroke-width=\"1\" /><line x1=\"31.143203125000003\" x2=\"3501.4586718749997\" y1=\"175.0\" y2=\"175.0\" stroke=\"#1967d2\" stroke-width=\"1\" /><line x1=\"31.143203125000003\" x2=\"3501.4586718749997\" y1=\"225.0\" y2=\"225.0\" stroke=\"#1967d2\" stroke-width=\"1\" /><line x1=\"31.143203125000003\" x2=\"3501.4586718749997\" y1=\"275.0\" y2=\"275.0\" stroke=\"#1967d2\" stroke-width=\"1\" /><line x1=\"31.143203125000003\" x2=\"3501.4586718749997\" y1=\"325.0\" y2=\"325.0\" stroke=\"#1967d2\" stroke-width=\"1\" /><line x1=\"31.143203125000003\" x2=\"3501.4586718749997\" y1=\"375.0\" y2=\"375.0\" stroke=\"#1967d2\" stroke-width=\"1\" /><line x1=\"31.143203125000003\" x2=\"3501.4586718749997\" y1=\"425.0\" y2=\"425.0\" stroke=\"#1967d2\" stroke-width=\"1\" /><line x1=\"31.143203125000003\" x2=\"3501.4586718749997\" y1=\"475.0\" y2=\"475.0\" stroke=\"#1967d2\" stroke-width=\"1\" /><line x1=\"31.143203125000003\" x2=\"3501.4586718749997\" y1=\"525.0\" y2=\"525.0\" stroke=\"#1967d2\" stroke-width=\"1\" /><line x1=\"152.28640625\" x2=\"152.28640625\" y1=\"25.0\" y2=\"225.0\" stroke=\"black\" stroke-width=\"3\" /><line x1=\"212.28640625\" x2=\"212.28640625\" y1=\"75.0\" y2=\"375.0\" stroke=\"black\" stroke-width=\"3\" /><line x1=\"392.28640625\" x2=\"392.28640625\" y1=\"25.0\" y2=\"375.0\" stroke=\"black\" stroke-width=\"3\" /><line x1=\"452.28640625\" x2=\"452.28640625\" y1=\"25.0\" y2=\"425.0\" stroke=\"black\" stroke-width=\"3\" /><line x1=\"604.02203125\" x2=\"604.02203125\" y1=\"175.0\" y2=\"275.0\" stroke=\"black\" stroke-width=\"3\" /><line x1=\"763.5437890625001\" x2=\"763.5437890625001\" y1=\"125.0\" y2=\"275.0\" stroke=\"black\" stroke-width=\"3\" /><line x1=\"923.0655468750001\" x2=\"923.0655468750001\" y1=\"175.0\" y2=\"275.0\" stroke=\"black\" stroke-width=\"3\" /><line x1=\"1079.4632812500001\" x2=\"1079.4632812500001\" y1=\"125.0\" y2=\"275.0\" stroke=\"black\" stroke-width=\"3\" /><line x1=\"1139.4632812500001\" x2=\"1139.4632812500001\" y1=\"25.0\" y2=\"425.0\" stroke=\"black\" stroke-width=\"3\" /><line x1=\"1199.4632812500001\" x2=\"1199.4632812500001\" y1=\"25.0\" y2=\"375.0\" stroke=\"black\" stroke-width=\"3\" /><line x1=\"1281.55521484375\" x2=\"1281.55521484375\" y1=\"25.0\" y2=\"275.0\" stroke=\"black\" stroke-width=\"3\" /><line x1=\"1363.6471484375002\" x2=\"1363.6471484375002\" y1=\"75.0\" y2=\"525.0\" stroke=\"black\" stroke-width=\"3\" /><line x1=\"1423.6471484375002\" x2=\"1423.6471484375002\" y1=\"125.0\" y2=\"475.0\" stroke=\"black\" stroke-width=\"3\" /><line x1=\"1483.6471484375002\" x2=\"1483.6471484375002\" y1=\"75.0\" y2=\"525.0\" stroke=\"black\" stroke-width=\"3\" /><line x1=\"1543.6471484375002\" x2=\"1543.6471484375002\" y1=\"75.0\" y2=\"525.0\" stroke=\"black\" stroke-width=\"3\" /><line x1=\"1723.6471484375002\" x2=\"1723.6471484375002\" y1=\"25.0\" y2=\"475.0\" stroke=\"black\" stroke-width=\"3\" /><line x1=\"1783.6471484375002\" x2=\"1783.6471484375002\" y1=\"25.0\" y2=\"525.0\" stroke=\"black\" stroke-width=\"3\" /><line x1=\"1927.5966406250002\" x2=\"1927.5966406250002\" y1=\"175.0\" y2=\"325.0\" stroke=\"black\" stroke-width=\"3\" /><line x1=\"2087.1183984375\" x2=\"2087.1183984375\" y1=\"125.0\" y2=\"325.0\" stroke=\"black\" stroke-width=\"3\" /><line x1=\"2209.7329296875\" x2=\"2209.7329296875\" y1=\"175.0\" y2=\"325.0\" stroke=\"black\" stroke-width=\"3\" /><line x1=\"2369.2546875\" x2=\"2369.2546875\" y1=\"125.0\" y2=\"325.0\" stroke=\"black\" stroke-width=\"3\" /><line x1=\"2429.2546875\" x2=\"2429.2546875\" y1=\"25.0\" y2=\"525.0\" stroke=\"black\" stroke-width=\"3\" /><line x1=\"2489.2546875\" x2=\"2489.2546875\" y1=\"25.0\" y2=\"475.0\" stroke=\"black\" stroke-width=\"3\" /><line x1=\"2555.3566796874998\" x2=\"2555.3566796874998\" y1=\"25.0\" y2=\"325.0\" stroke=\"black\" stroke-width=\"3\" /><line x1=\"2621.4586718749997\" x2=\"2621.4586718749997\" y1=\"25.0\" y2=\"75.0\" stroke=\"black\" stroke-width=\"3\" /><line x1=\"2681.4586718749997\" x2=\"2681.4586718749997\" y1=\"75.0\" y2=\"375.0\" stroke=\"black\" stroke-width=\"3\" /><line x1=\"2861.4586718749997\" x2=\"2861.4586718749997\" y1=\"75.0\" y2=\"475.0\" stroke=\"black\" stroke-width=\"3\" /><line x1=\"3041.4586718749997\" x2=\"3041.4586718749997\" y1=\"75.0\" y2=\"525.0\" stroke=\"black\" stroke-width=\"3\" /><line x1=\"3101.4586718749997\" x2=\"3101.4586718749997\" y1=\"125.0\" y2=\"475.0\" stroke=\"black\" stroke-width=\"3\" /><line x1=\"3161.4586718749997\" x2=\"3161.4586718749997\" y1=\"75.0\" y2=\"525.0\" stroke=\"black\" stroke-width=\"3\" /><line x1=\"3221.4586718749997\" x2=\"3221.4586718749997\" y1=\"75.0\" y2=\"525.0\" stroke=\"black\" stroke-width=\"3\" /><line x1=\"3401.4586718749997\" x2=\"3401.4586718749997\" y1=\"25.0\" y2=\"225.0\" stroke=\"black\" stroke-width=\"3\" /><rect x=\"10.0\" y=\"5.0\" width=\"42.286406250000006\" height=\"40\" stroke=\"black\" fill=\"white\" stroke-width=\"0\" /><text x=\"31.143203125000003\" y=\"25.0\" dominant-baseline=\"middle\" text-anchor=\"middle\" font-size=\"14px\" font-family=\"Arial\">0: </text><rect x=\"10.0\" y=\"55.0\" width=\"42.286406250000006\" height=\"40\" stroke=\"black\" fill=\"white\" stroke-width=\"0\" /><text x=\"31.143203125000003\" y=\"75.0\" dominant-baseline=\"middle\" text-anchor=\"middle\" font-size=\"14px\" font-family=\"Arial\">1: </text><rect x=\"10.0\" y=\"105.0\" width=\"42.286406250000006\" height=\"40\" stroke=\"black\" fill=\"white\" stroke-width=\"0\" /><text x=\"31.143203125000003\" y=\"125.0\" dominant-baseline=\"middle\" text-anchor=\"middle\" font-size=\"14px\" font-family=\"Arial\">2: </text><rect x=\"10.0\" y=\"155.0\" width=\"42.286406250000006\" height=\"40\" stroke=\"black\" fill=\"white\" stroke-width=\"0\" /><text x=\"31.143203125000003\" y=\"175.0\" dominant-baseline=\"middle\" text-anchor=\"middle\" font-size=\"14px\" font-family=\"Arial\">3: </text><rect x=\"10.0\" y=\"205.0\" width=\"42.286406250000006\" height=\"40\" stroke=\"black\" fill=\"white\" stroke-width=\"0\" /><text x=\"31.143203125000003\" y=\"225.0\" dominant-baseline=\"middle\" text-anchor=\"middle\" font-size=\"14px\" font-family=\"Arial\">1001: </text><rect x=\"10.0\" y=\"255.0\" width=\"42.286406250000006\" height=\"40\" stroke=\"black\" fill=\"white\" stroke-width=\"0\" /><text x=\"31.143203125000003\" y=\"275.0\" dominant-baseline=\"middle\" text-anchor=\"middle\" font-size=\"14px\" font-family=\"Arial\">1002: </text><rect x=\"10.0\" y=\"305.0\" width=\"42.286406250000006\" height=\"40\" stroke=\"black\" fill=\"white\" stroke-width=\"0\" /><text x=\"31.143203125000003\" y=\"325.0\" dominant-baseline=\"middle\" text-anchor=\"middle\" font-size=\"14px\" font-family=\"Arial\">1003: </text><rect x=\"10.0\" y=\"355.0\" width=\"42.286406250000006\" height=\"40\" stroke=\"black\" fill=\"white\" stroke-width=\"0\" /><text x=\"31.143203125000003\" y=\"375.0\" dominant-baseline=\"middle\" text-anchor=\"middle\" font-size=\"14px\" font-family=\"Arial\">1004: </text><rect x=\"10.0\" y=\"405.0\" width=\"42.286406250000006\" height=\"40\" stroke=\"black\" fill=\"white\" stroke-width=\"0\" /><text x=\"31.143203125000003\" y=\"425.0\" dominant-baseline=\"middle\" text-anchor=\"middle\" font-size=\"14px\" font-family=\"Arial\">1005: </text><rect x=\"10.0\" y=\"455.0\" width=\"42.286406250000006\" height=\"40\" stroke=\"black\" fill=\"white\" stroke-width=\"0\" /><text x=\"31.143203125000003\" y=\"475.0\" dominant-baseline=\"middle\" text-anchor=\"middle\" font-size=\"14px\" font-family=\"Arial\">1006: </text><rect x=\"10.0\" y=\"505.0\" width=\"42.286406250000006\" height=\"40\" stroke=\"black\" fill=\"white\" stroke-width=\"0\" /><text x=\"31.143203125000003\" y=\"525.0\" dominant-baseline=\"middle\" text-anchor=\"middle\" font-size=\"14px\" font-family=\"Arial\">1007: </text><rect x=\"72.28640625\" y=\"5.0\" width=\"40\" height=\"40\" stroke=\"black\" fill=\"white\" stroke-width=\"1\" /><text x=\"92.28640625\" y=\"25.0\" dominant-baseline=\"middle\" text-anchor=\"middle\" font-size=\"18px\" font-family=\"Arial\">X</text><rect x=\"72.28640625\" y=\"205.0\" width=\"40\" height=\"40\" stroke=\"black\" fill=\"white\" stroke-width=\"1\" /><text x=\"92.28640625\" y=\"225.0\" dominant-baseline=\"middle\" text-anchor=\"middle\" font-size=\"18px\" font-family=\"Arial\">H</text><circle cx=\"152.28640625\" cy=\"25.0\" r=\"10.0\" /><rect x=\"132.28640625\" y=\"205.0\" width=\"40\" height=\"40\" stroke=\"black\" fill=\"white\" stroke-width=\"1\" /><text x=\"152.28640625\" y=\"225.0\" dominant-baseline=\"middle\" text-anchor=\"middle\" font-size=\"14px\" font-family=\"Arial\">(0)</text><rect x=\"132.28640625\" y=\"55.0\" width=\"40\" height=\"40\" stroke=\"black\" fill=\"white\" stroke-width=\"1\" /><text x=\"152.28640625\" y=\"75.0\" dominant-baseline=\"middle\" text-anchor=\"middle\" font-size=\"18px\" font-family=\"Arial\">X</text><circle cx=\"212.28640625\" cy=\"75.0\" r=\"10.0\" /><rect x=\"192.28640625\" y=\"355.0\" width=\"40\" height=\"40\" stroke=\"black\" fill=\"white\" stroke-width=\"1\" /><text x=\"212.28640625\" y=\"375.0\" dominant-baseline=\"middle\" text-anchor=\"middle\" font-size=\"18px\" font-family=\"Arial\">X</text><rect x=\"252.28640625000003\" y=\"55.0\" width=\"40\" height=\"40\" stroke=\"black\" fill=\"white\" stroke-width=\"1\" /><text x=\"272.28640625\" y=\"75.0\" dominant-baseline=\"middle\" text-anchor=\"middle\" font-size=\"18px\" font-family=\"Arial\">X</text><rect x=\"312.28640625\" y=\"55.0\" width=\"40\" height=\"40\" stroke=\"black\" fill=\"white\" stroke-width=\"1\" /><text x=\"332.28640625\" y=\"75.0\" dominant-baseline=\"middle\" text-anchor=\"middle\" font-size=\"18px\" font-family=\"Arial\">X</text><circle cx=\"392.28640625\" cy=\"25.0\" r=\"10.0\" /><circle cx=\"392.28640625\" cy=\"375.0\" r=\"10.0\" /><rect x=\"372.28640625\" y=\"105.0\" width=\"40\" height=\"40\" stroke=\"black\" fill=\"white\" stroke-width=\"1\" /><text x=\"392.28640625\" y=\"125.0\" dominant-baseline=\"middle\" text-anchor=\"middle\" font-size=\"18px\" font-family=\"Arial\">X</text><circle cx=\"452.28640625\" cy=\"25.0\" r=\"10.0\" /><circle cx=\"452.28640625\" cy=\"425.0\" r=\"10.0\" /><rect x=\"432.28640625\" y=\"155.0\" width=\"40\" height=\"40\" stroke=\"black\" fill=\"white\" stroke-width=\"1\" /><text x=\"452.28640625\" y=\"175.0\" dominant-baseline=\"middle\" text-anchor=\"middle\" font-size=\"18px\" font-family=\"Arial\">X</text><rect x=\"492.28640625\" y=\"255.0\" width=\"71.735625\" height=\"40\" stroke=\"black\" fill=\"white\" stroke-width=\"1\" /><text x=\"528.15421875\" y=\"275.0\" dominant-baseline=\"middle\" text-anchor=\"middle\" font-size=\"14px\" font-family=\"Arial\">Ry(0.77π)</text><circle cx=\"604.02203125\" cy=\"175.0\" r=\"10.0\" /><rect x=\"584.02203125\" y=\"255.0\" width=\"40\" height=\"40\" stroke=\"black\" fill=\"white\" stroke-width=\"1\" /><text x=\"604.02203125\" y=\"275.0\" dominant-baseline=\"middle\" text-anchor=\"middle\" font-size=\"18px\" font-family=\"Arial\">X</text><rect x=\"644.02203125\" y=\"255.0\" width=\"79.5217578125\" height=\"40\" stroke=\"black\" fill=\"white\" stroke-width=\"1\" /><text x=\"683.7829101562501\" y=\"275.0\" dominant-baseline=\"middle\" text-anchor=\"middle\" font-size=\"14px\" font-family=\"Arial\">Ry(0.074π)</text><circle cx=\"763.5437890625001\" cy=\"125.0\" r=\"10.0\" /><rect x=\"743.5437890625001\" y=\"255.0\" width=\"40\" height=\"40\" stroke=\"black\" fill=\"white\" stroke-width=\"1\" /><text x=\"763.5437890625001\" y=\"275.0\" dominant-baseline=\"middle\" text-anchor=\"middle\" font-size=\"18px\" font-family=\"Arial\">X</text><rect x=\"803.5437890625001\" y=\"255.0\" width=\"79.5217578125\" height=\"40\" stroke=\"black\" fill=\"white\" stroke-width=\"1\" /><text x=\"843.3046679687501\" y=\"275.0\" dominant-baseline=\"middle\" text-anchor=\"middle\" font-size=\"14px\" font-family=\"Arial\">Ry(0.074π)</text><circle cx=\"923.0655468750001\" cy=\"175.0\" r=\"10.0\" /><rect x=\"903.0655468750001\" y=\"255.0\" width=\"40\" height=\"40\" stroke=\"black\" fill=\"white\" stroke-width=\"1\" /><text x=\"923.0655468750001\" y=\"275.0\" dominant-baseline=\"middle\" text-anchor=\"middle\" font-size=\"18px\" font-family=\"Arial\">X</text><rect x=\"963.0655468750001\" y=\"255.0\" width=\"76.397734375\" height=\"40\" stroke=\"black\" fill=\"white\" stroke-width=\"1\" /><text x=\"1001.2644140625001\" y=\"275.0\" dominant-baseline=\"middle\" text-anchor=\"middle\" font-size=\"14px\" font-family=\"Arial\">Ry(-0.23π)</text><circle cx=\"1079.4632812500001\" cy=\"125.0\" r=\"10.0\" /><rect x=\"1059.4632812500001\" y=\"255.0\" width=\"40\" height=\"40\" stroke=\"black\" fill=\"white\" stroke-width=\"1\" /><text x=\"1079.4632812500001\" y=\"275.0\" dominant-baseline=\"middle\" text-anchor=\"middle\" font-size=\"18px\" font-family=\"Arial\">X</text><circle cx=\"1139.4632812500001\" cy=\"25.0\" r=\"10.0\" /><circle cx=\"1139.4632812500001\" cy=\"425.0\" r=\"10.0\" /><rect x=\"1119.4632812500001\" y=\"155.0\" width=\"40\" height=\"40\" stroke=\"black\" fill=\"white\" stroke-width=\"1\" /><text x=\"1139.4632812500001\" y=\"175.0\" dominant-baseline=\"middle\" text-anchor=\"middle\" font-size=\"18px\" font-family=\"Arial\">X</text><circle cx=\"1199.4632812500001\" cy=\"25.0\" r=\"10.0\" /><circle cx=\"1199.4632812500001\" cy=\"375.0\" r=\"10.0\" /><rect x=\"1179.4632812500001\" y=\"105.0\" width=\"40\" height=\"40\" stroke=\"black\" fill=\"white\" stroke-width=\"1\" /><text x=\"1199.4632812500001\" y=\"125.0\" dominant-baseline=\"middle\" text-anchor=\"middle\" font-size=\"18px\" font-family=\"Arial\">X</text><rect x=\"1239.4632812500001\" y=\"5.0\" width=\"84.18386718750001\" height=\"40\" stroke=\"black\" fill=\"white\" stroke-width=\"1\" /><text x=\"1281.55521484375\" y=\"25.0\" dominant-baseline=\"middle\" text-anchor=\"middle\" font-size=\"14px\" font-family=\"Arial\">(False)</text><rect x=\"1239.4632812500001\" y=\"255.0\" width=\"84.18386718750001\" height=\"40\" stroke=\"black\" fill=\"white\" stroke-width=\"1\" /><text x=\"1281.55521484375\" y=\"275.0\" dominant-baseline=\"middle\" text-anchor=\"middle\" font-size=\"14px\" font-family=\"Arial\">Ry(-0.687π)</text><circle cx=\"1363.6471484375002\" cy=\"75.0\" r=\"10.0\" /><circle cx=\"1363.6471484375002\" cy=\"525.0\" r=\"10.0\" /><rect x=\"1343.6471484375002\" y=\"105.0\" width=\"40\" height=\"40\" stroke=\"black\" fill=\"white\" stroke-width=\"1\" /><text x=\"1363.6471484375002\" y=\"125.0\" dominant-baseline=\"middle\" text-anchor=\"middle\" font-size=\"18px\" font-family=\"Arial\">X</text><circle cx=\"1423.6471484375002\" cy=\"125.0\" r=\"10.0\" /><rect x=\"1403.6471484375002\" y=\"455.0\" width=\"40\" height=\"40\" stroke=\"black\" fill=\"white\" stroke-width=\"1\" /><text x=\"1423.6471484375002\" y=\"475.0\" dominant-baseline=\"middle\" text-anchor=\"middle\" font-size=\"18px\" font-family=\"Arial\">X</text><circle cx=\"1483.6471484375002\" cy=\"75.0\" r=\"10.0\" /><circle cx=\"1483.6471484375002\" cy=\"525.0\" r=\"10.0\" /><rect x=\"1463.6471484375002\" y=\"105.0\" width=\"40\" height=\"40\" stroke=\"black\" fill=\"white\" stroke-width=\"1\" /><text x=\"1483.6471484375002\" y=\"125.0\" dominant-baseline=\"middle\" text-anchor=\"middle\" font-size=\"18px\" font-family=\"Arial\">X</text><circle cx=\"1543.6471484375002\" cy=\"75.0\" r=\"10.0\" /><rect x=\"1523.6471484375002\" y=\"505.0\" width=\"40\" height=\"40\" stroke=\"black\" fill=\"white\" stroke-width=\"1\" /><text x=\"1543.6471484375002\" y=\"525.0\" dominant-baseline=\"middle\" text-anchor=\"middle\" font-size=\"18px\" font-family=\"Arial\">X</text><rect x=\"1583.6471484375002\" y=\"55.0\" width=\"40\" height=\"40\" stroke=\"black\" fill=\"white\" stroke-width=\"1\" /><text x=\"1603.6471484375002\" y=\"75.0\" dominant-baseline=\"middle\" text-anchor=\"middle\" font-size=\"18px\" font-family=\"Arial\">X</text><rect x=\"1643.6471484375002\" y=\"55.0\" width=\"40\" height=\"40\" stroke=\"black\" fill=\"white\" stroke-width=\"1\" /><text x=\"1663.6471484375002\" y=\"75.0\" dominant-baseline=\"middle\" text-anchor=\"middle\" font-size=\"18px\" font-family=\"Arial\">X</text><circle cx=\"1723.6471484375002\" cy=\"25.0\" r=\"10.0\" /><circle cx=\"1723.6471484375002\" cy=\"475.0\" r=\"10.0\" /><rect x=\"1703.6471484375002\" y=\"105.0\" width=\"40\" height=\"40\" stroke=\"black\" fill=\"white\" stroke-width=\"1\" /><text x=\"1723.6471484375002\" y=\"125.0\" dominant-baseline=\"middle\" text-anchor=\"middle\" font-size=\"18px\" font-family=\"Arial\">X</text><circle cx=\"1783.6471484375002\" cy=\"25.0\" r=\"10.0\" /><circle cx=\"1783.6471484375002\" cy=\"525.0\" r=\"10.0\" /><rect x=\"1763.6471484375002\" y=\"155.0\" width=\"40\" height=\"40\" stroke=\"black\" fill=\"white\" stroke-width=\"1\" /><text x=\"1783.6471484375002\" y=\"175.0\" dominant-baseline=\"middle\" text-anchor=\"middle\" font-size=\"18px\" font-family=\"Arial\">X</text><rect x=\"1823.6471484375002\" y=\"305.0\" width=\"63.9494921875\" height=\"40\" stroke=\"black\" fill=\"white\" stroke-width=\"1\" /><text x=\"1855.62189453125\" y=\"325.0\" dominant-baseline=\"middle\" text-anchor=\"middle\" font-size=\"14px\" font-family=\"Arial\">Ry(0.5π)</text><circle cx=\"1927.5966406250002\" cy=\"175.0\" r=\"10.0\" /><rect x=\"1907.5966406250002\" y=\"305.0\" width=\"40\" height=\"40\" stroke=\"black\" fill=\"white\" stroke-width=\"1\" /><text x=\"1927.5966406250002\" y=\"325.0\" dominant-baseline=\"middle\" text-anchor=\"middle\" font-size=\"18px\" font-family=\"Arial\">X</text><rect x=\"1967.5966406250002\" y=\"305.0\" width=\"79.5217578125\" height=\"40\" stroke=\"black\" fill=\"white\" stroke-width=\"1\" /><text x=\"2007.35751953125\" y=\"325.0\" dominant-baseline=\"middle\" text-anchor=\"middle\" font-size=\"14px\" font-family=\"Arial\">Ry(0.196π)</text><circle cx=\"2087.1183984375\" cy=\"125.0\" r=\"10.0\" /><rect x=\"2067.1183984375\" y=\"305.0\" width=\"40\" height=\"40\" stroke=\"black\" fill=\"white\" stroke-width=\"1\" /><text x=\"2087.1183984375\" y=\"325.0\" dominant-baseline=\"middle\" text-anchor=\"middle\" font-size=\"18px\" font-family=\"Arial\">X</text><rect x=\"2127.1183984375\" y=\"305.0\" width=\"42.61453125\" height=\"40\" stroke=\"black\" fill=\"white\" stroke-width=\"1\" /><text x=\"2148.4256640625003\" y=\"325.0\" dominant-baseline=\"middle\" text-anchor=\"middle\" font-size=\"14px\" font-family=\"Arial\">Ry(0)</text><circle cx=\"2209.7329296875\" cy=\"175.0\" r=\"10.0\" /><rect x=\"2189.7329296875\" y=\"305.0\" width=\"40\" height=\"40\" stroke=\"black\" fill=\"white\" stroke-width=\"1\" /><text x=\"2209.7329296875\" y=\"325.0\" dominant-baseline=\"middle\" text-anchor=\"middle\" font-size=\"18px\" font-family=\"Arial\">X</text><rect x=\"2249.7329296875\" y=\"305.0\" width=\"79.5217578125\" height=\"40\" stroke=\"black\" fill=\"white\" stroke-width=\"1\" /><text x=\"2289.49380859375\" y=\"325.0\" dominant-baseline=\"middle\" text-anchor=\"middle\" font-size=\"14px\" font-family=\"Arial\">Ry(0.304π)</text><circle cx=\"2369.2546875\" cy=\"125.0\" r=\"10.0\" /><rect x=\"2349.2546875\" y=\"305.0\" width=\"40\" height=\"40\" stroke=\"black\" fill=\"white\" stroke-width=\"1\" /><text x=\"2369.2546875\" y=\"325.0\" dominant-baseline=\"middle\" text-anchor=\"middle\" font-size=\"18px\" font-family=\"Arial\">X</text><circle cx=\"2429.2546875\" cy=\"25.0\" r=\"10.0\" /><circle cx=\"2429.2546875\" cy=\"525.0\" r=\"10.0\" /><rect x=\"2409.2546875\" y=\"155.0\" width=\"40\" height=\"40\" stroke=\"black\" fill=\"white\" stroke-width=\"1\" /><text x=\"2429.2546875\" y=\"175.0\" dominant-baseline=\"middle\" text-anchor=\"middle\" font-size=\"18px\" font-family=\"Arial\">X</text><circle cx=\"2489.2546875\" cy=\"25.0\" r=\"10.0\" /><circle cx=\"2489.2546875\" cy=\"475.0\" r=\"10.0\" /><rect x=\"2469.2546875\" y=\"105.0\" width=\"40\" height=\"40\" stroke=\"black\" fill=\"white\" stroke-width=\"1\" /><text x=\"2489.2546875\" y=\"125.0\" dominant-baseline=\"middle\" text-anchor=\"middle\" font-size=\"18px\" font-family=\"Arial\">X</text><rect x=\"2529.2546875\" y=\"5.0\" width=\"52.203984375000005\" height=\"40\" stroke=\"black\" fill=\"white\" stroke-width=\"1\" /><text x=\"2555.3566796874998\" y=\"25.0\" dominant-baseline=\"middle\" text-anchor=\"middle\" font-size=\"14px\" font-family=\"Arial\">(False)</text><rect x=\"2529.2546875\" y=\"305.0\" width=\"52.203984375000005\" height=\"40\" stroke=\"black\" fill=\"white\" stroke-width=\"1\" /><text x=\"2555.3566796874998\" y=\"325.0\" dominant-baseline=\"middle\" text-anchor=\"middle\" font-size=\"14px\" font-family=\"Arial\">Ry(-π)</text><circle cx=\"2621.4586718749997\" cy=\"25.0\" r=\"10.0\" /><rect x=\"2601.4586718749997\" y=\"55.0\" width=\"40\" height=\"40\" stroke=\"black\" fill=\"white\" stroke-width=\"1\" /><text x=\"2621.4586718749997\" y=\"75.0\" dominant-baseline=\"middle\" text-anchor=\"middle\" font-size=\"18px\" font-family=\"Arial\">X</text><circle cx=\"2681.4586718749997\" cy=\"75.0\" r=\"10.0\" /><rect x=\"2661.4586718749997\" y=\"355.0\" width=\"40\" height=\"40\" stroke=\"black\" fill=\"white\" stroke-width=\"1\" /><text x=\"2681.4586718749997\" y=\"375.0\" dominant-baseline=\"middle\" text-anchor=\"middle\" font-size=\"18px\" font-family=\"Arial\">X</text><rect x=\"2721.4586718749997\" y=\"55.0\" width=\"40\" height=\"40\" stroke=\"black\" fill=\"white\" stroke-width=\"1\" /><text x=\"2741.4586718749997\" y=\"75.0\" dominant-baseline=\"middle\" text-anchor=\"middle\" font-size=\"18px\" font-family=\"Arial\">X</text><rect x=\"2781.4586718749997\" y=\"55.0\" width=\"40\" height=\"40\" stroke=\"black\" fill=\"white\" stroke-width=\"1\" /><text x=\"2801.4586718749997\" y=\"75.0\" dominant-baseline=\"middle\" text-anchor=\"middle\" font-size=\"18px\" font-family=\"Arial\">X</text><circle cx=\"2861.4586718749997\" cy=\"75.0\" r=\"10.0\" /><rect x=\"2841.4586718749997\" y=\"455.0\" width=\"40\" height=\"40\" stroke=\"black\" fill=\"white\" stroke-width=\"1\" /><text x=\"2861.4586718749997\" y=\"475.0\" dominant-baseline=\"middle\" text-anchor=\"middle\" font-size=\"18px\" font-family=\"Arial\">X</text><rect x=\"2901.4586718749997\" y=\"55.0\" width=\"40\" height=\"40\" stroke=\"black\" fill=\"white\" stroke-width=\"1\" /><text x=\"2921.4586718749997\" y=\"75.0\" dominant-baseline=\"middle\" text-anchor=\"middle\" font-size=\"18px\" font-family=\"Arial\">X</text><rect x=\"2961.4586718749997\" y=\"55.0\" width=\"40\" height=\"40\" stroke=\"black\" fill=\"white\" stroke-width=\"1\" /><text x=\"2981.4586718749997\" y=\"75.0\" dominant-baseline=\"middle\" text-anchor=\"middle\" font-size=\"18px\" font-family=\"Arial\">X</text><circle cx=\"3041.4586718749997\" cy=\"75.0\" r=\"10.0\" /><circle cx=\"3041.4586718749997\" cy=\"525.0\" r=\"10.0\" /><rect x=\"3021.4586718749997\" y=\"105.0\" width=\"40\" height=\"40\" stroke=\"black\" fill=\"white\" stroke-width=\"1\" /><text x=\"3041.4586718749997\" y=\"125.0\" dominant-baseline=\"middle\" text-anchor=\"middle\" font-size=\"18px\" font-family=\"Arial\">X</text><circle cx=\"3101.4586718749997\" cy=\"125.0\" r=\"10.0\" /><rect x=\"3081.4586718749997\" y=\"455.0\" width=\"40\" height=\"40\" stroke=\"black\" fill=\"white\" stroke-width=\"1\" /><text x=\"3101.4586718749997\" y=\"475.0\" dominant-baseline=\"middle\" text-anchor=\"middle\" font-size=\"18px\" font-family=\"Arial\">X</text><circle cx=\"3161.4586718749997\" cy=\"75.0\" r=\"10.0\" /><circle cx=\"3161.4586718749997\" cy=\"525.0\" r=\"10.0\" /><rect x=\"3141.4586718749997\" y=\"105.0\" width=\"40\" height=\"40\" stroke=\"black\" fill=\"white\" stroke-width=\"1\" /><text x=\"3161.4586718749997\" y=\"125.0\" dominant-baseline=\"middle\" text-anchor=\"middle\" font-size=\"18px\" font-family=\"Arial\">X</text><circle cx=\"3221.4586718749997\" cy=\"75.0\" r=\"10.0\" /><rect x=\"3201.4586718749997\" y=\"505.0\" width=\"40\" height=\"40\" stroke=\"black\" fill=\"white\" stroke-width=\"1\" /><text x=\"3221.4586718749997\" y=\"525.0\" dominant-baseline=\"middle\" text-anchor=\"middle\" font-size=\"18px\" font-family=\"Arial\">X</text><rect x=\"3261.4586718749997\" y=\"55.0\" width=\"40\" height=\"40\" stroke=\"black\" fill=\"white\" stroke-width=\"1\" /><text x=\"3281.4586718749997\" y=\"75.0\" dominant-baseline=\"middle\" text-anchor=\"middle\" font-size=\"18px\" font-family=\"Arial\">X</text><rect x=\"3321.4586718749997\" y=\"55.0\" width=\"40\" height=\"40\" stroke=\"black\" fill=\"white\" stroke-width=\"1\" /><text x=\"3341.4586718749997\" y=\"75.0\" dominant-baseline=\"middle\" text-anchor=\"middle\" font-size=\"18px\" font-family=\"Arial\">X</text><circle cx=\"3401.4586718749997\" cy=\"25.0\" r=\"10.0\" /><circle cx=\"3401.4586718749997\" cy=\"225.0\" r=\"10.0\" /><rect x=\"3381.4586718749997\" y=\"55.0\" width=\"40\" height=\"40\" stroke=\"black\" fill=\"white\" stroke-width=\"1\" /><text x=\"3401.4586718749997\" y=\"75.0\" dominant-baseline=\"middle\" text-anchor=\"middle\" font-size=\"18px\" font-family=\"Arial\">X</text><rect x=\"3441.4586718749997\" y=\"205.0\" width=\"40\" height=\"40\" stroke=\"black\" fill=\"white\" stroke-width=\"1\" /><text x=\"3461.4586718749997\" y=\"225.0\" dominant-baseline=\"middle\" text-anchor=\"middle\" font-size=\"18px\" font-family=\"Arial\">H</text><rect x=\"3441.4586718749997\" y=\"5.0\" width=\"40\" height=\"40\" stroke=\"black\" fill=\"white\" stroke-width=\"1\" /><text x=\"3461.4586718749997\" y=\"25.0\" dominant-baseline=\"middle\" text-anchor=\"middle\" font-size=\"18px\" font-family=\"Arial\">X</text></svg>"
      ],
      "text/plain": [
       "<cirq.contrib.svg.svg.SVGCircuit at 0x1768c9a10>"
      ]
     },
     "execution_count": 7,
     "metadata": {},
     "output_type": "execute_result"
    }
   ],
   "source": [
    "print(\"Block encoding\\n\", op + op.dagger())\n",
    "SVGCircuit(cirq.Circuit(gates))"
   ]
  },
  {
   "cell_type": "code",
   "execution_count": null,
   "metadata": {},
   "outputs": [],
   "source": [
    "unitary_rescaling_factor = 2 * np.sqrt(max_bose_occ)**sum(sum(np.asarray(exponents)))\n",
    "\n",
    "unitary = cirq.Circuit(gates).unitary()[\n",
    "    :1<<system.number_of_system_qubits, :1<<system.number_of_system_qubits\n",
    "] * unitary_rescaling_factor"
   ]
  },
  {
   "cell_type": "code",
   "execution_count": null,
   "metadata": {},
   "outputs": [],
   "source": [
    "basis_1 = get_fock_basis(op + op.dagger(), max_bose_occ=max_bose_occ)\n",
    "basis = get_basis_of_full_system(2, max_bose_occ, False, False, True)\n",
    "matrix = generate_matrix(op + op.dagger(), basis)"
   ]
  },
  {
   "cell_type": "code",
   "execution_count": null,
   "metadata": {},
   "outputs": [
    {
     "data": {
      "text/plain": [
       "True"
      ]
     },
     "execution_count": 17,
     "metadata": {},
     "output_type": "execute_result"
    }
   ],
   "source": [
    "np.allclose(unitary, matrix)"
   ]
  }
 ],
 "metadata": {
  "kernelspec": {
   "display_name": "openparticle",
   "language": "python",
   "name": "python3"
  },
  "language_info": {
   "codemirror_mode": {
    "name": "ipython",
    "version": 3
   },
   "file_extension": ".py",
   "mimetype": "text/x-python",
   "name": "python",
   "nbconvert_exporter": "python",
   "pygments_lexer": "ipython3",
   "version": "3.11.11"
  },
  "orig_nbformat": 4
 },
 "nbformat": 4,
 "nbformat_minor": 2
}
