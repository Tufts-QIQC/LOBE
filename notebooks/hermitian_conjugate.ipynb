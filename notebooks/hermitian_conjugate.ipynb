{
 "cells": [
  {
   "cell_type": "code",
   "execution_count": 119,
   "metadata": {},
   "outputs": [],
   "source": [
    "from openparticle.qubit_mappings import op_qubit_map\n",
    "from openparticle import ParticleOperator, Fock\n",
    "from openparticle.hamiltonians.yukawa_hamiltonians import yukawa_Hamiltonian\n",
    "from openparticle.utils import get_fock_basis, generate_matrix\n",
    "import numpy as np\n",
    "import cirq\n",
    "import matplotlib.pyplot as plt\n",
    "\n",
    "from random import sample\n",
    "\n",
    "import sys, os\n",
    "sys.path.append(os.path.join(os.path.dirname(os.path.realpath('__file__')), '..'))\n",
    "from src.lobe.asp import get_target_state, add_prepare_circuit\n",
    "from src.lobe.rescale import bosonically_rescale_terms, get_numbers_of_bosonic_operators_in_terms, get_number_of_active_bosonic_modes\n",
    "from src.lobe.system import System\n",
    "from src.lobe.lobe_circuit import lobe_circuit\n",
    "from src.lobe.block_encoding import add_lobe_oracle\n",
    "from src.lobe.lcu import LCU\n",
    "from src.lobe.addition import add_classical_value_incrementers\n",
    "from src.lobe.multiplexed_rotations import get_decomposed_multiplexed_rotation_circuit\n",
    "from colors import *\n",
    "from symmer import PauliwordOp"
   ]
  },
  {
   "cell_type": "code",
   "execution_count": 11,
   "metadata": {},
   "outputs": [],
   "source": [
    "def generate_circuit(operator):\n",
    "\n",
    "    terms = operator.to_list()\n",
    "\n",
    "    bosonically_rescaled_terms, bosonic_rescaling_factor = bosonically_rescale_terms(terms, 1)\n",
    "    coefficients = [term.coeff for term in bosonically_rescaled_terms]\n",
    "\n",
    "    norm = sum(np.abs(coefficients))\n",
    "    target_state = get_target_state(coefficients)\n",
    "    asp_rescaling_factor = (bosonic_rescaling_factor * norm)\n",
    "\n",
    "    number_of_modes = max([term.max_mode() for term in terms]) + 1\n",
    "\n",
    "    number_of_ancillae = (\n",
    "        1000  # Some arbitrary large number with most ancilla disregarded\n",
    "    )\n",
    "    number_of_index_qubits = max(int(np.ceil(np.log2(len(terms)))), 1)\n",
    "    number_of_rotation_qubits = max(get_number_of_active_bosonic_modes(terms)) + 1\n",
    "    \n",
    "\n",
    "\n",
    "    # Declare Qubits\n",
    "    validation = cirq.LineQubit(0)\n",
    "    clean_ancillae = [cirq.LineQubit(i + 1) for i in range(number_of_ancillae)]\n",
    "    rotation_qubits = [\n",
    "        cirq.LineQubit(i + 1 + number_of_ancillae)\n",
    "        for i in range(number_of_rotation_qubits)\n",
    "    ]\n",
    "    index_register = [\n",
    "        cirq.LineQubit(i + 1 + number_of_ancillae + number_of_rotation_qubits)\n",
    "        for i in range(number_of_index_qubits)\n",
    "    ]\n",
    "    system = System(\n",
    "        number_of_modes=number_of_modes,\n",
    "        maximum_occupation_number=1,\n",
    "        number_of_used_qubits=1\n",
    "        + number_of_ancillae\n",
    "        + number_of_rotation_qubits\n",
    "        + number_of_index_qubits,\n",
    "        has_fermions=operator.has_fermions,\n",
    "        has_antifermions=operator.has_antifermions,\n",
    "        has_bosons=operator.has_bosons,\n",
    "    )\n",
    "\n",
    "    #### ASP Circuit Generation\n",
    "    ASP_numerics = {\n",
    "        \"left_elbows\": 0,\n",
    "        \"right_elbows\": 0,\n",
    "        \"rotations\": 0,\n",
    "        \"ancillae_tracker\": [1 + number_of_rotation_qubits - 1 + number_of_index_qubits],\n",
    "        \"angles\": [],\n",
    "        \"number_of_nonclifford_rotations\": 0,\n",
    "        \"rescaling_factor\": asp_rescaling_factor,\n",
    "        \"number_of_modes\": number_of_modes,\n",
    "        \"maximum_bosonic_occupation\": 1,\n",
    "        \"maximum_number_of_active_bosonic_modes\": number_of_rotation_qubits - 1,\n",
    "        \"number_of_terms\": len(terms)\n",
    "    }\n",
    "    circuit = cirq.Circuit()\n",
    "    circuit.append(cirq.I.on_each(*system.fermionic_register))\n",
    "    circuit.append(cirq.I.on_each(*system.antifermionic_register))\n",
    "    for bosonic_reg in system.bosonic_system:\n",
    "        circuit.append(cirq.I.on_each(*bosonic_reg))\n",
    "    circuit.append(cirq.X.on(validation))\n",
    "    circuit += add_prepare_circuit(\n",
    "        index_register,\n",
    "        target_state=target_state,\n",
    "        numerics=ASP_numerics,\n",
    "        clean_ancillae=clean_ancillae\n",
    "    )\n",
    "    circuit += add_lobe_oracle(\n",
    "        bosonically_rescaled_terms,\n",
    "        validation,\n",
    "        index_register,\n",
    "        system,\n",
    "        rotation_qubits,\n",
    "        clean_ancillae,\n",
    "        perform_coefficient_oracle=False,\n",
    "        numerics=ASP_numerics,\n",
    "    )\n",
    "    circuit += add_prepare_circuit(\n",
    "        index_register,\n",
    "        target_state=target_state,\n",
    "        dagger=True,\n",
    "        numerics=ASP_numerics,\n",
    "        clean_ancillae=clean_ancillae\n",
    "    )\n",
    "    ASP_numerics[\"number_of_ancillae\"] = max(ASP_numerics[\"ancillae_tracker\"])\n",
    "    ASP_numerics[\"number_of_qubits\"] = max(ASP_numerics[\"ancillae_tracker\"]) + system.number_of_system_qubits\n",
    "    for angle in ASP_numerics[\"angles\"]:\n",
    "        angle = np.abs(angle)\n",
    "        if not np.isclose(angle%np.pi/4, 0):\n",
    "            ASP_numerics[\"number_of_nonclifford_rotations\"] += 1\n",
    "    \n",
    "    return {\n",
    "        \"ASP\": ASP_numerics \n",
    "    }"
   ]
  },
  {
   "cell_type": "code",
   "execution_count": 18,
   "metadata": {},
   "outputs": [
    {
     "data": {
      "text/html": [
       "<pre style=\"overflow: auto; white-space: pre;\">0: ──────X─────────────@───X───────(0)─────────────────────@─────X───────(0)───────────────────\n",
       "                       │   │       │                       │     │       │\n",
       "1: ────────────────────X───@───@───X───────────────────────X─────@───@───X─────────────────────\n",
       "                       │       │   │                       │         │   │\n",
       "2: ──────────────X─────@───────┼───@─────@───────X─────X───@─────────┼───@─────@───────X───────\n",
       "                 │     │       │         │       │     │   │         │         │       │\n",
       "1001: ───────────┼─────┼───────┼─────────Ry(0)───┼─────┼───┼─────────┼─────────Ry(0)───┼───────\n",
       "                 │     │       │                 │     │   │         │                 │\n",
       "1002: ───────H───(0)───┼───────┼─────────────────(0)───@───┼─────────┼─────────────────@───H───\n",
       "                       │       │                           │         │\n",
       "1003: ───I─────────────@───────X───────────────────────────(0)───────X─────────────────────────</pre>"
      ],
      "text/plain": [
       "0: ──────X─────────────@───X───────(0)─────────────────────@─────X───────(0)───────────────────\n",
       "                       │   │       │                       │     │       │\n",
       "1: ────────────────────X───@───@───X───────────────────────X─────@───@───X─────────────────────\n",
       "                       │       │   │                       │         │   │\n",
       "2: ──────────────X─────@───────┼───@─────@───────X─────X───@─────────┼───@─────@───────X───────\n",
       "                 │     │       │         │       │     │   │         │         │       │\n",
       "1001: ───────────┼─────┼───────┼─────────Ry(0)───┼─────┼───┼─────────┼─────────Ry(0)───┼───────\n",
       "                 │     │       │                 │     │   │         │                 │\n",
       "1002: ───────H───(0)───┼───────┼─────────────────(0)───@───┼─────────┼─────────────────@───H───\n",
       "                       │       │                           │         │\n",
       "1003: ───I─────────────@───────X───────────────────────────(0)───────X─────────────────────────"
      ]
     },
     "execution_count": 18,
     "metadata": {},
     "output_type": "execute_result"
    }
   ],
   "source": [
    "lobe_circuit(ParticleOperator('b0') + ParticleOperator('b0^'))[0]"
   ]
  },
  {
   "cell_type": "code",
   "execution_count": 37,
   "metadata": {},
   "outputs": [
    {
     "name": "stdout",
     "output_type": "stream",
     "text": [
      "----1 of 10----\n",
      "* 0.0 (s) *\n",
      "----2 of 10----\n",
      "* 0.0 (s) *\n",
      "----3 of 10----\n",
      "* 0.0 (s) *\n",
      "----4 of 10----\n",
      "* 0.0 (s) *\n",
      "----5 of 10----\n",
      "* 0.0 (s) *\n",
      "----6 of 10----\n",
      "* 0.0 (s) *\n",
      "----7 of 10----\n",
      "* 0.0 (s) *\n",
      "----8 of 10----\n",
      "* 0.0 (s) *\n",
      "----9 of 10----\n",
      "* 0.0 (s) *\n",
      "----10 of 10----\n",
      "* 0.0 (s) *\n"
     ]
    }
   ],
   "source": [
    "from time import time\n",
    "\n",
    "B = 10\n",
    "\n",
    "\n",
    "DATA_rots = []\n",
    "DATA = []\n",
    "LCU_elbows_DATA = []\n",
    "smart_LCU_elbows_DATA = []\n",
    "for b in range(1, B + 1):\n",
    "    max_mode = B\n",
    "    indices = sorted(sample(range(max_mode), b))\n",
    "\n",
    "    operator = ParticleOperator(\" \".join(f\"b{index}\" for index in indices[::-1]))\n",
    "    operator = operator + operator.dagger()\n",
    "    start = time()\n",
    "    print(\"----{} of {}----\".format(b, max(range(1, B + 1))))\n",
    "\n",
    "    DATA.append(b - 1)\n",
    "    DATA_rots.append(generate_circuit(operator + operator.dagger())['ASP']['rotations'])\n",
    "    smart_LCU_elbows_DATA.append(2 * b)\n",
    "    LCU_elbows_DATA.append(op_qubit_map(operator).n_terms)\n",
    "\n",
    "    print(\"* {} (s) *\".format(round(time() - start, 1)))\n",
    "\n"
   ]
  },
  {
   "cell_type": "code",
   "execution_count": 43,
   "metadata": {},
   "outputs": [
    {
     "data": {
      "text/plain": [
       "<matplotlib.legend.Legend at 0x17708aa70>"
      ]
     },
     "execution_count": 43,
     "metadata": {},
     "output_type": "execute_result"
    },
    {
     "data": {
      "image/png": "[encoded data removed]",
      "text/plain": [
       "<Figure size 629.921x236.22 with 1 Axes>"
      ]
     },
     "metadata": {},
     "output_type": "display_data"
    }
   ],
   "source": [
    "fig, axes = plt.subplots(1, 1, figsize=(16 / 2.54, 6 / 2.54))\n",
    "\n",
    "active_modes = range(1, B + 1)\n",
    "\n",
    "# numbers_of_terms_LOBE = [DATA_POINT[\"ASP\"][\"number_of_terms\"] for DATA_POINT in DATA_FOR_FIXED_OMEGA]\n",
    "\n",
    "# left_elbows_asp = [DATA_POINT[\"ASP\"][\"left_elbows\"] for DATA_POINT in DATA_FOR_FIXED_OMEGA]\n",
    "# right_elbows_asp = [DATA_POINT[\"ASP\"][\"right_elbows\"] for DATA_POINT in DATA_FOR_FIXED_OMEGA]\n",
    "# rotations_asp = [DATA_POINT[\"ASP\"][\"rotations\"] for DATA_POINT in DATA_rots]\n",
    "# nonclifford_rotations_asp = [DATA_POINT[\"ASP\"][\"number_of_nonclifford_rotations\"] for DATA_POINT in DATA_FOR_FIXED_OMEGA]\n",
    "# rescaling_factors_asp = [DATA_POINT[\"ASP\"][\"rescaling_factor\"] for DATA_POINT in DATA_FOR_FIXED_OMEGA]\n",
    "# numbers_of_qubits_asp = [DATA_POINT[\"ASP\"][\"number_of_qubits\"] for DATA_POINT in DATA_FOR_FIXED_OMEGA]\n",
    "# numbers_of_ancillae_asp = [DATA_POINT[\"ASP\"][\"number_of_ancillae\"] for DATA_POINT in DATA_FOR_FIXED_OMEGA]\n",
    "\n",
    "# axes[0].scatter(active_modes, DATA_rots, color=BLUE, marker='.', alpha = 1)\n",
    "# # axes[0].plot(numbers_of_terms, rotations_asp, color=ORANGE, marker='.', alpha = 1)\n",
    "# # axes[0].scatter(active_modes, DATA, color=ORANGE, marker='.', alpha = 1)\n",
    "# # axes[0].scatter(active_modes, smart_LCU_rots_DATA, color=BLUE, marker='.', alpha = 1)\n",
    "# # axes[0].scatter(active_modes, LCU_elbows_DATA, color=GREEN, marker='.', alpha = 1)\n",
    "# # axes[0].plot(numbers_of_terms, rotation_upper_bound, color=RED, ls='--', alpha = 1)\n",
    "# axes[0].set_ylabel(\"Number of Rotations\")\n",
    "# # axes[0].set_xlabel(\"Number of Terms ($L$)\")\n",
    "# axes[0].set_xlabel(\"Number of Active Modes\")\n",
    "\n",
    "\n",
    "axes.scatter(active_modes, 4 * np.array(DATA), color=BLUE, marker='.', alpha = 1, label = \"LOBE\")\n",
    "axes.scatter(active_modes, 4 * np.array(smart_LCU_elbows_DATA), color=ORANGE, marker='.', alpha = 1, label = \"Strategic LCU\")\n",
    "axes.scatter(active_modes, 4 * np.array(LCU_elbows_DATA), color=RED, marker='.', alpha = 1, label = \"Standard LCU\")\n",
    "# # axes.plot(numbers_of_terms, elbow_upper_bound, color=RED, ls='--', alpha = 1)\n",
    "axes.set_ylabel(\"Number of T-gates\")\n",
    "axes.set_xlabel(\"Number of Active Modes\")\n",
    "\n",
    "# axes[2].scatter(active_modes, DATA, color=BLUE, marker='.', alpha = 1)\n",
    "# axes[2].scatter(active_modes, smart_LCU_rots_DATA, color=ORANGE, marker='.', alpha = 1)\n",
    "# axes[2].scatter(active_modes, LCU_elbows_DATA, color=RED, marker='.', alpha = 1)\n",
    "# axes[2].set_ylabel(\"Number of Right-Elbows\")\n",
    "# axes[2].set_xlabel(\"Number of Active Modes\")\n",
    "\n",
    "plt.tight_layout()\n",
    "# axes[0].set_yscale('log')\n",
    "# axes[1].set_yscale('log')\n",
    "# axes[2].set_yscale('log')\n",
    "axes.set_xticks(active_modes)\n",
    "axes.set_yscale('log')\n",
    "axes.legend()\n",
    "# axes[1].set_xticks(active_modes)\n",
    "# axes[2].set_xticks(active_modes)\n",
    "# axes[1].legend(loc='upper center', bbox_to_anchor=(0.5, -0.3),\n",
    "#           fancybox=True, shadow=True, ncol=2)\n",
    "# plt.savefig(\"../manuscript/figures/yukawa_hamiltonian_gates_vs_resolution.pdf\", dpi=600)"
   ]
  },
  {
   "cell_type": "code",
   "execution_count": 86,
   "metadata": {},
   "outputs": [],
   "source": [
    "def theta_angle(w, R, S, Omega):\n",
    "    th = 1\n",
    "    for r in range(0, R):\n",
    "        th *= np.sqrt(w - r)\n",
    "    for s in range(1, S + 1):\n",
    "        th *= np.sqrt(w - R + s)\n",
    "    return th"
   ]
  },
  {
   "cell_type": "code",
   "execution_count": 139,
   "metadata": {},
   "outputs": [
    {
     "name": "stdout",
     "output_type": "stream",
     "text": [
      "Operator: 1.0 * a0^ a0^ a0\n",
      "\n"
     ]
    },
    {
     "data": {
      "text/html": [
       "<pre style=\"overflow: auto; white-space: pre;\">          ┌────────────┐\n",
       "0: ───I────@───────────────@─────@────────────────@────────────────@─────────────────@───(False)───@───@───@───────\n",
       "           │               │     │                │                │                 │   │         │   │   │\n",
       "1: ───H────(0)─────────────(0)───┼────────────────┼────────────────┼─────────────────┼───┼─────────@───@───@───H───\n",
       "           │               │     │                │                │                 │   │         │   │   │\n",
       "2: ───I────┼──Ry(1.22π)────┼─────X───Ry(0.512π)───X───Ry(-1.22π)───X───Ry(-0.512π)───X───Ry(0)─────┼───┼───┼───────\n",
       "           │               │     │                │                │                 │             │   │   │\n",
       "3: ───I────X───────────────┼─────┼────────────────@────────────────┼─────────────────@─────────────X───X───┼───────\n",
       "           │               │     │                                 │                                   │   │\n",
       "4: ───I────@───────────────X─────@─────────────────────────────────@───────────────────────────────────@───X───────\n",
       "          └────────────┘</pre>"
      ],
      "text/plain": [
       "          ┌────────────┐\n",
       "0: ───I────@───────────────@─────@────────────────@────────────────@─────────────────@───(False)───@───@───@───────\n",
       "           │               │     │                │                │                 │   │         │   │   │\n",
       "1: ───H────(0)─────────────(0)───┼────────────────┼────────────────┼─────────────────┼───┼─────────@───@───@───H───\n",
       "           │               │     │                │                │                 │   │         │   │   │\n",
       "2: ───I────┼──Ry(1.22π)────┼─────X───Ry(0.512π)───X───Ry(-1.22π)───X───Ry(-0.512π)───X───Ry(0)─────┼───┼───┼───────\n",
       "           │               │     │                │                │                 │             │   │   │\n",
       "3: ───I────X───────────────┼─────┼────────────────@────────────────┼─────────────────@─────────────X───X───┼───────\n",
       "           │               │     │                                 │                                   │   │\n",
       "4: ───I────@───────────────X─────@─────────────────────────────────@───────────────────────────────────@───X───────\n",
       "          └────────────┘"
      ]
     },
     "execution_count": 139,
     "metadata": {},
     "output_type": "execute_result"
    }
   ],
   "source": [
    "R = 2\n",
    "S = 1\n",
    "Omega = 3\n",
    "\n",
    "op = ParticleOperator('a0^')**R * ParticleOperator('a0')**S\n",
    "\n",
    "\n",
    "ctrl = cirq.LineQubit(0)\n",
    "index = cirq.LineQubit(1)\n",
    "anc = cirq.LineQubit(2)\n",
    "\n",
    "system = [cirq.LineQubit(i + 3) for i in range(int(np.log2(Omega + 1)))]\n",
    "\n",
    "circuit = cirq.Circuit()\n",
    "\n",
    "circuit.append(cirq.I.on(ctrl))\n",
    "circuit.append(cirq.H.on(index))\n",
    "circuit.append(cirq.I.on(anc))\n",
    "circuit.append(cirq.I.on_each(system))\n",
    "\n",
    "circuit.append(add_classical_value_incrementers(\n",
    "    system, R - S, clean_ancillae=[], ctrls = [[ctrl, index], [1, 0]]\n",
    "))\n",
    "\n",
    "angles = [theta_angle(i, R, S, Omega) for i in range(1, Omega + 1)]\n",
    "\n",
    "circuit.append(get_decomposed_multiplexed_rotation_circuit(\n",
    "    register = [*system, anc], angles = angles, clean_ancillae=[], ctrls = [[ctrl], [1]]\n",
    "))\n",
    "\n",
    "circuit.append(add_classical_value_incrementers(\n",
    "    system, -(R - S), clean_ancillae=[], ctrls = [[ctrl, index], [1, 1]]\n",
    "))\n",
    "circuit.append(cirq.H.on(index))\n",
    "print(\"Operator:\", op)\n",
    "circuit\n"
   ]
  },
  {
   "cell_type": "code",
   "execution_count": 140,
   "metadata": {},
   "outputs": [],
   "source": [
    "upper_left_block = circuit.unitary(dtype=complex)[\n",
    "            : 1 << len(system), : 1 <<len(system)\n",
    "        ]"
   ]
  },
  {
   "cell_type": "code",
   "execution_count": 141,
   "metadata": {},
   "outputs": [],
   "source": [
    "basis = [Fock.vacuum()] + [Fock([], [], [(0, i)]) for i in range(1, Omega + 1)]\n",
    "matrix = generate_matrix(op + op.dagger(), basis)"
   ]
  },
  {
   "cell_type": "code",
   "execution_count": 142,
   "metadata": {},
   "outputs": [
    {
     "data": {
      "text/plain": [
       "array([[0.        +0.j, 0.        +0.j, 0.        +0.j, 0.        +0.j],\n",
       "       [0.        +0.j, 0.        +0.j, 1.41421356+0.j, 0.        +0.j],\n",
       "       [0.        +0.j, 1.41421356+0.j, 0.        +0.j, 3.46410162+0.j],\n",
       "       [0.        +0.j, 0.        +0.j, 3.46410162+0.j, 0.        +0.j]])"
      ]
     },
     "execution_count": 142,
     "metadata": {},
     "output_type": "execute_result"
    }
   ],
   "source": [
    "matrix"
   ]
  },
  {
   "cell_type": "code",
   "execution_count": 143,
   "metadata": {},
   "outputs": [
    {
     "data": {
      "text/plain": [
       "array([[1.+0.j, 0.+0.j, 0.+0.j, 0.+0.j],\n",
       "       [0.+0.j, 1.+0.j, 0.+0.j, 0.+0.j],\n",
       "       [0.+0.j, 0.+0.j, 1.+0.j, 0.+0.j],\n",
       "       [0.+0.j, 0.+0.j, 0.+0.j, 1.+0.j]])"
      ]
     },
     "execution_count": 143,
     "metadata": {},
     "output_type": "execute_result"
    }
   ],
   "source": [
    "upper_left_block"
   ]
  }
 ],
 "metadata": {
  "kernelspec": {
   "display_name": "openparticle",
   "language": "python",
   "name": "python3"
  },
  "language_info": {
   "codemirror_mode": {
    "name": "ipython",
    "version": 3
   },
   "file_extension": ".py",
   "mimetype": "text/x-python",
   "name": "python",
   "nbconvert_exporter": "python",
   "pygments_lexer": "ipython3",
   "version": "3.10.15"
  },
  "orig_nbformat": 4
 },
 "nbformat": 4,
 "nbformat_minor": 2
}
