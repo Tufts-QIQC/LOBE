{
 "cells": [
  {
   "cell_type": "code",
   "execution_count": 1,
   "metadata": {},
   "outputs": [],
   "source": [
    "%load_ext autoreload\n",
    "%autoreload 2"
   ]
  },
  {
   "cell_type": "code",
   "execution_count": 2,
   "metadata": {},
   "outputs": [
    {
     "name": "stderr",
     "output_type": "stream",
     "text": [
      "/Users/williamsimon/Desktop/Research/SparseOracle/lobe/lib/python3.9/site-packages/cotengra/hyperoptimizers/hyper.py:33: UserWarning: Couldn't import `kahypar` - skipping from default hyper optimizer and using basic `labels` method instead.\n",
      "  warnings.warn(\n",
      "/Users/williamsimon/Desktop/Research/SparseOracle/lobe/lib/python3.9/site-packages/tqdm/auto.py:21: TqdmWarning: IProgress not found. Please update jupyter and ipywidgets. See https://ipywidgets.readthedocs.io/en/stable/user_install.html\n",
      "  from .autonotebook import tqdm as notebook_tqdm\n",
      "2024-08-16 17:26:56,183\tINFO util.py:154 -- Missing packages: ['ipywidgets']. Run `pip install -U ipywidgets`, then restart the notebook server for rich notebook output.\n"
     ]
    }
   ],
   "source": [
    "import sys, os\n",
    "sys.path.append(os.path.join(os.path.dirname(os.path.realpath('__file__')), '..'))\n",
    "from openparticle import ParticleOperator, generate_matrix\n",
    "import numpy as np\n",
    "import cirq\n",
    "from src.lobe.system import System\n",
    "from src.lobe.block_encoding import add_lobe_oracle\n",
    "from cirq.contrib.svg import SVGCircuit\n",
    "from src.lobe.usp import add_naive_usp\n",
    "from src.lobe.rescale import rescale_terms, get_number_of_active_bosonic_modes\n",
    "from src.lobe._utils import get_basis_of_full_system"
   ]
  },
  {
   "cell_type": "markdown",
   "metadata": {},
   "source": [
    "# Define Hamiltonian"
   ]
  },
  {
   "cell_type": "code",
   "execution_count": 3,
   "metadata": {},
   "outputs": [
    {
     "name": "stdout",
     "output_type": "stream",
     "text": [
      "[-1.0, 0.0, 0.0, 1.0]\n"
     ]
    }
   ],
   "source": [
    "bosonic_hamiltonian = (\n",
    "    ParticleOperator(\"a0\") +\n",
    "    ParticleOperator(\"a1\") + \n",
    "    ParticleOperator(\"a0^ a1\") +\n",
    "    ParticleOperator(\"a1^ a0\")\n",
    ")\n",
    "terms = bosonic_hamiltonian.to_list()\n",
    "\n",
    "maximum_occupation_number = 1\n",
    "number_of_modes = max([term.max_mode() for term in terms]) + 1\n",
    "\n",
    "full_fock_basis = get_basis_of_full_system(number_of_modes, maximum_occupation_number, has_bosons=True)\n",
    "matrix = generate_matrix(bosonic_hamiltonian, full_fock_basis)\n",
    "\n",
    "eigenvalues, eigenvectors = np.linalg.eig(matrix)\n",
    "print(sorted(eigenvalues.round(3)))"
   ]
  },
  {
   "cell_type": "markdown",
   "metadata": {},
   "source": [
    "# Rescale Hamiltonian"
   ]
  },
  {
   "cell_type": "code",
   "execution_count": 4,
   "metadata": {},
   "outputs": [
    {
     "name": "stdout",
     "output_type": "stream",
     "text": [
      "0.7071067811865475 * a0\n",
      "\n",
      "0.7071067811865475 * a1\n",
      "\n",
      "1.0 * a0^ a1\n",
      "\n",
      "1.0 * a1^ a0\n",
      "\n"
     ]
    }
   ],
   "source": [
    "rescaled_terms, scaling_factor = rescale_terms(terms, maximum_occupation_number)\n",
    "for term in rescaled_terms:\n",
    "    print(term)"
   ]
  },
  {
   "cell_type": "markdown",
   "metadata": {},
   "source": [
    "# Generate LOBE Circuit"
   ]
  },
  {
   "cell_type": "code",
   "execution_count": 5,
   "metadata": {},
   "outputs": [
    {
     "data": {
      "image/svg+xml": [
       "<svg xmlns=\"http://www.w3.org/2000/svg\" width=\"2544.79765625\" height=\"450.0\"><line x1=\"30.0\" x2=\"2514.79765625\" y1=\"25.0\" y2=\"25.0\" stroke=\"#1967d2\" stroke-width=\"1\" /><line x1=\"30.0\" x2=\"2514.79765625\" y1=\"75.0\" y2=\"75.0\" stroke=\"#1967d2\" stroke-width=\"1\" /><line x1=\"30.0\" x2=\"2514.79765625\" y1=\"125.0\" y2=\"125.0\" stroke=\"#1967d2\" stroke-width=\"1\" /><line x1=\"30.0\" x2=\"2514.79765625\" y1=\"175.0\" y2=\"175.0\" stroke=\"#1967d2\" stroke-width=\"1\" /><line x1=\"30.0\" x2=\"2514.79765625\" y1=\"225.0\" y2=\"225.0\" stroke=\"#1967d2\" stroke-width=\"1\" /><line x1=\"30.0\" x2=\"2514.79765625\" y1=\"275.0\" y2=\"275.0\" stroke=\"#1967d2\" stroke-width=\"1\" /><line x1=\"30.0\" x2=\"2514.79765625\" y1=\"325.0\" y2=\"325.0\" stroke=\"#1967d2\" stroke-width=\"1\" /><line x1=\"30.0\" x2=\"2514.79765625\" y1=\"375.0\" y2=\"375.0\" stroke=\"#1967d2\" stroke-width=\"1\" /><line x1=\"30.0\" x2=\"2514.79765625\" y1=\"425.0\" y2=\"425.0\" stroke=\"#1967d2\" stroke-width=\"1\" /><line x1=\"210.0\" x2=\"210.0\" y1=\"25.0\" y2=\"325.0\" stroke=\"black\" stroke-width=\"3\" /><line x1=\"270.0\" x2=\"270.0\" y1=\"25.0\" y2=\"75.0\" stroke=\"black\" stroke-width=\"3\" /><line x1=\"330.0\" x2=\"330.0\" y1=\"75.0\" y2=\"175.0\" stroke=\"black\" stroke-width=\"3\" /><line x1=\"404.30580078125\" x2=\"404.30580078125\" y1=\"75.0\" y2=\"375.0\" stroke=\"black\" stroke-width=\"3\" /><line x1=\"478.6116015625\" x2=\"478.6116015625\" y1=\"75.0\" y2=\"375.0\" stroke=\"black\" stroke-width=\"3\" /><line x1=\"538.6116015625\" x2=\"538.6116015625\" y1=\"25.0\" y2=\"325.0\" stroke=\"black\" stroke-width=\"3\" /><line x1=\"610.58634765625\" x2=\"610.58634765625\" y1=\"125.0\" y2=\"325.0\" stroke=\"black\" stroke-width=\"3\" /><line x1=\"682.56109375\" x2=\"682.56109375\" y1=\"25.0\" y2=\"325.0\" stroke=\"black\" stroke-width=\"3\" /><line x1=\"742.56109375\" x2=\"742.56109375\" y1=\"25.0\" y2=\"75.0\" stroke=\"black\" stroke-width=\"3\" /><line x1=\"802.56109375\" x2=\"802.56109375\" y1=\"75.0\" y2=\"175.0\" stroke=\"black\" stroke-width=\"3\" /><line x1=\"876.8668945312501\" x2=\"876.8668945312501\" y1=\"75.0\" y2=\"425.0\" stroke=\"black\" stroke-width=\"3\" /><line x1=\"951.1726953125001\" x2=\"951.1726953125001\" y1=\"75.0\" y2=\"425.0\" stroke=\"black\" stroke-width=\"3\" /><line x1=\"1011.1726953125001\" x2=\"1011.1726953125001\" y1=\"25.0\" y2=\"325.0\" stroke=\"black\" stroke-width=\"3\" /><line x1=\"1083.14744140625\" x2=\"1083.14744140625\" y1=\"125.0\" y2=\"325.0\" stroke=\"black\" stroke-width=\"3\" /><line x1=\"1155.1221875\" x2=\"1155.1221875\" y1=\"25.0\" y2=\"325.0\" stroke=\"black\" stroke-width=\"3\" /><line x1=\"1215.1221875\" x2=\"1215.1221875\" y1=\"25.0\" y2=\"75.0\" stroke=\"black\" stroke-width=\"3\" /><line x1=\"1275.1221875\" x2=\"1275.1221875\" y1=\"75.0\" y2=\"175.0\" stroke=\"black\" stroke-width=\"3\" /><line x1=\"1349.42798828125\" x2=\"1349.42798828125\" y1=\"75.0\" y2=\"375.0\" stroke=\"black\" stroke-width=\"3\" /><line x1=\"1423.7337890625001\" x2=\"1423.7337890625001\" y1=\"75.0\" y2=\"375.0\" stroke=\"black\" stroke-width=\"3\" /><line x1=\"1483.7337890625001\" x2=\"1483.7337890625001\" y1=\"75.0\" y2=\"225.0\" stroke=\"black\" stroke-width=\"3\" /><line x1=\"1558.03958984375\" x2=\"1558.03958984375\" y1=\"75.0\" y2=\"425.0\" stroke=\"black\" stroke-width=\"3\" /><line x1=\"1632.3453906250002\" x2=\"1632.3453906250002\" y1=\"75.0\" y2=\"425.0\" stroke=\"black\" stroke-width=\"3\" /><line x1=\"1692.3453906250002\" x2=\"1692.3453906250002\" y1=\"25.0\" y2=\"325.0\" stroke=\"black\" stroke-width=\"3\" /><line x1=\"1753.65265625\" x2=\"1753.65265625\" y1=\"125.0\" y2=\"325.0\" stroke=\"black\" stroke-width=\"3\" /><line x1=\"1814.9599218750002\" x2=\"1814.9599218750002\" y1=\"25.0\" y2=\"325.0\" stroke=\"black\" stroke-width=\"3\" /><line x1=\"1874.9599218750002\" x2=\"1874.9599218750002\" y1=\"25.0\" y2=\"75.0\" stroke=\"black\" stroke-width=\"3\" /><line x1=\"1934.9599218750002\" x2=\"1934.9599218750002\" y1=\"75.0\" y2=\"175.0\" stroke=\"black\" stroke-width=\"3\" /><line x1=\"2009.26572265625\" x2=\"2009.26572265625\" y1=\"75.0\" y2=\"375.0\" stroke=\"black\" stroke-width=\"3\" /><line x1=\"2083.5715234375\" x2=\"2083.5715234375\" y1=\"75.0\" y2=\"375.0\" stroke=\"black\" stroke-width=\"3\" /><line x1=\"2143.5715234375\" x2=\"2143.5715234375\" y1=\"75.0\" y2=\"225.0\" stroke=\"black\" stroke-width=\"3\" /><line x1=\"2217.8773242187503\" x2=\"2217.8773242187503\" y1=\"75.0\" y2=\"425.0\" stroke=\"black\" stroke-width=\"3\" /><line x1=\"2292.183125\" x2=\"2292.183125\" y1=\"75.0\" y2=\"425.0\" stroke=\"black\" stroke-width=\"3\" /><line x1=\"2352.183125\" x2=\"2352.183125\" y1=\"25.0\" y2=\"325.0\" stroke=\"black\" stroke-width=\"3\" /><line x1=\"2413.490390625\" x2=\"2413.490390625\" y1=\"125.0\" y2=\"325.0\" stroke=\"black\" stroke-width=\"3\" /><rect x=\"10.0\" y=\"5.0\" width=\"40\" height=\"40\" stroke=\"black\" fill=\"white\" stroke-width=\"0\" /><text x=\"30.0\" y=\"25.0\" dominant-baseline=\"middle\" text-anchor=\"middle\" font-size=\"14px\" font-family=\"Arial:style=normal:variant=normal:weight=normal:stretch=normal:size=10.0\">0: </text><rect x=\"10.0\" y=\"55.0\" width=\"40\" height=\"40\" stroke=\"black\" fill=\"white\" stroke-width=\"0\" /><text x=\"30.0\" y=\"75.0\" dominant-baseline=\"middle\" text-anchor=\"middle\" font-size=\"14px\" font-family=\"Arial:style=normal:variant=normal:weight=normal:stretch=normal:size=10.0\">1: </text><rect x=\"10.0\" y=\"105.0\" width=\"40\" height=\"40\" stroke=\"black\" fill=\"white\" stroke-width=\"0\" /><text x=\"30.0\" y=\"125.0\" dominant-baseline=\"middle\" text-anchor=\"middle\" font-size=\"14px\" font-family=\"Arial:style=normal:variant=normal:weight=normal:stretch=normal:size=10.0\">6: </text><rect x=\"10.0\" y=\"155.0\" width=\"40\" height=\"40\" stroke=\"black\" fill=\"white\" stroke-width=\"0\" /><text x=\"30.0\" y=\"175.0\" dominant-baseline=\"middle\" text-anchor=\"middle\" font-size=\"14px\" font-family=\"Arial:style=normal:variant=normal:weight=normal:stretch=normal:size=10.0\">7: </text><rect x=\"10.0\" y=\"205.0\" width=\"40\" height=\"40\" stroke=\"black\" fill=\"white\" stroke-width=\"0\" /><text x=\"30.0\" y=\"225.0\" dominant-baseline=\"middle\" text-anchor=\"middle\" font-size=\"14px\" font-family=\"Arial:style=normal:variant=normal:weight=normal:stretch=normal:size=10.0\">8: </text><rect x=\"10.0\" y=\"255.0\" width=\"40\" height=\"40\" stroke=\"black\" fill=\"white\" stroke-width=\"0\" /><text x=\"30.0\" y=\"275.0\" dominant-baseline=\"middle\" text-anchor=\"middle\" font-size=\"14px\" font-family=\"Arial:style=normal:variant=normal:weight=normal:stretch=normal:size=10.0\">9: </text><rect x=\"10.0\" y=\"305.0\" width=\"40\" height=\"40\" stroke=\"black\" fill=\"white\" stroke-width=\"0\" /><text x=\"30.0\" y=\"325.0\" dominant-baseline=\"middle\" text-anchor=\"middle\" font-size=\"14px\" font-family=\"Arial:style=normal:variant=normal:weight=normal:stretch=normal:size=10.0\">10: </text><rect x=\"10.0\" y=\"355.0\" width=\"40\" height=\"40\" stroke=\"black\" fill=\"white\" stroke-width=\"0\" /><text x=\"30.0\" y=\"375.0\" dominant-baseline=\"middle\" text-anchor=\"middle\" font-size=\"14px\" font-family=\"Arial:style=normal:variant=normal:weight=normal:stretch=normal:size=10.0\">11: </text><rect x=\"10.0\" y=\"405.0\" width=\"40\" height=\"40\" stroke=\"black\" fill=\"white\" stroke-width=\"0\" /><text x=\"30.0\" y=\"425.0\" dominant-baseline=\"middle\" text-anchor=\"middle\" font-size=\"14px\" font-family=\"Arial:style=normal:variant=normal:weight=normal:stretch=normal:size=10.0\">12: </text><rect x=\"70.0\" y=\"355.0\" width=\"40\" height=\"40\" stroke=\"black\" fill=\"white\" stroke-width=\"1\" /><text x=\"90.0\" y=\"375.0\" dominant-baseline=\"middle\" text-anchor=\"middle\" font-size=\"18px\" font-family=\"Arial:style=normal:variant=normal:weight=normal:stretch=normal:size=10.0\">I</text><rect x=\"70.0\" y=\"405.0\" width=\"40\" height=\"40\" stroke=\"black\" fill=\"white\" stroke-width=\"1\" /><text x=\"90.0\" y=\"425.0\" dominant-baseline=\"middle\" text-anchor=\"middle\" font-size=\"18px\" font-family=\"Arial:style=normal:variant=normal:weight=normal:stretch=normal:size=10.0\">I</text><rect x=\"70.0\" y=\"5.0\" width=\"40\" height=\"40\" stroke=\"black\" fill=\"white\" stroke-width=\"1\" /><text x=\"90.0\" y=\"25.0\" dominant-baseline=\"middle\" text-anchor=\"middle\" font-size=\"18px\" font-family=\"Arial:style=normal:variant=normal:weight=normal:stretch=normal:size=10.0\">X</text><rect x=\"130.0\" y=\"255.0\" width=\"40\" height=\"40\" stroke=\"black\" fill=\"white\" stroke-width=\"1\" /><text x=\"150.0\" y=\"275.0\" dominant-baseline=\"middle\" text-anchor=\"middle\" font-size=\"18px\" font-family=\"Arial:style=normal:variant=normal:weight=normal:stretch=normal:size=10.0\">H</text><rect x=\"130.0\" y=\"305.0\" width=\"40\" height=\"40\" stroke=\"black\" fill=\"white\" stroke-width=\"1\" /><text x=\"150.0\" y=\"325.0\" dominant-baseline=\"middle\" text-anchor=\"middle\" font-size=\"18px\" font-family=\"Arial:style=normal:variant=normal:weight=normal:stretch=normal:size=10.0\">H</text><rect x=\"190.0\" y=\"255.0\" width=\"40\" height=\"40\" stroke=\"black\" fill=\"white\" stroke-width=\"1\" /><text x=\"210.0\" y=\"275.0\" dominant-baseline=\"middle\" text-anchor=\"middle\" font-size=\"14px\" font-family=\"Arial:style=normal:variant=normal:weight=normal:stretch=normal:size=10.0\">(0)</text><rect x=\"190.0\" y=\"305.0\" width=\"40\" height=\"40\" stroke=\"black\" fill=\"white\" stroke-width=\"1\" /><text x=\"210.0\" y=\"325.0\" dominant-baseline=\"middle\" text-anchor=\"middle\" font-size=\"14px\" font-family=\"Arial:style=normal:variant=normal:weight=normal:stretch=normal:size=10.0\">(0)</text><circle cx=\"210.0\" cy=\"25.0\" r=\"10.0\" /><rect x=\"190.0\" y=\"55.0\" width=\"40\" height=\"40\" stroke=\"black\" fill=\"white\" stroke-width=\"1\" /><text x=\"210.0\" y=\"75.0\" dominant-baseline=\"middle\" text-anchor=\"middle\" font-size=\"18px\" font-family=\"Arial:style=normal:variant=normal:weight=normal:stretch=normal:size=10.0\">X</text><circle cx=\"270.0\" cy=\"75.0\" r=\"10.0\" /><rect x=\"250.0\" y=\"5.0\" width=\"40\" height=\"40\" stroke=\"black\" fill=\"white\" stroke-width=\"1\" /><text x=\"270.0\" y=\"25.0\" dominant-baseline=\"middle\" text-anchor=\"middle\" font-size=\"18px\" font-family=\"Arial:style=normal:variant=normal:weight=normal:stretch=normal:size=10.0\">X</text><circle cx=\"330.0\" cy=\"75.0\" r=\"10.0\" /><rect x=\"310.0\" y=\"155.0\" width=\"40\" height=\"40\" stroke=\"black\" fill=\"white\" stroke-width=\"1\" /><text x=\"330.0\" y=\"175.0\" dominant-baseline=\"middle\" text-anchor=\"middle\" font-size=\"18px\" font-family=\"Arial:style=normal:variant=normal:weight=normal:stretch=normal:size=10.0\">X</text><circle cx=\"404.30580078125\" cy=\"375.0\" r=\"10.0\" /><circle cx=\"404.30580078125\" cy=\"75.0\" r=\"10.0\" /><rect x=\"370.0\" y=\"155.0\" width=\"68.6116015625\" height=\"40\" stroke=\"black\" fill=\"white\" stroke-width=\"1\" /><text x=\"404.30580078125\" y=\"175.0\" dominant-baseline=\"middle\" text-anchor=\"middle\" font-size=\"14px\" font-family=\"Arial:style=normal:variant=normal:weight=normal:stretch=normal:size=10.0\">Ry(-0.5π)</text><circle cx=\"478.6116015625\" cy=\"75.0\" r=\"10.0\" /><rect x=\"458.6116015625\" y=\"355.0\" width=\"40\" height=\"40\" stroke=\"black\" fill=\"white\" stroke-width=\"1\" /><text x=\"478.6116015625\" y=\"375.0\" dominant-baseline=\"middle\" text-anchor=\"middle\" font-size=\"18px\" font-family=\"Arial:style=normal:variant=normal:weight=normal:stretch=normal:size=10.0\">X</text><rect x=\"518.6116015625\" y=\"5.0\" width=\"40\" height=\"40\" stroke=\"black\" fill=\"white\" stroke-width=\"1\" /><text x=\"538.6116015625\" y=\"25.0\" dominant-baseline=\"middle\" text-anchor=\"middle\" font-size=\"14px\" font-family=\"Arial:style=normal:variant=normal:weight=normal:stretch=normal:size=10.0\">(0)</text><rect x=\"518.6116015625\" y=\"255.0\" width=\"40\" height=\"40\" stroke=\"black\" fill=\"white\" stroke-width=\"1\" /><text x=\"538.6116015625\" y=\"275.0\" dominant-baseline=\"middle\" text-anchor=\"middle\" font-size=\"14px\" font-family=\"Arial:style=normal:variant=normal:weight=normal:stretch=normal:size=10.0\">(0)</text><rect x=\"518.6116015625\" y=\"305.0\" width=\"40\" height=\"40\" stroke=\"black\" fill=\"white\" stroke-width=\"1\" /><text x=\"538.6116015625\" y=\"325.0\" dominant-baseline=\"middle\" text-anchor=\"middle\" font-size=\"14px\" font-family=\"Arial:style=normal:variant=normal:weight=normal:stretch=normal:size=10.0\">(0)</text><rect x=\"518.6116015625\" y=\"55.0\" width=\"40\" height=\"40\" stroke=\"black\" fill=\"white\" stroke-width=\"1\" /><text x=\"538.6116015625\" y=\"75.0\" dominant-baseline=\"middle\" text-anchor=\"middle\" font-size=\"18px\" font-family=\"Arial:style=normal:variant=normal:weight=normal:stretch=normal:size=10.0\">X</text><rect x=\"578.6116015625\" y=\"255.0\" width=\"63.9494921875\" height=\"40\" stroke=\"black\" fill=\"white\" stroke-width=\"1\" /><text x=\"610.58634765625\" y=\"275.0\" dominant-baseline=\"middle\" text-anchor=\"middle\" font-size=\"14px\" font-family=\"Arial:style=normal:variant=normal:weight=normal:stretch=normal:size=10.0\">(0)</text><rect x=\"578.6116015625\" y=\"305.0\" width=\"63.9494921875\" height=\"40\" stroke=\"black\" fill=\"white\" stroke-width=\"1\" /><text x=\"610.58634765625\" y=\"325.0\" dominant-baseline=\"middle\" text-anchor=\"middle\" font-size=\"14px\" font-family=\"Arial:style=normal:variant=normal:weight=normal:stretch=normal:size=10.0\">(0)</text><rect x=\"578.6116015625\" y=\"105.0\" width=\"63.9494921875\" height=\"40\" stroke=\"black\" fill=\"white\" stroke-width=\"1\" /><text x=\"610.58634765625\" y=\"125.0\" dominant-baseline=\"middle\" text-anchor=\"middle\" font-size=\"14px\" font-family=\"Arial:style=normal:variant=normal:weight=normal:stretch=normal:size=10.0\">Ry(0.5π)</text><rect x=\"662.56109375\" y=\"255.0\" width=\"40\" height=\"40\" stroke=\"black\" fill=\"white\" stroke-width=\"1\" /><text x=\"682.56109375\" y=\"275.0\" dominant-baseline=\"middle\" text-anchor=\"middle\" font-size=\"14px\" font-family=\"Arial:style=normal:variant=normal:weight=normal:stretch=normal:size=10.0\">(0)</text><circle cx=\"682.56109375\" cy=\"325.0\" r=\"10.0\" /><circle cx=\"682.56109375\" cy=\"25.0\" r=\"10.0\" /><rect x=\"662.56109375\" y=\"55.0\" width=\"40\" height=\"40\" stroke=\"black\" fill=\"white\" stroke-width=\"1\" /><text x=\"682.56109375\" y=\"75.0\" dominant-baseline=\"middle\" text-anchor=\"middle\" font-size=\"18px\" font-family=\"Arial:style=normal:variant=normal:weight=normal:stretch=normal:size=10.0\">X</text><circle cx=\"742.56109375\" cy=\"75.0\" r=\"10.0\" /><rect x=\"722.56109375\" y=\"5.0\" width=\"40\" height=\"40\" stroke=\"black\" fill=\"white\" stroke-width=\"1\" /><text x=\"742.56109375\" y=\"25.0\" dominant-baseline=\"middle\" text-anchor=\"middle\" font-size=\"18px\" font-family=\"Arial:style=normal:variant=normal:weight=normal:stretch=normal:size=10.0\">X</text><circle cx=\"802.56109375\" cy=\"75.0\" r=\"10.0\" /><rect x=\"782.56109375\" y=\"155.0\" width=\"40\" height=\"40\" stroke=\"black\" fill=\"white\" stroke-width=\"1\" /><text x=\"802.56109375\" y=\"175.0\" dominant-baseline=\"middle\" text-anchor=\"middle\" font-size=\"18px\" font-family=\"Arial:style=normal:variant=normal:weight=normal:stretch=normal:size=10.0\">X</text><circle cx=\"876.8668945312501\" cy=\"425.0\" r=\"10.0\" /><circle cx=\"876.8668945312501\" cy=\"75.0\" r=\"10.0\" /><rect x=\"842.56109375\" y=\"155.0\" width=\"68.6116015625\" height=\"40\" stroke=\"black\" fill=\"white\" stroke-width=\"1\" /><text x=\"876.8668945312501\" y=\"175.0\" dominant-baseline=\"middle\" text-anchor=\"middle\" font-size=\"14px\" font-family=\"Arial:style=normal:variant=normal:weight=normal:stretch=normal:size=10.0\">Ry(-0.5π)</text><circle cx=\"951.1726953125001\" cy=\"75.0\" r=\"10.0\" /><rect x=\"931.1726953125001\" y=\"405.0\" width=\"40\" height=\"40\" stroke=\"black\" fill=\"white\" stroke-width=\"1\" /><text x=\"951.1726953125001\" y=\"425.0\" dominant-baseline=\"middle\" text-anchor=\"middle\" font-size=\"18px\" font-family=\"Arial:style=normal:variant=normal:weight=normal:stretch=normal:size=10.0\">X</text><rect x=\"991.1726953125001\" y=\"5.0\" width=\"40\" height=\"40\" stroke=\"black\" fill=\"white\" stroke-width=\"1\" /><text x=\"1011.1726953125001\" y=\"25.0\" dominant-baseline=\"middle\" text-anchor=\"middle\" font-size=\"14px\" font-family=\"Arial:style=normal:variant=normal:weight=normal:stretch=normal:size=10.0\">(0)</text><rect x=\"991.1726953125001\" y=\"255.0\" width=\"40\" height=\"40\" stroke=\"black\" fill=\"white\" stroke-width=\"1\" /><text x=\"1011.1726953125001\" y=\"275.0\" dominant-baseline=\"middle\" text-anchor=\"middle\" font-size=\"14px\" font-family=\"Arial:style=normal:variant=normal:weight=normal:stretch=normal:size=10.0\">(0)</text><circle cx=\"1011.1726953125001\" cy=\"325.0\" r=\"10.0\" /><rect x=\"991.1726953125001\" y=\"55.0\" width=\"40\" height=\"40\" stroke=\"black\" fill=\"white\" stroke-width=\"1\" /><text x=\"1011.1726953125001\" y=\"75.0\" dominant-baseline=\"middle\" text-anchor=\"middle\" font-size=\"18px\" font-family=\"Arial:style=normal:variant=normal:weight=normal:stretch=normal:size=10.0\">X</text><rect x=\"1051.1726953125\" y=\"255.0\" width=\"63.9494921875\" height=\"40\" stroke=\"black\" fill=\"white\" stroke-width=\"1\" /><text x=\"1083.14744140625\" y=\"275.0\" dominant-baseline=\"middle\" text-anchor=\"middle\" font-size=\"14px\" font-family=\"Arial:style=normal:variant=normal:weight=normal:stretch=normal:size=10.0\">(0)</text><circle cx=\"1083.14744140625\" cy=\"325.0\" r=\"10.0\" /><rect x=\"1051.1726953125\" y=\"105.0\" width=\"63.9494921875\" height=\"40\" stroke=\"black\" fill=\"white\" stroke-width=\"1\" /><text x=\"1083.14744140625\" y=\"125.0\" dominant-baseline=\"middle\" text-anchor=\"middle\" font-size=\"14px\" font-family=\"Arial:style=normal:variant=normal:weight=normal:stretch=normal:size=10.0\">Ry(0.5π)</text><circle cx=\"1155.1221875\" cy=\"275.0\" r=\"10.0\" /><rect x=\"1135.1221875\" y=\"305.0\" width=\"40\" height=\"40\" stroke=\"black\" fill=\"white\" stroke-width=\"1\" /><text x=\"1155.1221875\" y=\"325.0\" dominant-baseline=\"middle\" text-anchor=\"middle\" font-size=\"14px\" font-family=\"Arial:style=normal:variant=normal:weight=normal:stretch=normal:size=10.0\">(0)</text><circle cx=\"1155.1221875\" cy=\"25.0\" r=\"10.0\" /><rect x=\"1135.1221875\" y=\"55.0\" width=\"40\" height=\"40\" stroke=\"black\" fill=\"white\" stroke-width=\"1\" /><text x=\"1155.1221875\" y=\"75.0\" dominant-baseline=\"middle\" text-anchor=\"middle\" font-size=\"18px\" font-family=\"Arial:style=normal:variant=normal:weight=normal:stretch=normal:size=10.0\">X</text><circle cx=\"1215.1221875\" cy=\"75.0\" r=\"10.0\" /><rect x=\"1195.1221875\" y=\"5.0\" width=\"40\" height=\"40\" stroke=\"black\" fill=\"white\" stroke-width=\"1\" /><text x=\"1215.1221875\" y=\"25.0\" dominant-baseline=\"middle\" text-anchor=\"middle\" font-size=\"18px\" font-family=\"Arial:style=normal:variant=normal:weight=normal:stretch=normal:size=10.0\">X</text><circle cx=\"1275.1221875\" cy=\"75.0\" r=\"10.0\" /><rect x=\"1255.1221875\" y=\"155.0\" width=\"40\" height=\"40\" stroke=\"black\" fill=\"white\" stroke-width=\"1\" /><text x=\"1275.1221875\" y=\"175.0\" dominant-baseline=\"middle\" text-anchor=\"middle\" font-size=\"18px\" font-family=\"Arial:style=normal:variant=normal:weight=normal:stretch=normal:size=10.0\">X</text><rect x=\"1315.1221875\" y=\"355.0\" width=\"68.6116015625\" height=\"40\" stroke=\"black\" fill=\"white\" stroke-width=\"1\" /><text x=\"1349.42798828125\" y=\"375.0\" dominant-baseline=\"middle\" text-anchor=\"middle\" font-size=\"14px\" font-family=\"Arial:style=normal:variant=normal:weight=normal:stretch=normal:size=10.0\">(0)</text><circle cx=\"1349.42798828125\" cy=\"75.0\" r=\"10.0\" /><rect x=\"1315.1221875\" y=\"155.0\" width=\"68.6116015625\" height=\"40\" stroke=\"black\" fill=\"white\" stroke-width=\"1\" /><text x=\"1349.42798828125\" y=\"175.0\" dominant-baseline=\"middle\" text-anchor=\"middle\" font-size=\"14px\" font-family=\"Arial:style=normal:variant=normal:weight=normal:stretch=normal:size=10.0\">Ry(-0.5π)</text><circle cx=\"1423.7337890625001\" cy=\"75.0\" r=\"10.0\" /><rect x=\"1403.7337890625001\" y=\"355.0\" width=\"40\" height=\"40\" stroke=\"black\" fill=\"white\" stroke-width=\"1\" /><text x=\"1423.7337890625001\" y=\"375.0\" dominant-baseline=\"middle\" text-anchor=\"middle\" font-size=\"18px\" font-family=\"Arial:style=normal:variant=normal:weight=normal:stretch=normal:size=10.0\">X</text><circle cx=\"1483.7337890625001\" cy=\"75.0\" r=\"10.0\" /><rect x=\"1463.7337890625001\" y=\"205.0\" width=\"40\" height=\"40\" stroke=\"black\" fill=\"white\" stroke-width=\"1\" /><text x=\"1483.7337890625001\" y=\"225.0\" dominant-baseline=\"middle\" text-anchor=\"middle\" font-size=\"18px\" font-family=\"Arial:style=normal:variant=normal:weight=normal:stretch=normal:size=10.0\">X</text><circle cx=\"1558.03958984375\" cy=\"425.0\" r=\"10.0\" /><circle cx=\"1558.03958984375\" cy=\"75.0\" r=\"10.0\" /><rect x=\"1523.7337890625001\" y=\"205.0\" width=\"68.6116015625\" height=\"40\" stroke=\"black\" fill=\"white\" stroke-width=\"1\" /><text x=\"1558.03958984375\" y=\"225.0\" dominant-baseline=\"middle\" text-anchor=\"middle\" font-size=\"14px\" font-family=\"Arial:style=normal:variant=normal:weight=normal:stretch=normal:size=10.0\">Ry(-0.5π)</text><circle cx=\"1632.3453906250002\" cy=\"75.0\" r=\"10.0\" /><rect x=\"1612.3453906250002\" y=\"405.0\" width=\"40\" height=\"40\" stroke=\"black\" fill=\"white\" stroke-width=\"1\" /><text x=\"1632.3453906250002\" y=\"425.0\" dominant-baseline=\"middle\" text-anchor=\"middle\" font-size=\"18px\" font-family=\"Arial:style=normal:variant=normal:weight=normal:stretch=normal:size=10.0\">X</text><rect x=\"1672.3453906250002\" y=\"5.0\" width=\"40\" height=\"40\" stroke=\"black\" fill=\"white\" stroke-width=\"1\" /><text x=\"1692.3453906250002\" y=\"25.0\" dominant-baseline=\"middle\" text-anchor=\"middle\" font-size=\"14px\" font-family=\"Arial:style=normal:variant=normal:weight=normal:stretch=normal:size=10.0\">(0)</text><circle cx=\"1692.3453906250002\" cy=\"275.0\" r=\"10.0\" /><rect x=\"1672.3453906250002\" y=\"305.0\" width=\"40\" height=\"40\" stroke=\"black\" fill=\"white\" stroke-width=\"1\" /><text x=\"1692.3453906250002\" y=\"325.0\" dominant-baseline=\"middle\" text-anchor=\"middle\" font-size=\"14px\" font-family=\"Arial:style=normal:variant=normal:weight=normal:stretch=normal:size=10.0\">(0)</text><rect x=\"1672.3453906250002\" y=\"55.0\" width=\"40\" height=\"40\" stroke=\"black\" fill=\"white\" stroke-width=\"1\" /><text x=\"1692.3453906250002\" y=\"75.0\" dominant-baseline=\"middle\" text-anchor=\"middle\" font-size=\"18px\" font-family=\"Arial:style=normal:variant=normal:weight=normal:stretch=normal:size=10.0\">X</text><circle cx=\"1753.65265625\" cy=\"275.0\" r=\"10.0\" /><rect x=\"1732.3453906250002\" y=\"305.0\" width=\"42.61453125\" height=\"40\" stroke=\"black\" fill=\"white\" stroke-width=\"1\" /><text x=\"1753.65265625\" y=\"325.0\" dominant-baseline=\"middle\" text-anchor=\"middle\" font-size=\"14px\" font-family=\"Arial:style=normal:variant=normal:weight=normal:stretch=normal:size=10.0\">(0)</text><rect x=\"1732.3453906250002\" y=\"105.0\" width=\"42.61453125\" height=\"40\" stroke=\"black\" fill=\"white\" stroke-width=\"1\" /><text x=\"1753.65265625\" y=\"125.0\" dominant-baseline=\"middle\" text-anchor=\"middle\" font-size=\"14px\" font-family=\"Arial:style=normal:variant=normal:weight=normal:stretch=normal:size=10.0\">Ry(0)</text><circle cx=\"1814.9599218750002\" cy=\"275.0\" r=\"10.0\" /><circle cx=\"1814.9599218750002\" cy=\"325.0\" r=\"10.0\" /><circle cx=\"1814.9599218750002\" cy=\"25.0\" r=\"10.0\" /><rect x=\"1794.9599218750002\" y=\"55.0\" width=\"40\" height=\"40\" stroke=\"black\" fill=\"white\" stroke-width=\"1\" /><text x=\"1814.9599218750002\" y=\"75.0\" dominant-baseline=\"middle\" text-anchor=\"middle\" font-size=\"18px\" font-family=\"Arial:style=normal:variant=normal:weight=normal:stretch=normal:size=10.0\">X</text><circle cx=\"1874.9599218750002\" cy=\"75.0\" r=\"10.0\" /><rect x=\"1854.9599218750002\" y=\"5.0\" width=\"40\" height=\"40\" stroke=\"black\" fill=\"white\" stroke-width=\"1\" /><text x=\"1874.9599218750002\" y=\"25.0\" dominant-baseline=\"middle\" text-anchor=\"middle\" font-size=\"18px\" font-family=\"Arial:style=normal:variant=normal:weight=normal:stretch=normal:size=10.0\">X</text><circle cx=\"1934.9599218750002\" cy=\"75.0\" r=\"10.0\" /><rect x=\"1914.9599218750002\" y=\"155.0\" width=\"40\" height=\"40\" stroke=\"black\" fill=\"white\" stroke-width=\"1\" /><text x=\"1934.9599218750002\" y=\"175.0\" dominant-baseline=\"middle\" text-anchor=\"middle\" font-size=\"18px\" font-family=\"Arial:style=normal:variant=normal:weight=normal:stretch=normal:size=10.0\">X</text><circle cx=\"2009.26572265625\" cy=\"375.0\" r=\"10.0\" /><circle cx=\"2009.26572265625\" cy=\"75.0\" r=\"10.0\" /><rect x=\"1974.9599218750002\" y=\"155.0\" width=\"68.6116015625\" height=\"40\" stroke=\"black\" fill=\"white\" stroke-width=\"1\" /><text x=\"2009.26572265625\" y=\"175.0\" dominant-baseline=\"middle\" text-anchor=\"middle\" font-size=\"14px\" font-family=\"Arial:style=normal:variant=normal:weight=normal:stretch=normal:size=10.0\">Ry(-0.5π)</text><circle cx=\"2083.5715234375\" cy=\"75.0\" r=\"10.0\" /><rect x=\"2063.5715234375\" y=\"355.0\" width=\"40\" height=\"40\" stroke=\"black\" fill=\"white\" stroke-width=\"1\" /><text x=\"2083.5715234375\" y=\"375.0\" dominant-baseline=\"middle\" text-anchor=\"middle\" font-size=\"18px\" font-family=\"Arial:style=normal:variant=normal:weight=normal:stretch=normal:size=10.0\">X</text><circle cx=\"2143.5715234375\" cy=\"75.0\" r=\"10.0\" /><rect x=\"2123.5715234375\" y=\"205.0\" width=\"40\" height=\"40\" stroke=\"black\" fill=\"white\" stroke-width=\"1\" /><text x=\"2143.5715234375\" y=\"225.0\" dominant-baseline=\"middle\" text-anchor=\"middle\" font-size=\"18px\" font-family=\"Arial:style=normal:variant=normal:weight=normal:stretch=normal:size=10.0\">X</text><rect x=\"2183.5715234375\" y=\"405.0\" width=\"68.6116015625\" height=\"40\" stroke=\"black\" fill=\"white\" stroke-width=\"1\" /><text x=\"2217.8773242187503\" y=\"425.0\" dominant-baseline=\"middle\" text-anchor=\"middle\" font-size=\"14px\" font-family=\"Arial:style=normal:variant=normal:weight=normal:stretch=normal:size=10.0\">(0)</text><circle cx=\"2217.8773242187503\" cy=\"75.0\" r=\"10.0\" /><rect x=\"2183.5715234375\" y=\"205.0\" width=\"68.6116015625\" height=\"40\" stroke=\"black\" fill=\"white\" stroke-width=\"1\" /><text x=\"2217.8773242187503\" y=\"225.0\" dominant-baseline=\"middle\" text-anchor=\"middle\" font-size=\"14px\" font-family=\"Arial:style=normal:variant=normal:weight=normal:stretch=normal:size=10.0\">Ry(-0.5π)</text><circle cx=\"2292.183125\" cy=\"75.0\" r=\"10.0\" /><rect x=\"2272.183125\" y=\"405.0\" width=\"40\" height=\"40\" stroke=\"black\" fill=\"white\" stroke-width=\"1\" /><text x=\"2292.183125\" y=\"425.0\" dominant-baseline=\"middle\" text-anchor=\"middle\" font-size=\"18px\" font-family=\"Arial:style=normal:variant=normal:weight=normal:stretch=normal:size=10.0\">X</text><rect x=\"2332.183125\" y=\"5.0\" width=\"40\" height=\"40\" stroke=\"black\" fill=\"white\" stroke-width=\"1\" /><text x=\"2352.183125\" y=\"25.0\" dominant-baseline=\"middle\" text-anchor=\"middle\" font-size=\"14px\" font-family=\"Arial:style=normal:variant=normal:weight=normal:stretch=normal:size=10.0\">(0)</text><circle cx=\"2352.183125\" cy=\"275.0\" r=\"10.0\" /><circle cx=\"2352.183125\" cy=\"325.0\" r=\"10.0\" /><rect x=\"2332.183125\" y=\"55.0\" width=\"40\" height=\"40\" stroke=\"black\" fill=\"white\" stroke-width=\"1\" /><text x=\"2352.183125\" y=\"75.0\" dominant-baseline=\"middle\" text-anchor=\"middle\" font-size=\"18px\" font-family=\"Arial:style=normal:variant=normal:weight=normal:stretch=normal:size=10.0\">X</text><circle cx=\"2413.490390625\" cy=\"275.0\" r=\"10.0\" /><circle cx=\"2413.490390625\" cy=\"325.0\" r=\"10.0\" /><rect x=\"2392.183125\" y=\"105.0\" width=\"42.61453125\" height=\"40\" stroke=\"black\" fill=\"white\" stroke-width=\"1\" /><text x=\"2413.490390625\" y=\"125.0\" dominant-baseline=\"middle\" text-anchor=\"middle\" font-size=\"14px\" font-family=\"Arial:style=normal:variant=normal:weight=normal:stretch=normal:size=10.0\">Ry(0)</text><rect x=\"2454.79765625\" y=\"255.0\" width=\"40\" height=\"40\" stroke=\"black\" fill=\"white\" stroke-width=\"1\" /><text x=\"2474.79765625\" y=\"275.0\" dominant-baseline=\"middle\" text-anchor=\"middle\" font-size=\"18px\" font-family=\"Arial:style=normal:variant=normal:weight=normal:stretch=normal:size=10.0\">H</text><rect x=\"2454.79765625\" y=\"305.0\" width=\"40\" height=\"40\" stroke=\"black\" fill=\"white\" stroke-width=\"1\" /><text x=\"2474.79765625\" y=\"325.0\" dominant-baseline=\"middle\" text-anchor=\"middle\" font-size=\"18px\" font-family=\"Arial:style=normal:variant=normal:weight=normal:stretch=normal:size=10.0\">H</text></svg>"
      ],
      "text/plain": [
       "<cirq.contrib.svg.svg.SVGCircuit at 0x2956e0dc0>"
      ]
     },
     "execution_count": 5,
     "metadata": {},
     "output_type": "execute_result"
    }
   ],
   "source": [
    "number_of_ancillae = 5\n",
    "number_of_index_qubits = max(int(np.ceil(np.log2(len(terms)))), 1)\n",
    "number_of_rotation_qubits = max(get_number_of_active_bosonic_modes(terms)) + 1\n",
    "\n",
    "# Declare Qubits\n",
    "circuit = cirq.Circuit()\n",
    "validation = cirq.LineQubit(0)\n",
    "clean_ancillae = [cirq.LineQubit(i + 1) for i in range(number_of_ancillae)]\n",
    "rotation_qubits = [\n",
    "    cirq.LineQubit(i + 1 + number_of_ancillae)\n",
    "    for i in range(number_of_rotation_qubits)\n",
    "]\n",
    "# rotation_qubits = [None] + rotation_qubits\n",
    "index_register = [\n",
    "    cirq.LineQubit(i + 1 + number_of_ancillae + 3)\n",
    "    for i in range(number_of_index_qubits)\n",
    "]\n",
    "system = System(\n",
    "    number_of_modes=number_of_modes,\n",
    "    maximum_occupation_number=maximum_occupation_number,\n",
    "    number_of_used_qubits=1 + number_of_ancillae + 3 + number_of_index_qubits,\n",
    "    has_fermions=False,\n",
    "    has_bosons=True,\n",
    ")\n",
    "for bosonic_reg in system.bosonic_system:\n",
    "    circuit.append(cirq.I.on_each(*bosonic_reg))\n",
    "\n",
    "# Generate full Block-Encoding circuit\n",
    "circuit.append(cirq.X.on(validation))\n",
    "circuit += add_naive_usp(index_register)\n",
    "circuit += add_lobe_oracle(\n",
    "    rescaled_terms,\n",
    "    validation,\n",
    "    index_register,\n",
    "    system,\n",
    "    rotation_qubits,\n",
    "    clean_ancillae,\n",
    "    perform_coefficient_oracle=True,\n",
    "    decompose=False\n",
    ")\n",
    "circuit += add_naive_usp(index_register)\n",
    "\n",
    "# with open(\"lobe.svg\", \"w\") as f:\n",
    "#     f.write(SVGCircuit(circuit)._repr_svg_())\n",
    "\n",
    "SVGCircuit(circuit)"
   ]
  },
  {
   "cell_type": "markdown",
   "metadata": {},
   "source": [
    "# Validate Block-Encoding"
   ]
  },
  {
   "cell_type": "code",
   "execution_count": 6,
   "metadata": {},
   "outputs": [],
   "source": [
    "upper_left_block = circuit.unitary(dtype=complex)[\n",
    "    : 1 << system.number_of_system_qubits, : 1 << system.number_of_system_qubits\n",
    "]\n",
    "block_encoding_scaling_factor = (1 << number_of_index_qubits)\n",
    "assert np.allclose(upper_left_block * block_encoding_scaling_factor * scaling_factor, matrix)"
   ]
  },
  {
   "cell_type": "markdown",
   "metadata": {},
   "source": [
    "### Overall Scaling Factor is:\n",
    "\n",
    "$$\n",
    "    S = 2^{\\lceil \\log_2{T} \\rceil} * \\max{|\\alpha_i|} * (\\Omega+1)^{B/2}\n",
    "$$\n",
    "\n",
    "where the variables are defined as follows:\n",
    "- S: overall scaling factor of encoded Hamiltonian in block-encoding\n",
    "- T: number of terms in Hamiltonian\n",
    "- $\\log_2{T}$: number of qubits used in index register\n",
    "- $\\alpha_i$: coefficient of term at index $i$\n",
    "- $\\max{|\\alpha_i|}$: largest magnitude of all coefficients\n",
    "- $\\Omega$: maximum occupation number for bosonic modes\n",
    "- $B$: maximum number of bosonic operators within a single term\n",
    "\n",
    "In the code above, `scaling_factor` represents $\\max{|\\alpha_i|} * (\\Omega+1)^{B/2}$ while `block_encoding_scaling_factor` represents $2^{\\lceil \\log_2{T} \\rceil}$."
   ]
  }
 ],
 "metadata": {
  "kernelspec": {
   "display_name": "lobe",
   "language": "python",
   "name": "python3"
  },
  "language_info": {
   "codemirror_mode": {
    "name": "ipython",
    "version": 3
   },
   "file_extension": ".py",
   "mimetype": "text/x-python",
   "name": "python",
   "nbconvert_exporter": "python",
   "pygments_lexer": "ipython3",
   "version": "3.9.6"
  }
 },
 "nbformat": 4,
 "nbformat_minor": 2
}
