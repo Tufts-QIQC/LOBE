{
 "cells": [
  {
   "cell_type": "code",
   "execution_count": 1,
   "metadata": {},
   "outputs": [],
   "source": [
    "import sys, os\n",
    "sys.path.append(os.path.join(os.path.dirname(os.path.realpath('__file__')), '..'))\n",
    "from openparticle import ParticleOperator, Fock, generate_matrix\n",
    "import numpy as np\n",
    "import math\n",
    "import cirq\n",
    "from time import time\n",
    "import matplotlib.pyplot as plt\n",
    "from src.lobe.system import System\n",
    "from src.lobe.block_encoding import add_lobe_oracle\n",
    "from cirq.contrib.svg import SVGCircuit\n",
    "from src.lobe.usp import add_naive_usp\n",
    "from src.lobe.asp import add_prepare_circuit, get_target_state\n",
    "from src.lobe.rescale import bosonically_rescale_terms, rescale_terms_usp, get_number_of_active_bosonic_modes\n",
    "from src.lobe._utils import get_basis_of_full_system\n",
    "from colors import *"
   ]
  },
  {
   "cell_type": "code",
   "execution_count": 2,
   "metadata": {},
   "outputs": [],
   "source": [
    "N = 200\n",
    "n = 3\n",
    "g = 1"
   ]
  },
  {
   "cell_type": "code",
   "execution_count": 3,
   "metadata": {},
   "outputs": [],
   "source": [
    "def one_ge(matrix):\n",
    "    n = len(matrix) - 1\n",
    "    A_eff = np.zeros((n, n))\n",
    "\n",
    "    for i in range(n):\n",
    "        for j in range(n):\n",
    "            A_eff[i][j] = matrix[i][j] - g * (matrix[i][n] * matrix[n][j])/(matrix[n][n])\n",
    "\n",
    "    return A_eff\n",
    "\n",
    "def ge_matrix(matrix, n):\n",
    "\n",
    "    N = len(matrix)\n",
    "\n",
    "    for _ in range(N - n):\n",
    "        matrix = one_ge(matrix)\n",
    "\n",
    "    return matrix"
   ]
  },
  {
   "cell_type": "code",
   "execution_count": 4,
   "metadata": {},
   "outputs": [],
   "source": [
    "def matel(k, l, g):\n",
    "    return (k + 3 * g * (2 * k ** 2 + 2 * k + 1)) * check_delta(k, l) +\\\n",
    "            g * (4 * l + 6) * np.sqrt((l + 1) * (l + 2)) * check_delta(k, l + 2) +\\\n",
    "            g * (4 * k + 6) * np.sqrt((k + 1) * (k + 2)) * check_delta(k + 2, l) +\\\n",
    "            g * np.sqrt((l + 1) * (l + 2) * (l + 3) * (l + 4)) * check_delta(k, l + 4) +\\\n",
    "            g * np.sqrt((k + 1) * (k + 2) * (k + 3) * (k + 4)) * check_delta(k + 4, l) \n",
    "\n",
    "def check_delta(k, l):\n",
    "    if k == l: return 1 \n",
    "    return 0"
   ]
  },
  {
   "cell_type": "code",
   "execution_count": 45,
   "metadata": {},
   "outputs": [],
   "source": [
    "def get_Hfull(N):\n",
    "    Hfull = np.zeros((N + 1, N + 1))\n",
    "\n",
    "    for i in range(N + 1):\n",
    "        for j in range(N + 1):\n",
    "            Hfull[i][j] = matel(i, j, g)\n",
    "    return Hfull"
   ]
  },
  {
   "cell_type": "code",
   "execution_count": 5,
   "metadata": {},
   "outputs": [
    {
     "data": {
      "text/plain": [
       "<matplotlib.image.AxesImage at 0x16753dd80>"
      ]
     },
     "execution_count": 5,
     "metadata": {},
     "output_type": "execute_result"
    },
    {
     "data": {
      "image/png": "[encoded data removed]",
      "text/plain": [
       "<Figure size 640x480 with 1 Axes>"
      ]
     },
     "metadata": {},
     "output_type": "display_data"
    }
   ],
   "source": [
    "Hfull = np.zeros((N + 1, N + 1))\n",
    "\n",
    "for i in range(N + 1):\n",
    "    for j in range(N + 1):\n",
    "        Hfull[i][j] = matel(i, j, g)\n",
    "vals, vecs = np.linalg.eigh(Hfull)\n",
    "\n",
    "\n",
    "plt.imshow(Hfull)"
   ]
  },
  {
   "cell_type": "code",
   "execution_count": 46,
   "metadata": {},
   "outputs": [],
   "source": [
    "def get_basis(N):\n",
    "    return [Fock([], [], [(0, l)]) for l in range(N + 1)]"
   ]
  },
  {
   "cell_type": "code",
   "execution_count": 15,
   "metadata": {},
   "outputs": [],
   "source": [
    "H = ParticleOperator('a0^ a0') + g * (ParticleOperator('a0^') + ParticleOperator('a0'))**4"
   ]
  },
  {
   "cell_type": "code",
   "execution_count": 25,
   "metadata": {},
   "outputs": [],
   "source": [
    "from openparticle.utils import get_matrix_element, overlap"
   ]
  },
  {
   "cell_type": "code",
   "execution_count": 60,
   "metadata": {},
   "outputs": [],
   "source": [
    "import time"
   ]
  },
  {
   "cell_type": "code",
   "execution_count": 99,
   "metadata": {},
   "outputs": [],
   "source": [
    "def test_overlap(i, j):\n",
    "    return (i.dagger() * ParticleOperator(j.op_dict)).VEV()\n"
   ]
  },
  {
   "cell_type": "code",
   "execution_count": 104,
   "metadata": {},
   "outputs": [
    {
     "data": {
      "text/plain": [
       "0.00052495065695726 * a0 a0 a0 a0 a0 a0 a0^ a0^ a0^ a0^ a0^ a0^ a0^ a0^ a0^ a0^ a0^\n",
       "0.017848322336546842 * a0 a0 a0 a0 a0 a0 a0^ a0^ a0^ a0^ a0^ a0^ a0^ a0^ a0^\n",
       "0.18163292730721198 * a0 a0 a0 a0 a0 a0 a0^ a0^ a0^ a0^ a0^ a0^ a0^\n",
       "0.5732461173973279 * a0 a0 a0 a0 a0 a0 a0^ a0^ a0^ a0^ a0^\n",
       "0.4409585518440984 * a0 a0 a0 a0 a0 a0 a0^ a0^ a0^"
      ]
     },
     "execution_count": 104,
     "metadata": {},
     "output_type": "execute_result"
    }
   ],
   "source": [
    "(basis[6].dagger() * ParticleOperator((H * basis[7]).op_dict))#.normal_order()"
   ]
  },
  {
   "cell_type": "code",
   "execution_count": 101,
   "metadata": {},
   "outputs": [
    {
     "data": {
      "text/plain": [
       "0"
      ]
     },
     "execution_count": 101,
     "metadata": {},
     "output_type": "execute_result"
    }
   ],
   "source": [
    "basis = get_basis(7)\n",
    "test_overlap(basis[6], H * basis[7])"
   ]
  },
  {
   "cell_type": "code",
   "execution_count": 105,
   "metadata": {},
   "outputs": [
    {
     "data": {
      "text/plain": [
       "True"
      ]
     },
     "execution_count": 105,
     "metadata": {},
     "output_type": "execute_result"
    }
   ],
   "source": [
    "np.allclose(\n",
    "    get_Hfull(7),\n",
    "    generate_matrix(H, get_basis(7))\n",
    ")"
   ]
  },
  {
   "cell_type": "code",
   "execution_count": 106,
   "metadata": {},
   "outputs": [],
   "source": [
    "def Hren_op(full_matrix, n):\n",
    "    H = ParticleOperator('a0^ a0') + g * (ParticleOperator('a0^') + ParticleOperator('a0'))**4\n",
    "\n",
    "    Heff = ge_matrix(full_matrix, n + 1)\n",
    "    basis = [Fock([], [], [(0, l)]) for l in range(n + 1)]\n",
    "\n",
    "    def delta_H(i, j):\n",
    "        return (Heff[:,:])[i,j] - full_matrix[i,j]\n",
    "    \n",
    "    H_eff_op = H + (\n",
    "        delta_H(n - 3, n - 3) / math.factorial(n - 3) * ParticleOperator('a0^') ** (n - 3) * ParticleOperator('a0') ** (n - 3) - \n",
    "        delta_H(n - 3, n - 3) / math.factorial(n - 3) * (ParticleOperator('a0^') ** (n - 2) * ParticleOperator('a0') ** (n - 2)) +\n",
    "        delta_H(n - 3, n - 3) / (2 * math.factorial(n - 3)) * (ParticleOperator('a0^') ** (n - 1) * ParticleOperator('a0') ** (n - 1)) -\n",
    "        delta_H(n - 3, n - 3) / (6 * math.factorial(n - 3)) * (ParticleOperator('a0^') ** n * ParticleOperator('a0') ** n) + \n",
    "        delta_H(n - 1, n - 1) / math.factorial(n - 1) * (ParticleOperator('a0^') ** (n - 1) * ParticleOperator('a0') ** (n - 1)) -\n",
    "        delta_H(n - 1, n - 1) / math.factorial(n - 1) * (ParticleOperator('a0^') ** n * ParticleOperator('a0') ** n) + \n",
    "        (delta_H(n - 3, n - 1) / math.sqrt(math.factorial(n - 3) * math.factorial(n - 1))) * (\n",
    "            ParticleOperator('a0^') ** (n - 3) * ParticleOperator('a0') ** (n - 1) - ParticleOperator('a0^') ** (n - 2) * ParticleOperator('a0') ** n\n",
    "        ) +\n",
    "        (delta_H(n - 1, n - 3) / math.sqrt(math.factorial(n - 3) * math.factorial(n - 1))) * (\n",
    "            ParticleOperator('a0^') ** (n - 1) * ParticleOperator('a0') ** (n - 3) - ParticleOperator('a0^') ** n * ParticleOperator('a0') ** (n - 2)\n",
    "        ) + \n",
    "        delta_H(n - 2, n - 2) / math.factorial(n - 2) * ParticleOperator('a0^') ** (n - 2) * ParticleOperator('a0') ** (n - 2) - \n",
    "        delta_H(n - 2, n - 2) / math.factorial(n - 2) * (ParticleOperator('a0^') ** (n - 1) * ParticleOperator('a0') ** (n - 1)) +\n",
    "        delta_H(n - 2, n - 2) / (2 * math.factorial(n - 2)) * (ParticleOperator('a0^') ** n * ParticleOperator('a0') ** n) -\n",
    "        delta_H(n - 2, n - 2) / (6 * math.factorial(n - 2)) * (ParticleOperator('a0^') ** (n + 1) * ParticleOperator('a0') ** (n + 1)) + \n",
    "        delta_H(n, n) / math.factorial(n) * (ParticleOperator('a0^') ** n * ParticleOperator('a0') ** n) -\n",
    "        delta_H(n, n) / math.factorial(n) * (ParticleOperator('a0^') ** (n + 1) * ParticleOperator('a0') ** (n + 1)) + \n",
    "        (delta_H(n - 2, n) / math.sqrt(math.factorial(n - 2) * math.factorial(n))) * (\n",
    "            ParticleOperator('a0^') ** (n - 2) * ParticleOperator('a0') ** n - ParticleOperator('a0^') ** (n - 1) * ParticleOperator('a0') ** (n + 1)\n",
    "        ) +\n",
    "        (delta_H(n, n - 2) / math.sqrt(math.factorial(n - 2) * math.factorial(n))) * (\n",
    "            ParticleOperator('a0^') ** n * ParticleOperator('a0') ** (n - 2) - ParticleOperator('a0^') ** (n + 1) * ParticleOperator('a0') ** (n - 1)\n",
    "        )\n",
    "    )\n",
    "    H_eff_op = ParticleOperator(H_eff_op.normal_order().op_dict)\n",
    "\n",
    "    energy_shift = 0\n",
    "    if '' in H_eff_op.op_dict.keys():\n",
    "        energy_shift += H_eff_op.op_dict['']\n",
    "    elif ' ' in H_eff_op.op_dict.keys():\n",
    "        energy_shift += H_eff_op.op_dict[' ']\n",
    "\n",
    "\n",
    "    H_eff_op.remove_identity()\n",
    "    return H_eff_op, energy_shift\n"
   ]
  },
  {
   "cell_type": "code",
   "execution_count": 107,
   "metadata": {},
   "outputs": [],
   "source": [
    "import math"
   ]
  },
  {
   "cell_type": "code",
   "execution_count": 108,
   "metadata": {},
   "outputs": [
    {
     "data": {
      "text/plain": [
       "1.0 * a0^ a0^ a0^ a0^\n",
       "4.0 * a0^ a0^ a0^ a0\n",
       "6.0 * a0^ a0^\n",
       "6.0 * a0^ a0^ a0 a0\n",
       "13.0 * a0^ a0\n",
       "4.0 * a0^ a0 a0 a0\n",
       "6.0 * a0 a0\n",
       "1.0 * a0 a0 a0 a0\n",
       "-0.4593524169670348 * a0^ a0^ a0^ a0^ a0 a0 a0 a0\n",
       "0.3250672728004602 * a0^ a0^ a0^ a0^ a0^ a0 a0 a0 a0 a0\n",
       "-0.32996340051351536 * a0^ a0^ a0^ a0^ a0^ a0^ a0 a0 a0 a0 a0 a0\n",
       "0.19924996545999313 * a0^ a0^ a0^ a0^ a0^ a0^ a0^ a0 a0 a0 a0 a0 a0 a0\n",
       "-0.3058454848451082 * a0^ a0^ a0^ a0^ a0 a0 a0 a0 a0 a0\n",
       "0.23358924504901207 * a0^ a0^ a0^ a0^ a0^ a0 a0 a0 a0 a0 a0 a0\n",
       "-0.3058454848451082 * a0^ a0^ a0^ a0^ a0^ a0^ a0 a0 a0 a0\n",
       "0.23358924504901207 * a0^ a0^ a0^ a0^ a0^ a0^ a0^ a0 a0 a0 a0 a0\n",
       "0.06711939217556037 * a0^ a0^ a0^ a0^ a0^ a0^ a0^ a0^ a0 a0 a0 a0 a0 a0 a0 a0\n",
       "0.07225623979609615 * a0^ a0^ a0^ a0^ a0^ a0^ a0 a0 a0 a0 a0 a0 a0 a0\n",
       "0.07225623979609615 * a0^ a0^ a0^ a0^ a0^ a0^ a0^ a0^ a0 a0 a0 a0 a0 a0"
      ]
     },
     "execution_count": 108,
     "metadata": {},
     "output_type": "execute_result"
    }
   ],
   "source": [
    "n = 3\n",
    "Hren_op(Hfull, 2**n - 1)[0]\n"
   ]
  },
  {
   "cell_type": "code",
   "execution_count": 111,
   "metadata": {},
   "outputs": [],
   "source": [
    "evals = []\n",
    "Estar = min(np.linalg.eigvalsh(Hfull))\n",
    "for nstar in [2, 3]:\n",
    "    h , deltaE = Hren_op(Hfull, 2**nstar - 1)\n",
    "    Heff_from_op = generate_matrix(h, basis[:2**nstar - 1 + 1])\n",
    "    evals.append(np.abs(Estar - (min(np.linalg.eigvalsh(Heff_from_op)) + deltaE)))"
   ]
  },
  {
   "cell_type": "code",
   "execution_count": 112,
   "metadata": {},
   "outputs": [],
   "source": [
    "plt.rcParams[\"font.family\"] = \"Times New Roman\"\n",
    "plt.rcParams['figure.dpi'] = 270"
   ]
  },
  {
   "cell_type": "code",
   "execution_count": 113,
   "metadata": {},
   "outputs": [
    {
     "data": {
      "text/plain": [
       "Text(0, 0.5, '$|\\\\lambda^* - \\\\tilde \\\\lambda_n|$')"
      ]
     },
     "execution_count": 113,
     "metadata": {},
     "output_type": "execute_result"
    },
    {
     "data": {
      "image/png": "[encoded data removed]",
      "text/plain": [
       "<Figure size 1728x1296 with 1 Axes>"
      ]
     },
     "metadata": {},
     "output_type": "display_data"
    }
   ],
   "source": [
    "plt.scatter([2**2 - 1, 2**3 - 1], evals)\n",
    "plt.yscale('symlog', linthresh = 1e-12)\n",
    "plt.xlabel('n')\n",
    "plt.ylabel(r'$|\\lambda^* - \\tilde \\lambda_n|$')"
   ]
  },
  {
   "cell_type": "code",
   "execution_count": null,
   "metadata": {},
   "outputs": [],
   "source": []
  },
  {
   "cell_type": "code",
   "execution_count": 35,
   "metadata": {},
   "outputs": [],
   "source": [
    "def generate_full_qosc_circuit(maximum_bosonic_occupation):\n",
    "\n",
    "    operator =  ParticleOperator('a0^ a0') + g * (ParticleOperator('a0^') + ParticleOperator('a0'))**4\n",
    "    terms = operator.to_list()\n",
    "\n",
    "    bosonically_rescaled_terms, bosonic_rescaling_factor = bosonically_rescale_terms(terms, maximum_bosonic_occupation)\n",
    "    coefficients = [term.coeff for term in bosonically_rescaled_terms]\n",
    "\n",
    "\n",
    "    norm = sum(np.abs(coefficients))\n",
    "    target_state = get_target_state(coefficients)\n",
    "    asp_rescaling_factor = (bosonic_rescaling_factor * norm)\n",
    "\n",
    "    number_of_modes = max([term.max_mode() for term in terms]) + 1\n",
    "\n",
    "    number_of_ancillae = (\n",
    "        1000  # Some arbitrary large number with most ancilla disregarded\n",
    "    )\n",
    "    number_of_index_qubits = max(int(np.ceil(np.log2(len(terms)))), 1)\n",
    "    number_of_rotation_qubits = max(get_number_of_active_bosonic_modes(terms)) + 1\n",
    "    \n",
    "    usp_rescaled_terms, usp_rescaling_factor = rescale_terms_usp(bosonically_rescaled_terms)\n",
    "    usp_rescaling_factor *= (bosonic_rescaling_factor * (1 << number_of_index_qubits))\n",
    "\n",
    "    # Declare Qubits\n",
    "    validation = cirq.LineQubit(0)\n",
    "    clean_ancillae = [cirq.LineQubit(i + 1) for i in range(number_of_ancillae)]\n",
    "    rotation_qubits = [\n",
    "        cirq.LineQubit(i + 1 + number_of_ancillae)\n",
    "        for i in range(number_of_rotation_qubits)\n",
    "    ]\n",
    "    index_register = [\n",
    "        cirq.LineQubit(i + 1 + number_of_ancillae + number_of_rotation_qubits)\n",
    "        for i in range(number_of_index_qubits)\n",
    "    ]\n",
    "    system = System(\n",
    "        number_of_modes=number_of_modes,\n",
    "        maximum_occupation_number=maximum_bosonic_occupation,\n",
    "        number_of_used_qubits=1\n",
    "        + number_of_ancillae\n",
    "        + number_of_rotation_qubits\n",
    "        + number_of_index_qubits,\n",
    "        has_fermions=operator.has_fermions,\n",
    "        has_antifermions=operator.has_antifermions,\n",
    "        has_bosons=operator.has_bosons,\n",
    "    )\n",
    "    \n",
    "    #### USP Circuit Generation\n",
    "    USP_numerics = {\n",
    "        \"left_elbows\": 0,\n",
    "        \"right_elbows\": 0,\n",
    "        \"rotations\": 0,\n",
    "        \"ancillae_tracker\": [1 + number_of_rotation_qubits + number_of_index_qubits],\n",
    "        \"angles\": [],\n",
    "        \"number_of_nonclifford_rotations\": 0,\n",
    "        \"rescaling_factor\": usp_rescaling_factor,\n",
    "        \"number_of_modes\": number_of_modes,\n",
    "        \"maximum_bosonic_occupation\": maximum_bosonic_occupation,\n",
    "        \"maximum_number_of_active_bosonic_modes\": number_of_rotation_qubits - 1,\n",
    "        \"number_of_terms\": len(terms),\n",
    "    }\n",
    "    circuit = cirq.Circuit()\n",
    "    circuit.append(cirq.I.on_each(*system.fermionic_register))\n",
    "    circuit.append(cirq.I.on_each(*system.antifermionic_register))\n",
    "    for bosonic_reg in system.bosonic_system:\n",
    "        circuit.append(cirq.I.on_each(*bosonic_reg))\n",
    "    circuit.append(cirq.X.on(validation))\n",
    "    circuit += add_naive_usp(index_register)\n",
    "    circuit += add_lobe_oracle(\n",
    "        usp_rescaled_terms,\n",
    "        validation,\n",
    "        index_register,\n",
    "        system,\n",
    "        rotation_qubits,\n",
    "        clean_ancillae,\n",
    "        perform_coefficient_oracle=True,\n",
    "        decompose=True,\n",
    "        numerics=USP_numerics,\n",
    "    )\n",
    "    circuit += add_naive_usp(index_register)\n",
    "    USP_numerics[\"number_of_ancillae\"] = max(USP_numerics[\"ancillae_tracker\"])\n",
    "    USP_numerics[\"number_of_qubits\"] = max(USP_numerics[\"ancillae_tracker\"]) + system.number_of_system_qubits\n",
    "    for angle in USP_numerics[\"angles\"]:\n",
    "        angle = np.abs(angle)\n",
    "        if not np.isclose(angle%np.pi/4, 0):\n",
    "            USP_numerics[\"number_of_nonclifford_rotations\"] += 1\n",
    "    \n",
    "    \n",
    "    #### ASP Circuit Generation\n",
    "    ASP_numerics = {\n",
    "        \"left_elbows\": 0,\n",
    "        \"right_elbows\": 0,\n",
    "        \"rotations\": 0,\n",
    "        \"ancillae_tracker\": [1 + number_of_rotation_qubits - 1 + number_of_index_qubits],\n",
    "        \"angles\": [],\n",
    "        \"number_of_nonclifford_rotations\": 0,\n",
    "        \"rescaling_factor\": asp_rescaling_factor,\n",
    "        \"number_of_modes\": number_of_modes,\n",
    "        \"maximum_bosonic_occupation\": maximum_bosonic_occupation,\n",
    "        \"maximum_number_of_active_bosonic_modes\": number_of_rotation_qubits - 1,\n",
    "        \"number_of_terms\": len(terms)\n",
    "    }\n",
    "    circuit = cirq.Circuit()\n",
    "    circuit.append(cirq.I.on_each(*system.fermionic_register))\n",
    "    circuit.append(cirq.I.on_each(*system.antifermionic_register))\n",
    "    for bosonic_reg in system.bosonic_system:\n",
    "        circuit.append(cirq.I.on_each(*bosonic_reg))\n",
    "    circuit.append(cirq.X.on(validation))\n",
    "    circuit += add_prepare_circuit(\n",
    "        index_register,\n",
    "        target_state=target_state,\n",
    "        numerics=ASP_numerics,\n",
    "        clean_ancillae=clean_ancillae\n",
    "    )\n",
    "    circuit += add_lobe_oracle(\n",
    "        bosonically_rescaled_terms,\n",
    "        validation,\n",
    "        index_register,\n",
    "        system,\n",
    "        rotation_qubits,\n",
    "        clean_ancillae,\n",
    "        perform_coefficient_oracle=False,\n",
    "        decompose=True,\n",
    "        numerics=ASP_numerics,\n",
    "    )\n",
    "    circuit += add_prepare_circuit(\n",
    "        index_register,\n",
    "        target_state=target_state,\n",
    "        dagger=True,\n",
    "        numerics=ASP_numerics,\n",
    "        clean_ancillae=clean_ancillae\n",
    "    )\n",
    "    ASP_numerics[\"number_of_ancillae\"] = max(ASP_numerics[\"ancillae_tracker\"])\n",
    "    ASP_numerics[\"number_of_qubits\"] = max(ASP_numerics[\"ancillae_tracker\"]) + system.number_of_system_qubits\n",
    "    for angle in ASP_numerics[\"angles\"]:\n",
    "        angle = np.abs(angle)\n",
    "        if not np.isclose(angle%np.pi/4, 0):\n",
    "            ASP_numerics[\"number_of_nonclifford_rotations\"] += 1\n",
    "    \n",
    "    return {\n",
    "        \"USP\": USP_numerics,\n",
    "        \"ASP\": ASP_numerics \n",
    "    }"
   ]
  },
  {
   "cell_type": "code",
   "execution_count": 36,
   "metadata": {},
   "outputs": [],
   "source": [
    "def generate_qosc_circuit(maximum_bosonic_occupation):\n",
    "\n",
    "    operator =  Hren_op(Hfull, maximum_bosonic_occupation)[0]\n",
    "    terms = operator.to_list()\n",
    "\n",
    "    bosonically_rescaled_terms, bosonic_rescaling_factor = bosonically_rescale_terms(terms, maximum_bosonic_occupation)\n",
    "    coefficients = [term.coeff for term in bosonically_rescaled_terms]\n",
    "\n",
    "\n",
    "    norm = sum(np.abs(coefficients))\n",
    "    target_state = get_target_state(coefficients)\n",
    "    asp_rescaling_factor = (bosonic_rescaling_factor * norm)\n",
    "\n",
    "    number_of_modes = max([term.max_mode() for term in terms]) + 1\n",
    "\n",
    "    number_of_ancillae = (\n",
    "        1000  # Some arbitrary large number with most ancilla disregarded\n",
    "    )\n",
    "    number_of_index_qubits = max(int(np.ceil(np.log2(len(terms)))), 1)\n",
    "    number_of_rotation_qubits = max(get_number_of_active_bosonic_modes(terms)) + 1\n",
    "    \n",
    "    usp_rescaled_terms, usp_rescaling_factor = rescale_terms_usp(bosonically_rescaled_terms)\n",
    "    usp_rescaling_factor *= (bosonic_rescaling_factor * (1 << number_of_index_qubits))\n",
    "\n",
    "    # Declare Qubits\n",
    "    validation = cirq.LineQubit(0)\n",
    "    clean_ancillae = [cirq.LineQubit(i + 1) for i in range(number_of_ancillae)]\n",
    "    rotation_qubits = [\n",
    "        cirq.LineQubit(i + 1 + number_of_ancillae)\n",
    "        for i in range(number_of_rotation_qubits)\n",
    "    ]\n",
    "    index_register = [\n",
    "        cirq.LineQubit(i + 1 + number_of_ancillae + number_of_rotation_qubits)\n",
    "        for i in range(number_of_index_qubits)\n",
    "    ]\n",
    "    system = System(\n",
    "        number_of_modes=number_of_modes,\n",
    "        maximum_occupation_number=maximum_bosonic_occupation,\n",
    "        number_of_used_qubits=1\n",
    "        + number_of_ancillae\n",
    "        + number_of_rotation_qubits\n",
    "        + number_of_index_qubits,\n",
    "        has_fermions=operator.has_fermions,\n",
    "        has_antifermions=operator.has_antifermions,\n",
    "        has_bosons=operator.has_bosons,\n",
    "    )\n",
    "    \n",
    "    #### USP Circuit Generation\n",
    "    USP_numerics = {\n",
    "        \"left_elbows\": 0,\n",
    "        \"right_elbows\": 0,\n",
    "        \"rotations\": 0,\n",
    "        \"ancillae_tracker\": [1 + number_of_rotation_qubits + number_of_index_qubits],\n",
    "        \"angles\": [],\n",
    "        \"number_of_nonclifford_rotations\": 0,\n",
    "        \"rescaling_factor\": usp_rescaling_factor,\n",
    "        \"number_of_modes\": number_of_modes,\n",
    "        \"maximum_bosonic_occupation\": maximum_bosonic_occupation,\n",
    "        \"maximum_number_of_active_bosonic_modes\": number_of_rotation_qubits - 1,\n",
    "        \"number_of_terms\": len(terms),\n",
    "    }\n",
    "    circuit = cirq.Circuit()\n",
    "    circuit.append(cirq.I.on_each(*system.fermionic_register))\n",
    "    circuit.append(cirq.I.on_each(*system.antifermionic_register))\n",
    "    for bosonic_reg in system.bosonic_system:\n",
    "        circuit.append(cirq.I.on_each(*bosonic_reg))\n",
    "    circuit.append(cirq.X.on(validation))\n",
    "    circuit += add_naive_usp(index_register)\n",
    "    circuit += add_lobe_oracle(\n",
    "        usp_rescaled_terms,\n",
    "        validation,\n",
    "        index_register,\n",
    "        system,\n",
    "        rotation_qubits,\n",
    "        clean_ancillae,\n",
    "        perform_coefficient_oracle=True,\n",
    "        decompose=True,\n",
    "        numerics=USP_numerics,\n",
    "    )\n",
    "    circuit += add_naive_usp(index_register)\n",
    "    USP_numerics[\"number_of_ancillae\"] = max(USP_numerics[\"ancillae_tracker\"])\n",
    "    USP_numerics[\"number_of_qubits\"] = max(USP_numerics[\"ancillae_tracker\"]) + system.number_of_system_qubits\n",
    "    for angle in USP_numerics[\"angles\"]:\n",
    "        angle = np.abs(angle)\n",
    "        if not np.isclose(angle%np.pi/4, 0):\n",
    "            USP_numerics[\"number_of_nonclifford_rotations\"] += 1\n",
    "    \n",
    "    \n",
    "    #### ASP Circuit Generation\n",
    "    ASP_numerics = {\n",
    "        \"left_elbows\": 0,\n",
    "        \"right_elbows\": 0,\n",
    "        \"rotations\": 0,\n",
    "        \"ancillae_tracker\": [1 + number_of_rotation_qubits - 1 + number_of_index_qubits],\n",
    "        \"angles\": [],\n",
    "        \"number_of_nonclifford_rotations\": 0,\n",
    "        \"rescaling_factor\": asp_rescaling_factor,\n",
    "        \"number_of_modes\": number_of_modes,\n",
    "        \"maximum_bosonic_occupation\": maximum_bosonic_occupation,\n",
    "        \"maximum_number_of_active_bosonic_modes\": number_of_rotation_qubits - 1,\n",
    "        \"number_of_terms\": len(terms)\n",
    "    }\n",
    "    circuit = cirq.Circuit()\n",
    "    circuit.append(cirq.I.on_each(*system.fermionic_register))\n",
    "    circuit.append(cirq.I.on_each(*system.antifermionic_register))\n",
    "    for bosonic_reg in system.bosonic_system:\n",
    "        circuit.append(cirq.I.on_each(*bosonic_reg))\n",
    "    circuit.append(cirq.X.on(validation))\n",
    "    circuit += add_prepare_circuit(\n",
    "        index_register,\n",
    "        target_state=target_state,\n",
    "        numerics=ASP_numerics,\n",
    "        clean_ancillae=clean_ancillae\n",
    "    )\n",
    "    circuit += add_lobe_oracle(\n",
    "        bosonically_rescaled_terms,\n",
    "        validation,\n",
    "        index_register,\n",
    "        system,\n",
    "        rotation_qubits,\n",
    "        clean_ancillae,\n",
    "        perform_coefficient_oracle=False,\n",
    "        decompose=True,\n",
    "        numerics=ASP_numerics,\n",
    "    )\n",
    "    circuit += add_prepare_circuit(\n",
    "        index_register,\n",
    "        target_state=target_state,\n",
    "        dagger=True,\n",
    "        numerics=ASP_numerics,\n",
    "        clean_ancillae=clean_ancillae\n",
    "    )\n",
    "    ASP_numerics[\"number_of_ancillae\"] = max(ASP_numerics[\"ancillae_tracker\"])\n",
    "    ASP_numerics[\"number_of_qubits\"] = max(ASP_numerics[\"ancillae_tracker\"]) + system.number_of_system_qubits\n",
    "    for angle in ASP_numerics[\"angles\"]:\n",
    "        angle = np.abs(angle)\n",
    "        if not np.isclose(angle%np.pi/4, 0):\n",
    "            ASP_numerics[\"number_of_nonclifford_rotations\"] += 1\n",
    "    \n",
    "    return {\n",
    "        \"USP\": USP_numerics,\n",
    "        \"ASP\": ASP_numerics \n",
    "    }"
   ]
  },
  {
   "cell_type": "code",
   "execution_count": 37,
   "metadata": {},
   "outputs": [
    {
     "name": "stdout",
     "output_type": "stream",
     "text": [
      "----1 of 5----\n",
      "* 1.8 (s) *\n",
      "----2 of 5----\n",
      "* 1.8 (s) *\n",
      "----3 of 5----\n",
      "* 1.9 (s) *\n",
      "----4 of 5----\n",
      "* 2.2 (s) *\n",
      "----5 of 5----\n",
      "* 2.3 (s) *\n"
     ]
    }
   ],
   "source": [
    "occupation_cutoff_range = [2**i - 1 for i in [2, 3, 4, 5, 6]]\n",
    "\n",
    "DATA_FOR_FIXED_I = []\n",
    "for occupation_cutoff in occupation_cutoff_range:\n",
    "    start = time()\n",
    "    print(\"----{} of {}----\".format(len(DATA_FOR_FIXED_I) + 1, len(occupation_cutoff_range)))\n",
    "    DATA_FOR_FIXED_I.append(generate_qosc_circuit(occupation_cutoff))\n",
    "    print(\"* {} (s) *\".format(round(time() - start, 1)))\n",
    "DATA_FOR_FIXED_I.append(generate_full_qosc_circuit(N + 1))\n",
    "occupation_cutoff_range += [N + 1]"
   ]
  },
  {
   "cell_type": "code",
   "execution_count": 38,
   "metadata": {},
   "outputs": [
    {
     "data": {
      "image/png": "[encoded data removed]",
      "text/plain": [
       "<Figure size 629.921x236.22 with 3 Axes>"
      ]
     },
     "metadata": {},
     "output_type": "display_data"
    }
   ],
   "source": [
    "fig, axes = plt.subplots(1, 3, figsize=(16 / 2.54, 6 / 2.54))\n",
    "\n",
    "numbers_of_terms = [DATA_POINT[\"USP\"][\"number_of_terms\"] for DATA_POINT in DATA_FOR_FIXED_I]\n",
    "M_vals = [DATA_POINT[\"USP\"][\"maximum_number_of_active_bosonic_modes\"] for DATA_POINT in DATA_FOR_FIXED_I]\n",
    "# rotation_upper_bound = [(L*M*(fix_Omega+3)) for L, M in zip(numbers_of_terms, M_vals)]\n",
    "# elbow_upper_bound = [(L + L*I + L*M*(fix_Omega + np.log2(fix_Omega))) for L, M, I in zip(numbers_of_terms, M_vals, number_of_modes_range)]\n",
    "\n",
    "left_elbows_usp = [DATA_POINT[\"USP\"][\"left_elbows\"] for DATA_POINT in DATA_FOR_FIXED_I]\n",
    "right_elbows_usp = [DATA_POINT[\"USP\"][\"right_elbows\"] for DATA_POINT in DATA_FOR_FIXED_I]\n",
    "rotations_usp = [DATA_POINT[\"USP\"][\"rotations\"] for DATA_POINT in DATA_FOR_FIXED_I]\n",
    "nonclifford_rotations_usp = [DATA_POINT[\"USP\"][\"number_of_nonclifford_rotations\"] for DATA_POINT in DATA_FOR_FIXED_I]\n",
    "rescaling_factors_usp = [DATA_POINT[\"USP\"][\"rescaling_factor\"] for DATA_POINT in DATA_FOR_FIXED_I]\n",
    "numbers_of_qubits_usp = [DATA_POINT[\"USP\"][\"number_of_qubits\"] for DATA_POINT in DATA_FOR_FIXED_I]\n",
    "numbers_of_ancillae_usp = [DATA_POINT[\"USP\"][\"number_of_ancillae\"] for DATA_POINT in DATA_FOR_FIXED_I]\n",
    "\n",
    "left_elbows_asp = [DATA_POINT[\"ASP\"][\"left_elbows\"] for DATA_POINT in DATA_FOR_FIXED_I]\n",
    "right_elbows_asp = [DATA_POINT[\"ASP\"][\"right_elbows\"] for DATA_POINT in DATA_FOR_FIXED_I]\n",
    "rotations_asp = [DATA_POINT[\"ASP\"][\"rotations\"] for DATA_POINT in DATA_FOR_FIXED_I]\n",
    "nonclifford_rotations_asp = [DATA_POINT[\"ASP\"][\"number_of_nonclifford_rotations\"] for DATA_POINT in DATA_FOR_FIXED_I]\n",
    "rescaling_factors_asp = [DATA_POINT[\"ASP\"][\"rescaling_factor\"] for DATA_POINT in DATA_FOR_FIXED_I]\n",
    "numbers_of_qubits_asp = [DATA_POINT[\"ASP\"][\"number_of_qubits\"] for DATA_POINT in DATA_FOR_FIXED_I]\n",
    "numbers_of_ancillae_asp = [DATA_POINT[\"ASP\"][\"number_of_ancillae\"] for DATA_POINT in DATA_FOR_FIXED_I]\n",
    "\n",
    "axes[0].plot(occupation_cutoff_range, nonclifford_rotations_usp, color=BLUE, marker='s', alpha = 1)\n",
    "axes[0].plot(occupation_cutoff_range, nonclifford_rotations_asp, color=ORANGE, marker='.', alpha = 1)\n",
    "# axes[0].plot(occupation_cutoff_range, rotation_upper_bound, color=RED, ls='--', alpha = 1)\n",
    "axes[0].set_ylabel(\"Number of Rotations\")\n",
    "axes[0].set_xlabel(\"Occupation Cutoff ($\\\\Omega$)\")\n",
    "\n",
    "axes[1].plot(occupation_cutoff_range, left_elbows_usp, color=BLUE, marker='s', alpha = 1)\n",
    "axes[1].plot(occupation_cutoff_range, left_elbows_asp, color=ORANGE, marker='.', alpha = 1)\n",
    "# axes[1].plot(occupation_cutoff_range, elbow_upper_bound, color=RED, ls='--', alpha = 1)\n",
    "axes[1].set_ylabel(\"Number of Left-Elbows\")\n",
    "axes[1].set_xlabel(\"Occupation Cutoff ($\\\\Omega$)\")\n",
    "\n",
    "axes[2].plot(occupation_cutoff_range, right_elbows_usp, color=BLUE, marker='s', alpha = 1)\n",
    "axes[2].plot(occupation_cutoff_range, right_elbows_asp, color=ORANGE, marker='.', alpha = 1)\n",
    "# axes[2].plot(occupation_cutoff_range, elbow_upper_bound, color=RED, ls='--', alpha = 1)\n",
    "axes[2].set_ylabel(\"Number of Right-Elbows\")\n",
    "axes[2].set_xlabel(\"Occupation Cutoff ($\\\\Omega$)\")\n",
    "\n",
    "axes[0].set_yticks([0, 1000, 2000, 3000, 4000])\n",
    "axes[1].set_yticks([0, 1000, 2000, 3000, 4000])\n",
    "axes[2].set_yticks([0, 1000, 2000, 3000, 4000])\n",
    "axes[0].set_yticklabels([0, 1000, 2000, 3000, 4000])\n",
    "axes[1].set_yticklabels([])\n",
    "axes[2].set_yticklabels([])\n",
    "\n",
    "plt.tight_layout()"
   ]
  },
  {
   "cell_type": "code",
   "execution_count": 39,
   "metadata": {},
   "outputs": [
    {
     "data": {
      "image/png": "[encoded data removed]",
      "text/plain": [
       "<Figure size 472.441x236.22 with 2 Axes>"
      ]
     },
     "metadata": {},
     "output_type": "display_data"
    }
   ],
   "source": [
    "fig, axes = plt.subplots(1, 2, figsize=(12 / 2.54, 6 / 2.54))\n",
    "\n",
    "# axes[0].plot(occupation_cutoff_range, numbers_of_qubits_usp, color=BLUE, marker='s', alpha = 1)\n",
    "# axes[0].plot(occupation_cutoff_range, numbers_of_qubits_asp, color=ORANGE, marker='.', alpha = 1)\n",
    "# axes[0].set_ylabel(\"Number of Qubits\")\n",
    "# axes[0].set_xlabel(\"Occupation Cutoff ($\\\\Omega$)\")\n",
    "\n",
    "axes[0].plot(occupation_cutoff_range, numbers_of_ancillae_usp, color=BLUE, marker='s', alpha = 1)\n",
    "axes[0].plot(occupation_cutoff_range, numbers_of_ancillae_asp, color=ORANGE, marker='.', alpha = 1)\n",
    "axes[0].set_ylabel(\"Number of Ancillae\")\n",
    "axes[0].set_xlabel(\"Occupation Cutoff ($\\\\Omega$)\")\n",
    "\n",
    "axes[1].plot(occupation_cutoff_range, rescaling_factors_usp, color=BLUE, marker='s', alpha = 1)\n",
    "axes[1].plot(occupation_cutoff_range, rescaling_factors_asp, color=ORANGE, marker='.', alpha = 1)\n",
    "axes[1].set_ylabel(\"Rescaling Factor ($\\\\lambda$)\")\n",
    "axes[1].set_xlabel(\"Occupation Cutoff ($\\\\Omega$)\")\n",
    "axes[1].set_yscale(\"log\")\n",
    "# axes[1].set_xscale(\"log\")\n",
    "\n",
    "axes[1].set_yscale('log')\n",
    "plt.tight_layout()"
   ]
  },
  {
   "cell_type": "code",
   "execution_count": 304,
   "metadata": {},
   "outputs": [
    {
     "data": {
      "text/plain": [
       "1.0 * a0^ a0^ a0^ a0^\n",
       "4.0 * a0^ a0^ a0^ a0\n",
       "6.0 * a0^ a0^\n",
       "6.0 * a0^ a0^ a0 a0\n",
       "13.0 * a0^ a0\n",
       "4.0 * a0^ a0 a0 a0\n",
       "6.0 * a0 a0\n",
       "1.0 * a0 a0 a0 a0\n",
       "-1.7326138215582737e-07 * a0^ a0^ a0^ a0^ a0^ a0^ a0^ a0^ a0^ a0^ a0^ a0^ a0 a0 a0 a0 a0 a0 a0 a0 a0 a0 a0 a0\n",
       "1.5764605981255562e-07 * a0^ a0^ a0^ a0^ a0^ a0^ a0^ a0^ a0^ a0^ a0^ a0^ a0^ a0 a0 a0 a0 a0 a0 a0 a0 a0 a0 a0 a0 a0\n",
       "-8.092034063199879e-08 * a0^ a0^ a0^ a0^ a0^ a0^ a0^ a0^ a0^ a0^ a0^ a0^ a0^ a0^ a0 a0 a0 a0 a0 a0 a0 a0 a0 a0 a0 a0 a0 a0\n",
       "3.021738999247975e-08 * a0^ a0^ a0^ a0^ a0^ a0^ a0^ a0^ a0^ a0^ a0^ a0^ a0^ a0^ a0^ a0 a0 a0 a0 a0 a0 a0 a0 a0 a0 a0 a0 a0 a0 a0\n",
       "-3.862864838057474e-08 * a0^ a0^ a0^ a0^ a0^ a0^ a0^ a0^ a0^ a0^ a0^ a0^ a0 a0 a0 a0 a0 a0 a0 a0 a0 a0 a0 a0 a0 a0\n",
       "3.542350048953457e-08 * a0^ a0^ a0^ a0^ a0^ a0^ a0^ a0^ a0^ a0^ a0^ a0^ a0^ a0 a0 a0 a0 a0 a0 a0 a0 a0 a0 a0 a0 a0 a0 a0\n",
       "-3.862864838057474e-08 * a0^ a0^ a0^ a0^ a0^ a0^ a0^ a0^ a0^ a0^ a0^ a0^ a0^ a0^ a0 a0 a0 a0 a0 a0 a0 a0 a0 a0 a0 a0\n",
       "3.542350048953457e-08 * a0^ a0^ a0^ a0^ a0^ a0^ a0^ a0^ a0^ a0^ a0^ a0^ a0^ a0^ a0^ a0 a0 a0 a0 a0 a0 a0 a0 a0 a0 a0 a0 a0\n",
       "3.3593714830910794e-09 * a0^ a0^ a0^ a0^ a0^ a0^ a0^ a0^ a0^ a0^ a0^ a0^ a0^ a0^ a0^ a0^ a0 a0 a0 a0 a0 a0 a0 a0 a0 a0 a0 a0 a0 a0 a0 a0\n",
       "3.205147891040168e-09 * a0^ a0^ a0^ a0^ a0^ a0^ a0^ a0^ a0^ a0^ a0^ a0^ a0^ a0^ a0 a0 a0 a0 a0 a0 a0 a0 a0 a0 a0 a0 a0 a0 a0 a0\n",
       "3.205147891040168e-09 * a0^ a0^ a0^ a0^ a0^ a0^ a0^ a0^ a0^ a0^ a0^ a0^ a0^ a0^ a0^ a0^ a0 a0 a0 a0 a0 a0 a0 a0 a0 a0 a0 a0 a0 a0"
      ]
     },
     "execution_count": 304,
     "metadata": {},
     "output_type": "execute_result"
    }
   ],
   "source": [
    "h, deltaE = Hren_op(Hfull, 2**4 - 1)\n",
    "h"
   ]
  }
 ],
 "metadata": {
  "kernelspec": {
   "display_name": "phd",
   "language": "python",
   "name": "python3"
  },
  "language_info": {
   "codemirror_mode": {
    "name": "ipython",
    "version": 3
   },
   "file_extension": ".py",
   "mimetype": "text/x-python",
   "name": "python",
   "nbconvert_exporter": "python",
   "pygments_lexer": "ipython3",
   "version": "3.10.15"
  },
  "orig_nbformat": 4
 },
 "nbformat": 4,
 "nbformat_minor": 2
}
