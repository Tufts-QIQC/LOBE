{
 "cells": [
  {
   "cell_type": "code",
   "execution_count": 1,
   "metadata": {},
   "outputs": [],
   "source": [
    "import numpy as np\n",
    "import cirq\n",
    "import matplotlib.pyplot as plt\n",
    "from cirq.contrib.svg import SVGCircuit\n",
    "\n",
    "import sys, os\n",
    "sys.path.append(os.path.join(os.path.dirname(os.path.realpath('__file__')), '../../..'))\n",
    "\n",
    "from src.lobe.fermionic import fermionic_product_block_encoding, fermionic_plus_hc_block_encoding\n",
    "from src.lobe.system import System"
   ]
  },
  {
   "cell_type": "markdown",
   "metadata": {},
   "source": [
    "# Fermionic Ladder Operators"
   ]
  },
  {
   "cell_type": "markdown",
   "metadata": {},
   "source": [
    "## Creation Operator"
   ]
  },
  {
   "cell_type": "code",
   "execution_count": 2,
   "metadata": {},
   "outputs": [
    {
     "name": "stdout",
     "output_type": "stream",
     "text": [
      "Number of Clean Ancillae:  1\n",
      "Number of Elbows:  1\n"
     ]
    },
    {
     "data": {
      "image/svg+xml": [
       "<svg xmlns=\"http://www.w3.org/2000/svg\" width=\"340.0\" height=\"150.0\"><line x1=\"30.0\" x2=\"310.0\" y1=\"25.0\" y2=\"25.0\" stroke=\"#1967d2\" stroke-width=\"1\" /><line x1=\"30.0\" x2=\"310.0\" y1=\"75.0\" y2=\"75.0\" stroke=\"#1967d2\" stroke-width=\"1\" /><line x1=\"30.0\" x2=\"310.0\" y1=\"125.0\" y2=\"125.0\" stroke=\"#1967d2\" stroke-width=\"1\" /><line x1=\"150.0\" x2=\"150.0\" y1=\"25.0\" y2=\"125.0\" stroke=\"black\" stroke-width=\"3\" /><line x1=\"210.0\" x2=\"210.0\" y1=\"25.0\" y2=\"75.0\" stroke=\"black\" stroke-width=\"3\" /><line x1=\"270.0\" x2=\"270.0\" y1=\"25.0\" y2=\"125.0\" stroke=\"black\" stroke-width=\"3\" /><rect x=\"10.0\" y=\"5.0\" width=\"40\" height=\"40\" stroke=\"black\" fill=\"white\" stroke-width=\"0\" /><text x=\"30.0\" y=\"25.0\" dominant-baseline=\"middle\" text-anchor=\"middle\" font-size=\"14px\" font-family=\"Arial:style=normal:variant=normal:weight=normal:stretch=normal:size=10.0\">0: </text><rect x=\"10.0\" y=\"55.0\" width=\"40\" height=\"40\" stroke=\"black\" fill=\"white\" stroke-width=\"0\" /><text x=\"30.0\" y=\"75.0\" dominant-baseline=\"middle\" text-anchor=\"middle\" font-size=\"14px\" font-family=\"Arial:style=normal:variant=normal:weight=normal:stretch=normal:size=10.0\">1: </text><rect x=\"10.0\" y=\"105.0\" width=\"40\" height=\"40\" stroke=\"black\" fill=\"white\" stroke-width=\"0\" /><text x=\"30.0\" y=\"125.0\" dominant-baseline=\"middle\" text-anchor=\"middle\" font-size=\"14px\" font-family=\"Arial:style=normal:variant=normal:weight=normal:stretch=normal:size=10.0\">2: </text><rect x=\"70.0\" y=\"55.0\" width=\"40\" height=\"40\" stroke=\"black\" fill=\"white\" stroke-width=\"1\" /><text x=\"90.0\" y=\"75.0\" dominant-baseline=\"middle\" text-anchor=\"middle\" font-size=\"18px\" font-family=\"Arial:style=normal:variant=normal:weight=normal:stretch=normal:size=10.0\">I</text><rect x=\"70.0\" y=\"105.0\" width=\"40\" height=\"40\" stroke=\"black\" fill=\"white\" stroke-width=\"1\" /><text x=\"90.0\" y=\"125.0\" dominant-baseline=\"middle\" text-anchor=\"middle\" font-size=\"18px\" font-family=\"Arial:style=normal:variant=normal:weight=normal:stretch=normal:size=10.0\">I</text><circle cx=\"150.0\" cy=\"25.0\" r=\"10.0\" /><circle cx=\"150.0\" cy=\"125.0\" r=\"10.0\" /><rect x=\"130.0\" y=\"55.0\" width=\"40\" height=\"40\" stroke=\"black\" fill=\"white\" stroke-width=\"1\" /><text x=\"150.0\" y=\"75.0\" dominant-baseline=\"middle\" text-anchor=\"middle\" font-size=\"18px\" font-family=\"Arial:style=normal:variant=normal:weight=normal:stretch=normal:size=10.0\">X</text><circle cx=\"210.0\" cy=\"25.0\" r=\"10.0\" /><circle cx=\"210.0\" cy=\"75.0\" r=\"10.0\" /><circle cx=\"270.0\" cy=\"25.0\" r=\"10.0\" /><rect x=\"250.0\" y=\"105.0\" width=\"40\" height=\"40\" stroke=\"black\" fill=\"white\" stroke-width=\"1\" /><text x=\"270.0\" y=\"125.0\" dominant-baseline=\"middle\" text-anchor=\"middle\" font-size=\"18px\" font-family=\"Arial:style=normal:variant=normal:weight=normal:stretch=normal:size=10.0\">X</text></svg>"
      ],
      "text/plain": [
       "<cirq.contrib.svg.svg.SVGCircuit at 0x14ebed430>"
      ]
     },
     "execution_count": 2,
     "metadata": {},
     "output_type": "execute_result"
    }
   ],
   "source": [
    "ctrls = ([cirq.LineQubit(0)], [1])\n",
    "block_encoding_ancilla = [cirq.LineQubit(1)]\n",
    "clean_ancillae = [cirq.LineQubit(-1-i) for i in range(10)]\n",
    "system = System(2, 1, 2, True)\n",
    "gates = [cirq.I.on_each(system.fermionic_modes)]\n",
    "\n",
    "_gates, metrics = fermionic_product_block_encoding(\n",
    "    system,\n",
    "    block_encoding_ancilla,\n",
    "    [1],\n",
    "    [1],\n",
    "    clean_ancillae=clean_ancillae,\n",
    "    ctrls=ctrls\n",
    ")\n",
    "gates += _gates\n",
    "\n",
    "print(\"Number of Clean Ancillae: \", metrics.ancillae_highwater())\n",
    "print(\"Number of Elbows: \", metrics.number_of_elbows)\n",
    "SVGCircuit(cirq.Circuit(gates))"
   ]
  },
  {
   "cell_type": "markdown",
   "metadata": {},
   "source": [
    "## Annihilation Operator"
   ]
  },
  {
   "cell_type": "code",
   "execution_count": 3,
   "metadata": {},
   "outputs": [
    {
     "name": "stdout",
     "output_type": "stream",
     "text": [
      "Number of Clean Ancillae:  1\n",
      "Number of Elbows:  1\n"
     ]
    },
    {
     "data": {
      "image/svg+xml": [
       "<svg xmlns=\"http://www.w3.org/2000/svg\" width=\"340.0\" height=\"150.0\"><line x1=\"30.0\" x2=\"310.0\" y1=\"25.0\" y2=\"25.0\" stroke=\"#1967d2\" stroke-width=\"1\" /><line x1=\"30.0\" x2=\"310.0\" y1=\"75.0\" y2=\"75.0\" stroke=\"#1967d2\" stroke-width=\"1\" /><line x1=\"30.0\" x2=\"310.0\" y1=\"125.0\" y2=\"125.0\" stroke=\"#1967d2\" stroke-width=\"1\" /><line x1=\"150.0\" x2=\"150.0\" y1=\"25.0\" y2=\"125.0\" stroke=\"black\" stroke-width=\"3\" /><line x1=\"210.0\" x2=\"210.0\" y1=\"25.0\" y2=\"75.0\" stroke=\"black\" stroke-width=\"3\" /><line x1=\"270.0\" x2=\"270.0\" y1=\"25.0\" y2=\"125.0\" stroke=\"black\" stroke-width=\"3\" /><rect x=\"10.0\" y=\"5.0\" width=\"40\" height=\"40\" stroke=\"black\" fill=\"white\" stroke-width=\"0\" /><text x=\"30.0\" y=\"25.0\" dominant-baseline=\"middle\" text-anchor=\"middle\" font-size=\"14px\" font-family=\"Arial:style=normal:variant=normal:weight=normal:stretch=normal:size=10.0\">0: </text><rect x=\"10.0\" y=\"55.0\" width=\"40\" height=\"40\" stroke=\"black\" fill=\"white\" stroke-width=\"0\" /><text x=\"30.0\" y=\"75.0\" dominant-baseline=\"middle\" text-anchor=\"middle\" font-size=\"14px\" font-family=\"Arial:style=normal:variant=normal:weight=normal:stretch=normal:size=10.0\">1: </text><rect x=\"10.0\" y=\"105.0\" width=\"40\" height=\"40\" stroke=\"black\" fill=\"white\" stroke-width=\"0\" /><text x=\"30.0\" y=\"125.0\" dominant-baseline=\"middle\" text-anchor=\"middle\" font-size=\"14px\" font-family=\"Arial:style=normal:variant=normal:weight=normal:stretch=normal:size=10.0\">2: </text><rect x=\"70.0\" y=\"55.0\" width=\"40\" height=\"40\" stroke=\"black\" fill=\"white\" stroke-width=\"1\" /><text x=\"90.0\" y=\"75.0\" dominant-baseline=\"middle\" text-anchor=\"middle\" font-size=\"18px\" font-family=\"Arial:style=normal:variant=normal:weight=normal:stretch=normal:size=10.0\">I</text><rect x=\"70.0\" y=\"105.0\" width=\"40\" height=\"40\" stroke=\"black\" fill=\"white\" stroke-width=\"1\" /><text x=\"90.0\" y=\"125.0\" dominant-baseline=\"middle\" text-anchor=\"middle\" font-size=\"18px\" font-family=\"Arial:style=normal:variant=normal:weight=normal:stretch=normal:size=10.0\">I</text><circle cx=\"150.0\" cy=\"25.0\" r=\"10.0\" /><rect x=\"130.0\" y=\"105.0\" width=\"40\" height=\"40\" stroke=\"black\" fill=\"white\" stroke-width=\"1\" /><text x=\"150.0\" y=\"125.0\" dominant-baseline=\"middle\" text-anchor=\"middle\" font-size=\"14px\" font-family=\"Arial:style=normal:variant=normal:weight=normal:stretch=normal:size=10.0\">(0)</text><rect x=\"130.0\" y=\"55.0\" width=\"40\" height=\"40\" stroke=\"black\" fill=\"white\" stroke-width=\"1\" /><text x=\"150.0\" y=\"75.0\" dominant-baseline=\"middle\" text-anchor=\"middle\" font-size=\"18px\" font-family=\"Arial:style=normal:variant=normal:weight=normal:stretch=normal:size=10.0\">X</text><circle cx=\"210.0\" cy=\"25.0\" r=\"10.0\" /><circle cx=\"210.0\" cy=\"75.0\" r=\"10.0\" /><circle cx=\"270.0\" cy=\"25.0\" r=\"10.0\" /><rect x=\"250.0\" y=\"105.0\" width=\"40\" height=\"40\" stroke=\"black\" fill=\"white\" stroke-width=\"1\" /><text x=\"270.0\" y=\"125.0\" dominant-baseline=\"middle\" text-anchor=\"middle\" font-size=\"18px\" font-family=\"Arial:style=normal:variant=normal:weight=normal:stretch=normal:size=10.0\">X</text></svg>"
      ],
      "text/plain": [
       "<cirq.contrib.svg.svg.SVGCircuit at 0x14ec182e0>"
      ]
     },
     "execution_count": 3,
     "metadata": {},
     "output_type": "execute_result"
    }
   ],
   "source": [
    "ctrls = ([cirq.LineQubit(0)], [1])\n",
    "block_encoding_ancilla = [cirq.LineQubit(1)]\n",
    "clean_ancillae = [cirq.LineQubit(-1-i) for i in range(10)]\n",
    "system = System(2, 1, 2, True)\n",
    "gates = [cirq.I.on_each(system.fermionic_modes)]\n",
    "\n",
    "_gates, metrics = fermionic_product_block_encoding(\n",
    "    system,\n",
    "    block_encoding_ancilla,\n",
    "    [1],\n",
    "    [0],\n",
    "    clean_ancillae=clean_ancillae,\n",
    "    ctrls=ctrls\n",
    ")\n",
    "gates += _gates\n",
    "\n",
    "print(\"Number of Clean Ancillae: \", metrics.ancillae_highwater())\n",
    "print(\"Number of Elbows: \", metrics.number_of_elbows)\n",
    "SVGCircuit(cirq.Circuit(gates))"
   ]
  },
  {
   "cell_type": "markdown",
   "metadata": {},
   "source": [
    "# Products of Fermionic Ladder Operators"
   ]
  },
  {
   "cell_type": "markdown",
   "metadata": {},
   "source": [
    "## Number Operator"
   ]
  },
  {
   "cell_type": "code",
   "execution_count": 4,
   "metadata": {},
   "outputs": [
    {
     "name": "stdout",
     "output_type": "stream",
     "text": [
      "Number of Clean Ancillae:  1\n",
      "Number of Elbows:  1\n"
     ]
    },
    {
     "data": {
      "image/svg+xml": [
       "<svg xmlns=\"http://www.w3.org/2000/svg\" width=\"220.0\" height=\"150.0\"><line x1=\"30.0\" x2=\"190.0\" y1=\"25.0\" y2=\"25.0\" stroke=\"#1967d2\" stroke-width=\"1\" /><line x1=\"30.0\" x2=\"190.0\" y1=\"75.0\" y2=\"75.0\" stroke=\"#1967d2\" stroke-width=\"1\" /><line x1=\"30.0\" x2=\"190.0\" y1=\"125.0\" y2=\"125.0\" stroke=\"#1967d2\" stroke-width=\"1\" /><line x1=\"150.0\" x2=\"150.0\" y1=\"25.0\" y2=\"125.0\" stroke=\"black\" stroke-width=\"3\" /><rect x=\"10.0\" y=\"5.0\" width=\"40\" height=\"40\" stroke=\"black\" fill=\"white\" stroke-width=\"0\" /><text x=\"30.0\" y=\"25.0\" dominant-baseline=\"middle\" text-anchor=\"middle\" font-size=\"14px\" font-family=\"Arial:style=normal:variant=normal:weight=normal:stretch=normal:size=10.0\">0: </text><rect x=\"10.0\" y=\"55.0\" width=\"40\" height=\"40\" stroke=\"black\" fill=\"white\" stroke-width=\"0\" /><text x=\"30.0\" y=\"75.0\" dominant-baseline=\"middle\" text-anchor=\"middle\" font-size=\"14px\" font-family=\"Arial:style=normal:variant=normal:weight=normal:stretch=normal:size=10.0\">1: </text><rect x=\"10.0\" y=\"105.0\" width=\"40\" height=\"40\" stroke=\"black\" fill=\"white\" stroke-width=\"0\" /><text x=\"30.0\" y=\"125.0\" dominant-baseline=\"middle\" text-anchor=\"middle\" font-size=\"14px\" font-family=\"Arial:style=normal:variant=normal:weight=normal:stretch=normal:size=10.0\">2: </text><rect x=\"70.0\" y=\"55.0\" width=\"40\" height=\"40\" stroke=\"black\" fill=\"white\" stroke-width=\"1\" /><text x=\"90.0\" y=\"75.0\" dominant-baseline=\"middle\" text-anchor=\"middle\" font-size=\"18px\" font-family=\"Arial:style=normal:variant=normal:weight=normal:stretch=normal:size=10.0\">I</text><rect x=\"70.0\" y=\"105.0\" width=\"40\" height=\"40\" stroke=\"black\" fill=\"white\" stroke-width=\"1\" /><text x=\"90.0\" y=\"125.0\" dominant-baseline=\"middle\" text-anchor=\"middle\" font-size=\"18px\" font-family=\"Arial:style=normal:variant=normal:weight=normal:stretch=normal:size=10.0\">I</text><circle cx=\"150.0\" cy=\"25.0\" r=\"10.0\" /><rect x=\"130.0\" y=\"105.0\" width=\"40\" height=\"40\" stroke=\"black\" fill=\"white\" stroke-width=\"1\" /><text x=\"150.0\" y=\"125.0\" dominant-baseline=\"middle\" text-anchor=\"middle\" font-size=\"14px\" font-family=\"Arial:style=normal:variant=normal:weight=normal:stretch=normal:size=10.0\">(0)</text><rect x=\"130.0\" y=\"55.0\" width=\"40\" height=\"40\" stroke=\"black\" fill=\"white\" stroke-width=\"1\" /><text x=\"150.0\" y=\"75.0\" dominant-baseline=\"middle\" text-anchor=\"middle\" font-size=\"18px\" font-family=\"Arial:style=normal:variant=normal:weight=normal:stretch=normal:size=10.0\">X</text></svg>"
      ],
      "text/plain": [
       "<cirq.contrib.svg.svg.SVGCircuit at 0x14ec18e80>"
      ]
     },
     "execution_count": 4,
     "metadata": {},
     "output_type": "execute_result"
    }
   ],
   "source": [
    "ctrls = ([cirq.LineQubit(0)], [1])\n",
    "block_encoding_ancilla = [cirq.LineQubit(1)]\n",
    "clean_ancillae = [cirq.LineQubit(-1-i) for i in range(10)]\n",
    "system = System(2, 1, 2, True)\n",
    "gates = [cirq.I.on_each(system.fermionic_modes)]\n",
    "\n",
    "_gates, metrics = fermionic_product_block_encoding(\n",
    "    system,\n",
    "    block_encoding_ancilla,\n",
    "    [1],\n",
    "    [2],\n",
    "    clean_ancillae=clean_ancillae,\n",
    "    ctrls=ctrls\n",
    ")\n",
    "gates += _gates\n",
    "\n",
    "print(\"Number of Clean Ancillae: \", metrics.ancillae_highwater())\n",
    "print(\"Number of Elbows: \", metrics.number_of_elbows)\n",
    "SVGCircuit(cirq.Circuit(gates))"
   ]
  },
  {
   "cell_type": "markdown",
   "metadata": {},
   "source": [
    "## Two Number Operators"
   ]
  },
  {
   "cell_type": "code",
   "execution_count": 5,
   "metadata": {},
   "outputs": [
    {
     "name": "stdout",
     "output_type": "stream",
     "text": [
      "Number of Clean Ancillae:  2\n",
      "Number of Elbows:  2\n"
     ]
    },
    {
     "data": {
      "image/svg+xml": [
       "<svg xmlns=\"http://www.w3.org/2000/svg\" width=\"340.0\" height=\"200.0\"><line x1=\"30.0\" x2=\"310.0\" y1=\"25.0\" y2=\"25.0\" stroke=\"#1967d2\" stroke-width=\"1\" /><line x1=\"30.0\" x2=\"310.0\" y1=\"75.0\" y2=\"75.0\" stroke=\"#1967d2\" stroke-width=\"1\" /><line x1=\"30.0\" x2=\"310.0\" y1=\"125.0\" y2=\"125.0\" stroke=\"#1967d2\" stroke-width=\"1\" /><line x1=\"30.0\" x2=\"310.0\" y1=\"175.0\" y2=\"175.0\" stroke=\"#1967d2\" stroke-width=\"1\" /><line x1=\"150.0\" x2=\"150.0\" y1=\"25.0\" y2=\"175.0\" stroke=\"black\" stroke-width=\"3\" /><line x1=\"210.0\" x2=\"210.0\" y1=\"25.0\" y2=\"125.0\" stroke=\"black\" stroke-width=\"3\" /><line x1=\"270.0\" x2=\"270.0\" y1=\"25.0\" y2=\"175.0\" stroke=\"black\" stroke-width=\"3\" /><rect x=\"10.0\" y=\"5.0\" width=\"40\" height=\"40\" stroke=\"black\" fill=\"white\" stroke-width=\"0\" /><text x=\"30.0\" y=\"25.0\" dominant-baseline=\"middle\" text-anchor=\"middle\" font-size=\"14px\" font-family=\"Arial:style=normal:variant=normal:weight=normal:stretch=normal:size=10.0\">-1: </text><rect x=\"10.0\" y=\"55.0\" width=\"40\" height=\"40\" stroke=\"black\" fill=\"white\" stroke-width=\"0\" /><text x=\"30.0\" y=\"75.0\" dominant-baseline=\"middle\" text-anchor=\"middle\" font-size=\"14px\" font-family=\"Arial:style=normal:variant=normal:weight=normal:stretch=normal:size=10.0\">0: </text><rect x=\"10.0\" y=\"105.0\" width=\"40\" height=\"40\" stroke=\"black\" fill=\"white\" stroke-width=\"0\" /><text x=\"30.0\" y=\"125.0\" dominant-baseline=\"middle\" text-anchor=\"middle\" font-size=\"14px\" font-family=\"Arial:style=normal:variant=normal:weight=normal:stretch=normal:size=10.0\">1: </text><rect x=\"10.0\" y=\"155.0\" width=\"40\" height=\"40\" stroke=\"black\" fill=\"white\" stroke-width=\"0\" /><text x=\"30.0\" y=\"175.0\" dominant-baseline=\"middle\" text-anchor=\"middle\" font-size=\"14px\" font-family=\"Arial:style=normal:variant=normal:weight=normal:stretch=normal:size=10.0\">2: </text><rect x=\"70.0\" y=\"105.0\" width=\"40\" height=\"40\" stroke=\"black\" fill=\"white\" stroke-width=\"1\" /><text x=\"90.0\" y=\"125.0\" dominant-baseline=\"middle\" text-anchor=\"middle\" font-size=\"18px\" font-family=\"Arial:style=normal:variant=normal:weight=normal:stretch=normal:size=10.0\">I</text><rect x=\"70.0\" y=\"155.0\" width=\"40\" height=\"40\" stroke=\"black\" fill=\"white\" stroke-width=\"1\" /><text x=\"90.0\" y=\"175.0\" dominant-baseline=\"middle\" text-anchor=\"middle\" font-size=\"18px\" font-family=\"Arial:style=normal:variant=normal:weight=normal:stretch=normal:size=10.0\">I</text><circle cx=\"150.0\" cy=\"125.0\" r=\"10.0\" /><circle cx=\"150.0\" cy=\"175.0\" r=\"10.0\" /><rect x=\"130.0\" y=\"5.0\" width=\"40\" height=\"40\" stroke=\"black\" fill=\"white\" stroke-width=\"1\" /><text x=\"150.0\" y=\"25.0\" dominant-baseline=\"middle\" text-anchor=\"middle\" font-size=\"18px\" font-family=\"Arial:style=normal:variant=normal:weight=normal:stretch=normal:size=10.0\">X</text><circle cx=\"210.0\" cy=\"75.0\" r=\"10.0\" /><rect x=\"190.0\" y=\"5.0\" width=\"40\" height=\"40\" stroke=\"black\" fill=\"white\" stroke-width=\"1\" /><text x=\"210.0\" y=\"25.0\" dominant-baseline=\"middle\" text-anchor=\"middle\" font-size=\"14px\" font-family=\"Arial:style=normal:variant=normal:weight=normal:stretch=normal:size=10.0\">(0)</text><rect x=\"190.0\" y=\"105.0\" width=\"40\" height=\"40\" stroke=\"black\" fill=\"white\" stroke-width=\"1\" /><text x=\"210.0\" y=\"125.0\" dominant-baseline=\"middle\" text-anchor=\"middle\" font-size=\"18px\" font-family=\"Arial:style=normal:variant=normal:weight=normal:stretch=normal:size=10.0\">X</text><circle cx=\"270.0\" cy=\"125.0\" r=\"10.0\" /><circle cx=\"270.0\" cy=\"175.0\" r=\"10.0\" /><rect x=\"250.0\" y=\"5.0\" width=\"40\" height=\"40\" stroke=\"black\" fill=\"white\" stroke-width=\"1\" /><text x=\"270.0\" y=\"25.0\" dominant-baseline=\"middle\" text-anchor=\"middle\" font-size=\"18px\" font-family=\"Arial:style=normal:variant=normal:weight=normal:stretch=normal:size=10.0\">X</text></svg>"
      ],
      "text/plain": [
       "<cirq.contrib.svg.svg.SVGCircuit at 0x14ec18eb0>"
      ]
     },
     "execution_count": 5,
     "metadata": {},
     "output_type": "execute_result"
    }
   ],
   "source": [
    "ctrls = ([cirq.LineQubit(0)], [1])\n",
    "block_encoding_ancilla = [cirq.LineQubit(1)]\n",
    "clean_ancillae = [cirq.LineQubit(-1-i) for i in range(10)]\n",
    "system = System(2, 1, 2, True)\n",
    "gates = [cirq.I.on_each(system.fermionic_modes)]\n",
    "\n",
    "_gates, metrics = fermionic_product_block_encoding(\n",
    "    system,\n",
    "    block_encoding_ancilla,\n",
    "    [0, 1],\n",
    "    [2, 2],\n",
    "    clean_ancillae=clean_ancillae,\n",
    "    ctrls=ctrls\n",
    ")\n",
    "gates += _gates\n",
    "\n",
    "print(\"Number of Clean Ancillae: \", metrics.ancillae_highwater())\n",
    "print(\"Number of Elbows: \", metrics.number_of_elbows)\n",
    "SVGCircuit(cirq.Circuit(gates))"
   ]
  },
  {
   "cell_type": "markdown",
   "metadata": {},
   "source": [
    "## Operator: $b_0 b_0^\\dagger$"
   ]
  },
  {
   "cell_type": "code",
   "execution_count": 6,
   "metadata": {},
   "outputs": [
    {
     "name": "stdout",
     "output_type": "stream",
     "text": [
      "Number of Clean Ancillae:  2\n",
      "Number of Elbows:  2\n"
     ]
    },
    {
     "data": {
      "image/svg+xml": [
       "<svg xmlns=\"http://www.w3.org/2000/svg\" width=\"880.0\" height=\"400.0\"><line x1=\"30.0\" x2=\"850.0\" y1=\"25.0\" y2=\"25.0\" stroke=\"#1967d2\" stroke-width=\"1\" /><line x1=\"30.0\" x2=\"850.0\" y1=\"75.0\" y2=\"75.0\" stroke=\"#1967d2\" stroke-width=\"1\" /><line x1=\"30.0\" x2=\"850.0\" y1=\"125.0\" y2=\"125.0\" stroke=\"#1967d2\" stroke-width=\"1\" /><line x1=\"30.0\" x2=\"850.0\" y1=\"175.0\" y2=\"175.0\" stroke=\"#1967d2\" stroke-width=\"1\" /><line x1=\"30.0\" x2=\"850.0\" y1=\"225.0\" y2=\"225.0\" stroke=\"#1967d2\" stroke-width=\"1\" /><line x1=\"30.0\" x2=\"850.0\" y1=\"275.0\" y2=\"275.0\" stroke=\"#1967d2\" stroke-width=\"1\" /><line x1=\"30.0\" x2=\"850.0\" y1=\"325.0\" y2=\"325.0\" stroke=\"#1967d2\" stroke-width=\"1\" /><line x1=\"30.0\" x2=\"850.0\" y1=\"375.0\" y2=\"375.0\" stroke=\"#1967d2\" stroke-width=\"1\" /><line x1=\"150.0\" x2=\"150.0\" y1=\"25.0\" y2=\"375.0\" stroke=\"black\" stroke-width=\"3\" /><line x1=\"210.0\" x2=\"210.0\" y1=\"25.0\" y2=\"125.0\" stroke=\"black\" stroke-width=\"3\" /><line x1=\"270.0\" x2=\"270.0\" y1=\"25.0\" y2=\"375.0\" stroke=\"black\" stroke-width=\"3\" /><line x1=\"330.0\" x2=\"330.0\" y1=\"75.0\" y2=\"175.0\" stroke=\"black\" stroke-width=\"3\" /><line x1=\"390.0\" x2=\"390.0\" y1=\"75.0\" y2=\"225.0\" stroke=\"black\" stroke-width=\"3\" /><line x1=\"450.0\" x2=\"450.0\" y1=\"75.0\" y2=\"275.0\" stroke=\"black\" stroke-width=\"3\" /><line x1=\"510.0\" x2=\"510.0\" y1=\"75.0\" y2=\"325.0\" stroke=\"black\" stroke-width=\"3\" /><line x1=\"570.0\" x2=\"570.0\" y1=\"75.0\" y2=\"375.0\" stroke=\"black\" stroke-width=\"3\" /><line x1=\"630.0\" x2=\"630.0\" y1=\"75.0\" y2=\"175.0\" stroke=\"black\" stroke-width=\"3\" /><line x1=\"690.0\" x2=\"690.0\" y1=\"75.0\" y2=\"225.0\" stroke=\"black\" stroke-width=\"3\" /><line x1=\"750.0\" x2=\"750.0\" y1=\"75.0\" y2=\"275.0\" stroke=\"black\" stroke-width=\"3\" /><line x1=\"810.0\" x2=\"810.0\" y1=\"75.0\" y2=\"325.0\" stroke=\"black\" stroke-width=\"3\" /><rect x=\"10.0\" y=\"5.0\" width=\"40\" height=\"40\" stroke=\"black\" fill=\"white\" stroke-width=\"0\" /><text x=\"30.0\" y=\"25.0\" dominant-baseline=\"middle\" text-anchor=\"middle\" font-size=\"14px\" font-family=\"Arial:style=normal:variant=normal:weight=normal:stretch=normal:size=10.0\">-1: </text><rect x=\"10.0\" y=\"55.0\" width=\"40\" height=\"40\" stroke=\"black\" fill=\"white\" stroke-width=\"0\" /><text x=\"30.0\" y=\"75.0\" dominant-baseline=\"middle\" text-anchor=\"middle\" font-size=\"14px\" font-family=\"Arial:style=normal:variant=normal:weight=normal:stretch=normal:size=10.0\">0: </text><rect x=\"10.0\" y=\"105.0\" width=\"40\" height=\"40\" stroke=\"black\" fill=\"white\" stroke-width=\"0\" /><text x=\"30.0\" y=\"125.0\" dominant-baseline=\"middle\" text-anchor=\"middle\" font-size=\"14px\" font-family=\"Arial:style=normal:variant=normal:weight=normal:stretch=normal:size=10.0\">1: </text><rect x=\"10.0\" y=\"155.0\" width=\"40\" height=\"40\" stroke=\"black\" fill=\"white\" stroke-width=\"0\" /><text x=\"30.0\" y=\"175.0\" dominant-baseline=\"middle\" text-anchor=\"middle\" font-size=\"14px\" font-family=\"Arial:style=normal:variant=normal:weight=normal:stretch=normal:size=10.0\">100: </text><rect x=\"10.0\" y=\"205.0\" width=\"40\" height=\"40\" stroke=\"black\" fill=\"white\" stroke-width=\"0\" /><text x=\"30.0\" y=\"225.0\" dominant-baseline=\"middle\" text-anchor=\"middle\" font-size=\"14px\" font-family=\"Arial:style=normal:variant=normal:weight=normal:stretch=normal:size=10.0\">101: </text><rect x=\"10.0\" y=\"255.0\" width=\"40\" height=\"40\" stroke=\"black\" fill=\"white\" stroke-width=\"0\" /><text x=\"30.0\" y=\"275.0\" dominant-baseline=\"middle\" text-anchor=\"middle\" font-size=\"14px\" font-family=\"Arial:style=normal:variant=normal:weight=normal:stretch=normal:size=10.0\">102: </text><rect x=\"10.0\" y=\"305.0\" width=\"40\" height=\"40\" stroke=\"black\" fill=\"white\" stroke-width=\"0\" /><text x=\"30.0\" y=\"325.0\" dominant-baseline=\"middle\" text-anchor=\"middle\" font-size=\"14px\" font-family=\"Arial:style=normal:variant=normal:weight=normal:stretch=normal:size=10.0\">103: </text><rect x=\"10.0\" y=\"355.0\" width=\"40\" height=\"40\" stroke=\"black\" fill=\"white\" stroke-width=\"0\" /><text x=\"30.0\" y=\"375.0\" dominant-baseline=\"middle\" text-anchor=\"middle\" font-size=\"14px\" font-family=\"Arial:style=normal:variant=normal:weight=normal:stretch=normal:size=10.0\">104: </text><rect x=\"70.0\" y=\"155.0\" width=\"40\" height=\"40\" stroke=\"black\" fill=\"white\" stroke-width=\"1\" /><text x=\"90.0\" y=\"175.0\" dominant-baseline=\"middle\" text-anchor=\"middle\" font-size=\"18px\" font-family=\"Arial:style=normal:variant=normal:weight=normal:stretch=normal:size=10.0\">I</text><rect x=\"70.0\" y=\"205.0\" width=\"40\" height=\"40\" stroke=\"black\" fill=\"white\" stroke-width=\"1\" /><text x=\"90.0\" y=\"225.0\" dominant-baseline=\"middle\" text-anchor=\"middle\" font-size=\"18px\" font-family=\"Arial:style=normal:variant=normal:weight=normal:stretch=normal:size=10.0\">I</text><rect x=\"70.0\" y=\"255.0\" width=\"40\" height=\"40\" stroke=\"black\" fill=\"white\" stroke-width=\"1\" /><text x=\"90.0\" y=\"275.0\" dominant-baseline=\"middle\" text-anchor=\"middle\" font-size=\"18px\" font-family=\"Arial:style=normal:variant=normal:weight=normal:stretch=normal:size=10.0\">I</text><rect x=\"70.0\" y=\"305.0\" width=\"40\" height=\"40\" stroke=\"black\" fill=\"white\" stroke-width=\"1\" /><text x=\"90.0\" y=\"325.0\" dominant-baseline=\"middle\" text-anchor=\"middle\" font-size=\"18px\" font-family=\"Arial:style=normal:variant=normal:weight=normal:stretch=normal:size=10.0\">I</text><rect x=\"70.0\" y=\"355.0\" width=\"40\" height=\"40\" stroke=\"black\" fill=\"white\" stroke-width=\"1\" /><text x=\"90.0\" y=\"375.0\" dominant-baseline=\"middle\" text-anchor=\"middle\" font-size=\"18px\" font-family=\"Arial:style=normal:variant=normal:weight=normal:stretch=normal:size=10.0\">I</text><rect x=\"130.0\" y=\"355.0\" width=\"40\" height=\"40\" stroke=\"black\" fill=\"white\" stroke-width=\"1\" /><text x=\"150.0\" y=\"375.0\" dominant-baseline=\"middle\" text-anchor=\"middle\" font-size=\"14px\" font-family=\"Arial:style=normal:variant=normal:weight=normal:stretch=normal:size=10.0\">(0)</text><rect x=\"130.0\" y=\"305.0\" width=\"40\" height=\"40\" stroke=\"black\" fill=\"white\" stroke-width=\"1\" /><text x=\"150.0\" y=\"325.0\" dominant-baseline=\"middle\" text-anchor=\"middle\" font-size=\"14px\" font-family=\"Arial:style=normal:variant=normal:weight=normal:stretch=normal:size=10.0\">(0)</text><rect x=\"130.0\" y=\"5.0\" width=\"40\" height=\"40\" stroke=\"black\" fill=\"white\" stroke-width=\"1\" /><text x=\"150.0\" y=\"25.0\" dominant-baseline=\"middle\" text-anchor=\"middle\" font-size=\"18px\" font-family=\"Arial:style=normal:variant=normal:weight=normal:stretch=normal:size=10.0\">X</text><circle cx=\"210.0\" cy=\"75.0\" r=\"10.0\" /><rect x=\"190.0\" y=\"5.0\" width=\"40\" height=\"40\" stroke=\"black\" fill=\"white\" stroke-width=\"1\" /><text x=\"210.0\" y=\"25.0\" dominant-baseline=\"middle\" text-anchor=\"middle\" font-size=\"14px\" font-family=\"Arial:style=normal:variant=normal:weight=normal:stretch=normal:size=10.0\">(0)</text><rect x=\"190.0\" y=\"105.0\" width=\"40\" height=\"40\" stroke=\"black\" fill=\"white\" stroke-width=\"1\" /><text x=\"210.0\" y=\"125.0\" dominant-baseline=\"middle\" text-anchor=\"middle\" font-size=\"18px\" font-family=\"Arial:style=normal:variant=normal:weight=normal:stretch=normal:size=10.0\">X</text><rect x=\"250.0\" y=\"355.0\" width=\"40\" height=\"40\" stroke=\"black\" fill=\"white\" stroke-width=\"1\" /><text x=\"270.0\" y=\"375.0\" dominant-baseline=\"middle\" text-anchor=\"middle\" font-size=\"14px\" font-family=\"Arial:style=normal:variant=normal:weight=normal:stretch=normal:size=10.0\">(0)</text><rect x=\"250.0\" y=\"305.0\" width=\"40\" height=\"40\" stroke=\"black\" fill=\"white\" stroke-width=\"1\" /><text x=\"270.0\" y=\"325.0\" dominant-baseline=\"middle\" text-anchor=\"middle\" font-size=\"14px\" font-family=\"Arial:style=normal:variant=normal:weight=normal:stretch=normal:size=10.0\">(0)</text><rect x=\"250.0\" y=\"5.0\" width=\"40\" height=\"40\" stroke=\"black\" fill=\"white\" stroke-width=\"1\" /><text x=\"270.0\" y=\"25.0\" dominant-baseline=\"middle\" text-anchor=\"middle\" font-size=\"18px\" font-family=\"Arial:style=normal:variant=normal:weight=normal:stretch=normal:size=10.0\">X</text><circle cx=\"330.0\" cy=\"75.0\" r=\"10.0\" /><circle cx=\"330.0\" cy=\"175.0\" r=\"10.0\" /><circle cx=\"390.0\" cy=\"75.0\" r=\"10.0\" /><circle cx=\"390.0\" cy=\"225.0\" r=\"10.0\" /><circle cx=\"450.0\" cy=\"75.0\" r=\"10.0\" /><circle cx=\"450.0\" cy=\"275.0\" r=\"10.0\" /><circle cx=\"510.0\" cy=\"75.0\" r=\"10.0\" /><circle cx=\"510.0\" cy=\"325.0\" r=\"10.0\" /><circle cx=\"570.0\" cy=\"75.0\" r=\"10.0\" /><rect x=\"550.0\" y=\"355.0\" width=\"40\" height=\"40\" stroke=\"black\" fill=\"white\" stroke-width=\"1\" /><text x=\"570.0\" y=\"375.0\" dominant-baseline=\"middle\" text-anchor=\"middle\" font-size=\"18px\" font-family=\"Arial:style=normal:variant=normal:weight=normal:stretch=normal:size=10.0\">X</text><circle cx=\"630.0\" cy=\"75.0\" r=\"10.0\" /><circle cx=\"630.0\" cy=\"175.0\" r=\"10.0\" /><circle cx=\"690.0\" cy=\"75.0\" r=\"10.0\" /><circle cx=\"690.0\" cy=\"225.0\" r=\"10.0\" /><circle cx=\"750.0\" cy=\"75.0\" r=\"10.0\" /><circle cx=\"750.0\" cy=\"275.0\" r=\"10.0\" /><circle cx=\"810.0\" cy=\"75.0\" r=\"10.0\" /><rect x=\"790.0\" y=\"305.0\" width=\"40\" height=\"40\" stroke=\"black\" fill=\"white\" stroke-width=\"1\" /><text x=\"810.0\" y=\"325.0\" dominant-baseline=\"middle\" text-anchor=\"middle\" font-size=\"18px\" font-family=\"Arial:style=normal:variant=normal:weight=normal:stretch=normal:size=10.0\">X</text></svg>"
      ],
      "text/plain": [
       "<cirq.contrib.svg.svg.SVGCircuit at 0x14ec4f5e0>"
      ]
     },
     "execution_count": 6,
     "metadata": {},
     "output_type": "execute_result"
    }
   ],
   "source": [
    "ctrls = ([cirq.LineQubit(0)], [1])\n",
    "block_encoding_ancilla = [cirq.LineQubit(1)]\n",
    "clean_ancillae = [cirq.LineQubit(-1-i) for i in range(10)]\n",
    "system = System(1, 100, 5, 0)\n",
    "gates = [cirq.I.on_each(system.fermionic_modes)]\n",
    "\n",
    "_gates, metrics = fermionic_product_block_encoding(\n",
    "    system,\n",
    "    block_encoding_ancilla,\n",
    "    [4, 3],\n",
    "    [3, 3],\n",
    "    clean_ancillae=clean_ancillae,\n",
    "    ctrls=ctrls\n",
    ")\n",
    "gates += _gates\n",
    "\n",
    "print(\"Number of Clean Ancillae: \", metrics.ancillae_highwater())\n",
    "print(\"Number of Elbows: \", metrics.number_of_elbows)\n",
    "SVGCircuit(cirq.Circuit(gates))"
   ]
  },
  {
   "cell_type": "markdown",
   "metadata": {},
   "source": [
    "## Operator: $b_1^\\dagger b_3$"
   ]
  },
  {
   "cell_type": "code",
   "execution_count": 7,
   "metadata": {},
   "outputs": [
    {
     "name": "stdout",
     "output_type": "stream",
     "text": [
      "Number of Clean Ancillae:  2\n",
      "Number of Elbows:  2\n"
     ]
    },
    {
     "data": {
      "image/svg+xml": [
       "<svg xmlns=\"http://www.w3.org/2000/svg\" width=\"700.0\" height=\"350.0\"><line x1=\"30.0\" x2=\"670.0\" y1=\"25.0\" y2=\"25.0\" stroke=\"#1967d2\" stroke-width=\"1\" /><line x1=\"30.0\" x2=\"670.0\" y1=\"75.0\" y2=\"75.0\" stroke=\"#1967d2\" stroke-width=\"1\" /><line x1=\"30.0\" x2=\"670.0\" y1=\"125.0\" y2=\"125.0\" stroke=\"#1967d2\" stroke-width=\"1\" /><line x1=\"30.0\" x2=\"670.0\" y1=\"175.0\" y2=\"175.0\" stroke=\"#1967d2\" stroke-width=\"1\" /><line x1=\"30.0\" x2=\"670.0\" y1=\"225.0\" y2=\"225.0\" stroke=\"#1967d2\" stroke-width=\"1\" /><line x1=\"30.0\" x2=\"670.0\" y1=\"275.0\" y2=\"275.0\" stroke=\"#1967d2\" stroke-width=\"1\" /><line x1=\"30.0\" x2=\"670.0\" y1=\"325.0\" y2=\"325.0\" stroke=\"#1967d2\" stroke-width=\"1\" /><line x1=\"150.0\" x2=\"150.0\" y1=\"25.0\" y2=\"325.0\" stroke=\"black\" stroke-width=\"3\" /><line x1=\"210.0\" x2=\"210.0\" y1=\"25.0\" y2=\"125.0\" stroke=\"black\" stroke-width=\"3\" /><line x1=\"270.0\" x2=\"270.0\" y1=\"25.0\" y2=\"325.0\" stroke=\"black\" stroke-width=\"3\" /><line x1=\"330.0\" x2=\"330.0\" y1=\"75.0\" y2=\"175.0\" stroke=\"black\" stroke-width=\"3\" /><line x1=\"390.0\" x2=\"390.0\" y1=\"75.0\" y2=\"225.0\" stroke=\"black\" stroke-width=\"3\" /><line x1=\"450.0\" x2=\"450.0\" y1=\"75.0\" y2=\"275.0\" stroke=\"black\" stroke-width=\"3\" /><line x1=\"510.0\" x2=\"510.0\" y1=\"75.0\" y2=\"325.0\" stroke=\"black\" stroke-width=\"3\" /><line x1=\"570.0\" x2=\"570.0\" y1=\"75.0\" y2=\"175.0\" stroke=\"black\" stroke-width=\"3\" /><line x1=\"630.0\" x2=\"630.0\" y1=\"75.0\" y2=\"225.0\" stroke=\"black\" stroke-width=\"3\" /><rect x=\"10.0\" y=\"5.0\" width=\"40\" height=\"40\" stroke=\"black\" fill=\"white\" stroke-width=\"0\" /><text x=\"30.0\" y=\"25.0\" dominant-baseline=\"middle\" text-anchor=\"middle\" font-size=\"14px\" font-family=\"Arial:style=normal:variant=normal:weight=normal:stretch=normal:size=10.0\">-1: </text><rect x=\"10.0\" y=\"55.0\" width=\"40\" height=\"40\" stroke=\"black\" fill=\"white\" stroke-width=\"0\" /><text x=\"30.0\" y=\"75.0\" dominant-baseline=\"middle\" text-anchor=\"middle\" font-size=\"14px\" font-family=\"Arial:style=normal:variant=normal:weight=normal:stretch=normal:size=10.0\">0: </text><rect x=\"10.0\" y=\"105.0\" width=\"40\" height=\"40\" stroke=\"black\" fill=\"white\" stroke-width=\"0\" /><text x=\"30.0\" y=\"125.0\" dominant-baseline=\"middle\" text-anchor=\"middle\" font-size=\"14px\" font-family=\"Arial:style=normal:variant=normal:weight=normal:stretch=normal:size=10.0\">1: </text><rect x=\"10.0\" y=\"155.0\" width=\"40\" height=\"40\" stroke=\"black\" fill=\"white\" stroke-width=\"0\" /><text x=\"30.0\" y=\"175.0\" dominant-baseline=\"middle\" text-anchor=\"middle\" font-size=\"14px\" font-family=\"Arial:style=normal:variant=normal:weight=normal:stretch=normal:size=10.0\">100: </text><rect x=\"10.0\" y=\"205.0\" width=\"40\" height=\"40\" stroke=\"black\" fill=\"white\" stroke-width=\"0\" /><text x=\"30.0\" y=\"225.0\" dominant-baseline=\"middle\" text-anchor=\"middle\" font-size=\"14px\" font-family=\"Arial:style=normal:variant=normal:weight=normal:stretch=normal:size=10.0\">101: </text><rect x=\"10.0\" y=\"255.0\" width=\"40\" height=\"40\" stroke=\"black\" fill=\"white\" stroke-width=\"0\" /><text x=\"30.0\" y=\"275.0\" dominant-baseline=\"middle\" text-anchor=\"middle\" font-size=\"14px\" font-family=\"Arial:style=normal:variant=normal:weight=normal:stretch=normal:size=10.0\">102: </text><rect x=\"10.0\" y=\"305.0\" width=\"40\" height=\"40\" stroke=\"black\" fill=\"white\" stroke-width=\"0\" /><text x=\"30.0\" y=\"325.0\" dominant-baseline=\"middle\" text-anchor=\"middle\" font-size=\"14px\" font-family=\"Arial:style=normal:variant=normal:weight=normal:stretch=normal:size=10.0\">103: </text><rect x=\"70.0\" y=\"155.0\" width=\"40\" height=\"40\" stroke=\"black\" fill=\"white\" stroke-width=\"1\" /><text x=\"90.0\" y=\"175.0\" dominant-baseline=\"middle\" text-anchor=\"middle\" font-size=\"18px\" font-family=\"Arial:style=normal:variant=normal:weight=normal:stretch=normal:size=10.0\">I</text><rect x=\"70.0\" y=\"205.0\" width=\"40\" height=\"40\" stroke=\"black\" fill=\"white\" stroke-width=\"1\" /><text x=\"90.0\" y=\"225.0\" dominant-baseline=\"middle\" text-anchor=\"middle\" font-size=\"18px\" font-family=\"Arial:style=normal:variant=normal:weight=normal:stretch=normal:size=10.0\">I</text><rect x=\"70.0\" y=\"255.0\" width=\"40\" height=\"40\" stroke=\"black\" fill=\"white\" stroke-width=\"1\" /><text x=\"90.0\" y=\"275.0\" dominant-baseline=\"middle\" text-anchor=\"middle\" font-size=\"18px\" font-family=\"Arial:style=normal:variant=normal:weight=normal:stretch=normal:size=10.0\">I</text><rect x=\"70.0\" y=\"305.0\" width=\"40\" height=\"40\" stroke=\"black\" fill=\"white\" stroke-width=\"1\" /><text x=\"90.0\" y=\"325.0\" dominant-baseline=\"middle\" text-anchor=\"middle\" font-size=\"18px\" font-family=\"Arial:style=normal:variant=normal:weight=normal:stretch=normal:size=10.0\">I</text><circle cx=\"150.0\" cy=\"325.0\" r=\"10.0\" /><rect x=\"130.0\" y=\"205.0\" width=\"40\" height=\"40\" stroke=\"black\" fill=\"white\" stroke-width=\"1\" /><text x=\"150.0\" y=\"225.0\" dominant-baseline=\"middle\" text-anchor=\"middle\" font-size=\"14px\" font-family=\"Arial:style=normal:variant=normal:weight=normal:stretch=normal:size=10.0\">(0)</text><rect x=\"130.0\" y=\"5.0\" width=\"40\" height=\"40\" stroke=\"black\" fill=\"white\" stroke-width=\"1\" /><text x=\"150.0\" y=\"25.0\" dominant-baseline=\"middle\" text-anchor=\"middle\" font-size=\"18px\" font-family=\"Arial:style=normal:variant=normal:weight=normal:stretch=normal:size=10.0\">X</text><circle cx=\"210.0\" cy=\"75.0\" r=\"10.0\" /><rect x=\"190.0\" y=\"5.0\" width=\"40\" height=\"40\" stroke=\"black\" fill=\"white\" stroke-width=\"1\" /><text x=\"210.0\" y=\"25.0\" dominant-baseline=\"middle\" text-anchor=\"middle\" font-size=\"14px\" font-family=\"Arial:style=normal:variant=normal:weight=normal:stretch=normal:size=10.0\">(0)</text><rect x=\"190.0\" y=\"105.0\" width=\"40\" height=\"40\" stroke=\"black\" fill=\"white\" stroke-width=\"1\" /><text x=\"210.0\" y=\"125.0\" dominant-baseline=\"middle\" text-anchor=\"middle\" font-size=\"18px\" font-family=\"Arial:style=normal:variant=normal:weight=normal:stretch=normal:size=10.0\">X</text><circle cx=\"270.0\" cy=\"325.0\" r=\"10.0\" /><rect x=\"250.0\" y=\"205.0\" width=\"40\" height=\"40\" stroke=\"black\" fill=\"white\" stroke-width=\"1\" /><text x=\"270.0\" y=\"225.0\" dominant-baseline=\"middle\" text-anchor=\"middle\" font-size=\"14px\" font-family=\"Arial:style=normal:variant=normal:weight=normal:stretch=normal:size=10.0\">(0)</text><rect x=\"250.0\" y=\"5.0\" width=\"40\" height=\"40\" stroke=\"black\" fill=\"white\" stroke-width=\"1\" /><text x=\"270.0\" y=\"25.0\" dominant-baseline=\"middle\" text-anchor=\"middle\" font-size=\"18px\" font-family=\"Arial:style=normal:variant=normal:weight=normal:stretch=normal:size=10.0\">X</text><circle cx=\"330.0\" cy=\"75.0\" r=\"10.0\" /><circle cx=\"330.0\" cy=\"175.0\" r=\"10.0\" /><circle cx=\"390.0\" cy=\"75.0\" r=\"10.0\" /><circle cx=\"390.0\" cy=\"225.0\" r=\"10.0\" /><circle cx=\"450.0\" cy=\"75.0\" r=\"10.0\" /><circle cx=\"450.0\" cy=\"275.0\" r=\"10.0\" /><circle cx=\"510.0\" cy=\"75.0\" r=\"10.0\" /><rect x=\"490.0\" y=\"305.0\" width=\"40\" height=\"40\" stroke=\"black\" fill=\"white\" stroke-width=\"1\" /><text x=\"510.0\" y=\"325.0\" dominant-baseline=\"middle\" text-anchor=\"middle\" font-size=\"18px\" font-family=\"Arial:style=normal:variant=normal:weight=normal:stretch=normal:size=10.0\">X</text><circle cx=\"570.0\" cy=\"75.0\" r=\"10.0\" /><circle cx=\"570.0\" cy=\"175.0\" r=\"10.0\" /><circle cx=\"630.0\" cy=\"75.0\" r=\"10.0\" /><rect x=\"610.0\" y=\"205.0\" width=\"40\" height=\"40\" stroke=\"black\" fill=\"white\" stroke-width=\"1\" /><text x=\"630.0\" y=\"225.0\" dominant-baseline=\"middle\" text-anchor=\"middle\" font-size=\"18px\" font-family=\"Arial:style=normal:variant=normal:weight=normal:stretch=normal:size=10.0\">X</text></svg>"
      ],
      "text/plain": [
       "<cirq.contrib.svg.svg.SVGCircuit at 0x14ec41cd0>"
      ]
     },
     "execution_count": 7,
     "metadata": {},
     "output_type": "execute_result"
    }
   ],
   "source": [
    "ctrls = ([cirq.LineQubit(0)], [1])\n",
    "block_encoding_ancilla = [cirq.LineQubit(1)]\n",
    "clean_ancillae = [cirq.LineQubit(-1-i) for i in range(10)]\n",
    "system = System(1, 100, 4, 0)\n",
    "gates = [cirq.I.on_each(system.fermionic_modes)]\n",
    "\n",
    "_gates, metrics = fermionic_product_block_encoding(\n",
    "    system,\n",
    "    block_encoding_ancilla,\n",
    "    [3, 1],\n",
    "    [0, 1],\n",
    "    clean_ancillae=clean_ancillae,\n",
    "    ctrls=ctrls\n",
    ")\n",
    "gates += _gates\n",
    "\n",
    "print(\"Number of Clean Ancillae: \", metrics.ancillae_highwater())\n",
    "print(\"Number of Elbows: \", metrics.number_of_elbows)\n",
    "SVGCircuit(cirq.Circuit(gates))"
   ]
  },
  {
   "cell_type": "markdown",
   "metadata": {},
   "source": [
    "## Operator: $b_i b_j$"
   ]
  },
  {
   "cell_type": "code",
   "execution_count": 8,
   "metadata": {},
   "outputs": [
    {
     "name": "stdout",
     "output_type": "stream",
     "text": [
      "Number of Clean Ancillae:  2\n",
      "Number of Elbows:  2\n"
     ]
    },
    {
     "data": {
      "image/svg+xml": [
       "<svg xmlns=\"http://www.w3.org/2000/svg\" width=\"520.0\" height=\"250.0\"><line x1=\"30.0\" x2=\"490.0\" y1=\"25.0\" y2=\"25.0\" stroke=\"#1967d2\" stroke-width=\"1\" /><line x1=\"30.0\" x2=\"490.0\" y1=\"75.0\" y2=\"75.0\" stroke=\"#1967d2\" stroke-width=\"1\" /><line x1=\"30.0\" x2=\"490.0\" y1=\"125.0\" y2=\"125.0\" stroke=\"#1967d2\" stroke-width=\"1\" /><line x1=\"30.0\" x2=\"490.0\" y1=\"175.0\" y2=\"175.0\" stroke=\"#1967d2\" stroke-width=\"1\" /><line x1=\"30.0\" x2=\"490.0\" y1=\"225.0\" y2=\"225.0\" stroke=\"#1967d2\" stroke-width=\"1\" /><line x1=\"150.0\" x2=\"150.0\" y1=\"25.0\" y2=\"225.0\" stroke=\"black\" stroke-width=\"3\" /><line x1=\"210.0\" x2=\"210.0\" y1=\"25.0\" y2=\"125.0\" stroke=\"black\" stroke-width=\"3\" /><line x1=\"270.0\" x2=\"270.0\" y1=\"25.0\" y2=\"225.0\" stroke=\"black\" stroke-width=\"3\" /><line x1=\"330.0\" x2=\"330.0\" y1=\"75.0\" y2=\"175.0\" stroke=\"black\" stroke-width=\"3\" /><line x1=\"390.0\" x2=\"390.0\" y1=\"75.0\" y2=\"225.0\" stroke=\"black\" stroke-width=\"3\" /><line x1=\"450.0\" x2=\"450.0\" y1=\"75.0\" y2=\"175.0\" stroke=\"black\" stroke-width=\"3\" /><rect x=\"10.0\" y=\"5.0\" width=\"40\" height=\"40\" stroke=\"black\" fill=\"white\" stroke-width=\"0\" /><text x=\"30.0\" y=\"25.0\" dominant-baseline=\"middle\" text-anchor=\"middle\" font-size=\"14px\" font-family=\"Arial:style=normal:variant=normal:weight=normal:stretch=normal:size=10.0\">-1: </text><rect x=\"10.0\" y=\"55.0\" width=\"40\" height=\"40\" stroke=\"black\" fill=\"white\" stroke-width=\"0\" /><text x=\"30.0\" y=\"75.0\" dominant-baseline=\"middle\" text-anchor=\"middle\" font-size=\"14px\" font-family=\"Arial:style=normal:variant=normal:weight=normal:stretch=normal:size=10.0\">0: </text><rect x=\"10.0\" y=\"105.0\" width=\"40\" height=\"40\" stroke=\"black\" fill=\"white\" stroke-width=\"0\" /><text x=\"30.0\" y=\"125.0\" dominant-baseline=\"middle\" text-anchor=\"middle\" font-size=\"14px\" font-family=\"Arial:style=normal:variant=normal:weight=normal:stretch=normal:size=10.0\">1: </text><rect x=\"10.0\" y=\"155.0\" width=\"40\" height=\"40\" stroke=\"black\" fill=\"white\" stroke-width=\"0\" /><text x=\"30.0\" y=\"175.0\" dominant-baseline=\"middle\" text-anchor=\"middle\" font-size=\"14px\" font-family=\"Arial:style=normal:variant=normal:weight=normal:stretch=normal:size=10.0\">100: </text><rect x=\"10.0\" y=\"205.0\" width=\"40\" height=\"40\" stroke=\"black\" fill=\"white\" stroke-width=\"0\" /><text x=\"30.0\" y=\"225.0\" dominant-baseline=\"middle\" text-anchor=\"middle\" font-size=\"14px\" font-family=\"Arial:style=normal:variant=normal:weight=normal:stretch=normal:size=10.0\">101: </text><rect x=\"70.0\" y=\"155.0\" width=\"40\" height=\"40\" stroke=\"black\" fill=\"white\" stroke-width=\"1\" /><text x=\"90.0\" y=\"175.0\" dominant-baseline=\"middle\" text-anchor=\"middle\" font-size=\"18px\" font-family=\"Arial:style=normal:variant=normal:weight=normal:stretch=normal:size=10.0\">I</text><rect x=\"70.0\" y=\"205.0\" width=\"40\" height=\"40\" stroke=\"black\" fill=\"white\" stroke-width=\"1\" /><text x=\"90.0\" y=\"225.0\" dominant-baseline=\"middle\" text-anchor=\"middle\" font-size=\"18px\" font-family=\"Arial:style=normal:variant=normal:weight=normal:stretch=normal:size=10.0\">I</text><circle cx=\"150.0\" cy=\"225.0\" r=\"10.0\" /><circle cx=\"150.0\" cy=\"175.0\" r=\"10.0\" /><rect x=\"130.0\" y=\"5.0\" width=\"40\" height=\"40\" stroke=\"black\" fill=\"white\" stroke-width=\"1\" /><text x=\"150.0\" y=\"25.0\" dominant-baseline=\"middle\" text-anchor=\"middle\" font-size=\"18px\" font-family=\"Arial:style=normal:variant=normal:weight=normal:stretch=normal:size=10.0\">X</text><circle cx=\"210.0\" cy=\"75.0\" r=\"10.0\" /><rect x=\"190.0\" y=\"5.0\" width=\"40\" height=\"40\" stroke=\"black\" fill=\"white\" stroke-width=\"1\" /><text x=\"210.0\" y=\"25.0\" dominant-baseline=\"middle\" text-anchor=\"middle\" font-size=\"14px\" font-family=\"Arial:style=normal:variant=normal:weight=normal:stretch=normal:size=10.0\">(0)</text><rect x=\"190.0\" y=\"105.0\" width=\"40\" height=\"40\" stroke=\"black\" fill=\"white\" stroke-width=\"1\" /><text x=\"210.0\" y=\"125.0\" dominant-baseline=\"middle\" text-anchor=\"middle\" font-size=\"18px\" font-family=\"Arial:style=normal:variant=normal:weight=normal:stretch=normal:size=10.0\">X</text><circle cx=\"270.0\" cy=\"225.0\" r=\"10.0\" /><circle cx=\"270.0\" cy=\"175.0\" r=\"10.0\" /><rect x=\"250.0\" y=\"5.0\" width=\"40\" height=\"40\" stroke=\"black\" fill=\"white\" stroke-width=\"1\" /><text x=\"270.0\" y=\"25.0\" dominant-baseline=\"middle\" text-anchor=\"middle\" font-size=\"18px\" font-family=\"Arial:style=normal:variant=normal:weight=normal:stretch=normal:size=10.0\">X</text><circle cx=\"330.0\" cy=\"75.0\" r=\"10.0\" /><circle cx=\"330.0\" cy=\"175.0\" r=\"10.0\" /><circle cx=\"390.0\" cy=\"75.0\" r=\"10.0\" /><rect x=\"370.0\" y=\"205.0\" width=\"40\" height=\"40\" stroke=\"black\" fill=\"white\" stroke-width=\"1\" /><text x=\"390.0\" y=\"225.0\" dominant-baseline=\"middle\" text-anchor=\"middle\" font-size=\"18px\" font-family=\"Arial:style=normal:variant=normal:weight=normal:stretch=normal:size=10.0\">X</text><circle cx=\"450.0\" cy=\"75.0\" r=\"10.0\" /><rect x=\"430.0\" y=\"155.0\" width=\"40\" height=\"40\" stroke=\"black\" fill=\"white\" stroke-width=\"1\" /><text x=\"450.0\" y=\"175.0\" dominant-baseline=\"middle\" text-anchor=\"middle\" font-size=\"18px\" font-family=\"Arial:style=normal:variant=normal:weight=normal:stretch=normal:size=10.0\">X</text></svg>"
      ],
      "text/plain": [
       "<cirq.contrib.svg.svg.SVGCircuit at 0x14ec415e0>"
      ]
     },
     "execution_count": 8,
     "metadata": {},
     "output_type": "execute_result"
    }
   ],
   "source": [
    "ctrls = ([cirq.LineQubit(0)], [1])\n",
    "block_encoding_ancilla = [cirq.LineQubit(1)]\n",
    "clean_ancillae = [cirq.LineQubit(-1-i) for i in range(10)]\n",
    "system = System(1, 100, 2, 0)\n",
    "gates = [cirq.I.on_each(system.fermionic_modes)]\n",
    "\n",
    "_gates, metrics = fermionic_product_block_encoding(\n",
    "    system,\n",
    "    block_encoding_ancilla,\n",
    "    [1, 0],\n",
    "    [0, 0],\n",
    "    clean_ancillae=clean_ancillae,\n",
    "    ctrls=ctrls\n",
    ")\n",
    "gates += _gates\n",
    "\n",
    "print(\"Number of Clean Ancillae: \", metrics.ancillae_highwater())\n",
    "print(\"Number of Elbows: \", metrics.number_of_elbows)\n",
    "SVGCircuit(cirq.Circuit(gates))"
   ]
  },
  {
   "cell_type": "markdown",
   "metadata": {},
   "source": [
    "## Operator: $b_1^\\dagger b_1 b_3$"
   ]
  },
  {
   "cell_type": "code",
   "execution_count": 9,
   "metadata": {},
   "outputs": [
    {
     "name": "stdout",
     "output_type": "stream",
     "text": [
      "Number of Clean Ancillae:  2\n",
      "Number of Elbows:  2\n"
     ]
    },
    {
     "data": {
      "image/svg+xml": [
       "<svg xmlns=\"http://www.w3.org/2000/svg\" width=\"580.0\" height=\"350.0\"><line x1=\"30.0\" x2=\"550.0\" y1=\"25.0\" y2=\"25.0\" stroke=\"#1967d2\" stroke-width=\"1\" /><line x1=\"30.0\" x2=\"550.0\" y1=\"75.0\" y2=\"75.0\" stroke=\"#1967d2\" stroke-width=\"1\" /><line x1=\"30.0\" x2=\"550.0\" y1=\"125.0\" y2=\"125.0\" stroke=\"#1967d2\" stroke-width=\"1\" /><line x1=\"30.0\" x2=\"550.0\" y1=\"175.0\" y2=\"175.0\" stroke=\"#1967d2\" stroke-width=\"1\" /><line x1=\"30.0\" x2=\"550.0\" y1=\"225.0\" y2=\"225.0\" stroke=\"#1967d2\" stroke-width=\"1\" /><line x1=\"30.0\" x2=\"550.0\" y1=\"275.0\" y2=\"275.0\" stroke=\"#1967d2\" stroke-width=\"1\" /><line x1=\"30.0\" x2=\"550.0\" y1=\"325.0\" y2=\"325.0\" stroke=\"#1967d2\" stroke-width=\"1\" /><line x1=\"150.0\" x2=\"150.0\" y1=\"25.0\" y2=\"325.0\" stroke=\"black\" stroke-width=\"3\" /><line x1=\"210.0\" x2=\"210.0\" y1=\"25.0\" y2=\"125.0\" stroke=\"black\" stroke-width=\"3\" /><line x1=\"270.0\" x2=\"270.0\" y1=\"25.0\" y2=\"325.0\" stroke=\"black\" stroke-width=\"3\" /><line x1=\"330.0\" x2=\"330.0\" y1=\"75.0\" y2=\"175.0\" stroke=\"black\" stroke-width=\"3\" /><line x1=\"390.0\" x2=\"390.0\" y1=\"75.0\" y2=\"225.0\" stroke=\"black\" stroke-width=\"3\" /><line x1=\"450.0\" x2=\"450.0\" y1=\"75.0\" y2=\"275.0\" stroke=\"black\" stroke-width=\"3\" /><line x1=\"510.0\" x2=\"510.0\" y1=\"75.0\" y2=\"325.0\" stroke=\"black\" stroke-width=\"3\" /><rect x=\"10.0\" y=\"5.0\" width=\"40\" height=\"40\" stroke=\"black\" fill=\"white\" stroke-width=\"0\" /><text x=\"30.0\" y=\"25.0\" dominant-baseline=\"middle\" text-anchor=\"middle\" font-size=\"14px\" font-family=\"Arial:style=normal:variant=normal:weight=normal:stretch=normal:size=10.0\">-1: </text><rect x=\"10.0\" y=\"55.0\" width=\"40\" height=\"40\" stroke=\"black\" fill=\"white\" stroke-width=\"0\" /><text x=\"30.0\" y=\"75.0\" dominant-baseline=\"middle\" text-anchor=\"middle\" font-size=\"14px\" font-family=\"Arial:style=normal:variant=normal:weight=normal:stretch=normal:size=10.0\">0: </text><rect x=\"10.0\" y=\"105.0\" width=\"40\" height=\"40\" stroke=\"black\" fill=\"white\" stroke-width=\"0\" /><text x=\"30.0\" y=\"125.0\" dominant-baseline=\"middle\" text-anchor=\"middle\" font-size=\"14px\" font-family=\"Arial:style=normal:variant=normal:weight=normal:stretch=normal:size=10.0\">1: </text><rect x=\"10.0\" y=\"155.0\" width=\"40\" height=\"40\" stroke=\"black\" fill=\"white\" stroke-width=\"0\" /><text x=\"30.0\" y=\"175.0\" dominant-baseline=\"middle\" text-anchor=\"middle\" font-size=\"14px\" font-family=\"Arial:style=normal:variant=normal:weight=normal:stretch=normal:size=10.0\">100: </text><rect x=\"10.0\" y=\"205.0\" width=\"40\" height=\"40\" stroke=\"black\" fill=\"white\" stroke-width=\"0\" /><text x=\"30.0\" y=\"225.0\" dominant-baseline=\"middle\" text-anchor=\"middle\" font-size=\"14px\" font-family=\"Arial:style=normal:variant=normal:weight=normal:stretch=normal:size=10.0\">101: </text><rect x=\"10.0\" y=\"255.0\" width=\"40\" height=\"40\" stroke=\"black\" fill=\"white\" stroke-width=\"0\" /><text x=\"30.0\" y=\"275.0\" dominant-baseline=\"middle\" text-anchor=\"middle\" font-size=\"14px\" font-family=\"Arial:style=normal:variant=normal:weight=normal:stretch=normal:size=10.0\">102: </text><rect x=\"10.0\" y=\"305.0\" width=\"40\" height=\"40\" stroke=\"black\" fill=\"white\" stroke-width=\"0\" /><text x=\"30.0\" y=\"325.0\" dominant-baseline=\"middle\" text-anchor=\"middle\" font-size=\"14px\" font-family=\"Arial:style=normal:variant=normal:weight=normal:stretch=normal:size=10.0\">103: </text><rect x=\"70.0\" y=\"155.0\" width=\"40\" height=\"40\" stroke=\"black\" fill=\"white\" stroke-width=\"1\" /><text x=\"90.0\" y=\"175.0\" dominant-baseline=\"middle\" text-anchor=\"middle\" font-size=\"18px\" font-family=\"Arial:style=normal:variant=normal:weight=normal:stretch=normal:size=10.0\">I</text><rect x=\"70.0\" y=\"205.0\" width=\"40\" height=\"40\" stroke=\"black\" fill=\"white\" stroke-width=\"1\" /><text x=\"90.0\" y=\"225.0\" dominant-baseline=\"middle\" text-anchor=\"middle\" font-size=\"18px\" font-family=\"Arial:style=normal:variant=normal:weight=normal:stretch=normal:size=10.0\">I</text><rect x=\"70.0\" y=\"255.0\" width=\"40\" height=\"40\" stroke=\"black\" fill=\"white\" stroke-width=\"1\" /><text x=\"90.0\" y=\"275.0\" dominant-baseline=\"middle\" text-anchor=\"middle\" font-size=\"18px\" font-family=\"Arial:style=normal:variant=normal:weight=normal:stretch=normal:size=10.0\">I</text><rect x=\"70.0\" y=\"305.0\" width=\"40\" height=\"40\" stroke=\"black\" fill=\"white\" stroke-width=\"1\" /><text x=\"90.0\" y=\"325.0\" dominant-baseline=\"middle\" text-anchor=\"middle\" font-size=\"18px\" font-family=\"Arial:style=normal:variant=normal:weight=normal:stretch=normal:size=10.0\">I</text><circle cx=\"150.0\" cy=\"325.0\" r=\"10.0\" /><circle cx=\"150.0\" cy=\"225.0\" r=\"10.0\" /><rect x=\"130.0\" y=\"5.0\" width=\"40\" height=\"40\" stroke=\"black\" fill=\"white\" stroke-width=\"1\" /><text x=\"150.0\" y=\"25.0\" dominant-baseline=\"middle\" text-anchor=\"middle\" font-size=\"18px\" font-family=\"Arial:style=normal:variant=normal:weight=normal:stretch=normal:size=10.0\">X</text><circle cx=\"210.0\" cy=\"75.0\" r=\"10.0\" /><rect x=\"190.0\" y=\"5.0\" width=\"40\" height=\"40\" stroke=\"black\" fill=\"white\" stroke-width=\"1\" /><text x=\"210.0\" y=\"25.0\" dominant-baseline=\"middle\" text-anchor=\"middle\" font-size=\"14px\" font-family=\"Arial:style=normal:variant=normal:weight=normal:stretch=normal:size=10.0\">(0)</text><rect x=\"190.0\" y=\"105.0\" width=\"40\" height=\"40\" stroke=\"black\" fill=\"white\" stroke-width=\"1\" /><text x=\"210.0\" y=\"125.0\" dominant-baseline=\"middle\" text-anchor=\"middle\" font-size=\"18px\" font-family=\"Arial:style=normal:variant=normal:weight=normal:stretch=normal:size=10.0\">X</text><circle cx=\"270.0\" cy=\"325.0\" r=\"10.0\" /><circle cx=\"270.0\" cy=\"225.0\" r=\"10.0\" /><rect x=\"250.0\" y=\"5.0\" width=\"40\" height=\"40\" stroke=\"black\" fill=\"white\" stroke-width=\"1\" /><text x=\"270.0\" y=\"25.0\" dominant-baseline=\"middle\" text-anchor=\"middle\" font-size=\"18px\" font-family=\"Arial:style=normal:variant=normal:weight=normal:stretch=normal:size=10.0\">X</text><circle cx=\"330.0\" cy=\"75.0\" r=\"10.0\" /><circle cx=\"330.0\" cy=\"175.0\" r=\"10.0\" /><circle cx=\"390.0\" cy=\"75.0\" r=\"10.0\" /><circle cx=\"390.0\" cy=\"225.0\" r=\"10.0\" /><circle cx=\"450.0\" cy=\"75.0\" r=\"10.0\" /><circle cx=\"450.0\" cy=\"275.0\" r=\"10.0\" /><circle cx=\"510.0\" cy=\"75.0\" r=\"10.0\" /><rect x=\"490.0\" y=\"305.0\" width=\"40\" height=\"40\" stroke=\"black\" fill=\"white\" stroke-width=\"1\" /><text x=\"510.0\" y=\"325.0\" dominant-baseline=\"middle\" text-anchor=\"middle\" font-size=\"18px\" font-family=\"Arial:style=normal:variant=normal:weight=normal:stretch=normal:size=10.0\">X</text></svg>"
      ],
      "text/plain": [
       "<cirq.contrib.svg.svg.SVGCircuit at 0x14ec57880>"
      ]
     },
     "execution_count": 9,
     "metadata": {},
     "output_type": "execute_result"
    }
   ],
   "source": [
    "ctrls = ([cirq.LineQubit(0)], [1])\n",
    "block_encoding_ancilla = [cirq.LineQubit(1)]\n",
    "clean_ancillae = [cirq.LineQubit(-1-i) for i in range(10)]\n",
    "system = System(1, 100, 4, 0)\n",
    "gates = [cirq.I.on_each(system.fermionic_modes)]\n",
    "\n",
    "_gates, metrics = fermionic_product_block_encoding(\n",
    "    system,\n",
    "    block_encoding_ancilla,\n",
    "    [3, 1],\n",
    "    [0, 2],\n",
    "    clean_ancillae=clean_ancillae,\n",
    "    ctrls=ctrls\n",
    ")\n",
    "gates += _gates\n",
    "\n",
    "print(\"Number of Clean Ancillae: \", metrics.ancillae_highwater())\n",
    "print(\"Number of Elbows: \", metrics.number_of_elbows)\n",
    "SVGCircuit(cirq.Circuit(gates))"
   ]
  },
  {
   "cell_type": "markdown",
   "metadata": {},
   "source": [
    "# Linear Combinations\n",
    "\n",
    "## Operator: $b_1^\\dagger + b_1$"
   ]
  },
  {
   "cell_type": "code",
   "execution_count": 10,
   "metadata": {},
   "outputs": [
    {
     "name": "stdout",
     "output_type": "stream",
     "text": [
      "Number of Clean Ancillae:  0\n",
      "Number of Elbows:  0\n"
     ]
    },
    {
     "data": {
      "image/svg+xml": [
       "<svg xmlns=\"http://www.w3.org/2000/svg\" width=\"280.0\" height=\"150.0\"><line x1=\"30.0\" x2=\"250.0\" y1=\"25.0\" y2=\"25.0\" stroke=\"#1967d2\" stroke-width=\"1\" /><line x1=\"30.0\" x2=\"250.0\" y1=\"75.0\" y2=\"75.0\" stroke=\"#1967d2\" stroke-width=\"1\" /><line x1=\"30.0\" x2=\"250.0\" y1=\"125.0\" y2=\"125.0\" stroke=\"#1967d2\" stroke-width=\"1\" /><line x1=\"150.0\" x2=\"150.0\" y1=\"25.0\" y2=\"75.0\" stroke=\"black\" stroke-width=\"3\" /><line x1=\"210.0\" x2=\"210.0\" y1=\"25.0\" y2=\"125.0\" stroke=\"black\" stroke-width=\"3\" /><rect x=\"10.0\" y=\"5.0\" width=\"40\" height=\"40\" stroke=\"black\" fill=\"white\" stroke-width=\"0\" /><text x=\"30.0\" y=\"25.0\" dominant-baseline=\"middle\" text-anchor=\"middle\" font-size=\"14px\" font-family=\"Arial:style=normal:variant=normal:weight=normal:stretch=normal:size=10.0\">0: </text><rect x=\"10.0\" y=\"55.0\" width=\"40\" height=\"40\" stroke=\"black\" fill=\"white\" stroke-width=\"0\" /><text x=\"30.0\" y=\"75.0\" dominant-baseline=\"middle\" text-anchor=\"middle\" font-size=\"14px\" font-family=\"Arial:style=normal:variant=normal:weight=normal:stretch=normal:size=10.0\">100: </text><rect x=\"10.0\" y=\"105.0\" width=\"40\" height=\"40\" stroke=\"black\" fill=\"white\" stroke-width=\"0\" /><text x=\"30.0\" y=\"125.0\" dominant-baseline=\"middle\" text-anchor=\"middle\" font-size=\"14px\" font-family=\"Arial:style=normal:variant=normal:weight=normal:stretch=normal:size=10.0\">101: </text><rect x=\"70.0\" y=\"55.0\" width=\"40\" height=\"40\" stroke=\"black\" fill=\"white\" stroke-width=\"1\" /><text x=\"90.0\" y=\"75.0\" dominant-baseline=\"middle\" text-anchor=\"middle\" font-size=\"18px\" font-family=\"Arial:style=normal:variant=normal:weight=normal:stretch=normal:size=10.0\">I</text><rect x=\"70.0\" y=\"105.0\" width=\"40\" height=\"40\" stroke=\"black\" fill=\"white\" stroke-width=\"1\" /><text x=\"90.0\" y=\"125.0\" dominant-baseline=\"middle\" text-anchor=\"middle\" font-size=\"18px\" font-family=\"Arial:style=normal:variant=normal:weight=normal:stretch=normal:size=10.0\">I</text><circle cx=\"150.0\" cy=\"25.0\" r=\"10.0\" /><circle cx=\"150.0\" cy=\"75.0\" r=\"10.0\" /><circle cx=\"210.0\" cy=\"25.0\" r=\"10.0\" /><rect x=\"190.0\" y=\"105.0\" width=\"40\" height=\"40\" stroke=\"black\" fill=\"white\" stroke-width=\"1\" /><text x=\"210.0\" y=\"125.0\" dominant-baseline=\"middle\" text-anchor=\"middle\" font-size=\"18px\" font-family=\"Arial:style=normal:variant=normal:weight=normal:stretch=normal:size=10.0\">X</text></svg>"
      ],
      "text/plain": [
       "<cirq.contrib.svg.svg.SVGCircuit at 0x14ec69d30>"
      ]
     },
     "execution_count": 10,
     "metadata": {},
     "output_type": "execute_result"
    }
   ],
   "source": [
    "ctrls = ([cirq.LineQubit(0)], [1])\n",
    "block_encoding_ancilla = [cirq.LineQubit(1)]\n",
    "clean_ancillae = [cirq.LineQubit(-1-i) for i in range(10)]\n",
    "system = System(1, 100, 2, 0)\n",
    "gates = [cirq.I.on_each(system.fermionic_modes)]\n",
    "\n",
    "_gates, metrics = fermionic_plus_hc_block_encoding(\n",
    "    system,\n",
    "    block_encoding_ancilla,\n",
    "    [1],\n",
    "    [1],\n",
    "    clean_ancillae=clean_ancillae,\n",
    "    ctrls=ctrls\n",
    ")\n",
    "gates += _gates\n",
    "\n",
    "print(\"Number of Clean Ancillae: \", metrics.ancillae_highwater())\n",
    "print(\"Number of Elbows: \", metrics.number_of_elbows)\n",
    "SVGCircuit(cirq.Circuit(gates))"
   ]
  },
  {
   "cell_type": "markdown",
   "metadata": {},
   "source": [
    "## Operator: $b_1 b_3 + b_3^\\dagger b_1^\\dagger$"
   ]
  },
  {
   "cell_type": "code",
   "execution_count": 11,
   "metadata": {},
   "outputs": [
    {
     "name": "stdout",
     "output_type": "stream",
     "text": [
      "Number of Clean Ancillae:  1\n",
      "Number of Elbows:  1\n"
     ]
    },
    {
     "data": {
      "image/svg+xml": [
       "<svg xmlns=\"http://www.w3.org/2000/svg\" width=\"1000.0\" height=\"350.0\"><line x1=\"30.0\" x2=\"970.0\" y1=\"25.0\" y2=\"25.0\" stroke=\"#1967d2\" stroke-width=\"1\" /><line x1=\"30.0\" x2=\"970.0\" y1=\"75.0\" y2=\"75.0\" stroke=\"#1967d2\" stroke-width=\"1\" /><line x1=\"30.0\" x2=\"970.0\" y1=\"125.0\" y2=\"125.0\" stroke=\"#1967d2\" stroke-width=\"1\" /><line x1=\"30.0\" x2=\"970.0\" y1=\"175.0\" y2=\"175.0\" stroke=\"#1967d2\" stroke-width=\"1\" /><line x1=\"30.0\" x2=\"970.0\" y1=\"225.0\" y2=\"225.0\" stroke=\"#1967d2\" stroke-width=\"1\" /><line x1=\"30.0\" x2=\"970.0\" y1=\"275.0\" y2=\"275.0\" stroke=\"#1967d2\" stroke-width=\"1\" /><line x1=\"30.0\" x2=\"970.0\" y1=\"325.0\" y2=\"325.0\" stroke=\"#1967d2\" stroke-width=\"1\" /><line x1=\"150.0\" x2=\"150.0\" y1=\"225.0\" y2=\"325.0\" stroke=\"black\" stroke-width=\"3\" /><line x1=\"210.0\" x2=\"210.0\" y1=\"25.0\" y2=\"325.0\" stroke=\"black\" stroke-width=\"3\" /><line x1=\"270.0\" x2=\"270.0\" y1=\"25.0\" y2=\"125.0\" stroke=\"black\" stroke-width=\"3\" /><line x1=\"330.0\" x2=\"330.0\" y1=\"25.0\" y2=\"325.0\" stroke=\"black\" stroke-width=\"3\" /><line x1=\"390.0\" x2=\"390.0\" y1=\"225.0\" y2=\"325.0\" stroke=\"black\" stroke-width=\"3\" /><line x1=\"510.0\" x2=\"510.0\" y1=\"75.0\" y2=\"325.0\" stroke=\"black\" stroke-width=\"3\" /><line x1=\"630.0\" x2=\"630.0\" y1=\"75.0\" y2=\"175.0\" stroke=\"black\" stroke-width=\"3\" /><line x1=\"690.0\" x2=\"690.0\" y1=\"75.0\" y2=\"225.0\" stroke=\"black\" stroke-width=\"3\" /><line x1=\"750.0\" x2=\"750.0\" y1=\"75.0\" y2=\"275.0\" stroke=\"black\" stroke-width=\"3\" /><line x1=\"810.0\" x2=\"810.0\" y1=\"75.0\" y2=\"325.0\" stroke=\"black\" stroke-width=\"3\" /><line x1=\"870.0\" x2=\"870.0\" y1=\"75.0\" y2=\"175.0\" stroke=\"black\" stroke-width=\"3\" /><line x1=\"930.0\" x2=\"930.0\" y1=\"75.0\" y2=\"225.0\" stroke=\"black\" stroke-width=\"3\" /><rect x=\"10.0\" y=\"5.0\" width=\"40\" height=\"40\" stroke=\"black\" fill=\"white\" stroke-width=\"0\" /><text x=\"30.0\" y=\"25.0\" dominant-baseline=\"middle\" text-anchor=\"middle\" font-size=\"14px\" font-family=\"Arial:style=normal:variant=normal:weight=normal:stretch=normal:size=10.0\">-2: </text><rect x=\"10.0\" y=\"55.0\" width=\"40\" height=\"40\" stroke=\"black\" fill=\"white\" stroke-width=\"0\" /><text x=\"30.0\" y=\"75.0\" dominant-baseline=\"middle\" text-anchor=\"middle\" font-size=\"14px\" font-family=\"Arial:style=normal:variant=normal:weight=normal:stretch=normal:size=10.0\">0: </text><rect x=\"10.0\" y=\"105.0\" width=\"40\" height=\"40\" stroke=\"black\" fill=\"white\" stroke-width=\"0\" /><text x=\"30.0\" y=\"125.0\" dominant-baseline=\"middle\" text-anchor=\"middle\" font-size=\"14px\" font-family=\"Arial:style=normal:variant=normal:weight=normal:stretch=normal:size=10.0\">1: </text><rect x=\"10.0\" y=\"155.0\" width=\"40\" height=\"40\" stroke=\"black\" fill=\"white\" stroke-width=\"0\" /><text x=\"30.0\" y=\"175.0\" dominant-baseline=\"middle\" text-anchor=\"middle\" font-size=\"14px\" font-family=\"Arial:style=normal:variant=normal:weight=normal:stretch=normal:size=10.0\">100: </text><rect x=\"10.0\" y=\"205.0\" width=\"40\" height=\"40\" stroke=\"black\" fill=\"white\" stroke-width=\"0\" /><text x=\"30.0\" y=\"225.0\" dominant-baseline=\"middle\" text-anchor=\"middle\" font-size=\"14px\" font-family=\"Arial:style=normal:variant=normal:weight=normal:stretch=normal:size=10.0\">101: </text><rect x=\"10.0\" y=\"255.0\" width=\"40\" height=\"40\" stroke=\"black\" fill=\"white\" stroke-width=\"0\" /><text x=\"30.0\" y=\"275.0\" dominant-baseline=\"middle\" text-anchor=\"middle\" font-size=\"14px\" font-family=\"Arial:style=normal:variant=normal:weight=normal:stretch=normal:size=10.0\">102: </text><rect x=\"10.0\" y=\"305.0\" width=\"40\" height=\"40\" stroke=\"black\" fill=\"white\" stroke-width=\"0\" /><text x=\"30.0\" y=\"325.0\" dominant-baseline=\"middle\" text-anchor=\"middle\" font-size=\"14px\" font-family=\"Arial:style=normal:variant=normal:weight=normal:stretch=normal:size=10.0\">103: </text><rect x=\"70.0\" y=\"155.0\" width=\"40\" height=\"40\" stroke=\"black\" fill=\"white\" stroke-width=\"1\" /><text x=\"90.0\" y=\"175.0\" dominant-baseline=\"middle\" text-anchor=\"middle\" font-size=\"18px\" font-family=\"Arial:style=normal:variant=normal:weight=normal:stretch=normal:size=10.0\">I</text><rect x=\"70.0\" y=\"205.0\" width=\"40\" height=\"40\" stroke=\"black\" fill=\"white\" stroke-width=\"1\" /><text x=\"90.0\" y=\"225.0\" dominant-baseline=\"middle\" text-anchor=\"middle\" font-size=\"18px\" font-family=\"Arial:style=normal:variant=normal:weight=normal:stretch=normal:size=10.0\">I</text><rect x=\"70.0\" y=\"255.0\" width=\"40\" height=\"40\" stroke=\"black\" fill=\"white\" stroke-width=\"1\" /><text x=\"90.0\" y=\"275.0\" dominant-baseline=\"middle\" text-anchor=\"middle\" font-size=\"18px\" font-family=\"Arial:style=normal:variant=normal:weight=normal:stretch=normal:size=10.0\">I</text><rect x=\"70.0\" y=\"305.0\" width=\"40\" height=\"40\" stroke=\"black\" fill=\"white\" stroke-width=\"1\" /><text x=\"90.0\" y=\"325.0\" dominant-baseline=\"middle\" text-anchor=\"middle\" font-size=\"18px\" font-family=\"Arial:style=normal:variant=normal:weight=normal:stretch=normal:size=10.0\">I</text><circle cx=\"150.0\" cy=\"225.0\" r=\"10.0\" /><rect x=\"130.0\" y=\"305.0\" width=\"40\" height=\"40\" stroke=\"black\" fill=\"white\" stroke-width=\"1\" /><text x=\"150.0\" y=\"325.0\" dominant-baseline=\"middle\" text-anchor=\"middle\" font-size=\"18px\" font-family=\"Arial:style=normal:variant=normal:weight=normal:stretch=normal:size=10.0\">X</text><rect x=\"190.0\" y=\"305.0\" width=\"40\" height=\"40\" stroke=\"black\" fill=\"white\" stroke-width=\"1\" /><text x=\"210.0\" y=\"325.0\" dominant-baseline=\"middle\" text-anchor=\"middle\" font-size=\"14px\" font-family=\"Arial:style=normal:variant=normal:weight=normal:stretch=normal:size=10.0\">(0)</text><rect x=\"190.0\" y=\"5.0\" width=\"40\" height=\"40\" stroke=\"black\" fill=\"white\" stroke-width=\"1\" /><text x=\"210.0\" y=\"25.0\" dominant-baseline=\"middle\" text-anchor=\"middle\" font-size=\"18px\" font-family=\"Arial:style=normal:variant=normal:weight=normal:stretch=normal:size=10.0\">X</text><circle cx=\"270.0\" cy=\"75.0\" r=\"10.0\" /><rect x=\"250.0\" y=\"5.0\" width=\"40\" height=\"40\" stroke=\"black\" fill=\"white\" stroke-width=\"1\" /><text x=\"270.0\" y=\"25.0\" dominant-baseline=\"middle\" text-anchor=\"middle\" font-size=\"14px\" font-family=\"Arial:style=normal:variant=normal:weight=normal:stretch=normal:size=10.0\">(0)</text><rect x=\"250.0\" y=\"105.0\" width=\"40\" height=\"40\" stroke=\"black\" fill=\"white\" stroke-width=\"1\" /><text x=\"270.0\" y=\"125.0\" dominant-baseline=\"middle\" text-anchor=\"middle\" font-size=\"18px\" font-family=\"Arial:style=normal:variant=normal:weight=normal:stretch=normal:size=10.0\">X</text><rect x=\"310.0\" y=\"305.0\" width=\"40\" height=\"40\" stroke=\"black\" fill=\"white\" stroke-width=\"1\" /><text x=\"330.0\" y=\"325.0\" dominant-baseline=\"middle\" text-anchor=\"middle\" font-size=\"14px\" font-family=\"Arial:style=normal:variant=normal:weight=normal:stretch=normal:size=10.0\">(0)</text><rect x=\"310.0\" y=\"5.0\" width=\"40\" height=\"40\" stroke=\"black\" fill=\"white\" stroke-width=\"1\" /><text x=\"330.0\" y=\"25.0\" dominant-baseline=\"middle\" text-anchor=\"middle\" font-size=\"18px\" font-family=\"Arial:style=normal:variant=normal:weight=normal:stretch=normal:size=10.0\">X</text><circle cx=\"390.0\" cy=\"225.0\" r=\"10.0\" /><rect x=\"370.0\" y=\"305.0\" width=\"40\" height=\"40\" stroke=\"black\" fill=\"white\" stroke-width=\"1\" /><text x=\"390.0\" y=\"325.0\" dominant-baseline=\"middle\" text-anchor=\"middle\" font-size=\"18px\" font-family=\"Arial:style=normal:variant=normal:weight=normal:stretch=normal:size=10.0\">X</text><rect x=\"430.0\" y=\"305.0\" width=\"40\" height=\"40\" stroke=\"black\" fill=\"white\" stroke-width=\"1\" /><text x=\"450.0\" y=\"325.0\" dominant-baseline=\"middle\" text-anchor=\"middle\" font-size=\"18px\" font-family=\"Arial:style=normal:variant=normal:weight=normal:stretch=normal:size=10.0\">X</text><circle cx=\"510.0\" cy=\"75.0\" r=\"10.0\" /><circle cx=\"510.0\" cy=\"325.0\" r=\"10.0\" /><rect x=\"550.0\" y=\"305.0\" width=\"40\" height=\"40\" stroke=\"black\" fill=\"white\" stroke-width=\"1\" /><text x=\"570.0\" y=\"325.0\" dominant-baseline=\"middle\" text-anchor=\"middle\" font-size=\"18px\" font-family=\"Arial:style=normal:variant=normal:weight=normal:stretch=normal:size=10.0\">X</text><circle cx=\"630.0\" cy=\"75.0\" r=\"10.0\" /><circle cx=\"630.0\" cy=\"175.0\" r=\"10.0\" /><circle cx=\"690.0\" cy=\"75.0\" r=\"10.0\" /><circle cx=\"690.0\" cy=\"225.0\" r=\"10.0\" /><circle cx=\"750.0\" cy=\"75.0\" r=\"10.0\" /><circle cx=\"750.0\" cy=\"275.0\" r=\"10.0\" /><circle cx=\"810.0\" cy=\"75.0\" r=\"10.0\" /><rect x=\"790.0\" y=\"305.0\" width=\"40\" height=\"40\" stroke=\"black\" fill=\"white\" stroke-width=\"1\" /><text x=\"810.0\" y=\"325.0\" dominant-baseline=\"middle\" text-anchor=\"middle\" font-size=\"18px\" font-family=\"Arial:style=normal:variant=normal:weight=normal:stretch=normal:size=10.0\">X</text><circle cx=\"870.0\" cy=\"75.0\" r=\"10.0\" /><circle cx=\"870.0\" cy=\"175.0\" r=\"10.0\" /><circle cx=\"930.0\" cy=\"75.0\" r=\"10.0\" /><rect x=\"910.0\" y=\"205.0\" width=\"40\" height=\"40\" stroke=\"black\" fill=\"white\" stroke-width=\"1\" /><text x=\"930.0\" y=\"225.0\" dominant-baseline=\"middle\" text-anchor=\"middle\" font-size=\"18px\" font-family=\"Arial:style=normal:variant=normal:weight=normal:stretch=normal:size=10.0\">X</text></svg>"
      ],
      "text/plain": [
       "<cirq.contrib.svg.svg.SVGCircuit at 0x14ec5c370>"
      ]
     },
     "execution_count": 11,
     "metadata": {},
     "output_type": "execute_result"
    }
   ],
   "source": [
    "ctrls = ([cirq.LineQubit(0)], [1])\n",
    "block_encoding_ancilla = [cirq.LineQubit(1)]\n",
    "clean_ancillae = [cirq.LineQubit(-1-i) for i in range(10)]\n",
    "system = System(1, 100, 4, 0)\n",
    "gates = [cirq.I.on_each(system.fermionic_modes)]\n",
    "\n",
    "_gates, metrics = fermionic_plus_hc_block_encoding(\n",
    "    system,\n",
    "    block_encoding_ancilla,\n",
    "    [3, 1],\n",
    "    [0, 0],\n",
    "    clean_ancillae=clean_ancillae,\n",
    "    ctrls=ctrls\n",
    ")\n",
    "gates += _gates\n",
    "\n",
    "print(\"Number of Clean Ancillae: \", metrics.ancillae_highwater())\n",
    "print(\"Number of Elbows: \", metrics.number_of_elbows)\n",
    "SVGCircuit(cirq.Circuit(gates))"
   ]
  },
  {
   "cell_type": "markdown",
   "metadata": {},
   "source": [
    "## Operator: $b_1 b_3 b_5 + b_5^\\dagger b_3^\\dagger b_1^\\dagger$"
   ]
  },
  {
   "cell_type": "code",
   "execution_count": 12,
   "metadata": {},
   "outputs": [
    {
     "name": "stdout",
     "output_type": "stream",
     "text": [
      "Number of Clean Ancillae:  2\n",
      "Number of Elbows:  2\n"
     ]
    },
    {
     "data": {
      "image/svg+xml": [
       "<svg xmlns=\"http://www.w3.org/2000/svg\" width=\"1480.0\" height=\"450.0\"><line x1=\"30.0\" x2=\"1450.0\" y1=\"25.0\" y2=\"25.0\" stroke=\"#1967d2\" stroke-width=\"1\" /><line x1=\"30.0\" x2=\"1450.0\" y1=\"75.0\" y2=\"75.0\" stroke=\"#1967d2\" stroke-width=\"1\" /><line x1=\"30.0\" x2=\"1450.0\" y1=\"125.0\" y2=\"125.0\" stroke=\"#1967d2\" stroke-width=\"1\" /><line x1=\"30.0\" x2=\"1450.0\" y1=\"175.0\" y2=\"175.0\" stroke=\"#1967d2\" stroke-width=\"1\" /><line x1=\"30.0\" x2=\"1450.0\" y1=\"225.0\" y2=\"225.0\" stroke=\"#1967d2\" stroke-width=\"1\" /><line x1=\"30.0\" x2=\"1450.0\" y1=\"275.0\" y2=\"275.0\" stroke=\"#1967d2\" stroke-width=\"1\" /><line x1=\"30.0\" x2=\"1450.0\" y1=\"325.0\" y2=\"325.0\" stroke=\"#1967d2\" stroke-width=\"1\" /><line x1=\"30.0\" x2=\"1450.0\" y1=\"375.0\" y2=\"375.0\" stroke=\"#1967d2\" stroke-width=\"1\" /><line x1=\"30.0\" x2=\"1450.0\" y1=\"425.0\" y2=\"425.0\" stroke=\"#1967d2\" stroke-width=\"1\" /><line x1=\"150.0\" x2=\"150.0\" y1=\"325.0\" y2=\"425.0\" stroke=\"black\" stroke-width=\"3\" /><line x1=\"210.0\" x2=\"210.0\" y1=\"225.0\" y2=\"325.0\" stroke=\"black\" stroke-width=\"3\" /><line x1=\"270.0\" x2=\"270.0\" y1=\"25.0\" y2=\"425.0\" stroke=\"black\" stroke-width=\"3\" /><line x1=\"330.0\" x2=\"330.0\" y1=\"25.0\" y2=\"125.0\" stroke=\"black\" stroke-width=\"3\" /><line x1=\"390.0\" x2=\"390.0\" y1=\"25.0\" y2=\"425.0\" stroke=\"black\" stroke-width=\"3\" /><line x1=\"450.0\" x2=\"450.0\" y1=\"225.0\" y2=\"325.0\" stroke=\"black\" stroke-width=\"3\" /><line x1=\"510.0\" x2=\"510.0\" y1=\"325.0\" y2=\"425.0\" stroke=\"black\" stroke-width=\"3\" /><line x1=\"630.0\" x2=\"630.0\" y1=\"75.0\" y2=\"425.0\" stroke=\"black\" stroke-width=\"3\" /><line x1=\"750.0\" x2=\"750.0\" y1=\"75.0\" y2=\"175.0\" stroke=\"black\" stroke-width=\"3\" /><line x1=\"810.0\" x2=\"810.0\" y1=\"75.0\" y2=\"225.0\" stroke=\"black\" stroke-width=\"3\" /><line x1=\"870.0\" x2=\"870.0\" y1=\"75.0\" y2=\"275.0\" stroke=\"black\" stroke-width=\"3\" /><line x1=\"930.0\" x2=\"930.0\" y1=\"75.0\" y2=\"325.0\" stroke=\"black\" stroke-width=\"3\" /><line x1=\"990.0\" x2=\"990.0\" y1=\"75.0\" y2=\"375.0\" stroke=\"black\" stroke-width=\"3\" /><line x1=\"1050.0\" x2=\"1050.0\" y1=\"75.0\" y2=\"425.0\" stroke=\"black\" stroke-width=\"3\" /><line x1=\"1110.0\" x2=\"1110.0\" y1=\"75.0\" y2=\"175.0\" stroke=\"black\" stroke-width=\"3\" /><line x1=\"1170.0\" x2=\"1170.0\" y1=\"75.0\" y2=\"225.0\" stroke=\"black\" stroke-width=\"3\" /><line x1=\"1230.0\" x2=\"1230.0\" y1=\"75.0\" y2=\"275.0\" stroke=\"black\" stroke-width=\"3\" /><line x1=\"1290.0\" x2=\"1290.0\" y1=\"75.0\" y2=\"325.0\" stroke=\"black\" stroke-width=\"3\" /><line x1=\"1350.0\" x2=\"1350.0\" y1=\"75.0\" y2=\"175.0\" stroke=\"black\" stroke-width=\"3\" /><line x1=\"1410.0\" x2=\"1410.0\" y1=\"75.0\" y2=\"225.0\" stroke=\"black\" stroke-width=\"3\" /><rect x=\"10.0\" y=\"5.0\" width=\"40\" height=\"40\" stroke=\"black\" fill=\"white\" stroke-width=\"0\" /><text x=\"30.0\" y=\"25.0\" dominant-baseline=\"middle\" text-anchor=\"middle\" font-size=\"14px\" font-family=\"Arial:style=normal:variant=normal:weight=normal:stretch=normal:size=10.0\">-3: </text><rect x=\"10.0\" y=\"55.0\" width=\"40\" height=\"40\" stroke=\"black\" fill=\"white\" stroke-width=\"0\" /><text x=\"30.0\" y=\"75.0\" dominant-baseline=\"middle\" text-anchor=\"middle\" font-size=\"14px\" font-family=\"Arial:style=normal:variant=normal:weight=normal:stretch=normal:size=10.0\">0: </text><rect x=\"10.0\" y=\"105.0\" width=\"40\" height=\"40\" stroke=\"black\" fill=\"white\" stroke-width=\"0\" /><text x=\"30.0\" y=\"125.0\" dominant-baseline=\"middle\" text-anchor=\"middle\" font-size=\"14px\" font-family=\"Arial:style=normal:variant=normal:weight=normal:stretch=normal:size=10.0\">1: </text><rect x=\"10.0\" y=\"155.0\" width=\"40\" height=\"40\" stroke=\"black\" fill=\"white\" stroke-width=\"0\" /><text x=\"30.0\" y=\"175.0\" dominant-baseline=\"middle\" text-anchor=\"middle\" font-size=\"14px\" font-family=\"Arial:style=normal:variant=normal:weight=normal:stretch=normal:size=10.0\">100: </text><rect x=\"10.0\" y=\"205.0\" width=\"40\" height=\"40\" stroke=\"black\" fill=\"white\" stroke-width=\"0\" /><text x=\"30.0\" y=\"225.0\" dominant-baseline=\"middle\" text-anchor=\"middle\" font-size=\"14px\" font-family=\"Arial:style=normal:variant=normal:weight=normal:stretch=normal:size=10.0\">101: </text><rect x=\"10.0\" y=\"255.0\" width=\"40\" height=\"40\" stroke=\"black\" fill=\"white\" stroke-width=\"0\" /><text x=\"30.0\" y=\"275.0\" dominant-baseline=\"middle\" text-anchor=\"middle\" font-size=\"14px\" font-family=\"Arial:style=normal:variant=normal:weight=normal:stretch=normal:size=10.0\">102: </text><rect x=\"10.0\" y=\"305.0\" width=\"40\" height=\"40\" stroke=\"black\" fill=\"white\" stroke-width=\"0\" /><text x=\"30.0\" y=\"325.0\" dominant-baseline=\"middle\" text-anchor=\"middle\" font-size=\"14px\" font-family=\"Arial:style=normal:variant=normal:weight=normal:stretch=normal:size=10.0\">103: </text><rect x=\"10.0\" y=\"355.0\" width=\"40\" height=\"40\" stroke=\"black\" fill=\"white\" stroke-width=\"0\" /><text x=\"30.0\" y=\"375.0\" dominant-baseline=\"middle\" text-anchor=\"middle\" font-size=\"14px\" font-family=\"Arial:style=normal:variant=normal:weight=normal:stretch=normal:size=10.0\">104: </text><rect x=\"10.0\" y=\"405.0\" width=\"40\" height=\"40\" stroke=\"black\" fill=\"white\" stroke-width=\"0\" /><text x=\"30.0\" y=\"425.0\" dominant-baseline=\"middle\" text-anchor=\"middle\" font-size=\"14px\" font-family=\"Arial:style=normal:variant=normal:weight=normal:stretch=normal:size=10.0\">105: </text><rect x=\"70.0\" y=\"155.0\" width=\"40\" height=\"40\" stroke=\"black\" fill=\"white\" stroke-width=\"1\" /><text x=\"90.0\" y=\"175.0\" dominant-baseline=\"middle\" text-anchor=\"middle\" font-size=\"18px\" font-family=\"Arial:style=normal:variant=normal:weight=normal:stretch=normal:size=10.0\">I</text><rect x=\"70.0\" y=\"205.0\" width=\"40\" height=\"40\" stroke=\"black\" fill=\"white\" stroke-width=\"1\" /><text x=\"90.0\" y=\"225.0\" dominant-baseline=\"middle\" text-anchor=\"middle\" font-size=\"18px\" font-family=\"Arial:style=normal:variant=normal:weight=normal:stretch=normal:size=10.0\">I</text><rect x=\"70.0\" y=\"255.0\" width=\"40\" height=\"40\" stroke=\"black\" fill=\"white\" stroke-width=\"1\" /><text x=\"90.0\" y=\"275.0\" dominant-baseline=\"middle\" text-anchor=\"middle\" font-size=\"18px\" font-family=\"Arial:style=normal:variant=normal:weight=normal:stretch=normal:size=10.0\">I</text><rect x=\"70.0\" y=\"305.0\" width=\"40\" height=\"40\" stroke=\"black\" fill=\"white\" stroke-width=\"1\" /><text x=\"90.0\" y=\"325.0\" dominant-baseline=\"middle\" text-anchor=\"middle\" font-size=\"18px\" font-family=\"Arial:style=normal:variant=normal:weight=normal:stretch=normal:size=10.0\">I</text><rect x=\"70.0\" y=\"355.0\" width=\"40\" height=\"40\" stroke=\"black\" fill=\"white\" stroke-width=\"1\" /><text x=\"90.0\" y=\"375.0\" dominant-baseline=\"middle\" text-anchor=\"middle\" font-size=\"18px\" font-family=\"Arial:style=normal:variant=normal:weight=normal:stretch=normal:size=10.0\">I</text><rect x=\"70.0\" y=\"405.0\" width=\"40\" height=\"40\" stroke=\"black\" fill=\"white\" stroke-width=\"1\" /><text x=\"90.0\" y=\"425.0\" dominant-baseline=\"middle\" text-anchor=\"middle\" font-size=\"18px\" font-family=\"Arial:style=normal:variant=normal:weight=normal:stretch=normal:size=10.0\">I</text><circle cx=\"150.0\" cy=\"325.0\" r=\"10.0\" /><rect x=\"130.0\" y=\"405.0\" width=\"40\" height=\"40\" stroke=\"black\" fill=\"white\" stroke-width=\"1\" /><text x=\"150.0\" y=\"425.0\" dominant-baseline=\"middle\" text-anchor=\"middle\" font-size=\"18px\" font-family=\"Arial:style=normal:variant=normal:weight=normal:stretch=normal:size=10.0\">X</text><circle cx=\"210.0\" cy=\"225.0\" r=\"10.0\" /><rect x=\"190.0\" y=\"305.0\" width=\"40\" height=\"40\" stroke=\"black\" fill=\"white\" stroke-width=\"1\" /><text x=\"210.0\" y=\"325.0\" dominant-baseline=\"middle\" text-anchor=\"middle\" font-size=\"18px\" font-family=\"Arial:style=normal:variant=normal:weight=normal:stretch=normal:size=10.0\">X</text><rect x=\"250.0\" y=\"405.0\" width=\"40\" height=\"40\" stroke=\"black\" fill=\"white\" stroke-width=\"1\" /><text x=\"270.0\" y=\"425.0\" dominant-baseline=\"middle\" text-anchor=\"middle\" font-size=\"14px\" font-family=\"Arial:style=normal:variant=normal:weight=normal:stretch=normal:size=10.0\">(0)</text><rect x=\"250.0\" y=\"305.0\" width=\"40\" height=\"40\" stroke=\"black\" fill=\"white\" stroke-width=\"1\" /><text x=\"270.0\" y=\"325.0\" dominant-baseline=\"middle\" text-anchor=\"middle\" font-size=\"14px\" font-family=\"Arial:style=normal:variant=normal:weight=normal:stretch=normal:size=10.0\">(0)</text><rect x=\"250.0\" y=\"5.0\" width=\"40\" height=\"40\" stroke=\"black\" fill=\"white\" stroke-width=\"1\" /><text x=\"270.0\" y=\"25.0\" dominant-baseline=\"middle\" text-anchor=\"middle\" font-size=\"18px\" font-family=\"Arial:style=normal:variant=normal:weight=normal:stretch=normal:size=10.0\">X</text><circle cx=\"330.0\" cy=\"75.0\" r=\"10.0\" /><rect x=\"310.0\" y=\"5.0\" width=\"40\" height=\"40\" stroke=\"black\" fill=\"white\" stroke-width=\"1\" /><text x=\"330.0\" y=\"25.0\" dominant-baseline=\"middle\" text-anchor=\"middle\" font-size=\"14px\" font-family=\"Arial:style=normal:variant=normal:weight=normal:stretch=normal:size=10.0\">(0)</text><rect x=\"310.0\" y=\"105.0\" width=\"40\" height=\"40\" stroke=\"black\" fill=\"white\" stroke-width=\"1\" /><text x=\"330.0\" y=\"125.0\" dominant-baseline=\"middle\" text-anchor=\"middle\" font-size=\"18px\" font-family=\"Arial:style=normal:variant=normal:weight=normal:stretch=normal:size=10.0\">X</text><rect x=\"370.0\" y=\"405.0\" width=\"40\" height=\"40\" stroke=\"black\" fill=\"white\" stroke-width=\"1\" /><text x=\"390.0\" y=\"425.0\" dominant-baseline=\"middle\" text-anchor=\"middle\" font-size=\"14px\" font-family=\"Arial:style=normal:variant=normal:weight=normal:stretch=normal:size=10.0\">(0)</text><rect x=\"370.0\" y=\"305.0\" width=\"40\" height=\"40\" stroke=\"black\" fill=\"white\" stroke-width=\"1\" /><text x=\"390.0\" y=\"325.0\" dominant-baseline=\"middle\" text-anchor=\"middle\" font-size=\"14px\" font-family=\"Arial:style=normal:variant=normal:weight=normal:stretch=normal:size=10.0\">(0)</text><rect x=\"370.0\" y=\"5.0\" width=\"40\" height=\"40\" stroke=\"black\" fill=\"white\" stroke-width=\"1\" /><text x=\"390.0\" y=\"25.0\" dominant-baseline=\"middle\" text-anchor=\"middle\" font-size=\"18px\" font-family=\"Arial:style=normal:variant=normal:weight=normal:stretch=normal:size=10.0\">X</text><circle cx=\"450.0\" cy=\"225.0\" r=\"10.0\" /><rect x=\"430.0\" y=\"305.0\" width=\"40\" height=\"40\" stroke=\"black\" fill=\"white\" stroke-width=\"1\" /><text x=\"450.0\" y=\"325.0\" dominant-baseline=\"middle\" text-anchor=\"middle\" font-size=\"18px\" font-family=\"Arial:style=normal:variant=normal:weight=normal:stretch=normal:size=10.0\">X</text><circle cx=\"510.0\" cy=\"325.0\" r=\"10.0\" /><rect x=\"490.0\" y=\"405.0\" width=\"40\" height=\"40\" stroke=\"black\" fill=\"white\" stroke-width=\"1\" /><text x=\"510.0\" y=\"425.0\" dominant-baseline=\"middle\" text-anchor=\"middle\" font-size=\"18px\" font-family=\"Arial:style=normal:variant=normal:weight=normal:stretch=normal:size=10.0\">X</text><rect x=\"550.0\" y=\"405.0\" width=\"40\" height=\"40\" stroke=\"black\" fill=\"white\" stroke-width=\"1\" /><text x=\"570.0\" y=\"425.0\" dominant-baseline=\"middle\" text-anchor=\"middle\" font-size=\"18px\" font-family=\"Arial:style=normal:variant=normal:weight=normal:stretch=normal:size=10.0\">X</text><circle cx=\"630.0\" cy=\"75.0\" r=\"10.0\" /><circle cx=\"630.0\" cy=\"425.0\" r=\"10.0\" /><rect x=\"670.0\" y=\"405.0\" width=\"40\" height=\"40\" stroke=\"black\" fill=\"white\" stroke-width=\"1\" /><text x=\"690.0\" y=\"425.0\" dominant-baseline=\"middle\" text-anchor=\"middle\" font-size=\"18px\" font-family=\"Arial:style=normal:variant=normal:weight=normal:stretch=normal:size=10.0\">X</text><circle cx=\"750.0\" cy=\"75.0\" r=\"10.0\" /><circle cx=\"750.0\" cy=\"175.0\" r=\"10.0\" /><circle cx=\"810.0\" cy=\"75.0\" r=\"10.0\" /><circle cx=\"810.0\" cy=\"225.0\" r=\"10.0\" /><circle cx=\"870.0\" cy=\"75.0\" r=\"10.0\" /><circle cx=\"870.0\" cy=\"275.0\" r=\"10.0\" /><circle cx=\"930.0\" cy=\"75.0\" r=\"10.0\" /><circle cx=\"930.0\" cy=\"325.0\" r=\"10.0\" /><circle cx=\"990.0\" cy=\"75.0\" r=\"10.0\" /><circle cx=\"990.0\" cy=\"375.0\" r=\"10.0\" /><circle cx=\"1050.0\" cy=\"75.0\" r=\"10.0\" /><rect x=\"1030.0\" y=\"405.0\" width=\"40\" height=\"40\" stroke=\"black\" fill=\"white\" stroke-width=\"1\" /><text x=\"1050.0\" y=\"425.0\" dominant-baseline=\"middle\" text-anchor=\"middle\" font-size=\"18px\" font-family=\"Arial:style=normal:variant=normal:weight=normal:stretch=normal:size=10.0\">X</text><circle cx=\"1110.0\" cy=\"75.0\" r=\"10.0\" /><circle cx=\"1110.0\" cy=\"175.0\" r=\"10.0\" /><circle cx=\"1170.0\" cy=\"75.0\" r=\"10.0\" /><circle cx=\"1170.0\" cy=\"225.0\" r=\"10.0\" /><circle cx=\"1230.0\" cy=\"75.0\" r=\"10.0\" /><circle cx=\"1230.0\" cy=\"275.0\" r=\"10.0\" /><circle cx=\"1290.0\" cy=\"75.0\" r=\"10.0\" /><rect x=\"1270.0\" y=\"305.0\" width=\"40\" height=\"40\" stroke=\"black\" fill=\"white\" stroke-width=\"1\" /><text x=\"1290.0\" y=\"325.0\" dominant-baseline=\"middle\" text-anchor=\"middle\" font-size=\"18px\" font-family=\"Arial:style=normal:variant=normal:weight=normal:stretch=normal:size=10.0\">X</text><circle cx=\"1350.0\" cy=\"75.0\" r=\"10.0\" /><circle cx=\"1350.0\" cy=\"175.0\" r=\"10.0\" /><circle cx=\"1410.0\" cy=\"75.0\" r=\"10.0\" /><rect x=\"1390.0\" y=\"205.0\" width=\"40\" height=\"40\" stroke=\"black\" fill=\"white\" stroke-width=\"1\" /><text x=\"1410.0\" y=\"225.0\" dominant-baseline=\"middle\" text-anchor=\"middle\" font-size=\"18px\" font-family=\"Arial:style=normal:variant=normal:weight=normal:stretch=normal:size=10.0\">X</text></svg>"
      ],
      "text/plain": [
       "<cirq.contrib.svg.svg.SVGCircuit at 0x14ec690d0>"
      ]
     },
     "execution_count": 12,
     "metadata": {},
     "output_type": "execute_result"
    }
   ],
   "source": [
    "ctrls = ([cirq.LineQubit(0)], [1])\n",
    "block_encoding_ancilla = [cirq.LineQubit(1)]\n",
    "clean_ancillae = [cirq.LineQubit(-1-i) for i in range(10)]\n",
    "system = System(1, 100, 6, 0)\n",
    "gates = [cirq.I.on_each(system.fermionic_modes)]\n",
    "\n",
    "_gates, metrics = fermionic_plus_hc_block_encoding(\n",
    "    system,\n",
    "    block_encoding_ancilla,\n",
    "    [5, 3, 1],\n",
    "    [0, 0, 0],\n",
    "    clean_ancillae=clean_ancillae,\n",
    "    ctrls=ctrls\n",
    ")\n",
    "gates += _gates\n",
    "\n",
    "print(\"Number of Clean Ancillae: \", metrics.ancillae_highwater())\n",
    "print(\"Number of Elbows: \", metrics.number_of_elbows)\n",
    "SVGCircuit(cirq.Circuit(gates))"
   ]
  },
  {
   "cell_type": "markdown",
   "metadata": {},
   "source": [
    "## Operator: $b_1 b_3^\\dagger + b_3 b_1^\\dagger$"
   ]
  },
  {
   "cell_type": "code",
   "execution_count": 13,
   "metadata": {},
   "outputs": [
    {
     "name": "stdout",
     "output_type": "stream",
     "text": [
      "Number of Clean Ancillae:  1\n",
      "Number of Elbows:  1\n"
     ]
    },
    {
     "data": {
      "image/svg+xml": [
       "<svg xmlns=\"http://www.w3.org/2000/svg\" width=\"1000.0\" height=\"350.0\"><line x1=\"30.0\" x2=\"970.0\" y1=\"25.0\" y2=\"25.0\" stroke=\"#1967d2\" stroke-width=\"1\" /><line x1=\"30.0\" x2=\"970.0\" y1=\"75.0\" y2=\"75.0\" stroke=\"#1967d2\" stroke-width=\"1\" /><line x1=\"30.0\" x2=\"970.0\" y1=\"125.0\" y2=\"125.0\" stroke=\"#1967d2\" stroke-width=\"1\" /><line x1=\"30.0\" x2=\"970.0\" y1=\"175.0\" y2=\"175.0\" stroke=\"#1967d2\" stroke-width=\"1\" /><line x1=\"30.0\" x2=\"970.0\" y1=\"225.0\" y2=\"225.0\" stroke=\"#1967d2\" stroke-width=\"1\" /><line x1=\"30.0\" x2=\"970.0\" y1=\"275.0\" y2=\"275.0\" stroke=\"#1967d2\" stroke-width=\"1\" /><line x1=\"30.0\" x2=\"970.0\" y1=\"325.0\" y2=\"325.0\" stroke=\"#1967d2\" stroke-width=\"1\" /><line x1=\"210.0\" x2=\"210.0\" y1=\"225.0\" y2=\"325.0\" stroke=\"black\" stroke-width=\"3\" /><line x1=\"270.0\" x2=\"270.0\" y1=\"25.0\" y2=\"325.0\" stroke=\"black\" stroke-width=\"3\" /><line x1=\"330.0\" x2=\"330.0\" y1=\"25.0\" y2=\"125.0\" stroke=\"black\" stroke-width=\"3\" /><line x1=\"390.0\" x2=\"390.0\" y1=\"25.0\" y2=\"325.0\" stroke=\"black\" stroke-width=\"3\" /><line x1=\"450.0\" x2=\"450.0\" y1=\"225.0\" y2=\"325.0\" stroke=\"black\" stroke-width=\"3\" /><line x1=\"570.0\" x2=\"570.0\" y1=\"75.0\" y2=\"325.0\" stroke=\"black\" stroke-width=\"3\" /><line x1=\"630.0\" x2=\"630.0\" y1=\"75.0\" y2=\"175.0\" stroke=\"black\" stroke-width=\"3\" /><line x1=\"690.0\" x2=\"690.0\" y1=\"75.0\" y2=\"225.0\" stroke=\"black\" stroke-width=\"3\" /><line x1=\"750.0\" x2=\"750.0\" y1=\"75.0\" y2=\"275.0\" stroke=\"black\" stroke-width=\"3\" /><line x1=\"810.0\" x2=\"810.0\" y1=\"75.0\" y2=\"325.0\" stroke=\"black\" stroke-width=\"3\" /><line x1=\"870.0\" x2=\"870.0\" y1=\"75.0\" y2=\"175.0\" stroke=\"black\" stroke-width=\"3\" /><line x1=\"930.0\" x2=\"930.0\" y1=\"75.0\" y2=\"225.0\" stroke=\"black\" stroke-width=\"3\" /><rect x=\"10.0\" y=\"5.0\" width=\"40\" height=\"40\" stroke=\"black\" fill=\"white\" stroke-width=\"0\" /><text x=\"30.0\" y=\"25.0\" dominant-baseline=\"middle\" text-anchor=\"middle\" font-size=\"14px\" font-family=\"Arial:style=normal:variant=normal:weight=normal:stretch=normal:size=10.0\">-2: </text><rect x=\"10.0\" y=\"55.0\" width=\"40\" height=\"40\" stroke=\"black\" fill=\"white\" stroke-width=\"0\" /><text x=\"30.0\" y=\"75.0\" dominant-baseline=\"middle\" text-anchor=\"middle\" font-size=\"14px\" font-family=\"Arial:style=normal:variant=normal:weight=normal:stretch=normal:size=10.0\">0: </text><rect x=\"10.0\" y=\"105.0\" width=\"40\" height=\"40\" stroke=\"black\" fill=\"white\" stroke-width=\"0\" /><text x=\"30.0\" y=\"125.0\" dominant-baseline=\"middle\" text-anchor=\"middle\" font-size=\"14px\" font-family=\"Arial:style=normal:variant=normal:weight=normal:stretch=normal:size=10.0\">1: </text><rect x=\"10.0\" y=\"155.0\" width=\"40\" height=\"40\" stroke=\"black\" fill=\"white\" stroke-width=\"0\" /><text x=\"30.0\" y=\"175.0\" dominant-baseline=\"middle\" text-anchor=\"middle\" font-size=\"14px\" font-family=\"Arial:style=normal:variant=normal:weight=normal:stretch=normal:size=10.0\">100: </text><rect x=\"10.0\" y=\"205.0\" width=\"40\" height=\"40\" stroke=\"black\" fill=\"white\" stroke-width=\"0\" /><text x=\"30.0\" y=\"225.0\" dominant-baseline=\"middle\" text-anchor=\"middle\" font-size=\"14px\" font-family=\"Arial:style=normal:variant=normal:weight=normal:stretch=normal:size=10.0\">101: </text><rect x=\"10.0\" y=\"255.0\" width=\"40\" height=\"40\" stroke=\"black\" fill=\"white\" stroke-width=\"0\" /><text x=\"30.0\" y=\"275.0\" dominant-baseline=\"middle\" text-anchor=\"middle\" font-size=\"14px\" font-family=\"Arial:style=normal:variant=normal:weight=normal:stretch=normal:size=10.0\">102: </text><rect x=\"10.0\" y=\"305.0\" width=\"40\" height=\"40\" stroke=\"black\" fill=\"white\" stroke-width=\"0\" /><text x=\"30.0\" y=\"325.0\" dominant-baseline=\"middle\" text-anchor=\"middle\" font-size=\"14px\" font-family=\"Arial:style=normal:variant=normal:weight=normal:stretch=normal:size=10.0\">103: </text><rect x=\"70.0\" y=\"155.0\" width=\"40\" height=\"40\" stroke=\"black\" fill=\"white\" stroke-width=\"1\" /><text x=\"90.0\" y=\"175.0\" dominant-baseline=\"middle\" text-anchor=\"middle\" font-size=\"18px\" font-family=\"Arial:style=normal:variant=normal:weight=normal:stretch=normal:size=10.0\">I</text><rect x=\"70.0\" y=\"205.0\" width=\"40\" height=\"40\" stroke=\"black\" fill=\"white\" stroke-width=\"1\" /><text x=\"90.0\" y=\"225.0\" dominant-baseline=\"middle\" text-anchor=\"middle\" font-size=\"18px\" font-family=\"Arial:style=normal:variant=normal:weight=normal:stretch=normal:size=10.0\">I</text><rect x=\"70.0\" y=\"255.0\" width=\"40\" height=\"40\" stroke=\"black\" fill=\"white\" stroke-width=\"1\" /><text x=\"90.0\" y=\"275.0\" dominant-baseline=\"middle\" text-anchor=\"middle\" font-size=\"18px\" font-family=\"Arial:style=normal:variant=normal:weight=normal:stretch=normal:size=10.0\">I</text><rect x=\"70.0\" y=\"305.0\" width=\"40\" height=\"40\" stroke=\"black\" fill=\"white\" stroke-width=\"1\" /><text x=\"90.0\" y=\"325.0\" dominant-baseline=\"middle\" text-anchor=\"middle\" font-size=\"18px\" font-family=\"Arial:style=normal:variant=normal:weight=normal:stretch=normal:size=10.0\">I</text><rect x=\"130.0\" y=\"305.0\" width=\"40\" height=\"40\" stroke=\"black\" fill=\"white\" stroke-width=\"1\" /><text x=\"150.0\" y=\"325.0\" dominant-baseline=\"middle\" text-anchor=\"middle\" font-size=\"18px\" font-family=\"Arial:style=normal:variant=normal:weight=normal:stretch=normal:size=10.0\">X</text><circle cx=\"210.0\" cy=\"225.0\" r=\"10.0\" /><rect x=\"190.0\" y=\"305.0\" width=\"40\" height=\"40\" stroke=\"black\" fill=\"white\" stroke-width=\"1\" /><text x=\"210.0\" y=\"325.0\" dominant-baseline=\"middle\" text-anchor=\"middle\" font-size=\"18px\" font-family=\"Arial:style=normal:variant=normal:weight=normal:stretch=normal:size=10.0\">X</text><rect x=\"250.0\" y=\"305.0\" width=\"40\" height=\"40\" stroke=\"black\" fill=\"white\" stroke-width=\"1\" /><text x=\"270.0\" y=\"325.0\" dominant-baseline=\"middle\" text-anchor=\"middle\" font-size=\"14px\" font-family=\"Arial:style=normal:variant=normal:weight=normal:stretch=normal:size=10.0\">(0)</text><rect x=\"250.0\" y=\"5.0\" width=\"40\" height=\"40\" stroke=\"black\" fill=\"white\" stroke-width=\"1\" /><text x=\"270.0\" y=\"25.0\" dominant-baseline=\"middle\" text-anchor=\"middle\" font-size=\"18px\" font-family=\"Arial:style=normal:variant=normal:weight=normal:stretch=normal:size=10.0\">X</text><circle cx=\"330.0\" cy=\"75.0\" r=\"10.0\" /><rect x=\"310.0\" y=\"5.0\" width=\"40\" height=\"40\" stroke=\"black\" fill=\"white\" stroke-width=\"1\" /><text x=\"330.0\" y=\"25.0\" dominant-baseline=\"middle\" text-anchor=\"middle\" font-size=\"14px\" font-family=\"Arial:style=normal:variant=normal:weight=normal:stretch=normal:size=10.0\">(0)</text><rect x=\"310.0\" y=\"105.0\" width=\"40\" height=\"40\" stroke=\"black\" fill=\"white\" stroke-width=\"1\" /><text x=\"330.0\" y=\"125.0\" dominant-baseline=\"middle\" text-anchor=\"middle\" font-size=\"18px\" font-family=\"Arial:style=normal:variant=normal:weight=normal:stretch=normal:size=10.0\">X</text><rect x=\"370.0\" y=\"305.0\" width=\"40\" height=\"40\" stroke=\"black\" fill=\"white\" stroke-width=\"1\" /><text x=\"390.0\" y=\"325.0\" dominant-baseline=\"middle\" text-anchor=\"middle\" font-size=\"14px\" font-family=\"Arial:style=normal:variant=normal:weight=normal:stretch=normal:size=10.0\">(0)</text><rect x=\"370.0\" y=\"5.0\" width=\"40\" height=\"40\" stroke=\"black\" fill=\"white\" stroke-width=\"1\" /><text x=\"390.0\" y=\"25.0\" dominant-baseline=\"middle\" text-anchor=\"middle\" font-size=\"18px\" font-family=\"Arial:style=normal:variant=normal:weight=normal:stretch=normal:size=10.0\">X</text><circle cx=\"450.0\" cy=\"225.0\" r=\"10.0\" /><rect x=\"430.0\" y=\"305.0\" width=\"40\" height=\"40\" stroke=\"black\" fill=\"white\" stroke-width=\"1\" /><text x=\"450.0\" y=\"325.0\" dominant-baseline=\"middle\" text-anchor=\"middle\" font-size=\"18px\" font-family=\"Arial:style=normal:variant=normal:weight=normal:stretch=normal:size=10.0\">X</text><rect x=\"490.0\" y=\"305.0\" width=\"40\" height=\"40\" stroke=\"black\" fill=\"white\" stroke-width=\"1\" /><text x=\"510.0\" y=\"325.0\" dominant-baseline=\"middle\" text-anchor=\"middle\" font-size=\"18px\" font-family=\"Arial:style=normal:variant=normal:weight=normal:stretch=normal:size=10.0\">X</text><circle cx=\"570.0\" cy=\"75.0\" r=\"10.0\" /><circle cx=\"570.0\" cy=\"325.0\" r=\"10.0\" /><circle cx=\"630.0\" cy=\"75.0\" r=\"10.0\" /><circle cx=\"630.0\" cy=\"175.0\" r=\"10.0\" /><circle cx=\"690.0\" cy=\"75.0\" r=\"10.0\" /><circle cx=\"690.0\" cy=\"225.0\" r=\"10.0\" /><circle cx=\"750.0\" cy=\"75.0\" r=\"10.0\" /><circle cx=\"750.0\" cy=\"275.0\" r=\"10.0\" /><circle cx=\"810.0\" cy=\"75.0\" r=\"10.0\" /><rect x=\"790.0\" y=\"305.0\" width=\"40\" height=\"40\" stroke=\"black\" fill=\"white\" stroke-width=\"1\" /><text x=\"810.0\" y=\"325.0\" dominant-baseline=\"middle\" text-anchor=\"middle\" font-size=\"18px\" font-family=\"Arial:style=normal:variant=normal:weight=normal:stretch=normal:size=10.0\">X</text><circle cx=\"870.0\" cy=\"75.0\" r=\"10.0\" /><circle cx=\"870.0\" cy=\"175.0\" r=\"10.0\" /><circle cx=\"930.0\" cy=\"75.0\" r=\"10.0\" /><rect x=\"910.0\" y=\"205.0\" width=\"40\" height=\"40\" stroke=\"black\" fill=\"white\" stroke-width=\"1\" /><text x=\"930.0\" y=\"225.0\" dominant-baseline=\"middle\" text-anchor=\"middle\" font-size=\"18px\" font-family=\"Arial:style=normal:variant=normal:weight=normal:stretch=normal:size=10.0\">X</text></svg>"
      ],
      "text/plain": [
       "<cirq.contrib.svg.svg.SVGCircuit at 0x14ec6e430>"
      ]
     },
     "execution_count": 13,
     "metadata": {},
     "output_type": "execute_result"
    }
   ],
   "source": [
    "ctrls = ([cirq.LineQubit(0)], [1])\n",
    "block_encoding_ancilla = [cirq.LineQubit(1)]\n",
    "clean_ancillae = [cirq.LineQubit(-1-i) for i in range(10)]\n",
    "system = System(1, 100, 4, 0)\n",
    "gates = [cirq.I.on_each(system.fermionic_modes)]\n",
    "\n",
    "_gates, metrics = fermionic_plus_hc_block_encoding(\n",
    "    system,\n",
    "    block_encoding_ancilla,\n",
    "    [3, 1],\n",
    "    [1, 0],\n",
    "    clean_ancillae=clean_ancillae,\n",
    "    ctrls=ctrls\n",
    ")\n",
    "gates += _gates\n",
    "\n",
    "print(\"Number of Clean Ancillae: \", metrics.ancillae_highwater())\n",
    "print(\"Number of Elbows: \", metrics.number_of_elbows)\n",
    "SVGCircuit(cirq.Circuit(gates))"
   ]
  },
  {
   "cell_type": "markdown",
   "metadata": {},
   "source": [
    "## Operator: $b_1 b_3^\\dagger b_5^\\dagger b_5 + b_5^\\dagger b_5 b_3 b_1^\\dagger$"
   ]
  },
  {
   "cell_type": "code",
   "execution_count": 14,
   "metadata": {},
   "outputs": [
    {
     "name": "stdout",
     "output_type": "stream",
     "text": [
      "Number of Clean Ancillae:  2\n",
      "Number of Elbows:  2\n"
     ]
    },
    {
     "data": {
      "image/svg+xml": [
       "<svg xmlns=\"http://www.w3.org/2000/svg\" width=\"1000.0\" height=\"450.0\"><line x1=\"30.0\" x2=\"970.0\" y1=\"25.0\" y2=\"25.0\" stroke=\"#1967d2\" stroke-width=\"1\" /><line x1=\"30.0\" x2=\"970.0\" y1=\"75.0\" y2=\"75.0\" stroke=\"#1967d2\" stroke-width=\"1\" /><line x1=\"30.0\" x2=\"970.0\" y1=\"125.0\" y2=\"125.0\" stroke=\"#1967d2\" stroke-width=\"1\" /><line x1=\"30.0\" x2=\"970.0\" y1=\"175.0\" y2=\"175.0\" stroke=\"#1967d2\" stroke-width=\"1\" /><line x1=\"30.0\" x2=\"970.0\" y1=\"225.0\" y2=\"225.0\" stroke=\"#1967d2\" stroke-width=\"1\" /><line x1=\"30.0\" x2=\"970.0\" y1=\"275.0\" y2=\"275.0\" stroke=\"#1967d2\" stroke-width=\"1\" /><line x1=\"30.0\" x2=\"970.0\" y1=\"325.0\" y2=\"325.0\" stroke=\"#1967d2\" stroke-width=\"1\" /><line x1=\"30.0\" x2=\"970.0\" y1=\"375.0\" y2=\"375.0\" stroke=\"#1967d2\" stroke-width=\"1\" /><line x1=\"30.0\" x2=\"970.0\" y1=\"425.0\" y2=\"425.0\" stroke=\"#1967d2\" stroke-width=\"1\" /><line x1=\"210.0\" x2=\"210.0\" y1=\"225.0\" y2=\"325.0\" stroke=\"black\" stroke-width=\"3\" /><line x1=\"270.0\" x2=\"270.0\" y1=\"25.0\" y2=\"425.0\" stroke=\"black\" stroke-width=\"3\" /><line x1=\"330.0\" x2=\"330.0\" y1=\"25.0\" y2=\"125.0\" stroke=\"black\" stroke-width=\"3\" /><line x1=\"390.0\" x2=\"390.0\" y1=\"25.0\" y2=\"425.0\" stroke=\"black\" stroke-width=\"3\" /><line x1=\"450.0\" x2=\"450.0\" y1=\"225.0\" y2=\"325.0\" stroke=\"black\" stroke-width=\"3\" /><line x1=\"570.0\" x2=\"570.0\" y1=\"75.0\" y2=\"325.0\" stroke=\"black\" stroke-width=\"3\" /><line x1=\"630.0\" x2=\"630.0\" y1=\"75.0\" y2=\"175.0\" stroke=\"black\" stroke-width=\"3\" /><line x1=\"690.0\" x2=\"690.0\" y1=\"75.0\" y2=\"225.0\" stroke=\"black\" stroke-width=\"3\" /><line x1=\"750.0\" x2=\"750.0\" y1=\"75.0\" y2=\"275.0\" stroke=\"black\" stroke-width=\"3\" /><line x1=\"810.0\" x2=\"810.0\" y1=\"75.0\" y2=\"325.0\" stroke=\"black\" stroke-width=\"3\" /><line x1=\"870.0\" x2=\"870.0\" y1=\"75.0\" y2=\"175.0\" stroke=\"black\" stroke-width=\"3\" /><line x1=\"930.0\" x2=\"930.0\" y1=\"75.0\" y2=\"225.0\" stroke=\"black\" stroke-width=\"3\" /><rect x=\"10.0\" y=\"5.0\" width=\"40\" height=\"40\" stroke=\"black\" fill=\"white\" stroke-width=\"0\" /><text x=\"30.0\" y=\"25.0\" dominant-baseline=\"middle\" text-anchor=\"middle\" font-size=\"14px\" font-family=\"Arial:style=normal:variant=normal:weight=normal:stretch=normal:size=10.0\">-2: </text><rect x=\"10.0\" y=\"55.0\" width=\"40\" height=\"40\" stroke=\"black\" fill=\"white\" stroke-width=\"0\" /><text x=\"30.0\" y=\"75.0\" dominant-baseline=\"middle\" text-anchor=\"middle\" font-size=\"14px\" font-family=\"Arial:style=normal:variant=normal:weight=normal:stretch=normal:size=10.0\">0: </text><rect x=\"10.0\" y=\"105.0\" width=\"40\" height=\"40\" stroke=\"black\" fill=\"white\" stroke-width=\"0\" /><text x=\"30.0\" y=\"125.0\" dominant-baseline=\"middle\" text-anchor=\"middle\" font-size=\"14px\" font-family=\"Arial:style=normal:variant=normal:weight=normal:stretch=normal:size=10.0\">1: </text><rect x=\"10.0\" y=\"155.0\" width=\"40\" height=\"40\" stroke=\"black\" fill=\"white\" stroke-width=\"0\" /><text x=\"30.0\" y=\"175.0\" dominant-baseline=\"middle\" text-anchor=\"middle\" font-size=\"14px\" font-family=\"Arial:style=normal:variant=normal:weight=normal:stretch=normal:size=10.0\">100: </text><rect x=\"10.0\" y=\"205.0\" width=\"40\" height=\"40\" stroke=\"black\" fill=\"white\" stroke-width=\"0\" /><text x=\"30.0\" y=\"225.0\" dominant-baseline=\"middle\" text-anchor=\"middle\" font-size=\"14px\" font-family=\"Arial:style=normal:variant=normal:weight=normal:stretch=normal:size=10.0\">101: </text><rect x=\"10.0\" y=\"255.0\" width=\"40\" height=\"40\" stroke=\"black\" fill=\"white\" stroke-width=\"0\" /><text x=\"30.0\" y=\"275.0\" dominant-baseline=\"middle\" text-anchor=\"middle\" font-size=\"14px\" font-family=\"Arial:style=normal:variant=normal:weight=normal:stretch=normal:size=10.0\">102: </text><rect x=\"10.0\" y=\"305.0\" width=\"40\" height=\"40\" stroke=\"black\" fill=\"white\" stroke-width=\"0\" /><text x=\"30.0\" y=\"325.0\" dominant-baseline=\"middle\" text-anchor=\"middle\" font-size=\"14px\" font-family=\"Arial:style=normal:variant=normal:weight=normal:stretch=normal:size=10.0\">103: </text><rect x=\"10.0\" y=\"355.0\" width=\"40\" height=\"40\" stroke=\"black\" fill=\"white\" stroke-width=\"0\" /><text x=\"30.0\" y=\"375.0\" dominant-baseline=\"middle\" text-anchor=\"middle\" font-size=\"14px\" font-family=\"Arial:style=normal:variant=normal:weight=normal:stretch=normal:size=10.0\">104: </text><rect x=\"10.0\" y=\"405.0\" width=\"40\" height=\"40\" stroke=\"black\" fill=\"white\" stroke-width=\"0\" /><text x=\"30.0\" y=\"425.0\" dominant-baseline=\"middle\" text-anchor=\"middle\" font-size=\"14px\" font-family=\"Arial:style=normal:variant=normal:weight=normal:stretch=normal:size=10.0\">105: </text><rect x=\"70.0\" y=\"155.0\" width=\"40\" height=\"40\" stroke=\"black\" fill=\"white\" stroke-width=\"1\" /><text x=\"90.0\" y=\"175.0\" dominant-baseline=\"middle\" text-anchor=\"middle\" font-size=\"18px\" font-family=\"Arial:style=normal:variant=normal:weight=normal:stretch=normal:size=10.0\">I</text><rect x=\"70.0\" y=\"205.0\" width=\"40\" height=\"40\" stroke=\"black\" fill=\"white\" stroke-width=\"1\" /><text x=\"90.0\" y=\"225.0\" dominant-baseline=\"middle\" text-anchor=\"middle\" font-size=\"18px\" font-family=\"Arial:style=normal:variant=normal:weight=normal:stretch=normal:size=10.0\">I</text><rect x=\"70.0\" y=\"255.0\" width=\"40\" height=\"40\" stroke=\"black\" fill=\"white\" stroke-width=\"1\" /><text x=\"90.0\" y=\"275.0\" dominant-baseline=\"middle\" text-anchor=\"middle\" font-size=\"18px\" font-family=\"Arial:style=normal:variant=normal:weight=normal:stretch=normal:size=10.0\">I</text><rect x=\"70.0\" y=\"305.0\" width=\"40\" height=\"40\" stroke=\"black\" fill=\"white\" stroke-width=\"1\" /><text x=\"90.0\" y=\"325.0\" dominant-baseline=\"middle\" text-anchor=\"middle\" font-size=\"18px\" font-family=\"Arial:style=normal:variant=normal:weight=normal:stretch=normal:size=10.0\">I</text><rect x=\"70.0\" y=\"355.0\" width=\"40\" height=\"40\" stroke=\"black\" fill=\"white\" stroke-width=\"1\" /><text x=\"90.0\" y=\"375.0\" dominant-baseline=\"middle\" text-anchor=\"middle\" font-size=\"18px\" font-family=\"Arial:style=normal:variant=normal:weight=normal:stretch=normal:size=10.0\">I</text><rect x=\"70.0\" y=\"405.0\" width=\"40\" height=\"40\" stroke=\"black\" fill=\"white\" stroke-width=\"1\" /><text x=\"90.0\" y=\"425.0\" dominant-baseline=\"middle\" text-anchor=\"middle\" font-size=\"18px\" font-family=\"Arial:style=normal:variant=normal:weight=normal:stretch=normal:size=10.0\">I</text><rect x=\"130.0\" y=\"305.0\" width=\"40\" height=\"40\" stroke=\"black\" fill=\"white\" stroke-width=\"1\" /><text x=\"150.0\" y=\"325.0\" dominant-baseline=\"middle\" text-anchor=\"middle\" font-size=\"18px\" font-family=\"Arial:style=normal:variant=normal:weight=normal:stretch=normal:size=10.0\">X</text><circle cx=\"210.0\" cy=\"225.0\" r=\"10.0\" /><rect x=\"190.0\" y=\"305.0\" width=\"40\" height=\"40\" stroke=\"black\" fill=\"white\" stroke-width=\"1\" /><text x=\"210.0\" y=\"325.0\" dominant-baseline=\"middle\" text-anchor=\"middle\" font-size=\"18px\" font-family=\"Arial:style=normal:variant=normal:weight=normal:stretch=normal:size=10.0\">X</text><rect x=\"250.0\" y=\"305.0\" width=\"40\" height=\"40\" stroke=\"black\" fill=\"white\" stroke-width=\"1\" /><text x=\"270.0\" y=\"325.0\" dominant-baseline=\"middle\" text-anchor=\"middle\" font-size=\"14px\" font-family=\"Arial:style=normal:variant=normal:weight=normal:stretch=normal:size=10.0\">(0)</text><circle cx=\"270.0\" cy=\"425.0\" r=\"10.0\" /><rect x=\"250.0\" y=\"5.0\" width=\"40\" height=\"40\" stroke=\"black\" fill=\"white\" stroke-width=\"1\" /><text x=\"270.0\" y=\"25.0\" dominant-baseline=\"middle\" text-anchor=\"middle\" font-size=\"18px\" font-family=\"Arial:style=normal:variant=normal:weight=normal:stretch=normal:size=10.0\">X</text><circle cx=\"330.0\" cy=\"75.0\" r=\"10.0\" /><rect x=\"310.0\" y=\"5.0\" width=\"40\" height=\"40\" stroke=\"black\" fill=\"white\" stroke-width=\"1\" /><text x=\"330.0\" y=\"25.0\" dominant-baseline=\"middle\" text-anchor=\"middle\" font-size=\"14px\" font-family=\"Arial:style=normal:variant=normal:weight=normal:stretch=normal:size=10.0\">(0)</text><rect x=\"310.0\" y=\"105.0\" width=\"40\" height=\"40\" stroke=\"black\" fill=\"white\" stroke-width=\"1\" /><text x=\"330.0\" y=\"125.0\" dominant-baseline=\"middle\" text-anchor=\"middle\" font-size=\"18px\" font-family=\"Arial:style=normal:variant=normal:weight=normal:stretch=normal:size=10.0\">X</text><rect x=\"370.0\" y=\"305.0\" width=\"40\" height=\"40\" stroke=\"black\" fill=\"white\" stroke-width=\"1\" /><text x=\"390.0\" y=\"325.0\" dominant-baseline=\"middle\" text-anchor=\"middle\" font-size=\"14px\" font-family=\"Arial:style=normal:variant=normal:weight=normal:stretch=normal:size=10.0\">(0)</text><circle cx=\"390.0\" cy=\"425.0\" r=\"10.0\" /><rect x=\"370.0\" y=\"5.0\" width=\"40\" height=\"40\" stroke=\"black\" fill=\"white\" stroke-width=\"1\" /><text x=\"390.0\" y=\"25.0\" dominant-baseline=\"middle\" text-anchor=\"middle\" font-size=\"18px\" font-family=\"Arial:style=normal:variant=normal:weight=normal:stretch=normal:size=10.0\">X</text><circle cx=\"450.0\" cy=\"225.0\" r=\"10.0\" /><rect x=\"430.0\" y=\"305.0\" width=\"40\" height=\"40\" stroke=\"black\" fill=\"white\" stroke-width=\"1\" /><text x=\"450.0\" y=\"325.0\" dominant-baseline=\"middle\" text-anchor=\"middle\" font-size=\"18px\" font-family=\"Arial:style=normal:variant=normal:weight=normal:stretch=normal:size=10.0\">X</text><rect x=\"490.0\" y=\"305.0\" width=\"40\" height=\"40\" stroke=\"black\" fill=\"white\" stroke-width=\"1\" /><text x=\"510.0\" y=\"325.0\" dominant-baseline=\"middle\" text-anchor=\"middle\" font-size=\"18px\" font-family=\"Arial:style=normal:variant=normal:weight=normal:stretch=normal:size=10.0\">X</text><circle cx=\"570.0\" cy=\"75.0\" r=\"10.0\" /><circle cx=\"570.0\" cy=\"325.0\" r=\"10.0\" /><circle cx=\"630.0\" cy=\"75.0\" r=\"10.0\" /><circle cx=\"630.0\" cy=\"175.0\" r=\"10.0\" /><circle cx=\"690.0\" cy=\"75.0\" r=\"10.0\" /><circle cx=\"690.0\" cy=\"225.0\" r=\"10.0\" /><circle cx=\"750.0\" cy=\"75.0\" r=\"10.0\" /><circle cx=\"750.0\" cy=\"275.0\" r=\"10.0\" /><circle cx=\"810.0\" cy=\"75.0\" r=\"10.0\" /><rect x=\"790.0\" y=\"305.0\" width=\"40\" height=\"40\" stroke=\"black\" fill=\"white\" stroke-width=\"1\" /><text x=\"810.0\" y=\"325.0\" dominant-baseline=\"middle\" text-anchor=\"middle\" font-size=\"18px\" font-family=\"Arial:style=normal:variant=normal:weight=normal:stretch=normal:size=10.0\">X</text><circle cx=\"870.0\" cy=\"75.0\" r=\"10.0\" /><circle cx=\"870.0\" cy=\"175.0\" r=\"10.0\" /><circle cx=\"930.0\" cy=\"75.0\" r=\"10.0\" /><rect x=\"910.0\" y=\"205.0\" width=\"40\" height=\"40\" stroke=\"black\" fill=\"white\" stroke-width=\"1\" /><text x=\"930.0\" y=\"225.0\" dominant-baseline=\"middle\" text-anchor=\"middle\" font-size=\"18px\" font-family=\"Arial:style=normal:variant=normal:weight=normal:stretch=normal:size=10.0\">X</text></svg>"
      ],
      "text/plain": [
       "<cirq.contrib.svg.svg.SVGCircuit at 0x14ec585e0>"
      ]
     },
     "execution_count": 14,
     "metadata": {},
     "output_type": "execute_result"
    }
   ],
   "source": [
    "ctrls = ([cirq.LineQubit(0)], [1])\n",
    "block_encoding_ancilla = [cirq.LineQubit(1)]\n",
    "clean_ancillae = [cirq.LineQubit(-1-i) for i in range(10)]\n",
    "system = System(1, 100, 6, 0)\n",
    "gates = [cirq.I.on_each(system.fermionic_modes)]\n",
    "\n",
    "_gates, metrics = fermionic_plus_hc_block_encoding(\n",
    "    system,\n",
    "    block_encoding_ancilla,\n",
    "    [5, 3, 1],\n",
    "    [2, 1, 0],\n",
    "    clean_ancillae=clean_ancillae,\n",
    "    ctrls=ctrls\n",
    ")\n",
    "gates += _gates\n",
    "\n",
    "print(\"Number of Clean Ancillae: \", metrics.ancillae_highwater())\n",
    "print(\"Number of Elbows: \", metrics.number_of_elbows)\n",
    "SVGCircuit(cirq.Circuit(gates))"
   ]
  },
  {
   "cell_type": "markdown",
   "metadata": {},
   "source": [
    "## Operator: $b_0 b_1 b_2 b_3 + b_3^\\dagger b_2^\\dagger b_1^\\dagger b_0^\\dagger$"
   ]
  },
  {
   "cell_type": "code",
   "execution_count": 15,
   "metadata": {},
   "outputs": [
    {
     "name": "stdout",
     "output_type": "stream",
     "text": [
      "Number of Clean Ancillae:  3\n",
      "Number of Elbows:  3\n"
     ]
    },
    {
     "data": {
      "image/svg+xml": [
       "<svg xmlns=\"http://www.w3.org/2000/svg\" width=\"1300.0\" height=\"350.0\"><line x1=\"30.0\" x2=\"1270.0\" y1=\"25.0\" y2=\"25.0\" stroke=\"#1967d2\" stroke-width=\"1\" /><line x1=\"30.0\" x2=\"1270.0\" y1=\"75.0\" y2=\"75.0\" stroke=\"#1967d2\" stroke-width=\"1\" /><line x1=\"30.0\" x2=\"1270.0\" y1=\"125.0\" y2=\"125.0\" stroke=\"#1967d2\" stroke-width=\"1\" /><line x1=\"30.0\" x2=\"1270.0\" y1=\"175.0\" y2=\"175.0\" stroke=\"#1967d2\" stroke-width=\"1\" /><line x1=\"30.0\" x2=\"1270.0\" y1=\"225.0\" y2=\"225.0\" stroke=\"#1967d2\" stroke-width=\"1\" /><line x1=\"30.0\" x2=\"1270.0\" y1=\"275.0\" y2=\"275.0\" stroke=\"#1967d2\" stroke-width=\"1\" /><line x1=\"30.0\" x2=\"1270.0\" y1=\"325.0\" y2=\"325.0\" stroke=\"#1967d2\" stroke-width=\"1\" /><line x1=\"150.0\" x2=\"150.0\" y1=\"275.0\" y2=\"325.0\" stroke=\"black\" stroke-width=\"3\" /><line x1=\"210.0\" x2=\"210.0\" y1=\"225.0\" y2=\"275.0\" stroke=\"black\" stroke-width=\"3\" /><line x1=\"270.0\" x2=\"270.0\" y1=\"175.0\" y2=\"225.0\" stroke=\"black\" stroke-width=\"3\" /><line x1=\"330.0\" x2=\"330.0\" y1=\"25.0\" y2=\"325.0\" stroke=\"black\" stroke-width=\"3\" /><line x1=\"390.0\" x2=\"390.0\" y1=\"25.0\" y2=\"125.0\" stroke=\"black\" stroke-width=\"3\" /><line x1=\"450.0\" x2=\"450.0\" y1=\"25.0\" y2=\"325.0\" stroke=\"black\" stroke-width=\"3\" /><line x1=\"510.0\" x2=\"510.0\" y1=\"175.0\" y2=\"225.0\" stroke=\"black\" stroke-width=\"3\" /><line x1=\"570.0\" x2=\"570.0\" y1=\"225.0\" y2=\"275.0\" stroke=\"black\" stroke-width=\"3\" /><line x1=\"630.0\" x2=\"630.0\" y1=\"275.0\" y2=\"325.0\" stroke=\"black\" stroke-width=\"3\" /><line x1=\"690.0\" x2=\"690.0\" y1=\"75.0\" y2=\"175.0\" stroke=\"black\" stroke-width=\"3\" /><line x1=\"750.0\" x2=\"750.0\" y1=\"75.0\" y2=\"225.0\" stroke=\"black\" stroke-width=\"3\" /><line x1=\"810.0\" x2=\"810.0\" y1=\"75.0\" y2=\"275.0\" stroke=\"black\" stroke-width=\"3\" /><line x1=\"870.0\" x2=\"870.0\" y1=\"75.0\" y2=\"325.0\" stroke=\"black\" stroke-width=\"3\" /><line x1=\"930.0\" x2=\"930.0\" y1=\"75.0\" y2=\"175.0\" stroke=\"black\" stroke-width=\"3\" /><line x1=\"990.0\" x2=\"990.0\" y1=\"75.0\" y2=\"225.0\" stroke=\"black\" stroke-width=\"3\" /><line x1=\"1050.0\" x2=\"1050.0\" y1=\"75.0\" y2=\"275.0\" stroke=\"black\" stroke-width=\"3\" /><line x1=\"1110.0\" x2=\"1110.0\" y1=\"75.0\" y2=\"175.0\" stroke=\"black\" stroke-width=\"3\" /><line x1=\"1170.0\" x2=\"1170.0\" y1=\"75.0\" y2=\"225.0\" stroke=\"black\" stroke-width=\"3\" /><line x1=\"1230.0\" x2=\"1230.0\" y1=\"75.0\" y2=\"175.0\" stroke=\"black\" stroke-width=\"3\" /><rect x=\"10.0\" y=\"5.0\" width=\"40\" height=\"40\" stroke=\"black\" fill=\"white\" stroke-width=\"0\" /><text x=\"30.0\" y=\"25.0\" dominant-baseline=\"middle\" text-anchor=\"middle\" font-size=\"14px\" font-family=\"Arial:style=normal:variant=normal:weight=normal:stretch=normal:size=10.0\">-4: </text><rect x=\"10.0\" y=\"55.0\" width=\"40\" height=\"40\" stroke=\"black\" fill=\"white\" stroke-width=\"0\" /><text x=\"30.0\" y=\"75.0\" dominant-baseline=\"middle\" text-anchor=\"middle\" font-size=\"14px\" font-family=\"Arial:style=normal:variant=normal:weight=normal:stretch=normal:size=10.0\">0: </text><rect x=\"10.0\" y=\"105.0\" width=\"40\" height=\"40\" stroke=\"black\" fill=\"white\" stroke-width=\"0\" /><text x=\"30.0\" y=\"125.0\" dominant-baseline=\"middle\" text-anchor=\"middle\" font-size=\"14px\" font-family=\"Arial:style=normal:variant=normal:weight=normal:stretch=normal:size=10.0\">1: </text><rect x=\"10.0\" y=\"155.0\" width=\"40\" height=\"40\" stroke=\"black\" fill=\"white\" stroke-width=\"0\" /><text x=\"30.0\" y=\"175.0\" dominant-baseline=\"middle\" text-anchor=\"middle\" font-size=\"14px\" font-family=\"Arial:style=normal:variant=normal:weight=normal:stretch=normal:size=10.0\">100: </text><rect x=\"10.0\" y=\"205.0\" width=\"40\" height=\"40\" stroke=\"black\" fill=\"white\" stroke-width=\"0\" /><text x=\"30.0\" y=\"225.0\" dominant-baseline=\"middle\" text-anchor=\"middle\" font-size=\"14px\" font-family=\"Arial:style=normal:variant=normal:weight=normal:stretch=normal:size=10.0\">101: </text><rect x=\"10.0\" y=\"255.0\" width=\"40\" height=\"40\" stroke=\"black\" fill=\"white\" stroke-width=\"0\" /><text x=\"30.0\" y=\"275.0\" dominant-baseline=\"middle\" text-anchor=\"middle\" font-size=\"14px\" font-family=\"Arial:style=normal:variant=normal:weight=normal:stretch=normal:size=10.0\">102: </text><rect x=\"10.0\" y=\"305.0\" width=\"40\" height=\"40\" stroke=\"black\" fill=\"white\" stroke-width=\"0\" /><text x=\"30.0\" y=\"325.0\" dominant-baseline=\"middle\" text-anchor=\"middle\" font-size=\"14px\" font-family=\"Arial:style=normal:variant=normal:weight=normal:stretch=normal:size=10.0\">103: </text><rect x=\"70.0\" y=\"155.0\" width=\"40\" height=\"40\" stroke=\"black\" fill=\"white\" stroke-width=\"1\" /><text x=\"90.0\" y=\"175.0\" dominant-baseline=\"middle\" text-anchor=\"middle\" font-size=\"18px\" font-family=\"Arial:style=normal:variant=normal:weight=normal:stretch=normal:size=10.0\">I</text><rect x=\"70.0\" y=\"205.0\" width=\"40\" height=\"40\" stroke=\"black\" fill=\"white\" stroke-width=\"1\" /><text x=\"90.0\" y=\"225.0\" dominant-baseline=\"middle\" text-anchor=\"middle\" font-size=\"18px\" font-family=\"Arial:style=normal:variant=normal:weight=normal:stretch=normal:size=10.0\">I</text><rect x=\"70.0\" y=\"255.0\" width=\"40\" height=\"40\" stroke=\"black\" fill=\"white\" stroke-width=\"1\" /><text x=\"90.0\" y=\"275.0\" dominant-baseline=\"middle\" text-anchor=\"middle\" font-size=\"18px\" font-family=\"Arial:style=normal:variant=normal:weight=normal:stretch=normal:size=10.0\">I</text><rect x=\"70.0\" y=\"305.0\" width=\"40\" height=\"40\" stroke=\"black\" fill=\"white\" stroke-width=\"1\" /><text x=\"90.0\" y=\"325.0\" dominant-baseline=\"middle\" text-anchor=\"middle\" font-size=\"18px\" font-family=\"Arial:style=normal:variant=normal:weight=normal:stretch=normal:size=10.0\">I</text><circle cx=\"150.0\" cy=\"275.0\" r=\"10.0\" /><rect x=\"130.0\" y=\"305.0\" width=\"40\" height=\"40\" stroke=\"black\" fill=\"white\" stroke-width=\"1\" /><text x=\"150.0\" y=\"325.0\" dominant-baseline=\"middle\" text-anchor=\"middle\" font-size=\"18px\" font-family=\"Arial:style=normal:variant=normal:weight=normal:stretch=normal:size=10.0\">X</text><circle cx=\"210.0\" cy=\"225.0\" r=\"10.0\" /><rect x=\"190.0\" y=\"255.0\" width=\"40\" height=\"40\" stroke=\"black\" fill=\"white\" stroke-width=\"1\" /><text x=\"210.0\" y=\"275.0\" dominant-baseline=\"middle\" text-anchor=\"middle\" font-size=\"18px\" font-family=\"Arial:style=normal:variant=normal:weight=normal:stretch=normal:size=10.0\">X</text><circle cx=\"270.0\" cy=\"175.0\" r=\"10.0\" /><rect x=\"250.0\" y=\"205.0\" width=\"40\" height=\"40\" stroke=\"black\" fill=\"white\" stroke-width=\"1\" /><text x=\"270.0\" y=\"225.0\" dominant-baseline=\"middle\" text-anchor=\"middle\" font-size=\"18px\" font-family=\"Arial:style=normal:variant=normal:weight=normal:stretch=normal:size=10.0\">X</text><rect x=\"310.0\" y=\"305.0\" width=\"40\" height=\"40\" stroke=\"black\" fill=\"white\" stroke-width=\"1\" /><text x=\"330.0\" y=\"325.0\" dominant-baseline=\"middle\" text-anchor=\"middle\" font-size=\"14px\" font-family=\"Arial:style=normal:variant=normal:weight=normal:stretch=normal:size=10.0\">(0)</text><rect x=\"310.0\" y=\"255.0\" width=\"40\" height=\"40\" stroke=\"black\" fill=\"white\" stroke-width=\"1\" /><text x=\"330.0\" y=\"275.0\" dominant-baseline=\"middle\" text-anchor=\"middle\" font-size=\"14px\" font-family=\"Arial:style=normal:variant=normal:weight=normal:stretch=normal:size=10.0\">(0)</text><rect x=\"310.0\" y=\"205.0\" width=\"40\" height=\"40\" stroke=\"black\" fill=\"white\" stroke-width=\"1\" /><text x=\"330.0\" y=\"225.0\" dominant-baseline=\"middle\" text-anchor=\"middle\" font-size=\"14px\" font-family=\"Arial:style=normal:variant=normal:weight=normal:stretch=normal:size=10.0\">(0)</text><rect x=\"310.0\" y=\"5.0\" width=\"40\" height=\"40\" stroke=\"black\" fill=\"white\" stroke-width=\"1\" /><text x=\"330.0\" y=\"25.0\" dominant-baseline=\"middle\" text-anchor=\"middle\" font-size=\"18px\" font-family=\"Arial:style=normal:variant=normal:weight=normal:stretch=normal:size=10.0\">X</text><circle cx=\"390.0\" cy=\"75.0\" r=\"10.0\" /><rect x=\"370.0\" y=\"5.0\" width=\"40\" height=\"40\" stroke=\"black\" fill=\"white\" stroke-width=\"1\" /><text x=\"390.0\" y=\"25.0\" dominant-baseline=\"middle\" text-anchor=\"middle\" font-size=\"14px\" font-family=\"Arial:style=normal:variant=normal:weight=normal:stretch=normal:size=10.0\">(0)</text><rect x=\"370.0\" y=\"105.0\" width=\"40\" height=\"40\" stroke=\"black\" fill=\"white\" stroke-width=\"1\" /><text x=\"390.0\" y=\"125.0\" dominant-baseline=\"middle\" text-anchor=\"middle\" font-size=\"18px\" font-family=\"Arial:style=normal:variant=normal:weight=normal:stretch=normal:size=10.0\">X</text><rect x=\"430.0\" y=\"305.0\" width=\"40\" height=\"40\" stroke=\"black\" fill=\"white\" stroke-width=\"1\" /><text x=\"450.0\" y=\"325.0\" dominant-baseline=\"middle\" text-anchor=\"middle\" font-size=\"14px\" font-family=\"Arial:style=normal:variant=normal:weight=normal:stretch=normal:size=10.0\">(0)</text><rect x=\"430.0\" y=\"255.0\" width=\"40\" height=\"40\" stroke=\"black\" fill=\"white\" stroke-width=\"1\" /><text x=\"450.0\" y=\"275.0\" dominant-baseline=\"middle\" text-anchor=\"middle\" font-size=\"14px\" font-family=\"Arial:style=normal:variant=normal:weight=normal:stretch=normal:size=10.0\">(0)</text><rect x=\"430.0\" y=\"205.0\" width=\"40\" height=\"40\" stroke=\"black\" fill=\"white\" stroke-width=\"1\" /><text x=\"450.0\" y=\"225.0\" dominant-baseline=\"middle\" text-anchor=\"middle\" font-size=\"14px\" font-family=\"Arial:style=normal:variant=normal:weight=normal:stretch=normal:size=10.0\">(0)</text><rect x=\"430.0\" y=\"5.0\" width=\"40\" height=\"40\" stroke=\"black\" fill=\"white\" stroke-width=\"1\" /><text x=\"450.0\" y=\"25.0\" dominant-baseline=\"middle\" text-anchor=\"middle\" font-size=\"18px\" font-family=\"Arial:style=normal:variant=normal:weight=normal:stretch=normal:size=10.0\">X</text><circle cx=\"510.0\" cy=\"175.0\" r=\"10.0\" /><rect x=\"490.0\" y=\"205.0\" width=\"40\" height=\"40\" stroke=\"black\" fill=\"white\" stroke-width=\"1\" /><text x=\"510.0\" y=\"225.0\" dominant-baseline=\"middle\" text-anchor=\"middle\" font-size=\"18px\" font-family=\"Arial:style=normal:variant=normal:weight=normal:stretch=normal:size=10.0\">X</text><circle cx=\"570.0\" cy=\"225.0\" r=\"10.0\" /><rect x=\"550.0\" y=\"255.0\" width=\"40\" height=\"40\" stroke=\"black\" fill=\"white\" stroke-width=\"1\" /><text x=\"570.0\" y=\"275.0\" dominant-baseline=\"middle\" text-anchor=\"middle\" font-size=\"18px\" font-family=\"Arial:style=normal:variant=normal:weight=normal:stretch=normal:size=10.0\">X</text><circle cx=\"630.0\" cy=\"275.0\" r=\"10.0\" /><rect x=\"610.0\" y=\"305.0\" width=\"40\" height=\"40\" stroke=\"black\" fill=\"white\" stroke-width=\"1\" /><text x=\"630.0\" y=\"325.0\" dominant-baseline=\"middle\" text-anchor=\"middle\" font-size=\"18px\" font-family=\"Arial:style=normal:variant=normal:weight=normal:stretch=normal:size=10.0\">X</text><circle cx=\"690.0\" cy=\"75.0\" r=\"10.0\" /><circle cx=\"690.0\" cy=\"175.0\" r=\"10.0\" /><circle cx=\"750.0\" cy=\"75.0\" r=\"10.0\" /><circle cx=\"750.0\" cy=\"225.0\" r=\"10.0\" /><circle cx=\"810.0\" cy=\"75.0\" r=\"10.0\" /><circle cx=\"810.0\" cy=\"275.0\" r=\"10.0\" /><circle cx=\"870.0\" cy=\"75.0\" r=\"10.0\" /><rect x=\"850.0\" y=\"305.0\" width=\"40\" height=\"40\" stroke=\"black\" fill=\"white\" stroke-width=\"1\" /><text x=\"870.0\" y=\"325.0\" dominant-baseline=\"middle\" text-anchor=\"middle\" font-size=\"18px\" font-family=\"Arial:style=normal:variant=normal:weight=normal:stretch=normal:size=10.0\">X</text><circle cx=\"930.0\" cy=\"75.0\" r=\"10.0\" /><circle cx=\"930.0\" cy=\"175.0\" r=\"10.0\" /><circle cx=\"990.0\" cy=\"75.0\" r=\"10.0\" /><circle cx=\"990.0\" cy=\"225.0\" r=\"10.0\" /><circle cx=\"1050.0\" cy=\"75.0\" r=\"10.0\" /><rect x=\"1030.0\" y=\"255.0\" width=\"40\" height=\"40\" stroke=\"black\" fill=\"white\" stroke-width=\"1\" /><text x=\"1050.0\" y=\"275.0\" dominant-baseline=\"middle\" text-anchor=\"middle\" font-size=\"18px\" font-family=\"Arial:style=normal:variant=normal:weight=normal:stretch=normal:size=10.0\">X</text><circle cx=\"1110.0\" cy=\"75.0\" r=\"10.0\" /><circle cx=\"1110.0\" cy=\"175.0\" r=\"10.0\" /><circle cx=\"1170.0\" cy=\"75.0\" r=\"10.0\" /><rect x=\"1150.0\" y=\"205.0\" width=\"40\" height=\"40\" stroke=\"black\" fill=\"white\" stroke-width=\"1\" /><text x=\"1170.0\" y=\"225.0\" dominant-baseline=\"middle\" text-anchor=\"middle\" font-size=\"18px\" font-family=\"Arial:style=normal:variant=normal:weight=normal:stretch=normal:size=10.0\">X</text><circle cx=\"1230.0\" cy=\"75.0\" r=\"10.0\" /><rect x=\"1210.0\" y=\"155.0\" width=\"40\" height=\"40\" stroke=\"black\" fill=\"white\" stroke-width=\"1\" /><text x=\"1230.0\" y=\"175.0\" dominant-baseline=\"middle\" text-anchor=\"middle\" font-size=\"18px\" font-family=\"Arial:style=normal:variant=normal:weight=normal:stretch=normal:size=10.0\">X</text></svg>"
      ],
      "text/plain": [
       "<cirq.contrib.svg.svg.SVGCircuit at 0x14ec6edc0>"
      ]
     },
     "execution_count": 15,
     "metadata": {},
     "output_type": "execute_result"
    }
   ],
   "source": [
    "ctrls = ([cirq.LineQubit(0)], [1])\n",
    "block_encoding_ancilla = [cirq.LineQubit(1)]\n",
    "clean_ancillae = [cirq.LineQubit(-1-i) for i in range(10)]\n",
    "system = System(1, 100, 4, 0)\n",
    "gates = [cirq.I.on_each(system.fermionic_modes)]\n",
    "\n",
    "_gates, metrics = fermionic_plus_hc_block_encoding(\n",
    "    system,\n",
    "    block_encoding_ancilla,\n",
    "    [3, 2, 1, 0],\n",
    "    [0, 0, 0, 0],\n",
    "    clean_ancillae=clean_ancillae,\n",
    "    ctrls=ctrls\n",
    ")\n",
    "gates += _gates\n",
    "\n",
    "print(\"Number of Clean Ancillae: \", metrics.ancillae_highwater())\n",
    "print(\"Number of Elbows: \", metrics.number_of_elbows)\n",
    "SVGCircuit(cirq.Circuit(gates))"
   ]
  },
  {
   "cell_type": "markdown",
   "metadata": {},
   "source": [
    "# Benchmarking Against LCU Block-Encodings"
   ]
  },
  {
   "cell_type": "code",
   "execution_count": 16,
   "metadata": {},
   "outputs": [
    {
     "name": "stderr",
     "output_type": "stream",
     "text": [
      "/Users/williamsimon/Desktop/Research/SparseOracle/lobe/lib/python3.9/site-packages/cotengra/hyperoptimizers/hyper.py:33: UserWarning: Couldn't import `kahypar` - skipping from default hyper optimizer and using basic `labels` method instead.\n",
      "  warnings.warn(\n",
      "/Users/williamsimon/Desktop/Research/SparseOracle/lobe/lib/python3.9/site-packages/tqdm/auto.py:21: TqdmWarning: IProgress not found. Please update jupyter and ipywidgets. See https://ipywidgets.readthedocs.io/en/stable/user_install.html\n",
      "  from .autonotebook import tqdm as notebook_tqdm\n",
      "2025-02-21 12:56:36,077\tINFO util.py:154 -- Missing packages: ['ipywidgets']. Run `pip install -U ipywidgets`, then restart the notebook server for rich notebook output.\n"
     ]
    }
   ],
   "source": [
    "from openparticle import ParticleOperator\n",
    "import numpy as np\n",
    "import cirq\n",
    "import matplotlib.pyplot as plt\n",
    "\n",
    "import sys, os\n",
    "sys.path.append(os.path.join(os.path.dirname(os.path.realpath('__file__')), '../..'))\n",
    "sys.path.append(os.path.join(os.path.dirname(os.path.realpath('__file__')), '..'))\n",
    "from pauli_lcu import lcuify, piecewise_lcu\n",
    "from src.lobe.system import System\n",
    "from colors import *\n",
    "from src.lobe.fermionic import fermionic_plus_hc_block_encoding \n",
    "from tests._utils import _validate_block_encoding"
   ]
  },
  {
   "cell_type": "markdown",
   "metadata": {},
   "source": [
    "## Operators: $b_0 b_1 ... b_{B-1}$"
   ]
  },
  {
   "cell_type": "code",
   "execution_count": 17,
   "metadata": {},
   "outputs": [],
   "source": [
    "def lobeify(operator):\n",
    "    max_bosonic_occupancy = 1\n",
    "    ctrls = ([cirq.LineQubit(-1000000)], [1])\n",
    "    clean_ancillae = [cirq.LineQubit(-i-1) for i in range(100)]\n",
    "    block_encoding_ancilla = cirq.LineQubit(0)\n",
    "    circuit = cirq.Circuit()\n",
    "    active_indices = []\n",
    "    for ladder_op in operator.split()[::-1]:\n",
    "        active_indices.append(ladder_op.max_mode)\n",
    "    number_of_fermionic_modes = 0\n",
    "    number_of_bosonic_modes = 0\n",
    "    if operator.max_fermionic_mode is not None:\n",
    "        number_of_fermionic_modes = operator.max_fermionic_mode + 1\n",
    "    if operator.max_bosonic_mode is not None:\n",
    "        number_of_bosonic_modes = operator.max_bosonic_mode + 1\n",
    "    system = System(\n",
    "        max_bosonic_occupancy,\n",
    "        1000,\n",
    "        number_of_fermionic_modes=number_of_fermionic_modes,\n",
    "        number_of_bosonic_modes=number_of_bosonic_modes,\n",
    "    )\n",
    "    circuit.append(cirq.X.on(ctrls[0][0]))\n",
    "    gates, metrics = fermionic_product_block_encoding(\n",
    "        system,\n",
    "        [block_encoding_ancilla],\n",
    "        active_indices=active_indices,\n",
    "        operator_types=[0]*len(active_indices),\n",
    "        clean_ancillae=clean_ancillae,\n",
    "        ctrls=ctrls\n",
    "    )\n",
    "    circuit += gates\n",
    "    circuit.append(cirq.X.on(ctrls[0][0]))\n",
    "    _validate_block_encoding(circuit, system, 1, operator, 1, max_bosonic_occupancy, max_qubits=16, using_pytest=False)\n",
    "\n",
    "    return metrics, 1, 1, system.number_of_system_qubits"
   ]
  },
  {
   "cell_type": "code",
   "execution_count": 18,
   "metadata": {},
   "outputs": [
    {
     "name": "stdout",
     "output_type": "stream",
     "text": [
      "-------1------\n",
      "1.0 * b0\n",
      "\n",
      "LCU\n",
      "LCU Product\n",
      "LOBE\n",
      "-------2------\n",
      "1.0 * b0 b1\n",
      "\n",
      "LCU\n",
      "LCU Product\n",
      "LOBE\n",
      "-------3------\n",
      "1.0 * b0 b1 b2\n",
      "\n",
      "LCU\n",
      "LCU Product\n",
      "LOBE\n",
      "-------4------\n",
      "1.0 * b0 b1 b2 b3\n",
      "\n",
      "LCU\n",
      "LCU Product\n",
      "Testing singular quantum state for circuit with 12 qubits\n",
      "LOBE\n",
      "-------5------\n",
      "1.0 * b0 b1 b2 b3 b4\n",
      "\n",
      "LCU\n",
      "Testing singular quantum state for circuit with 12 qubits\n",
      "LCU Product\n",
      "Testing singular quantum state for circuit with 14 qubits\n",
      "LOBE\n",
      "-------6------\n",
      "1.0 * b0 b1 b2 b3 b4 b5\n",
      "\n",
      "LCU\n",
      "Testing singular quantum state for circuit with 14 qubits\n",
      "LCU Product\n",
      "Too many qubits to validate: 16\n",
      "LOBE\n",
      "-------7------\n",
      "1.0 * b0 b1 b2 b3 b4 b5 b6\n",
      "\n",
      "LCU\n",
      "Too many qubits to validate: 16\n",
      "LCU Product\n",
      "Too many qubits to validate: 18\n",
      "LOBE\n"
     ]
    }
   ],
   "source": [
    "numbers_of_active_modes = range(1, 8)\n",
    "\n",
    "LCU_DATA = []\n",
    "LCU_PRODUCT_DATA = []\n",
    "LOBE_DATA = []\n",
    "\n",
    "for number_of_active_modes in numbers_of_active_modes:\n",
    "    print(f\"-------{number_of_active_modes}------\")\n",
    "    operator = ParticleOperator(\"\")\n",
    "    for mode in range(number_of_active_modes):\n",
    "        operator *= ParticleOperator(f\"b{mode}\")\n",
    "    print(operator)\n",
    "\n",
    "    print(\"LCU\")\n",
    "    LCU_DATA.append(lcuify(operator))\n",
    "    print(\"LCU Product\")\n",
    "    LCU_PRODUCT_DATA.append(piecewise_lcu(operator))\n",
    "    print(\"LOBE\")\n",
    "    LOBE_DATA.append(lobeify(operator))"
   ]
  },
  {
   "cell_type": "code",
   "execution_count": 19,
   "metadata": {},
   "outputs": [
    {
     "data": {
      "image/png": "[encoded data removed]",
      "text/plain": [
       "<Figure size 629.921x236.22 with 3 Axes>"
      ]
     },
     "metadata": {},
     "output_type": "display_data"
    }
   ],
   "source": [
    "fig, axes = plt.subplots(1, 3, figsize=(16 / 2.54, 6 / 2.54))\n",
    "\n",
    "axes[0].plot(numbers_of_active_modes, [(4*LCU_PRODUCT_DATA[i][0].number_of_elbows) + LCU_PRODUCT_DATA[i][0].number_of_t_gates for i in range(len(numbers_of_active_modes))], color=GREEN, marker='s', alpha = 0.5)\n",
    "axes[0].plot(numbers_of_active_modes, [(4*LCU_DATA[i][0].number_of_elbows) + LCU_DATA[i][0].number_of_t_gates for i in range(len(numbers_of_active_modes))], color=ORANGE, marker='^', alpha = 0.5)\n",
    "axes[0].plot(numbers_of_active_modes, [(4*LOBE_DATA[i][0].number_of_elbows) + LOBE_DATA[i][0].number_of_t_gates for i in range(len(numbers_of_active_modes))], color=BLUE, marker='o', alpha = 0.5)\n",
    "axes[0].set_ylabel(\"T Gates\")\n",
    "axes[0].set_xlabel(\"Active Modes ($B$)\")\n",
    "\n",
    "axes[1].plot(numbers_of_active_modes, [LCU_PRODUCT_DATA[i][2] for i in range(len(numbers_of_active_modes))], color=GREEN, marker='s', alpha = 0.5)\n",
    "axes[1].plot(numbers_of_active_modes, [LCU_DATA[i][2] for i in range(len(numbers_of_active_modes))], color=ORANGE, marker='^', alpha = 0.5)\n",
    "axes[1].plot(numbers_of_active_modes, [LOBE_DATA[i][2] for i in range(len(numbers_of_active_modes))], color=BLUE, marker='o', alpha = 0.5)\n",
    "axes[1].set_ylabel(\"Block-Encoding Ancillae\")\n",
    "axes[1].set_xlabel(\"Active Modes ($B$)\")\n",
    "axes[1].set_yticks([0, 2, 4, 6, 8])\n",
    "\n",
    "axes[2].plot(numbers_of_active_modes, [LCU_PRODUCT_DATA[i][0].ancillae_highwater() + LCU_PRODUCT_DATA[i][2] + LCU_PRODUCT_DATA[i][3] + 1 for i in range(len(numbers_of_active_modes))], color=GREEN, marker='s', alpha = 0.5, label=\"LCU - Product\")\n",
    "axes[2].plot(numbers_of_active_modes, [LCU_DATA[i][0].ancillae_highwater() + LCU_DATA[i][2] + LCU_DATA[i][3] + 1 for i in range(len(numbers_of_active_modes))], color=ORANGE, marker='^', alpha = 0.5, label=\"LCU\")\n",
    "axes[2].plot(numbers_of_active_modes, [LOBE_DATA[i][0].ancillae_highwater() + LOBE_DATA[i][2] + LOBE_DATA[i][3] + 1 for i in range(len(numbers_of_active_modes))], color=BLUE, marker='o', alpha = 0.5, label=\"LOBE\")\n",
    "axes[2].plot([], [], color=\"black\", marker='x', ls='--', alpha = 0.5, label=\"Hamiltonian Norm\")\n",
    "axes[2].set_ylabel(\"Total Qubit Highwater\")\n",
    "axes[2].set_xlabel(\"Active Modes ($B$)\")\n",
    "axes[2].set_yticks([0, 10, 20])\n",
    "\n",
    "axes[0].set_xticks([2, 4, 6])\n",
    "axes[1].set_xticks([2, 4, 6])\n",
    "axes[2].set_xticks([2, 4, 6])\n",
    "\n",
    "plt.tight_layout()\n",
    "# plt.savefig(\"../../../manuscript/figures/fermionic-comparison.pdf\", dpi=300)"
   ]
  },
  {
   "cell_type": "markdown",
   "metadata": {},
   "source": [
    "## Operators: $b_0 b_1 ... b_{B-1} + b_{B-1}^\\dagger ... b_1^\\dagger b_0^\\dagger$"
   ]
  },
  {
   "cell_type": "code",
   "execution_count": 20,
   "metadata": {},
   "outputs": [],
   "source": [
    "def lobeify_hc(operator):\n",
    "    max_bosonic_occupancy = 1\n",
    "    ctrls = ([cirq.LineQubit(-1000000)], [1])\n",
    "    clean_ancillae = [cirq.LineQubit(-i-1) for i in range(100)]\n",
    "    block_encoding_ancilla = cirq.LineQubit(0)\n",
    "    circuit = cirq.Circuit()\n",
    "    active_indices = []\n",
    "    for ladder_op in operator.to_list()[0].split()[::-1]:\n",
    "        active_indices.append(ladder_op.max_mode)\n",
    "    number_of_fermionic_modes = 0\n",
    "    number_of_bosonic_modes = 0\n",
    "    if operator.max_fermionic_mode is not None:\n",
    "        number_of_fermionic_modes = operator.max_fermionic_mode + 1\n",
    "    if operator.max_bosonic_mode is not None:\n",
    "        number_of_bosonic_modes = operator.max_bosonic_mode + 1\n",
    "    system = System(\n",
    "        max_bosonic_occupancy,\n",
    "        1000,\n",
    "        number_of_fermionic_modes=number_of_fermionic_modes,\n",
    "        number_of_bosonic_modes=number_of_bosonic_modes,\n",
    "    )\n",
    "    circuit.append(cirq.X.on(ctrls[0][0]))\n",
    "    gates, metrics = fermionic_plus_hc_block_encoding(\n",
    "        system,\n",
    "        [block_encoding_ancilla],\n",
    "        active_indices=active_indices,\n",
    "        operator_types=[0]*len(active_indices),\n",
    "        clean_ancillae=clean_ancillae,\n",
    "        ctrls=ctrls\n",
    "    )\n",
    "    circuit += gates\n",
    "    circuit.append(cirq.X.on(ctrls[0][0]))\n",
    "    _validate_block_encoding(circuit, system, 1, operator, 1, max_bosonic_occupancy, max_qubits=16, using_pytest=False)\n",
    "\n",
    "    return metrics, 1, 1, system.number_of_system_qubits"
   ]
  },
  {
   "cell_type": "code",
   "execution_count": 21,
   "metadata": {},
   "outputs": [
    {
     "name": "stdout",
     "output_type": "stream",
     "text": [
      "-------1------\n",
      "LCU\n",
      "LCU Product\n",
      "LOBE\n",
      "-------2------\n",
      "LCU\n",
      "LCU Product\n",
      "LOBE\n",
      "-------3------\n",
      "LCU\n",
      "LCU Product\n",
      "LOBE\n",
      "-------4------\n",
      "LCU\n",
      "LCU Product\n",
      "Testing singular quantum state for circuit with 12 qubits\n",
      "LOBE\n",
      "-------5------\n",
      "LCU\n",
      "LCU Product\n",
      "Testing singular quantum state for circuit with 14 qubits\n",
      "LOBE\n",
      "-------6------\n",
      "LCU\n",
      "Testing singular quantum state for circuit with 13 qubits\n",
      "LCU Product\n",
      "Too many qubits to validate: 16\n",
      "LOBE\n",
      "-------7------\n",
      "LCU\n",
      "Testing singular quantum state for circuit with 15 qubits\n",
      "LCU Product\n",
      "Too many qubits to validate: 18\n",
      "LOBE\n"
     ]
    }
   ],
   "source": [
    "numbers_of_active_modes = range(1, 8)\n",
    "\n",
    "LCU_DATA = []\n",
    "LCU_PRODUCT_DATA = []\n",
    "LOBE_DATA = []\n",
    "\n",
    "for number_of_active_modes in numbers_of_active_modes:\n",
    "    print(f\"-------{number_of_active_modes}------\")\n",
    "    operator = ParticleOperator(\"\")\n",
    "    for mode in range(number_of_active_modes):\n",
    "        operator *= ParticleOperator(f\"b{mode}\")\n",
    "    operator += operator.dagger()\n",
    "\n",
    "    print(\"LCU\")\n",
    "    LCU_DATA.append(lcuify(operator))\n",
    "    print(\"LCU Product\")\n",
    "    LCU_PRODUCT_DATA.append(piecewise_lcu(operator))\n",
    "    print(\"LOBE\")\n",
    "    LOBE_DATA.append(lobeify_hc(operator))"
   ]
  },
  {
   "cell_type": "code",
   "execution_count": 22,
   "metadata": {},
   "outputs": [
    {
     "data": {
      "image/png": "[encoded data removed]",
      "text/plain": [
       "<Figure size 551.181x196.85 with 3 Axes>"
      ]
     },
     "metadata": {},
     "output_type": "display_data"
    }
   ],
   "source": [
    "fig, axes = plt.subplots(1, 3, figsize=(14 / 2.54, 5 / 2.54))\n",
    "\n",
    "axes[0].plot(numbers_of_active_modes, [(4*LCU_PRODUCT_DATA[i][0].number_of_elbows) + LCU_PRODUCT_DATA[i][0].number_of_t_gates for i in range(len(numbers_of_active_modes))], color=GREEN, marker='s', alpha = 0.5)\n",
    "axes[0].plot(numbers_of_active_modes, [(4*LCU_DATA[i][0].number_of_elbows) + LCU_DATA[i][0].number_of_t_gates for i in range(len(numbers_of_active_modes))], color=ORANGE, marker='^', alpha = 0.5)\n",
    "axes[0].plot(numbers_of_active_modes, [(4*LOBE_DATA[i][0].number_of_elbows) + LOBE_DATA[i][0].number_of_t_gates for i in range(len(numbers_of_active_modes))], color=BLUE, marker='o', alpha = 0.5)\n",
    "axes[0].set_ylabel(\"T Gates\")\n",
    "axes[0].set_xlabel(\"Active Modes ($B$)\")\n",
    "\n",
    "axes[1].plot(numbers_of_active_modes, [LCU_PRODUCT_DATA[i][2] for i in range(len(numbers_of_active_modes))], color=GREEN, marker='s', alpha = 0.5)\n",
    "axes[1].plot(numbers_of_active_modes, [LCU_DATA[i][2] for i in range(len(numbers_of_active_modes))], color=ORANGE, marker='^', alpha = 0.5)\n",
    "axes[1].plot(numbers_of_active_modes, [LOBE_DATA[i][2] for i in range(len(numbers_of_active_modes))], color=BLUE, marker='o', alpha = 0.5)\n",
    "axes[1].set_ylabel(\"BE Ancillae\")\n",
    "axes[1].set_xlabel(\"Active Modes ($B$)\")\n",
    "axes[1].set_yticks([0, 2, 4, 6, 8])\n",
    "\n",
    "axes[2].plot(numbers_of_active_modes, [LCU_PRODUCT_DATA[i][0].ancillae_highwater() + LCU_PRODUCT_DATA[i][2] + LCU_PRODUCT_DATA[i][3] + 1 for i in range(len(numbers_of_active_modes))], color=GREEN, marker='s', alpha = 0.5, label=\"LCU - Product\")\n",
    "axes[2].plot(numbers_of_active_modes, [LCU_DATA[i][0].ancillae_highwater() + LCU_DATA[i][2] + LCU_DATA[i][3] + 1 for i in range(len(numbers_of_active_modes))], color=ORANGE, marker='^', alpha = 0.5, label=\"LCU\")\n",
    "axes[2].plot(numbers_of_active_modes, [LOBE_DATA[i][0].ancillae_highwater() + LOBE_DATA[i][2] + LOBE_DATA[i][3] + 1 for i in range(len(numbers_of_active_modes))], color=BLUE, marker='o', alpha = 0.5, label=\"LOBE\")\n",
    "axes[2].plot([], [], color=\"black\", marker='x', ls='--', alpha = 0.5, label=\"Hamiltonian Norm\")\n",
    "axes[2].set_ylabel(\"Max Qubit Usage\")\n",
    "axes[2].set_xlabel(\"Active Modes ($B$)\")\n",
    "axes[2].set_yticks([0, 10, 20])\n",
    "\n",
    "axes[0].set_xticks([2, 4, 6])\n",
    "axes[1].set_xticks([2, 4, 6])\n",
    "axes[2].set_xticks([2, 4, 6])\n",
    "\n",
    "plt.tight_layout()\n",
    "# plt.savefig(\"../../../manuscript/figures/fermionic-hc-comparison.pdf\", dpi=300)"
   ]
  },
  {
   "cell_type": "code",
   "execution_count": null,
   "metadata": {},
   "outputs": [],
   "source": []
  }
 ],
 "metadata": {
  "kernelspec": {
   "display_name": "lobe",
   "language": "python",
   "name": "python3"
  },
  "language_info": {
   "codemirror_mode": {
    "name": "ipython",
    "version": 3
   },
   "file_extension": ".py",
   "mimetype": "text/x-python",
   "name": "python",
   "nbconvert_exporter": "python",
   "pygments_lexer": "ipython3",
   "version": "3.9.6"
  }
 },
 "nbformat": 4,
 "nbformat_minor": 2
}
