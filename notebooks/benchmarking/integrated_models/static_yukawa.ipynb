{
 "cells": [
  {
   "cell_type": "code",
   "execution_count": 1,
   "metadata": {},
   "outputs": [],
   "source": [
    "%load_ext autoreload\n",
    "%autoreload 2"
   ]
  },
  {
   "cell_type": "code",
   "execution_count": 2,
   "metadata": {},
   "outputs": [
    {
     "name": "stderr",
     "output_type": "stream",
     "text": [
      "/Users/williamsimon/Desktop/Research/SparseOracle/lobe/lib/python3.9/site-packages/cotengra/hyperoptimizers/hyper.py:33: UserWarning: Couldn't import `kahypar` - skipping from default hyper optimizer and using basic `labels` method instead.\n",
      "  warnings.warn(\n",
      "/Users/williamsimon/Desktop/Research/SparseOracle/lobe/lib/python3.9/site-packages/tqdm/auto.py:21: TqdmWarning: IProgress not found. Please update jupyter and ipywidgets. See https://ipywidgets.readthedocs.io/en/stable/user_install.html\n",
      "  from .autonotebook import tqdm as notebook_tqdm\n",
      "2025-02-08 17:26:06,795\tINFO util.py:154 -- Missing packages: ['ipywidgets']. Run `pip install -U ipywidgets`, then restart the notebook server for rich notebook output.\n"
     ]
    }
   ],
   "source": [
    "from openparticle import ParticleOperator\n",
    "import numpy as np\n",
    "import cirq\n",
    "import matplotlib.pyplot as plt\n",
    "\n",
    "import sys, os\n",
    "sys.path.append(os.path.join(os.path.dirname(os.path.realpath('__file__')), '../../..'))\n",
    "sys.path.append(os.path.join(os.path.dirname(os.path.realpath('__file__')), '../..'))\n",
    "sys.path.append(os.path.join(os.path.dirname(os.path.realpath('__file__')), '../'))\n",
    "from src.lobe.asp import get_target_state, add_prepare_circuit\n",
    "from pauli_lcu import lcuify, piecewise_lcu\n",
    "from src.lobe.rescale import rescale_coefficients, get_numbers_of_bosonic_operators_in_terms\n",
    "from src.lobe.system import System\n",
    "from src.lobe.lcu import LCU\n",
    "from colors import *\n",
    "from cirq.contrib.svg import SVGCircuit\n",
    "from openparticle import generate_matrix\n",
    "from src.lobe._utils import get_basis_of_full_system\n",
    "from src.lobe.bosonic import bosonic_product_block_encoding, bosonic_product_plus_hc_block_encoding\n",
    "from src.lobe.fermionic import fermionic_product_block_encoding\n",
    "from src.lobe.index import index_over_terms\n",
    "from src.lobe.metrics import CircuitMetrics\n",
    "from tests._utils import _validate_block_encoding\n",
    "from functools import partial"
   ]
  },
  {
   "cell_type": "code",
   "execution_count": 3,
   "metadata": {},
   "outputs": [],
   "source": [
    "def static_yukawa_Hamiltonian(Cf = 1, Cb = 1, g = 1):\n",
    "    return (\n",
    "        Cf * ParticleOperator('b0^ b0') \n",
    "        + Cb * ParticleOperator('a0^ a0')\n",
    "        + g * ParticleOperator('b0^ b0')  *(\n",
    "            ParticleOperator('a0^') + ParticleOperator('a0')\n",
    "        )\n",
    "    )"
   ]
  },
  {
   "cell_type": "code",
   "execution_count": 4,
   "metadata": {},
   "outputs": [],
   "source": [
    "def lobotomize(operator, max_bosonic_occupancy):\n",
    "    terms = operator.group()\n",
    "    \n",
    "    number_of_block_encoding_ancillae = 3\n",
    "    index_register = [cirq.LineQubit(-i - 2) for i in range(int(np.ceil(np.log2(len(terms)))))]\n",
    "    block_encoding_ancillae = [cirq.LineQubit(-100 - i - len(index_register)) for i in range(number_of_block_encoding_ancillae)]\n",
    "    ctrls = ([cirq.LineQubit(0)], [1])\n",
    "    clean_ancillae = [cirq.LineQubit(i + 100) for i in range(100)]\n",
    "    number_of_fermionic_modes = 0\n",
    "    number_of_bosonic_modes = 0\n",
    "    if operator.max_fermionic_mode is not None:\n",
    "        number_of_fermionic_modes = operator.max_fermionic_mode + 1\n",
    "    if operator.max_bosonic_mode is not None:\n",
    "        number_of_bosonic_modes = operator.max_bosonic_mode + 1\n",
    "    system = System(\n",
    "        max_bosonic_occupancy,\n",
    "        1000,\n",
    "        number_of_fermionic_modes=number_of_fermionic_modes,\n",
    "        number_of_bosonic_modes=number_of_bosonic_modes,\n",
    "    )\n",
    "    \n",
    "    block_encoding_functions = []\n",
    "    rescaling_factors = []\n",
    "    for term in terms:\n",
    "        if term == ParticleOperator(\"b0^ b0\"):\n",
    "            block_encoding_functions.append(\n",
    "                partial(\n",
    "                fermionic_product_block_encoding,\n",
    "                    system=system,\n",
    "                    block_encoding_ancillae=[block_encoding_ancillae[0]],\n",
    "                    active_indices=[0],\n",
    "                    operator_types=[2],\n",
    "                    clean_ancillae=clean_ancillae[10:],\n",
    "            ))\n",
    "            rescaling_factors.append(1)\n",
    "        elif term == ParticleOperator(\"a0^ a0\"):\n",
    "            block_encoding_functions.append(\n",
    "                partial(\n",
    "                    bosonic_product_block_encoding,\n",
    "                    system=system,\n",
    "                    block_encoding_ancillae=block_encoding_ancillae[0],\n",
    "                    active_indices=[0],\n",
    "                    exponents_list=[(1,1)],\n",
    "                    clean_ancillae=clean_ancillae[10:],\n",
    "            ))\n",
    "            rescaling_factors.append(max_bosonic_occupancy)\n",
    "        elif term == (ParticleOperator(\"b0^ b0 a0^\") + ParticleOperator(\"b0^ b0 a0\")):\n",
    "            def _custom(ctrls=([], [])):\n",
    "                gates, metrics = fermionic_product_block_encoding(\n",
    "                    system=system,\n",
    "                    block_encoding_ancillae=[block_encoding_ancillae[0]],\n",
    "                    active_indices=[0],\n",
    "                    operator_types=[2],\n",
    "                    clean_ancillae=clean_ancillae[10:],\n",
    "                    ctrls=ctrls\n",
    "                )\n",
    "\n",
    "                _gates, _metrics = bosonic_product_plus_hc_block_encoding(\n",
    "                    system,\n",
    "                    block_encoding_ancillae=block_encoding_ancillae[1:],\n",
    "                    active_indices=[0],\n",
    "                    exponents_list=[(1, 0)],\n",
    "                    clean_ancillae=clean_ancillae[10:],\n",
    "                    ctrls=ctrls\n",
    "                )\n",
    "                gates += _gates\n",
    "                metrics += _metrics\n",
    "\n",
    "                return gates, metrics\n",
    "\n",
    "            block_encoding_functions.append(_custom)\n",
    "            rescaling_factors.append(2*np.sqrt(max_bosonic_occupancy))\n",
    "        else:\n",
    "            raise RuntimeError(\"Term not expected: \", term)\n",
    "\n",
    "\n",
    "    rescaled_coefficients, overall_rescaling_factor = rescale_coefficients(\n",
    "        [term.coeffs[0] for term in terms],\n",
    "        rescaling_factors\n",
    "    )\n",
    "    target_state = get_target_state(rescaled_coefficients)\n",
    "    \n",
    "    gates = []\n",
    "    metrics = CircuitMetrics()\n",
    "\n",
    "    gates.append(cirq.X.on(ctrls[0][0]))\n",
    "\n",
    "    _gates, _metrics = add_prepare_circuit(index_register, target_state, clean_ancillae=clean_ancillae)\n",
    "    gates += _gates\n",
    "    metrics += _metrics\n",
    "\n",
    "    _gates, _metrics = index_over_terms(index_register, block_encoding_functions, clean_ancillae, ctrls=ctrls)\n",
    "    gates += _gates\n",
    "    metrics += _metrics\n",
    "\n",
    "    _gates, _metrics = add_prepare_circuit(index_register, target_state, dagger=True, clean_ancillae=clean_ancillae)\n",
    "    gates += _gates\n",
    "    metrics += _metrics\n",
    "\n",
    "    gates.append(cirq.X.on(ctrls[0][0]))\n",
    "\n",
    "    overall_rescaling_factor = sum([term.coeffs[0]*rescaling_factor for term, rescaling_factor in zip(terms, rescaling_factors)])\n",
    "    circuit = cirq.Circuit(gates)\n",
    "\n",
    "    _validate_block_encoding(circuit, system, overall_rescaling_factor, operator, len(index_register) + number_of_block_encoding_ancillae, max_bosonic_occupancy, max_qubits=16, using_pytest=False)\n",
    "\n",
    "    return  metrics, overall_rescaling_factor, len(index_register) + number_of_block_encoding_ancillae, system.number_of_system_qubits"
   ]
  },
  {
   "cell_type": "code",
   "execution_count": 5,
   "metadata": {},
   "outputs": [
    {
     "name": "stdout",
     "output_type": "stream",
     "text": [
      "LCU\n",
      "Testing singular quantum state for circuit with 14 qubits\n",
      "Too many qubits to validate: 16\n",
      "Piecewise Pauli\n",
      "Testing singular quantum state for circuit with 14 qubits\n",
      "Too many qubits to validate: 19\n",
      "Too many qubits to validate: 22\n",
      "Too many qubits to validate: 27\n",
      "LOBE\n",
      "Testing singular quantum state for circuit with 13 qubits\n",
      "Testing singular quantum state for circuit with 15 qubits\n",
      "Too many qubits to validate: 17\n",
      "Too many qubits to validate: 19\n"
     ]
    }
   ],
   "source": [
    "operator = static_yukawa_Hamiltonian().normal_order()\n",
    "operator.remove_identity()\n",
    "\n",
    "omegas = [1, 3, 7, 15, 31]\n",
    "\n",
    "print(\"LCU\")\n",
    "LCU_DATA = [lcuify(operator, omega) for omega in omegas]\n",
    "print(\"Piecewise Pauli\")\n",
    "PIECEWISE_DATA = [piecewise_lcu(operator, omega) for omega in omegas]\n",
    "print(\"LOBE\")\n",
    "LOBE_DATA = [lobotomize(operator, omega) for omega in omegas]"
   ]
  },
  {
   "cell_type": "code",
   "execution_count": 6,
   "metadata": {},
   "outputs": [
    {
     "name": "stdout",
     "output_type": "stream",
     "text": [
      "1 2.618033988749895\n",
      "3 5.5442870335519805\n",
      "7 10.913668183493792\n",
      "15 20.920060734813525\n",
      "31 39.84083125274357\n"
     ]
    }
   ],
   "source": [
    "operator = static_yukawa_Hamiltonian().normal_order()\n",
    "operator.remove_identity()\n",
    "operator_norms = []\n",
    "for omega in omegas:\n",
    "    full_fock_basis = get_basis_of_full_system(\n",
    "        omega,\n",
    "        operator.max_fermionic_mode + 1,\n",
    "        operator.max_bosonic_mode + 1\n",
    "    )\n",
    "    expected_unitary = generate_matrix(operator, full_fock_basis)\n",
    "    operator_norms.append(np.linalg.norm(expected_unitary, ord=2))\n",
    "    print(omega, operator_norms[-1])"
   ]
  },
  {
   "cell_type": "code",
   "execution_count": 10,
   "metadata": {},
   "outputs": [
    {
     "data": {
      "image/png": "[encoded data removed]",
      "text/plain": [
       "<Figure size 629.921x314.961 with 5 Axes>"
      ]
     },
     "metadata": {},
     "output_type": "display_data"
    }
   ],
   "source": [
    "fig, axes = plt.subplots(2, 3, figsize=(16 / 2.54, 8 / 2.54))\n",
    "\n",
    "axes[0][0].plot(omegas, [(4*LCU_DATA[i][0].number_of_elbows) + LCU_DATA[i][0].number_of_t_gates for i in range(len(omegas))], color=ORANGE, marker='^', alpha = 0.5)\n",
    "# axes[0][0].plot(omegas, [(4*PIECEWISE_DATA[i][0].number_of_elbows) + PIECEWISE_DATA[i][0].number_of_t_gates for i in range(len(omegas))], color=GREEN, marker='s', alpha = 0.5)\n",
    "axes[0][0].plot(omegas, [(4*LOBE_DATA[i][0].number_of_elbows) + LOBE_DATA[i][0].number_of_t_gates for i in range(len(omegas))], color=BLUE, marker='s', alpha = 0.5)\n",
    "axes[0][0].set_ylabel(\"T Gates\")\n",
    "axes[0][0].set_xticklabels([])\n",
    "\n",
    "axes[1][0].plot(omegas, [LCU_DATA[i][0].number_of_nonclifford_rotations for i in range(len(omegas))], color=ORANGE, marker='^', alpha = 0.5)\n",
    "# axes[1][0].plot(omegas, [PIECEWISE_DATA[i][0].number_of_nonclifford_rotations for i in range(len(omegas))], color=GREEN, marker='s', alpha = 0.5)\n",
    "axes[1][0].plot(omegas, [LOBE_DATA[i][0].number_of_nonclifford_rotations for i in range(len(omegas))], color=BLUE, marker='s', alpha = 0.5)\n",
    "axes[1][0].set_ylabel(\"Non-Clifford Rotations\")\n",
    "axes[1][0].set_xlabel(\"Bosonic Cutoff ($\\Omega$)\")\n",
    "\n",
    "axes[0][1].plot(omegas, [LCU_DATA[i][2] for i in range(len(omegas))], color=ORANGE, marker='^', alpha = 0.5)\n",
    "# axes[0][1].plot(omegas, [PIECEWISE_DATA[i][2] for i in range(len(omegas))], color=GREEN, marker='s', alpha = 0.5)\n",
    "axes[0][1].plot(omegas, [LOBE_DATA[i][2] for i in range(len(omegas))], color=BLUE, marker='s', alpha = 0.5)\n",
    "axes[0][1].set_ylabel(\"BE Ancillae\")\n",
    "axes[0][1].set_xticklabels([])\n",
    "# axes[0][1].set_yticks([0, 5, 10])\n",
    "\n",
    "axes[1][1].plot(omegas, [LCU_DATA[i][0].ancillae_highwater() + LCU_DATA[i][2] + LCU_DATA[i][3] + 1 for i in range(len(omegas))], color=ORANGE, marker='^', alpha = 0.5, label=\"LCU\")\n",
    "# axes[1][1].plot(omegas, [PIECEWISE_DATA[i][0].ancillae_highwater() + PIECEWISE_DATA[i][2] + PIECEWISE_DATA[i][3] + 1 for i in range(len(omegas))], color=GREEN, marker='s', alpha = 0.5, label=\"LCU\")\n",
    "axes[1][1].plot(omegas, [LOBE_DATA[i][0].ancillae_highwater() + LOBE_DATA[i][2] + LCU_DATA[i][3] + 1 for i in range(len(omegas))], color=BLUE, marker='s', alpha = 0.5, label=\"LOBE\")\n",
    "axes[1][1].set_ylabel(\"Max Qubit Usage\")\n",
    "axes[1][1].set_xlabel(\"Bosonic Cutoff ($\\Omega$)\")\n",
    "# axes[1][1].set_yticks([0, 10, 20, 30])\n",
    "\n",
    "axes[1][2].plot(omegas, [LCU_DATA[i][1] for i in range(len(omegas))], color=ORANGE, marker='^', alpha = 0.5)\n",
    "axes[1][2].plot(omegas, [LOBE_DATA[i][1] for i in range(len(omegas))], color=BLUE, marker='s', alpha = 0.5)\n",
    "# axes[1][2].plot(omegas, [PIECEWISE_DATA[i][1] for i in range(len(omegas))], color=GREEN, marker='s', alpha = 0.5)\n",
    "axes[1][2].plot(omegas, [operator_norms[i] for i in range(len(omegas))], color=\"black\", marker='x', ls='--', alpha = 0.5)\n",
    "axes[1][2].set_ylabel(\"Rescaling Factor\")\n",
    "axes[1][2].set_xlabel(\"Bosonic Cutoff ($\\Omega$)\")\n",
    "\n",
    "fig.delaxes(axes[0][2])\n",
    "plt.tight_layout()\n",
    "# axes[2][0].legend(loc='upper center', bbox_to_anchor=(1.5, 0.75),\n",
    "#           fancybox=True, shadow=True, ncol=1)\n",
    "# plt.savefig(\"../../../manuscript/figures/static_yukawa.pdf\", dpi=300)"
   ]
  },
  {
   "cell_type": "code",
   "execution_count": null,
   "metadata": {},
   "outputs": [],
   "source": []
  }
 ],
 "metadata": {
  "kernelspec": {
   "display_name": "lobe",
   "language": "python",
   "name": "python3"
  },
  "language_info": {
   "codemirror_mode": {
    "name": "ipython",
    "version": 3
   },
   "file_extension": ".py",
   "mimetype": "text/x-python",
   "name": "python",
   "nbconvert_exporter": "python",
   "pygments_lexer": "ipython3",
   "version": "3.9.6"
  },
  "orig_nbformat": 4
 },
 "nbformat": 4,
 "nbformat_minor": 2
}
