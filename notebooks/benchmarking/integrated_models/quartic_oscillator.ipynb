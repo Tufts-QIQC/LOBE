{
 "cells": [
  {
   "cell_type": "code",
   "execution_count": 1,
   "metadata": {},
   "outputs": [],
   "source": [
    "%load_ext autoreload\n",
    "%autoreload 2"
   ]
  },
  {
   "cell_type": "code",
   "execution_count": 2,
   "metadata": {},
   "outputs": [
    {
     "name": "stderr",
     "output_type": "stream",
     "text": [
      "/Users/williamsimon/Desktop/Research/SparseOracle/lobe/lib/python3.9/site-packages/cotengra/hyperoptimizers/hyper.py:33: UserWarning: Couldn't import `kahypar` - skipping from default hyper optimizer and using basic `labels` method instead.\n",
      "  warnings.warn(\n",
      "/Users/williamsimon/Desktop/Research/SparseOracle/lobe/lib/python3.9/site-packages/tqdm/auto.py:21: TqdmWarning: IProgress not found. Please update jupyter and ipywidgets. See https://ipywidgets.readthedocs.io/en/stable/user_install.html\n",
      "  from .autonotebook import tqdm as notebook_tqdm\n",
      "2025-02-04 18:07:26,275\tINFO util.py:154 -- Missing packages: ['ipywidgets']. Run `pip install -U ipywidgets`, then restart the notebook server for rich notebook output.\n"
     ]
    }
   ],
   "source": [
    "from openparticle import ParticleOperator\n",
    "import numpy as np\n",
    "import cirq\n",
    "import matplotlib.pyplot as plt\n",
    "\n",
    "import sys, os\n",
    "sys.path.append(os.path.join(os.path.dirname(os.path.realpath('__file__')), '../../..'))\n",
    "sys.path.append(os.path.join(os.path.dirname(os.path.realpath('__file__')), '../..'))\n",
    "from src.lobe.asp import get_target_state, add_prepare_circuit\n",
    "from src.lobe.system import System\n",
    "from src.lobe.lcu import LCU\n",
    "from colors import *\n",
    "from src.lobe.bosonic import bosonic_product_block_encoding, bosonic_product_plus_hc_block_encoding\n",
    "from src.lobe.index import index_over_terms\n",
    "from src.lobe.metrics import CircuitMetrics\n",
    "from src.lobe._utils import get_bosonic_exponents\n",
    "from src.lobe.rescale import rescale_coefficients\n",
    "from tests._utils import _validate_block_encoding\n",
    "from functools import partial"
   ]
  },
  {
   "cell_type": "code",
   "execution_count": 3,
   "metadata": {},
   "outputs": [],
   "source": [
    "def qosc_Hamiltonian(g):\n",
    "    return ParticleOperator('a0^ a0') + g * (\n",
    "        ParticleOperator('a0^') + ParticleOperator('a0')\n",
    "    )**4"
   ]
  },
  {
   "cell_type": "code",
   "execution_count": 4,
   "metadata": {},
   "outputs": [],
   "source": [
    "def lcu_ify(max_bosonic_occupancy):\n",
    "    operator = qosc_Hamiltonian(g = 1).normal_order()\n",
    "    operator.remove_identity()\n",
    "\n",
    "    lcu = LCU(operator, max_bosonic_occupancy=max_bosonic_occupancy, zero_threshold=1e-6)\n",
    "    ctrls = ([cirq.LineQubit(-1000000)], [1])\n",
    "    circuit = cirq.Circuit()\n",
    "    circuit += cirq.X.on(ctrls[0][0])\n",
    "    circuit += lcu.get_circuit(ctrls=ctrls)\n",
    "    circuit += cirq.X.on(ctrls[0][0])\n",
    "    fake_sys = System(1, max_bosonic_occupancy, 1000 + lcu.number_of_index_qubits, operator.has_fermions, operator.has_antifermions, operator.has_bosons)\n",
    "    _validate_block_encoding(circuit, fake_sys, lcu.one_norm, operator, len(lcu.index_register), max_bosonic_occupancy, max_qubits=16, using_pytest=False)\n",
    "\n",
    "    return lcu.circuit_metrics, lcu.one_norm, len(lcu.index_register)"
   ]
  },
  {
   "cell_type": "code",
   "execution_count": 5,
   "metadata": {},
   "outputs": [],
   "source": [
    "def lobotomize(max_bosonic_occupancy):\n",
    "    operator = qosc_Hamiltonian(1).normal_order()\n",
    "    operator.remove_identity()\n",
    "    terms = operator.group()\n",
    "    \n",
    "    number_of_block_encoding_anillae = 2\n",
    "    index_register = [cirq.LineQubit(-i - 2) for i in range(int(np.ceil(np.log2(len(terms)))))]\n",
    "    block_encoding_ancillae = [cirq.LineQubit(-100 - i - len(index_register)) for i in range(number_of_block_encoding_anillae)]\n",
    "    ctrls = ([cirq.LineQubit(0)], [1])\n",
    "    clean_ancillae = [cirq.LineQubit(i + 100) for i in range(100)]\n",
    "    system = System(1, max_bosonic_occupancy, 1000, False, False, True)\n",
    "\n",
    "    block_encoding_functions = []\n",
    "    rescaling_factors = []\n",
    "    for term in terms:\n",
    "        plus_hc = False\n",
    "        if len(term) == 2:\n",
    "            plus_hc = True\n",
    "            term = term.to_list()[0]\n",
    "        active_modes, exponents_list = get_bosonic_exponents(term, 1)\n",
    "        exponents = exponents_list[0]\n",
    "\n",
    "        if not plus_hc:\n",
    "            block_encoding_functions.append(partial(\n",
    "                bosonic_product_block_encoding,\n",
    "                system=system,\n",
    "                block_encoding_ancillae=[block_encoding_ancillae[1]],\n",
    "                active_indices=[active_modes[0]],\n",
    "                exponents_list=[exponents],\n",
    "                clean_ancillae=clean_ancillae[1:]\n",
    "            ))\n",
    "            rescaling_factors.append(np.sqrt(max_bosonic_occupancy)**(sum(exponents)))\n",
    "        else:\n",
    "            block_encoding_functions.append(partial(\n",
    "                bosonic_product_plus_hc_block_encoding,\n",
    "                system=system,\n",
    "                block_encoding_ancillae=block_encoding_ancillae,\n",
    "                active_indices=[active_modes[0]],\n",
    "                exponents_list=[exponents],\n",
    "                clean_ancillae=clean_ancillae[1:]\n",
    "            ))\n",
    "            rescaling_factors.append(2*np.sqrt(max_bosonic_occupancy)**(sum(exponents)))\n",
    "\n",
    "\n",
    "    rescaled_coefficients, overall_rescaling_factor = rescale_coefficients(\n",
    "        [term.coeffs[0] for term in terms],\n",
    "        rescaling_factors\n",
    "    )\n",
    "    target_state = get_target_state(rescaled_coefficients)\n",
    "    \n",
    "    # Generate Circuit\n",
    "    gates = []\n",
    "    metrics = CircuitMetrics()\n",
    "\n",
    "    gates.append(cirq.X.on(ctrls[0][0]))\n",
    "    _gates, _metrics = add_prepare_circuit(index_register, target_state, clean_ancillae=clean_ancillae)\n",
    "    gates += _gates\n",
    "    metrics += _metrics\n",
    "\n",
    "    _gates, _metrics = index_over_terms(index_register, block_encoding_functions, clean_ancillae, ctrls=ctrls)\n",
    "    gates += _gates\n",
    "    metrics += _metrics\n",
    "\n",
    "    _gates, _metrics = add_prepare_circuit(index_register, target_state, dagger=True, clean_ancillae=clean_ancillae)\n",
    "    gates += _gates\n",
    "    metrics += _metrics\n",
    "    gates.append(cirq.X.on(ctrls[0][0]))\n",
    "\n",
    "    circuit = cirq.Circuit(gates)\n",
    "    _validate_block_encoding(circuit, system, overall_rescaling_factor, operator, len(index_register) + number_of_block_encoding_anillae, max_bosonic_occupancy, max_qubits=16, using_pytest=False)\n",
    "\n",
    "    return  metrics, overall_rescaling_factor, len(index_register) + number_of_block_encoding_anillae"
   ]
  },
  {
   "cell_type": "code",
   "execution_count": 6,
   "metadata": {},
   "outputs": [
    {
     "name": "stdout",
     "output_type": "stream",
     "text": [
      "LCU\n",
      "Testing singular quantum state for circuit with 12 qubits\n",
      "Testing singular quantum state for circuit with 14 qubits\n",
      "Too many qubits to validate: 17\n",
      "Too many qubits to validate: 19\n",
      "LOBE\n",
      "Testing singular quantum state for circuit with 12 qubits\n",
      "Testing singular quantum state for circuit with 14 qubits\n",
      "Too many qubits to validate: 16\n",
      "Too many qubits to validate: 18\n",
      "Too many qubits to validate: 20\n",
      "Too many qubits to validate: 22\n"
     ]
    }
   ],
   "source": [
    "omegas = [1, 3, 7, 15, 31, 63, 127]\n",
    "\n",
    "operator = qosc_Hamiltonian(1).normal_order()\n",
    "operator.remove_identity()\n",
    "\n",
    "print(\"LCU\")\n",
    "LCU_DATA = [lcu_ify(omega) for omega in omegas]\n",
    "print(\"LOBE\")\n",
    "LOBE_DATA = [lobotomize(omega) for omega in omegas]\n",
    "\n",
    "system_qubits = [System(1, omega, 1000, False, False, True).number_of_system_qubits for omega in omegas]"
   ]
  },
  {
   "cell_type": "code",
   "execution_count": 7,
   "metadata": {},
   "outputs": [],
   "source": [
    "def matrix_element(k, l, g):\n",
    "    return (k + 3 * g * (2 * k ** 2 + 2 * k + 1)) * delta(k, l) +\\\n",
    "            g * (4 * l + 6) * np.sqrt((l + 1) * (l + 2)) * delta(k, l + 2) +\\\n",
    "            g * (4 * k + 6) * np.sqrt((k + 1) * (k + 2)) * delta(k + 2, l) +\\\n",
    "            g * np.sqrt((l + 1) * (l + 2) * (l + 3) * (l + 4)) * delta(k, l + 4) +\\\n",
    "            g * np.sqrt((k + 1) * (k + 2) * (k + 3) * (k + 4)) * delta(k + 4, l) \n",
    "\n",
    "def delta(k, l):\n",
    "    if k == l: return 1 \n",
    "    return 0\n",
    "\n",
    "def _get_qosc_l2_norm(max_bosonic_occupancy, g=1):\n",
    "    H_from_matrix_elements = np.zeros((max_bosonic_occupancy + 1, max_bosonic_occupancy + 1))\n",
    "\n",
    "    for i in range(max_bosonic_occupancy + 1):\n",
    "        for j in range(max_bosonic_occupancy + 1):\n",
    "            H_from_matrix_elements[i][j] = matrix_element(i, j, g)\n",
    "\n",
    "    id_val = qosc_Hamiltonian(g).normal_order().pop_identity()\n",
    "    H_from_matrix_elements = H_from_matrix_elements - (id_val * np.eye(H_from_matrix_elements.shape[0]))\n",
    "            \n",
    "    return np.linalg.norm(H_from_matrix_elements, ord=2)"
   ]
  },
  {
   "cell_type": "code",
   "execution_count": 8,
   "metadata": {},
   "outputs": [
    {
     "name": "stdout",
     "output_type": "stream",
     "text": [
      "1 13.0\n",
      "3 83.50949253027683\n",
      "7 462.3766497208945\n",
      "15 2369.168169309278\n",
      "31 11339.805337479918\n",
      "63 51379.884091084525\n",
      "127 223575.00102086287\n"
     ]
    }
   ],
   "source": [
    "operator_norms = []\n",
    "for omega in omegas:\n",
    "    operator_norms.append(_get_qosc_l2_norm(omega))\n",
    "    print(omega, operator_norms[-1])"
   ]
  },
  {
   "cell_type": "code",
   "execution_count": 10,
   "metadata": {},
   "outputs": [
    {
     "name": "stderr",
     "output_type": "stream",
     "text": [
      "/var/folders/1d/rzphqnd150gd17mlcd4p1whw0000gn/T/ipykernel_20838/487458643.py:28: UserWarning: set_ticklabels() should only be used with a fixed number of ticks, i.e. after set_ticks() or using a FixedLocator.\n",
      "  axes[1][2].set_yticklabels([0, \"$2e^5$\", \"$4e^5$\"])\n"
     ]
    },
    {
     "data": {
      "image/png": "[encoded data removed]",
      "text/plain": [
       "<Figure size 629.921x314.961 with 5 Axes>"
      ]
     },
     "metadata": {},
     "output_type": "display_data"
    }
   ],
   "source": [
    "fig, axes = plt.subplots(2, 3, figsize=(16 / 2.54, 8 / 2.54))\n",
    "\n",
    "axes[0][0].plot(omegas, [4*LCU_DATA[i][0].number_of_elbows for i in range(len(omegas))], color=ORANGE, marker='^', alpha = 0.5)\n",
    "axes[0][0].plot(omegas, [4*LOBE_DATA[i][0].number_of_elbows for i in range(len(omegas))], color=BLUE, marker='o', alpha = 0.5)\n",
    "axes[0][0].set_ylabel(\"T Gates\")\n",
    "axes[0][0].set_xticklabels([])\n",
    "\n",
    "axes[1][0].plot(omegas, [LCU_DATA[i][0].number_of_nonclifford_rotations for i in range(len(omegas))], color=ORANGE, marker='^', alpha = 0.5)\n",
    "axes[1][0].plot(omegas, [LOBE_DATA[i][0].number_of_nonclifford_rotations for i in range(len(omegas))], color=BLUE, marker='o', alpha = 0.5)\n",
    "axes[1][0].set_ylabel(\"Non-Clifford Rotations\")\n",
    "axes[1][0].set_xlabel(\"Bosonic Cutoff ($\\Omega$)\")\n",
    "\n",
    "axes[0][1].plot(omegas, [LCU_DATA[i][2] for i in range(len(omegas))], color=ORANGE, marker='^', alpha = 0.5)\n",
    "axes[0][1].plot(omegas, [LOBE_DATA[i][2] for i in range(len(omegas))], color=BLUE, marker='o', alpha = 0.5)\n",
    "axes[0][1].set_ylabel(\"BE Ancillae\")\n",
    "axes[0][1].set_xticklabels([])\n",
    "axes[0][1].set_yticks([0, 5, 10])\n",
    "\n",
    "axes[1][1].plot(omegas, [LCU_DATA[i][0].ancillae_highwater() + LCU_DATA[i][2] + system_qubits[i] + 1 for i in range(len(omegas))], color=ORANGE, marker='^', alpha = 0.5, label=\"LCU\")\n",
    "axes[1][1].plot(omegas, [LOBE_DATA[i][0].ancillae_highwater() + LOBE_DATA[i][2] + system_qubits[i] + 1 for i in range(len(omegas))], color=BLUE, marker='o', alpha = 0.5, label=\"LOBE\")\n",
    "axes[1][1].set_ylabel(\"Max Qubit Usage\")\n",
    "axes[1][1].set_xlabel(\"Bosonic Cutoff ($\\Omega$)\")\n",
    "axes[1][1].set_yticks([0, 10, 20, 30])\n",
    "\n",
    "axes[1][2].plot(omegas, [LCU_DATA[i][1] for i in range(len(omegas))], color=ORANGE, marker='^', alpha = 0.5)\n",
    "axes[1][2].plot(omegas, [LOBE_DATA[i][1] for i in range(len(omegas))], color=BLUE, marker='o', alpha = 0.5)\n",
    "axes[1][2].plot(omegas, [operator_norms[i] for i in range(len(omegas))], color=\"black\", marker='x', ls='--', alpha = 0.5)\n",
    "axes[1][2].set_yticklabels([0, \"$2e^5$\", \"$4e^5$\"])\n",
    "axes[1][2].set_yticks([0, 2e5, 4e5])\n",
    "axes[1][2].set_ylabel(\"Rescaling Factor\")\n",
    "axes[1][2].set_xlabel(\"Bosonic Cutoff ($\\Omega$)\")\n",
    "\n",
    "fig.delaxes(axes[0][2])\n",
    "plt.tight_layout()\n",
    "# axes[2][0].legend(loc='upper center', bbox_to_anchor=(1.5, 0.75),\n",
    "#           fancybox=True, shadow=True, ncol=1)\n",
    "plt.savefig(\"../../../manuscript/figures/quartic_oscillator.pdf\", dpi=300)"
   ]
  },
  {
   "cell_type": "code",
   "execution_count": null,
   "metadata": {},
   "outputs": [],
   "source": []
  }
 ],
 "metadata": {
  "kernelspec": {
   "display_name": "lobe",
   "language": "python",
   "name": "python3"
  },
  "language_info": {
   "codemirror_mode": {
    "name": "ipython",
    "version": 3
   },
   "file_extension": ".py",
   "mimetype": "text/x-python",
   "name": "python",
   "nbconvert_exporter": "python",
   "pygments_lexer": "ipython3",
   "version": "3.9.6"
  },
  "orig_nbformat": 4
 },
 "nbformat": 4,
 "nbformat_minor": 2
}
