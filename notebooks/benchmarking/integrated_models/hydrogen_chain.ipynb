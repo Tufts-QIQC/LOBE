{
 "cells": [
  {
   "cell_type": "code",
   "execution_count": 146,
   "metadata": {},
   "outputs": [],
   "source": [
    "from pyscf import scf, gto, fci\n",
    "from openfermionpyscf._run_pyscf import compute_integrals, generate_molecular_hamiltonian\n",
    "from openfermion import InteractionOperator, FermionOperator\n",
    "from openparticle import ParticleOperator, get_fock_basis, generate_matrix\n",
    "import numpy as np\n",
    "from functools import partial\n",
    "import sys, os\n",
    "\n",
    "sys.path.append(os.path.join(os.path.dirname(os.path.realpath('__file__')), '../../..'))\n",
    "sys.path.append(os.path.join(os.path.dirname(os.path.realpath('__file__')), '../..'))\n",
    "sys.path.append(os.path.join(os.path.dirname(os.path.realpath('__file__')), '../'))\n",
    "import cirq\n",
    "from colors import *\n",
    "from cirq.contrib.svg import SVGCircuit\n",
    "import matplotlib.pyplot as plt\n",
    "from src.lobe.system import System\n",
    "from src.lobe.fermionic import fermionic_product_block_encoding, fermionic_plus_hc_block_encoding\n",
    "from src.lobe.asp import get_target_state, add_prepare_circuit\n",
    "from pauli_lcu import lcuify\n",
    "from src.lobe.metrics import CircuitMetrics\n",
    "from src.lobe.index import index_over_terms\n",
    "from tests._utils import _validate_block_encoding\n",
    "from src.lobe.lcu import LCU\n",
    "from src.lobe._utils import get_basis_of_full_system\n",
    "from src.lobe.rescale import rescale_coefficients\n",
    "from src.lobe.fermionic import fermionic_product_block_encoding, fermionic_plus_hc_block_encoding\n",
    "from src.lobe.system import System"
   ]
  },
  {
   "cell_type": "code",
   "execution_count": 149,
   "metadata": {},
   "outputs": [],
   "source": [
    "# basis = 'cc-pvdz' # double\n",
    "# basis = 'cc-pvtz' # triple\n",
    "# basis = 'cc-pvqz' # quadruple"
   ]
  },
  {
   "cell_type": "code",
   "execution_count": 14,
   "metadata": {},
   "outputs": [],
   "source": [
    "def get_nonzero_terms(arr, tol=1e-10):\n",
    "    \"\"\"\n",
    "    \"\"\"\n",
    "    where_nonzero = np.where(~np.isclose(arr, 0, atol=tol))\n",
    "    nonzero_indices = list(zip(*where_nonzero))\n",
    "    return dict(zip(nonzero_indices, arr[where_nonzero]))"
   ]
  },
  {
   "cell_type": "code",
   "execution_count": 15,
   "metadata": {},
   "outputs": [],
   "source": [
    "def preprocess_terms(term):\n",
    "    modes, types = [op[1] for op in list(term.op_dict)[0]], [op[2] for op in list(term.op_dict)[0]]\n",
    "\n",
    "    processed_types = []\n",
    "    processed_modes = []\n",
    "    skip_next = False\n",
    "    for mode in range(len(modes) - 1):\n",
    "        if skip_next:\n",
    "            skip_next = False\n",
    "            continue\n",
    "        else:\n",
    "            if modes[mode] == modes[mode + 1]:\n",
    "                processed_types.append(2)\n",
    "                processed_modes.append(modes[mode])\n",
    "                skip_next = True\n",
    "            else:\n",
    "                processed_types.append(types[mode])\n",
    "                processed_modes.append(modes[mode])\n",
    "\n",
    "    if not skip_next:\n",
    "        processed_modes.append(modes[-1])\n",
    "        processed_types.append(types[-1])\n",
    "    return processed_modes[::-1], processed_types[::-1]"
   ]
  },
  {
   "cell_type": "code",
   "execution_count": 16,
   "metadata": {},
   "outputs": [],
   "source": [
    "def get_coeff_vector(groups):\n",
    "    for term in groups:\n",
    "        print(term.to_list()[0].coeff)"
   ]
  },
  {
   "cell_type": "code",
   "execution_count": 150,
   "metadata": {},
   "outputs": [],
   "source": [
    "def get_water_hamiltonian():\n",
    "    geom = [\n",
    "            (\"O\", (0, 0, 0.1173)),\n",
    "            (\"H\", (0, 0.07572, -0.4692)),\n",
    "            (\"H\", (0, -0.07572, -0.4692)),\n",
    "        ]\n",
    "    basis = \"sto-3g\"\n",
    "\n",
    "    mol = gto.M(\n",
    "        atom=geom,\n",
    "        basis = basis,\n",
    "        unit='A').build()\n",
    "    hf_obj = scf.RHF(mol)\n",
    "    hf_obj.kernel()\n",
    "    one_electron_integrals, two_electron_integrals = compute_integrals(mol, hf_obj)\n",
    "\n",
    "    hcore = np.zeros([mol.nao*2]*2)\n",
    "    hcore[ ::2, ::2] = one_electron_integrals\n",
    "    hcore[1::2,1::2] = one_electron_integrals\n",
    "\n",
    "    eri = np.zeros([mol.nao*2]*4)\n",
    "    eri[ ::2, ::2, ::2, ::2] = two_electron_integrals\n",
    "    eri[1::2,1::2,1::2,1::2] = two_electron_integrals\n",
    "    eri[0::2,1::2,1::2,0::2] = two_electron_integrals\n",
    "    eri[1::2,0::2,0::2,1::2] = two_electron_integrals\n",
    "\n",
    "    one_body_coefficients = get_nonzero_terms(hcore)\n",
    "    two_body_coefficients = get_nonzero_terms(eri)\n",
    "\n",
    "    fermionic_molecular_hamiltonian = FermionOperator()\n",
    "    for (p,q), coeff in one_body_coefficients.items():\n",
    "            fermionic_molecular_hamiltonian += FermionOperator(f'{p}^ {q}', coeff)\n",
    "    for (p,q,r,s), coeff in two_body_coefficients.items():\n",
    "            if p != q and r != s:\n",
    "                    fermionic_molecular_hamiltonian += FermionOperator(f'{p}^ {q}^ {r} {s}', coeff*.5)\n",
    "\n",
    "    op_fermionic_molecular_hamiltonian = ParticleOperator.from_openfermion(\n",
    "           fermionic_molecular_hamiltonian\n",
    "    )\n",
    "\n",
    "    return op_fermionic_molecular_hamiltonian"
   ]
  },
  {
   "cell_type": "code",
   "execution_count": 131,
   "metadata": {},
   "outputs": [],
   "source": [
    "def get_chain_hamiltonian(chain_length, bond_length: float = 1):\n",
    "    geom = [('H', (0, 0, bond_length * i)) for i in np.arange(0, chain_length)]\n",
    "    basis = 'sto-3g'\n",
    "\n",
    "    mol = gto.M(\n",
    "        atom=geom,\n",
    "        basis = basis,\n",
    "        unit='A').build()\n",
    "    hf_obj = scf.RHF(mol)\n",
    "    hf_obj.kernel()\n",
    "    one_electron_integrals, two_electron_integrals = compute_integrals(mol, hf_obj)\n",
    "\n",
    "    hcore = np.zeros([mol.nao*2]*2)\n",
    "    hcore[ ::2, ::2] = one_electron_integrals\n",
    "    hcore[1::2,1::2] = one_electron_integrals\n",
    "\n",
    "    eri = np.zeros([mol.nao*2]*4)\n",
    "    eri[ ::2, ::2, ::2, ::2] = two_electron_integrals\n",
    "    eri[1::2,1::2,1::2,1::2] = two_electron_integrals\n",
    "    eri[0::2,1::2,1::2,0::2] = two_electron_integrals\n",
    "    eri[1::2,0::2,0::2,1::2] = two_electron_integrals\n",
    "\n",
    "    one_body_coefficients = get_nonzero_terms(hcore)\n",
    "    two_body_coefficients = get_nonzero_terms(eri)\n",
    "\n",
    "    fermionic_molecular_hamiltonian = FermionOperator()\n",
    "    for (p,q), coeff in one_body_coefficients.items():\n",
    "            fermionic_molecular_hamiltonian += FermionOperator(f'{p}^ {q}', coeff)\n",
    "    for (p,q,r,s), coeff in two_body_coefficients.items():\n",
    "            if p != q and r != s:\n",
    "                    fermionic_molecular_hamiltonian += FermionOperator(f'{p}^ {q}^ {r} {s}', coeff*.5)\n",
    "\n",
    "    op_fermionic_molecular_hamiltonian = ParticleOperator.from_openfermion(\n",
    "           fermionic_molecular_hamiltonian\n",
    "    )\n",
    "\n",
    "    return op_fermionic_molecular_hamiltonian"
   ]
  },
  {
   "cell_type": "code",
   "execution_count": 152,
   "metadata": {},
   "outputs": [],
   "source": [
    "def get_metrics(chain_length: int = None):\n",
    "#     op_fermionic_molecular_hamiltonian = get_chain_hamiltonian(chain_length)\n",
    "    op_fermionic_molecular_hamiltonian = get_water_hamiltonian()\n",
    "    groups = op_fermionic_molecular_hamiltonian.group()\n",
    "\n",
    "    number_of_block_encoding_ancillae = 1\n",
    "    index_register = [cirq.LineQubit(-i - 2) for i in range(int(np.ceil(np.log2(len(groups)))))]\n",
    "    block_encoding_ancillae = [cirq.LineQubit(-100 - i - len(index_register)) for i in range(number_of_block_encoding_ancillae)]\n",
    "    ctrls = ([cirq.LineQubit(0)], [1])\n",
    "    clean_ancillae = [cirq.LineQubit(i + 100) for i in range(100)]\n",
    "\n",
    "    system = System(\n",
    "            0,\n",
    "            1000,\n",
    "            number_of_fermionic_modes=op_fermionic_molecular_hamiltonian.max_fermionic_mode + 1,\n",
    "            number_of_bosonic_modes=0,\n",
    "    )\n",
    "\n",
    "\n",
    "    block_encoding_functions = []\n",
    "    rescaling_factors = []\n",
    "\n",
    "    for term in groups:\n",
    "        if len(term.to_list()) == 1:\n",
    "                term = term.mode_order()\n",
    "                active_indices, operator_types = preprocess_terms(term)\n",
    "                block_encoding_functions.append(\n",
    "                partial(\n",
    "                        fermionic_product_block_encoding,\n",
    "                        system = system,\n",
    "                        block_encoding_ancillae = block_encoding_ancillae,\n",
    "                        active_indices=active_indices,\n",
    "                        sign = np.sign(term.coeff),\n",
    "                        operator_types=operator_types,\n",
    "                        clean_ancillae=clean_ancillae[10:],\n",
    "                        ctrls=ctrls)\n",
    "                )\n",
    "                rescaling_factors.append(1)\n",
    "\n",
    "        else:\n",
    "                term = term.to_list()[0].mode_order()\n",
    "                active_indices, operator_types = preprocess_terms(term)\n",
    "                block_encoding_functions.append(\n",
    "                partial(\n",
    "                        fermionic_plus_hc_block_encoding,\n",
    "                        system = system,\n",
    "                        block_encoding_ancillae = block_encoding_ancillae,\n",
    "                        active_indices=active_indices,\n",
    "                        sign = np.sign(term.coeff),\n",
    "                        operator_types=operator_types,\n",
    "                        clean_ancillae=clean_ancillae[10:],\n",
    "                        ctrls=ctrls\n",
    "                        )\n",
    "                )\n",
    "                rescaling_factors.append(1)\n",
    "\n",
    "    gates = []\n",
    "    lobe_metrics = CircuitMetrics()\n",
    "\n",
    "    rescaled_coefficients, overall_rescaling_factor = rescale_coefficients(\n",
    "    [np.abs(term.to_list()[0].coeff) for term in groups],\n",
    "    rescaling_factors\n",
    "    )\n",
    "    target_state = get_target_state(rescaled_coefficients)\n",
    "\n",
    "    gates.append(cirq.X.on(ctrls[0][0]))\n",
    "\n",
    "    _gates, _lobe_metrics = add_prepare_circuit(index_register, target_state, clean_ancillae=clean_ancillae)\n",
    "    gates += _gates\n",
    "    lobe_metrics += _lobe_metrics\n",
    "\n",
    "    _gates, _lobe_metrics = index_over_terms(index_register, block_encoding_functions, clean_ancillae, ctrls=ctrls)\n",
    "    gates += _gates\n",
    "    lobe_metrics += _lobe_metrics\n",
    "\n",
    "    _gates, _lobe_metrics = add_prepare_circuit(index_register, target_state, dagger=True, clean_ancillae=clean_ancillae)\n",
    "    gates += _gates\n",
    "    lobe_metrics += _lobe_metrics\n",
    "\n",
    "    gates.append(cirq.X.on(ctrls[0][0]))\n",
    "\n",
    "    lcu_results = lcuify(op_fermionic_molecular_hamiltonian, zero_threshold=1e-12)\n",
    "    lobe_results = (lobe_metrics, overall_rescaling_factor, len(index_register) + number_of_block_encoding_ancillae, system.number_of_system_qubits)\n",
    "    \n",
    "    \n",
    "    return lobe_results, lcu_results\n"
   ]
  },
  {
   "cell_type": "code",
   "execution_count": 153,
   "metadata": {},
   "outputs": [
    {
     "name": "stdout",
     "output_type": "stream",
     "text": [
      "converged SCF energy = -71.3530498475541\n",
      "Too many qubits to validate: 27\n"
     ]
    }
   ],
   "source": [
    "METRICS = [get_metrics()]"
   ]
  },
  {
   "cell_type": "code",
   "execution_count": 160,
   "metadata": {},
   "outputs": [
    {
     "data": {
      "text/plain": [
       "(2064, 2044, 1085, 4085)"
      ]
     },
     "execution_count": 160,
     "metadata": {},
     "output_type": "execute_result"
    }
   ],
   "source": [
    "METRICS[0][0][0].number_of_elbows, METRICS[0][0][0].number_of_nonclifford_rotations, METRICS[0][1][0].number_of_elbows, METRICS[0][1][0].number_of_nonclifford_rotations,"
   ]
  },
  {
   "cell_type": "code",
   "execution_count": 141,
   "metadata": {},
   "outputs": [
    {
     "name": "stdout",
     "output_type": "stream",
     "text": [
      "converged SCF energy = -1.06610864931794\n",
      "converged SCF energy = -2.09854593699772\n",
      "Too many qubits to validate: 18\n",
      "converged SCF energy = -3.13553221396632\n",
      "Too many qubits to validate: 24\n",
      "converged SCF energy = -4.17436981038916\n",
      "Too many qubits to validate: 30\n"
     ]
    }
   ],
   "source": [
    "n_chains = np.arange(2, 10, 2)\n",
    "METRICS = [get_metrics(n) for n in n_chains]"
   ]
  },
  {
   "cell_type": "code",
   "execution_count": 142,
   "metadata": {},
   "outputs": [
    {
     "data": {
      "text/plain": [
       "<matplotlib.legend.Legend at 0x3256af010>"
      ]
     },
     "execution_count": 142,
     "metadata": {},
     "output_type": "execute_result"
    },
    {
     "data": {
      "image/png": "[encoded data removed]",
      "text/plain": [
       "<Figure size 629.921x314.961 with 5 Axes>"
      ]
     },
     "metadata": {},
     "output_type": "display_data"
    }
   ],
   "source": [
    "fig, axes = plt.subplots(2, 3, figsize=(16 / 2.54, 8 / 2.54))\n",
    "\n",
    "axes[0][0].plot(n_chains, [(4*METRICS[i][0][0].number_of_elbows) + METRICS[i][0][0].number_of_t_gates for i in range(len(n_chains))], color=BLUE, marker='s', alpha = 0.5, label = 'LOBE')\n",
    "axes[0][0].plot(n_chains, [(4*METRICS[i][1][0].number_of_elbows) + METRICS[i][1][0].number_of_t_gates for i in range(len(n_chains))], color=ORANGE, marker='^', alpha = 0.5, label = \"LCU\")\n",
    "axes[0][0].set_ylabel('T Gates')\n",
    "\n",
    "axes[1][0].plot(n_chains, [(4*METRICS[i][0][0].number_of_nonclifford_rotations) for i in range(len(n_chains))], color=BLUE, marker='s', alpha = 0.5, label = 'LOBE')\n",
    "axes[1][0].plot(n_chains, [(4*METRICS[i][1][0].number_of_nonclifford_rotations) for i in range(len(n_chains))], color=ORANGE, marker='^', alpha = 0.5, label = \"LCU\")\n",
    "axes[1][0].set_ylabel('Non-Clifford Rotations')\n",
    "axes[1][0].set_xlabel('Chain Length')\n",
    "\n",
    "axes[0][1].plot(n_chains, [METRICS[i][0][2] for i in range(len(n_chains))], color=BLUE, marker='s', alpha = 0.5)\n",
    "axes[0][1].plot(n_chains, [METRICS[i][1][2] for i in range(len(n_chains))], color=ORANGE, marker='^', alpha = 0.5)\n",
    "axes[0][1].set_ylabel(\"BE Ancillae\")\n",
    "axes[0][1].set_xticklabels([])\n",
    "\n",
    "axes[1][2].plot(n_chains, [METRICS[i][0][1] for i in range(len(n_chains))], color=BLUE, marker='s', alpha = 0.5)\n",
    "axes[1][2].plot(n_chains, [METRICS[i][1][1] for i in range(len(n_chains))], color=ORANGE, marker='^', alpha = 0.5)\n",
    "axes[1][2].set_ylabel(\"Rescaling Factor\")\n",
    "axes[1][2].set_xlabel('Chain Length')\n",
    "\n",
    "axes[1][1].plot(n_chains, [METRICS[i][0][0].ancillae_highwater() + METRICS[i][0][2] + METRICS[i][0][3] + 1 for i in range(len(n_chains))], color=BLUE, marker='s', alpha = 0.5)\n",
    "axes[1][1].plot(n_chains, [METRICS[i][1][0].ancillae_highwater() + METRICS[i][1][2] + METRICS[i][1][3] + 1 for i in range(len(n_chains))], color=ORANGE, marker='^', alpha = 0.5)\n",
    "axes[1][1].set_ylabel(\"Max Qubit Usage\")\n",
    "axes[1][1].set_xlabel('Chain Length')\n",
    "\n",
    "fig.delaxes(axes[0][2])\n",
    "plt.tight_layout()\n",
    "axes[1][0].legend(loc='upper right', bbox_to_anchor=(3.7, 2.3),\n",
    "          fancybox=True, shadow=True, ncol=1)\n",
    "\n"
   ]
  },
  {
   "cell_type": "code",
   "execution_count": 144,
   "metadata": {},
   "outputs": [
    {
     "name": "stdout",
     "output_type": "stream",
     "text": [
      "converged SCF energy = -2.09854593699772\n"
     ]
    }
   ],
   "source": [
    "chain_ham = get_chain_hamiltonian(4)"
   ]
  },
  {
   "cell_type": "code",
   "execution_count": 145,
   "metadata": {},
   "outputs": [
    {
     "data": {
      "text/plain": [
       "(110, 185)"
      ]
     },
     "execution_count": 145,
     "metadata": {},
     "output_type": "execute_result"
    }
   ],
   "source": [
    "len(chain_ham.group()), chain_ham.to_paulis(max_fermionic_mode=chain_ham.max_fermionic_mode + 1).n_terms"
   ]
  },
  {
   "cell_type": "code",
   "execution_count": null,
   "metadata": {},
   "outputs": [],
   "source": []
  }
 ],
 "metadata": {
  "kernelspec": {
   "display_name": "openparticle",
   "language": "python",
   "name": "python3"
  },
  "language_info": {
   "codemirror_mode": {
    "name": "ipython",
    "version": 3
   },
   "file_extension": ".py",
   "mimetype": "text/x-python",
   "name": "python",
   "nbconvert_exporter": "python",
   "pygments_lexer": "ipython3",
   "version": "3.11.11"
  },
  "orig_nbformat": 4
 },
 "nbformat": 4,
 "nbformat_minor": 2
}
