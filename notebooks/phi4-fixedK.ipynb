{
 "cells": [
  {
   "cell_type": "markdown",
   "metadata": {},
   "source": [
    "# $\\phi^4$ theory using openparticle"
   ]
  },
  {
   "cell_type": "code",
   "execution_count": 1,
   "metadata": {
    "execution": {
     "iopub.execute_input": "2024-08-24T15:55:30.111964Z",
     "iopub.status.busy": "2024-08-24T15:55:30.110526Z",
     "iopub.status.idle": "2024-08-24T15:55:37.936036Z",
     "shell.execute_reply": "2024-08-24T15:55:37.934972Z",
     "shell.execute_reply.started": "2024-08-24T15:55:30.111816Z"
    }
   },
   "outputs": [
    {
     "name": "stderr",
     "output_type": "stream",
     "text": [
      "/home/kserafin/projects/OpenParticle/.venv/lib/python3.10/site-packages/cotengra/hyperoptimizers/hyper.py:33: UserWarning: Couldn't import `kahypar` - skipping from default hyper optimizer and using basic `labels` method instead.\n",
      "  warnings.warn(\n"
     ]
    }
   ],
   "source": [
    "import numpy as np\n",
    "import matplotlib.pyplot as plt\n",
    "from openparticle import ParticleOperator, generate_matrix, Fock\n",
    "from numpy.linalg import eigh"
   ]
  },
  {
   "cell_type": "markdown",
   "metadata": {},
   "source": [
    "$$\n",
    "\\mathcal{L} \\ = \\ \\frac{1}{2} \\partial_\\mu \\phi \\partial^\\mu \\phi - \\frac{1}{2} m^2 \\phi^2 - g \\phi^4\n",
    "$$\n",
    "\n",
    "$$\n",
    "\\phi(x)\n",
    "\\ = \\ \n",
    "\\int\\frac{dp^+ d^2p^\\perp}{16\\pi^3 p^+} \\theta(p^+)\n",
    "\\left(\n",
    "  e^{-i p x} a_{p}\n",
    "+ e^{i p x} a_{p}^\\dagger\n",
    "\\right)\n",
    "$$\n",
    "\n",
    "$$\n",
    "\\widetilde{\\phi}(x^+, q^+, q^\\perp)\n",
    "\\ = \\ \n",
    "\\int dx^- d^2 x^\\perp\n",
    "\\ e^{\\frac{i}{2} q^+ x^- - i q^\\perp x^\\perp}\n",
    "\\ \\phi(x)\n",
    "$$\n",
    "\n",
    "$$\n",
    "\\widetilde{\\phi}(x^+ = 0, q^+, q^\\perp)\n",
    "\\ = \\ \n",
    "\\frac{\n",
    "  \\theta(q^+) a_{q}\n",
    "+ \\theta(-q^+) a_{-q}^\\dagger\n",
    "}{|q^+|}\n",
    "$$\n",
    "\n",
    "$$\n",
    "H\n",
    "\\ = \\ \n",
    "\\int dx^- d^2 x^\\perp\n",
    "\\mathcal{H}\n",
    "$$\n",
    "\n",
    "$$\n",
    "\\mathcal{H}\n",
    "\\ = \\ \n",
    ":\\frac{1}{2} \\phi\n",
    "  \\left[ (i\\partial^\\perp)^2 + m^2 \\right] \\phi:\n",
    "+ g : \\phi^4 :\n",
    "\\ ,\n",
    "$$\n",
    "\n",
    "$$\n",
    "H_I\n",
    "\\ = \\ \n",
    "g\n",
    "\\int dx^- d^2 x^\\perp\n",
    ":\\phi^4(x):\n",
    "\\ = \\ \n",
    "g\n",
    "\\int dx^- d^2 x^\\perp\n",
    "\\int\\frac{dq_1^+ d^2q_1^\\perp}{16\\pi^3}\n",
    "\\int\\frac{dq_2^+ d^2q_2^\\perp}{16\\pi^3}\n",
    "\\int\\frac{dq_3^+ d^2q_3^\\perp}{16\\pi^3}\n",
    "\\int\\frac{dq_4^+ d^2q_4^\\perp}{16\\pi^3}\n",
    "e^{-i(q_1 + q_2 + q_3 + q_4) x}\n",
    ":\\widetilde{\\phi}(q_1)\n",
    "\\widetilde{\\phi}(q_2)\n",
    "\\widetilde{\\phi}(q_3)\n",
    "\\widetilde{\\phi}(q_4):\n",
    "$$\n",
    "$$\n",
    "H_I\n",
    "\\ = \\ \n",
    "g\n",
    "\\int\\frac{dq_1^+ d^2q_1^\\perp}{16\\pi^3}\n",
    "\\int\\frac{dq_2^+ d^2q_2^\\perp}{16\\pi^3}\n",
    "\\int\\frac{dq_3^+ d^2q_3^\\perp}{16\\pi^3}\n",
    "\\int\\frac{dq_4^+ d^2q_4^\\perp}{16\\pi^3}\n",
    "\\tilde\\delta(q_1 + q_2 + q_3 + q_4)\n",
    ":\\widetilde{\\phi}(q_1)\n",
    "\\widetilde{\\phi}(q_2)\n",
    "\\widetilde{\\phi}(q_3)\n",
    "\\widetilde{\\phi}(q_4):\n",
    "$$\n",
    "\n",
    "$$\n",
    "H\n",
    "\\ = \\ \n",
    "\\int_1 p_1^- a_1^\\dagger a_1\n",
    "+\n",
    "4 g\n",
    "\\int_{1234}\n",
    "16 \\pi^3 \\delta^3(p_1 + p_2 + p_3 - p_4)\n",
    "\\left(\n",
    "  a_1^\\dagger a_2^\\dagger a_3^\\dagger a_4\n",
    "+ a_4^\\dagger a_3 a_2 a_1\n",
    "\\right)\n",
    "+\n",
    "6 g\n",
    "\\int_{1234}\n",
    "16 \\pi^3 \\delta^3(p_1 + p_2 - p_3 - p_4)\n",
    "\\ a_1^\\dagger a_2^\\dagger a_3 a_4\n",
    "$$"
   ]
  },
  {
   "cell_type": "markdown",
   "metadata": {},
   "source": [
    "## 1+1D\n",
    "\n",
    "$$\n",
    "H\n",
    "\\ = \\ \n",
    "\\int_1 p_1^- a_1^\\dagger a_1\n",
    "+\n",
    "4 g\n",
    "\\int_{1234}\n",
    "4 \\pi \\delta(p_1^+ + p_2^+ + p_3^+ - p_4^+)\n",
    "\\left(\n",
    "  a_1^\\dagger a_2^\\dagger a_3^\\dagger a_4\n",
    "+ a_4^\\dagger a_3 a_2 a_1\n",
    "\\right)\n",
    "+\n",
    "6 g\n",
    "\\int_{1234}\n",
    "4 \\pi \\delta(p_1^+ + p_2^+ - p_3^+ - p_4^+)\n",
    "\\ a_1^\\dagger a_2^\\dagger a_3 a_4\n",
    "$$"
   ]
  },
  {
   "cell_type": "markdown",
   "metadata": {},
   "source": [
    "## Dicretization\n",
    "\n",
    "$$\n",
    "p_i^+ \\ = \\ \\frac{2\\pi k_i}{L}\n",
    "$$\n",
    "$$\n",
    "\\int_i \\ = \\ \\int\\frac{dp_i^+}{4\\pi}\n",
    "\\to\n",
    "\\frac{1}{2L} \\sum_{k_i = 1}^{\\infty}\n",
    "$$\n",
    "$$\n",
    "4\\pi\\delta(p_i^+ - p_j^+) \\to 2L\\delta_{k_i,k_j}\n",
    "$$\n",
    "$$\n",
    "a_i \\to \\sqrt{2L} \\, a_i\n",
    "$$\n",
    "$$\n",
    "\\left[ a_i, a_j \\right] \\ = \\ p_i^+ \\, \\delta_{k_i,k_j}\n",
    "$$\n",
    "\n",
    "$$\n",
    "H\n",
    "\\ = \\ \n",
    "\\frac{1}{2L} \\sum_{k_1 = 1}^{\\infty} \\frac{1}{p_1^+} p_1^- (2L) a_1^\\dagger a_1\n",
    "+\n",
    "4 g\n",
    "\\frac{1}{2L} \\sum_{k_1 = 1}^{\\infty} \\frac{1}{p_1^+}\n",
    "\\frac{1}{2L} \\sum_{k_2 = 1}^{\\infty} \\frac{1}{p_2^+}\n",
    "\\frac{1}{2L} \\sum_{k_3 = 1}^{\\infty} \\frac{1}{p_3^+}\n",
    "\\frac{1}{2L} \\sum_{k_4 = 1}^{\\infty} \\frac{1}{p_4^+}\n",
    "(2L) \\delta_{k_1 + k_2 + k_3, k_4}\n",
    "(2L)^2 \\left(\n",
    "  a_1^\\dagger a_2^\\dagger a_3^\\dagger a_4\n",
    "+ a_4^\\dagger a_3 a_2 a_1\n",
    "\\right)\n",
    "+\n",
    "6 g\n",
    "\\frac{1}{2L} \\sum_{k_1 = 1}^{\\infty} \\frac{1}{p_1^+}\n",
    "\\frac{1}{2L} \\sum_{k_2 = 1}^{\\infty} \\frac{1}{p_2^+}\n",
    "\\frac{1}{2L} \\sum_{k_3 = 1}^{\\infty} \\frac{1}{p_3^+}\n",
    "\\frac{1}{2L} \\sum_{k_4 = 1}^{\\infty} \\frac{1}{p_4^+}\n",
    "(2L) \\delta_{k_1 + k_2, k_3 + k_4}\n",
    "\\ (2L)^2 a_1^\\dagger a_2^\\dagger a_3 a_4\n",
    "$$\n",
    "\n",
    "$$\n",
    "H\n",
    "\\ = \\ \n",
    "\\sum_{k_1 = 1}^{\\infty} \\frac{1}{p_1^+} p_1^- a_1^\\dagger a_1\n",
    "+\n",
    "4 g\n",
    "\\frac{1}{2L} \\sum_{k_1, k_2, k_3, k_4 = 1}^{\\infty}\n",
    "\\frac{1}{p_1^+ p_2^+ p_3^+ p_4^+}\n",
    "\\delta_{k_1 + k_2 + k_3, k_4}\n",
    "\\left(\n",
    "  a_1^\\dagger a_2^\\dagger a_3^\\dagger a_4\n",
    "+ a_4^\\dagger a_3 a_2 a_1\n",
    "\\right)\n",
    "+\n",
    "6 g\n",
    "\\frac{1}{2L} \\sum_{k_1, k_2, k_3, k_4 = 1}^{\\infty}\n",
    "\\frac{1}{p_1^+ p_2^+ p_3^+ p_4^+}\n",
    "\\delta_{k_1 + k_2, k_3 + k_4}\n",
    "\\ a_1^\\dagger a_2^\\dagger a_3 a_4\n",
    "$$"
   ]
  },
  {
   "cell_type": "markdown",
   "metadata": {},
   "source": [
    "## Unit-normalized operators\n",
    "\n",
    "We change normalization of the operators,\n",
    "$$\n",
    "a_i \\to \\sqrt{p_i^+} a_i\n",
    "\\ ,\n",
    "$$\n",
    "so that\n",
    "$$\n",
    "\\left[ a_{k_i}, a_{k_j}^\\dagger \\right]\n",
    "\\ = \\ \n",
    "\\delta_{k_i, k_j}\n",
    "\\ .\n",
    "$$\n",
    "The Hamiltonian becomes\n",
    "$$\n",
    "H\n",
    "\\ = \\ \n",
    "\\sum_{k_1 = 1}^{\\infty} p_1^- a_1^\\dagger a_1\n",
    "+\n",
    "4 g\n",
    "\\frac{1}{2L} \\sum_{k_1, k_2, k_3, k_4 = 1}^{\\infty}\n",
    "\\frac{1}{\\sqrt{p_1^+ p_2^+ p_3^+ p_4^+}}\n",
    "\\delta_{k_1 + k_2 + k_3, k_4}\n",
    "\\left(\n",
    "  a_1^\\dagger a_2^\\dagger a_3^\\dagger a_4\n",
    "+ a_4^\\dagger a_3 a_2 a_1\n",
    "\\right)\n",
    "+\n",
    "6 g\n",
    "\\frac{1}{2L} \\sum_{k_1, k_2, k_3, k_4 = 1}^{\\infty}\n",
    "\\frac{1}{\\sqrt{p_1^+ p_2^+ p_3^+ p_4^+}}\n",
    "\\delta_{k_1 + k_2, k_3 + k_4}\n",
    "\\ a_1^\\dagger a_2^\\dagger a_3 a_4\n",
    "$$"
   ]
  },
  {
   "cell_type": "markdown",
   "metadata": {},
   "source": [
    "## $P^+$-rescaled Hamiltonian\n",
    "\n",
    "If we define\n",
    "$$\n",
    "P^+\n",
    "\\ = \\ \n",
    "\\frac{2\\pi K}{L}\n",
    "\\ ,\n",
    "$$\n",
    "then the rescaled Hamiltonian, aka. light-cone Hamiltonian (or can it be called that?), is\n",
    "$$\n",
    "H_{LC}\n",
    "\\ = \\ \n",
    "P^+ H\n",
    "\\ = \\ \n",
    "\\sum_{k = 1}^{\\infty}\n",
    "\\frac{m^2}{k/K} a_k^\\dagger a_k\n",
    "+\n",
    "4 \\frac{g K}{4\\pi} \\sum_{k_1, k_2, k_3, k_4 = 1}^{\\infty}\n",
    "\\frac{ \\delta_{k_1 + k_2 + k_3, k_4} }{ \\sqrt{k_1 k_2 k_3 k_4} }\n",
    "\\left(\n",
    "  a_1^\\dagger a_2^\\dagger a_3^\\dagger a_4\n",
    "+ a_4^\\dagger a_3 a_2 a_1\n",
    "\\right)\n",
    "+\n",
    "6 \\frac{g K}{4\\pi}\n",
    "\\sum_{k_1, k_2, k_3, k_4 = 1}^{\\infty}\n",
    "\\frac{ \\delta_{k_1 + k_2, k_3 + k_4} }{ \\sqrt{k_1 k_2 k_3 k_4} }\n",
    "\\ a_1^\\dagger a_2^\\dagger a_3 a_4\n",
    "\\ .\n",
    "$$"
   ]
  },
  {
   "cell_type": "markdown",
   "metadata": {},
   "source": [
    "## Cutoff Hamiltonian\n",
    "\n",
    "We introduce mode cutoff $\\Lambda$, such that\n",
    "$$k = 1, 2, \\dots, \\Lambda.$$"
   ]
  },
  {
   "cell_type": "code",
   "execution_count": 2,
   "metadata": {
    "execution": {
     "iopub.execute_input": "2024-08-24T16:22:44.853283Z",
     "iopub.status.busy": "2024-08-24T16:22:44.851895Z",
     "iopub.status.idle": "2024-08-24T16:22:44.859905Z",
     "shell.execute_reply": "2024-08-24T16:22:44.858613Z",
     "shell.execute_reply.started": "2024-08-24T16:22:44.853231Z"
    }
   },
   "outputs": [],
   "source": [
    "Lambda = 3"
   ]
  },
  {
   "cell_type": "code",
   "execution_count": 4,
   "metadata": {
    "execution": {
     "iopub.execute_input": "2024-08-24T16:27:56.706940Z",
     "iopub.status.busy": "2024-08-24T16:27:56.705672Z",
     "iopub.status.idle": "2024-08-24T16:27:56.730987Z",
     "shell.execute_reply": "2024-08-24T16:27:56.728877Z",
     "shell.execute_reply.started": "2024-08-24T16:27:56.706867Z"
    }
   },
   "outputs": [
    {
     "data": {
      "text/latex": [
       "$$H_{LC} \\ = \\ \\frac{m^2}{1/K} a_1^\\dagger a_1 + \\frac{m^2}{2/K} a_2^\\dagger a_2 + \\frac{m^2}{3/K} a_3^\\dagger a_3 + \\frac{4 g K}{4\\pi}\n",
       "    \\frac{1}{\\sqrt{3}}\n",
       "    \\left(\n",
       "      a_1^\\dagger a_1^\\dagger a_1^\\dagger a_3\n",
       "    + a_3^\\dagger a_1 a_1 a_1\n",
       "    \\right) + \\frac{6 g K}{4\\pi}\n",
       "    \\frac{1}{\\sqrt{1}}\n",
       "      a_1^\\dagger a_1^\\dagger a_1 a_1\n",
       " + \\frac{6 g K}{4\\pi}\n",
       "    \\frac{1}{\\sqrt{4}}\n",
       "      a_1^\\dagger a_2^\\dagger a_1 a_2\n",
       " + \\frac{6 g K}{4\\pi}\n",
       "    \\frac{1}{\\sqrt{4}}\n",
       "      a_1^\\dagger a_2^\\dagger a_2 a_1\n",
       " + \\frac{6 g K}{4\\pi}\n",
       "    \\frac{1}{\\sqrt{9}}\n",
       "      a_1^\\dagger a_3^\\dagger a_1 a_3\n",
       " + \\frac{6 g K}{4\\pi}\n",
       "    \\frac{1}{\\sqrt{12}}\n",
       "      a_1^\\dagger a_3^\\dagger a_2 a_2\n",
       " + \\frac{6 g K}{4\\pi}\n",
       "    \\frac{1}{\\sqrt{9}}\n",
       "      a_1^\\dagger a_3^\\dagger a_3 a_1\n",
       " + \\frac{6 g K}{4\\pi}\n",
       "    \\frac{1}{\\sqrt{4}}\n",
       "      a_2^\\dagger a_1^\\dagger a_1 a_2\n",
       " + \\frac{6 g K}{4\\pi}\n",
       "    \\frac{1}{\\sqrt{4}}\n",
       "      a_2^\\dagger a_1^\\dagger a_2 a_1\n",
       " + \\frac{6 g K}{4\\pi}\n",
       "    \\frac{1}{\\sqrt{12}}\n",
       "      a_2^\\dagger a_2^\\dagger a_1 a_3\n",
       " + \\frac{6 g K}{4\\pi}\n",
       "    \\frac{1}{\\sqrt{16}}\n",
       "      a_2^\\dagger a_2^\\dagger a_2 a_2\n",
       " + \\frac{6 g K}{4\\pi}\n",
       "    \\frac{1}{\\sqrt{12}}\n",
       "      a_2^\\dagger a_2^\\dagger a_3 a_1\n",
       " + \\frac{6 g K}{4\\pi}\n",
       "    \\frac{1}{\\sqrt{36}}\n",
       "      a_2^\\dagger a_3^\\dagger a_2 a_3\n",
       " + \\frac{6 g K}{4\\pi}\n",
       "    \\frac{1}{\\sqrt{36}}\n",
       "      a_2^\\dagger a_3^\\dagger a_3 a_2\n",
       " + \\frac{6 g K}{4\\pi}\n",
       "    \\frac{1}{\\sqrt{9}}\n",
       "      a_3^\\dagger a_1^\\dagger a_1 a_3\n",
       " + \\frac{6 g K}{4\\pi}\n",
       "    \\frac{1}{\\sqrt{12}}\n",
       "      a_3^\\dagger a_1^\\dagger a_2 a_2\n",
       " + \\frac{6 g K}{4\\pi}\n",
       "    \\frac{1}{\\sqrt{9}}\n",
       "      a_3^\\dagger a_1^\\dagger a_3 a_1\n",
       " + \\frac{6 g K}{4\\pi}\n",
       "    \\frac{1}{\\sqrt{36}}\n",
       "      a_3^\\dagger a_2^\\dagger a_2 a_3\n",
       " + \\frac{6 g K}{4\\pi}\n",
       "    \\frac{1}{\\sqrt{36}}\n",
       "      a_3^\\dagger a_2^\\dagger a_3 a_2\n",
       " + \\frac{6 g K}{4\\pi}\n",
       "    \\frac{1}{\\sqrt{81}}\n",
       "      a_3^\\dagger a_3^\\dagger a_3 a_3$$"
      ],
      "text/plain": [
       "<IPython.core.display.Latex object>"
      ]
     },
     "metadata": {},
     "output_type": "display_data"
    }
   ],
   "source": [
    "from IPython.display import display, Latex\n",
    "string = \"H_{LC} \\ = \\ \" + \" + \".join([ \"\\\\frac{{m^2}}{{{k}/K}} a_{k}^\\\\dagger a_{k}\".format(k = k) for k in range(1,Lambda+1) ])\n",
    "\n",
    "from itertools import product\n",
    "\n",
    "string += \" + \"\n",
    "string += \"\\n + \".join([ \n",
    "    \"\"\"\\\\frac{{4 g K}}{{4\\\\pi}}\n",
    "    \\\\frac{{1}}{{\\\\sqrt{{{p}}}}}\n",
    "    \\\\left(\n",
    "      a_{k1}^\\\\dagger a_{k2}^\\\\dagger a_{k3}^\\\\dagger a_{k4}\n",
    "    + a_{k4}^\\\\dagger a_{k3} a_{k2} a_{k1}\n",
    "    \\\\right)\"\"\".format(k1=k1, k2=k2, k3=k3, k4=k4, p=k1*k2*k3*k4)\n",
    "    for k1, k2, k3, k4 in product(range(1, Lambda+1), repeat=4) if k1 + k2 + k3 == k4\n",
    "])\n",
    "string += \" + \"\n",
    "string += \"\\n + \".join([ \n",
    "    \"\"\"\\\\frac{{6 g K}}{{4\\\\pi}}\n",
    "    \\\\frac{{1}}{{\\\\sqrt{{{p}}}}}\n",
    "      a_{k1}^\\\\dagger a_{k2}^\\\\dagger a_{k3} a_{k4}\"\"\".format(k1=k1, k2=k2, k3=k3, k4=k4, p=k1*k2*k3*k4)\n",
    "    for k1, k2, k3, k4 in product(range(1, Lambda+1), repeat=4) if k1 + k2 == k3 + k4\n",
    "])\n",
    "\n",
    "display(Latex(\"$$\" + string + \"$$\"))"
   ]
  },
  {
   "cell_type": "markdown",
   "metadata": {},
   "source": [
    "## Keep it simple, set $K = 1$"
   ]
  },
  {
   "cell_type": "code",
   "execution_count": 4,
   "metadata": {
    "execution": {
     "iopub.execute_input": "2024-08-24T15:33:05.340764Z",
     "iopub.status.busy": "2024-08-24T15:33:05.340288Z",
     "iopub.status.idle": "2024-08-24T15:33:05.345747Z",
     "shell.execute_reply": "2024-08-24T15:33:05.344399Z",
     "shell.execute_reply.started": "2024-08-24T15:33:05.340728Z"
    }
   },
   "outputs": [],
   "source": [
    "Lambda = 3"
   ]
  },
  {
   "cell_type": "code",
   "execution_count": 5,
   "metadata": {
    "execution": {
     "iopub.execute_input": "2024-08-24T16:29:34.244314Z",
     "iopub.status.busy": "2024-08-24T16:29:34.243169Z",
     "iopub.status.idle": "2024-08-24T16:29:34.281303Z",
     "shell.execute_reply": "2024-08-24T16:29:34.270779Z",
     "shell.execute_reply.started": "2024-08-24T16:29:34.244164Z"
    }
   },
   "outputs": [
    {
     "data": {
      "text/latex": [
       "$$H_{LC} \\ = \\ \\frac{m^2}{1/K} a_1^\\dagger a_1 + \\frac{m^2}{2/K} a_2^\\dagger a_2 + \\frac{m^2}{3/K} a_3^\\dagger a_3 + \\frac{g}{\\pi}\n",
       "    \\frac{1}{\\sqrt{3}}\n",
       "    \\left(\n",
       "      a_1^\\dagger a_1^\\dagger a_1^\\dagger a_3\n",
       "    + a_3^\\dagger a_1 a_1 a_1\n",
       "    \\right) + \\frac{3 g K}{2\\pi}\n",
       "    \\frac{1}{\\sqrt{1}}\n",
       "      a_1^\\dagger a_1^\\dagger a_1 a_1\n",
       " + \\frac{3 g K}{2\\pi}\n",
       "    \\frac{1}{\\sqrt{4}}\n",
       "      a_1^\\dagger a_2^\\dagger a_1 a_2\n",
       " + \\frac{3 g K}{2\\pi}\n",
       "    \\frac{1}{\\sqrt{4}}\n",
       "      a_1^\\dagger a_2^\\dagger a_2 a_1\n",
       " + \\frac{3 g K}{2\\pi}\n",
       "    \\frac{1}{\\sqrt{9}}\n",
       "      a_1^\\dagger a_3^\\dagger a_1 a_3\n",
       " + \\frac{3 g K}{2\\pi}\n",
       "    \\frac{1}{\\sqrt{12}}\n",
       "      a_1^\\dagger a_3^\\dagger a_2 a_2\n",
       " + \\frac{3 g K}{2\\pi}\n",
       "    \\frac{1}{\\sqrt{9}}\n",
       "      a_1^\\dagger a_3^\\dagger a_3 a_1\n",
       " + \\frac{3 g K}{2\\pi}\n",
       "    \\frac{1}{\\sqrt{4}}\n",
       "      a_2^\\dagger a_1^\\dagger a_1 a_2\n",
       " + \\frac{3 g K}{2\\pi}\n",
       "    \\frac{1}{\\sqrt{4}}\n",
       "      a_2^\\dagger a_1^\\dagger a_2 a_1\n",
       " + \\frac{3 g K}{2\\pi}\n",
       "    \\frac{1}{\\sqrt{12}}\n",
       "      a_2^\\dagger a_2^\\dagger a_1 a_3\n",
       " + \\frac{3 g K}{2\\pi}\n",
       "    \\frac{1}{\\sqrt{16}}\n",
       "      a_2^\\dagger a_2^\\dagger a_2 a_2\n",
       " + \\frac{3 g K}{2\\pi}\n",
       "    \\frac{1}{\\sqrt{12}}\n",
       "      a_2^\\dagger a_2^\\dagger a_3 a_1\n",
       " + \\frac{3 g K}{2\\pi}\n",
       "    \\frac{1}{\\sqrt{36}}\n",
       "      a_2^\\dagger a_3^\\dagger a_2 a_3\n",
       " + \\frac{3 g K}{2\\pi}\n",
       "    \\frac{1}{\\sqrt{36}}\n",
       "      a_2^\\dagger a_3^\\dagger a_3 a_2\n",
       " + \\frac{3 g K}{2\\pi}\n",
       "    \\frac{1}{\\sqrt{9}}\n",
       "      a_3^\\dagger a_1^\\dagger a_1 a_3\n",
       " + \\frac{3 g K}{2\\pi}\n",
       "    \\frac{1}{\\sqrt{12}}\n",
       "      a_3^\\dagger a_1^\\dagger a_2 a_2\n",
       " + \\frac{3 g K}{2\\pi}\n",
       "    \\frac{1}{\\sqrt{9}}\n",
       "      a_3^\\dagger a_1^\\dagger a_3 a_1\n",
       " + \\frac{3 g K}{2\\pi}\n",
       "    \\frac{1}{\\sqrt{36}}\n",
       "      a_3^\\dagger a_2^\\dagger a_2 a_3\n",
       " + \\frac{3 g K}{2\\pi}\n",
       "    \\frac{1}{\\sqrt{36}}\n",
       "      a_3^\\dagger a_2^\\dagger a_3 a_2\n",
       " + \\frac{3 g K}{2\\pi}\n",
       "    \\frac{1}{\\sqrt{81}}\n",
       "      a_3^\\dagger a_3^\\dagger a_3 a_3$$"
      ],
      "text/plain": [
       "<IPython.core.display.Latex object>"
      ]
     },
     "metadata": {},
     "output_type": "display_data"
    }
   ],
   "source": [
    "from IPython.display import display, Latex\n",
    "string = \"H_{LC} \\ = \\ \" + \" + \".join([ \"\\\\frac{{m^2}}{{{k}/K}} a_{k}^\\\\dagger a_{k}\".format(k = k) for k in range(1,Lambda+1) ])\n",
    "\n",
    "from itertools import product\n",
    "\n",
    "string += \" + \"\n",
    "string += \"\\n + \".join([ \n",
    "    \"\"\"\\\\frac{{g}}{{\\\\pi}}\n",
    "    \\\\frac{{1}}{{\\\\sqrt{{{p}}}}}\n",
    "    \\\\left(\n",
    "      a_{k1}^\\\\dagger a_{k2}^\\\\dagger a_{k3}^\\\\dagger a_{k4}\n",
    "    + a_{k4}^\\\\dagger a_{k3} a_{k2} a_{k1}\n",
    "    \\\\right)\"\"\".format(k1=k1, k2=k2, k3=k3, k4=k4, p=k1*k2*k3*k4)\n",
    "    for k1, k2, k3, k4 in product(range(1, Lambda+1), repeat=4) if k1 + k2 + k3 == k4\n",
    "])\n",
    "string += \" + \"\n",
    "string += \"\\n + \".join([ \n",
    "    \"\"\"\\\\frac{{3 g K}}{{2\\\\pi}}\n",
    "    \\\\frac{{1}}{{\\\\sqrt{{{p}}}}}\n",
    "      a_{k1}^\\\\dagger a_{k2}^\\\\dagger a_{k3} a_{k4}\"\"\".format(k1=k1, k2=k2, k3=k3, k4=k4, p=k1*k2*k3*k4)\n",
    "    for k1, k2, k3, k4 in product(range(1, Lambda+1), repeat=4) if k1 + k2 == k3 + k4\n",
    "])\n",
    "\n",
    "display(Latex(\"$$\" + string + \"$$\"))"
   ]
  },
  {
   "cell_type": "code",
   "execution_count": 6,
   "metadata": {
    "execution": {
     "iopub.execute_input": "2024-08-24T16:36:52.265393Z",
     "iopub.status.busy": "2024-08-24T16:36:52.262883Z",
     "iopub.status.idle": "2024-08-24T16:36:52.313408Z",
     "shell.execute_reply": "2024-08-24T16:36:52.310657Z",
     "shell.execute_reply.started": "2024-08-24T16:36:52.265236Z"
    }
   },
   "outputs": [],
   "source": [
    "def free_ham(mass, Lambda):\n",
    "    \"\"\"\n",
    "    Generate free Hamiltonian with modes p^+ = 1, 2, ..., Lambda.\n",
    "    \"\"\"\n",
    "    return mass**2 * sum( [ (1.0/i) * ParticleOperator('a' + str(i)).dagger() * ParticleOperator('a' + str(i)) for i in range(1, Lambda+1) ], 0*ParticleOperator('') )\n",
    "\n",
    "\n",
    "def inter_ham(g, Lambda):\n",
    "    \"\"\"\n",
    "    Generate interacting Hamiltonian for discretized phi^4 in 1+1D with modes p^+ = 1, 2, ..., Lambda.\n",
    "    \"\"\"\n",
    "\n",
    "    from itertools import product\n",
    "    from numpy import sqrt, pi\n",
    "\n",
    "    result = ParticleOperator({})\n",
    "\n",
    "    coupling = 4.0 * g / sqrt(4.0 * pi)\n",
    "    list_of_terms = [ (k1,k2,k3,k4) for k1, k2, k3, k4 in product(range(1, Lambda+1), repeat=4) if k1 + k2 + k3 == k4 ]\n",
    "    for k1,k2,k3,k4 in list_of_terms:\n",
    "        sk1, sk2, sk3, sk4 = *map(str, sorted([k1,k2,k3])), str(k4)\n",
    "        po = ParticleOperator('a' + sk1).dagger() * ParticleOperator('a' + sk2).dagger() * ParticleOperator('a' + sk3).dagger() * ParticleOperator('a' + sk4) \\\n",
    "           + ParticleOperator('a' + sk4).dagger() * ParticleOperator('a' + sk3) * ParticleOperator('a' + sk2) * ParticleOperator('a' + sk1)\n",
    "        result += (1.0 / sqrt(k1*k2*k3*k4)) * po\n",
    "\n",
    "    coupling = 6.0 * g / sqrt(4.0 * pi)\n",
    "    list_of_terms = [ (k1,k2,k3,k4) for k1, k2, k3, k4 in product(range(1, Lambda+1), repeat=4) if k1 + k2 == k3 + k4 ]\n",
    "    for k1,k2,k3,k4 in list_of_terms:\n",
    "        sk1, sk2, sk3, sk4 = str(min(k1,k2)), str(max(k1,k2)), str(max(k3,k4)), str(min(k3,k4))\n",
    "        po = ParticleOperator('a' + sk1).dagger() * ParticleOperator('a' + sk2).dagger() * ParticleOperator('a' + sk3) * ParticleOperator('a' + sk4)\n",
    "        result += (1.0 / sqrt(k1*k2*k3*k4)) * po\n",
    "\n",
    "    return coupling * result"
   ]
  },
  {
   "cell_type": "markdown",
   "metadata": {},
   "source": [
    "# Fixed momentum basis"
   ]
  },
  {
   "cell_type": "code",
   "execution_count": 14,
   "metadata": {
    "execution": {
     "iopub.execute_input": "2024-08-24T16:38:59.756930Z",
     "iopub.status.busy": "2024-08-24T16:38:59.754171Z",
     "iopub.status.idle": "2024-08-24T16:38:59.785416Z",
     "shell.execute_reply": "2024-08-24T16:38:59.779509Z",
     "shell.execute_reply.started": "2024-08-24T16:38:59.756780Z"
    }
   },
   "outputs": [],
   "source": [
    "from collections import Counter\n",
    "\n",
    "def Partition(N):\n",
    "    if N > 0:\n",
    "        nonzero = True\n",
    "        work_space = N * [0]\n",
    "        work_space[0] = N\n",
    "        position = 0\n",
    "    else:\n",
    "        nonzero = False\n",
    "        yield []\n",
    "    \n",
    "    while nonzero:\n",
    "        if sum(work_space[:position+1]) != N:\n",
    "            raise ValueError\n",
    "        counter = Counter(work_space[:position+1])\n",
    "        yield [ (i, counter[i]) for i in range(1, N+1) ]\n",
    "    \n",
    "        collected_value = 0\n",
    "    \n",
    "        while position >= 0 and work_space[position] == 1:\n",
    "            collected_value += work_space[position]\n",
    "            position -= 1\n",
    "    \n",
    "        if position < 0:\n",
    "            break\n",
    "    \n",
    "        work_space[position] -= 1\n",
    "        collected_value += 1\n",
    "    \n",
    "        while collected_value > work_space[position]:\n",
    "            work_space[position+1] = work_space[position]\n",
    "            collected_value -= work_space[position]\n",
    "            position += 1\n",
    "    \n",
    "        position += 1\n",
    "        work_space[position] = collected_value"
   ]
  },
  {
   "cell_type": "code",
   "execution_count": 15,
   "metadata": {
    "execution": {
     "iopub.execute_input": "2024-08-24T16:39:01.280956Z",
     "iopub.status.busy": "2024-08-24T16:39:01.279693Z",
     "iopub.status.idle": "2024-08-24T16:39:01.291879Z",
     "shell.execute_reply": "2024-08-24T16:39:01.289447Z",
     "shell.execute_reply.started": "2024-08-24T16:39:01.280868Z"
    }
   },
   "outputs": [
    {
     "name": "stdout",
     "output_type": "stream",
     "text": [
      "[(1, 0), (2, 0), (3, 0), (4, 1)]\n",
      "[(1, 1), (2, 0), (3, 1), (4, 0)]\n",
      "[(1, 0), (2, 2), (3, 0), (4, 0)]\n",
      "[(1, 2), (2, 1), (3, 0), (4, 0)]\n",
      "[(1, 4), (2, 0), (3, 0), (4, 0)]\n"
     ]
    }
   ],
   "source": [
    "for i in Partition(4):\n",
    "    print(i)"
   ]
  },
  {
   "cell_type": "code",
   "execution_count": 22,
   "metadata": {
    "execution": {
     "iopub.execute_input": "2024-08-24T16:41:40.855001Z",
     "iopub.status.busy": "2024-08-24T16:41:40.852839Z",
     "iopub.status.idle": "2024-08-24T16:42:30.207716Z",
     "shell.execute_reply": "2024-08-24T16:42:30.205911Z",
     "shell.execute_reply.started": "2024-08-24T16:41:40.854919Z"
    }
   },
   "outputs": [],
   "source": [
    "maxPplus = 15\n",
    "m = 1.0\n",
    "g = 0.5\n",
    "all_evals = []\n",
    "for tmp_Pplus in range(0, maxPplus + 1):\n",
    "    # print(\"Lambda =\", tmp_Pplus)\n",
    "    # print(\"Generating basis\")\n",
    "    tmp_basis = []\n",
    "    for i in Partition(tmp_Pplus):\n",
    "        tmp_basis.append( Fock(f_occ = [], af_occ = [], b_occ = i) )\n",
    "    # print(len(tmp_basis))\n",
    "\n",
    "    # print(\"Generating Hamiltonian matrix\")\n",
    "    tmp_H = free_ham(m, tmp_Pplus) + inter_ham(g, tmp_Pplus)\n",
    "    # print(tmp_H)\n",
    "    tmp_Hmat = generate_matrix(tmp_H, tmp_basis)\n",
    "\n",
    "    # print(\"Diagonalizing the Hamiltonian\")\n",
    "    tmp_evals, tmp_evecs = eigh(tmp_Hmat)\n",
    "\n",
    "    all_evals += [ tmp_evals ]\n",
    "\n",
    "    # print()"
   ]
  },
  {
   "cell_type": "code",
   "execution_count": 23,
   "metadata": {
    "execution": {
     "iopub.execute_input": "2024-08-24T16:42:40.262531Z",
     "iopub.status.busy": "2024-08-24T16:42:40.261424Z",
     "iopub.status.idle": "2024-08-24T16:42:40.274705Z",
     "shell.execute_reply": "2024-08-24T16:42:40.272036Z",
     "shell.execute_reply.started": "2024-08-24T16:42:40.262484Z"
    }
   },
   "outputs": [
    {
     "data": {
      "text/plain": [
       "(-0.16508895132863072, 203.6537009492901)"
      ]
     },
     "execution_count": 23,
     "metadata": {},
     "output_type": "execute_result"
    }
   ],
   "source": [
    "minE = min( [min(i) for i in all_evals] )\n",
    "maxE = max( [max(i) for i in all_evals] )\n",
    "minE, maxE"
   ]
  },
  {
   "cell_type": "code",
   "execution_count": 37,
   "metadata": {
    "execution": {
     "iopub.execute_input": "2024-08-24T16:49:09.045088Z",
     "iopub.status.busy": "2024-08-24T16:49:09.044372Z",
     "iopub.status.idle": "2024-08-24T16:49:09.421555Z",
     "shell.execute_reply": "2024-08-24T16:49:09.420243Z",
     "shell.execute_reply.started": "2024-08-24T16:49:09.045018Z"
    }
   },
   "outputs": [
    {
     "data": {
      "image/png": "[encoded data removed]",
      "text/plain": [
       "<Figure size 640x480 with 1 Axes>"
      ]
     },
     "metadata": {},
     "output_type": "display_data"
    }
   ],
   "source": [
    "# plt.plot(len(tmp_evals) * [ tmp_Pplus ], tmp_evals, 'o')\n",
    "\n",
    "tab_x = np.linspace(0.01, maxPplus, 1001)\n",
    "plt.plot(tab_x, m**2/tab_x);\n",
    "\n",
    "plt.xlim(0, maxPplus + 1)\n",
    "plt.ylim(minE-1, maxE+1)\n",
    "\n",
    "for i, y in enumerate(all_evals):\n",
    "    plt.plot(len(y) * [i], y, 'ko')"
   ]
  },
  {
   "cell_type": "code",
   "execution_count": 52,
   "metadata": {
    "execution": {
     "iopub.execute_input": "2024-08-24T16:53:28.617735Z",
     "iopub.status.busy": "2024-08-24T16:53:28.616535Z",
     "iopub.status.idle": "2024-08-24T16:53:29.039145Z",
     "shell.execute_reply": "2024-08-24T16:53:29.037845Z",
     "shell.execute_reply.started": "2024-08-24T16:53:28.617682Z"
    }
   },
   "outputs": [
    {
     "data": {
      "image/png": "[encoded data removed]",
      "text/plain": [
       "<Figure size 640x480 with 1 Axes>"
      ]
     },
     "metadata": {},
     "output_type": "display_data"
    }
   ],
   "source": [
    "# plt.plot(len(tmp_evals) * [ tmp_Pplus ], tmp_evals, 'o')\n",
    "\n",
    "tab_x = np.linspace(0.01, maxPplus, 1001)\n",
    "plt.plot(tab_x, m**2/tab_x);\n",
    "\n",
    "plt.xlim(0, maxPplus + 1);\n",
    "plt.ylim(minE-0.1, 1.4);\n",
    "plt.grid();\n",
    "\n",
    "for i, y in enumerate(all_evals):\n",
    "    plt.plot(len(y) * [i], y, 'ko')"
   ]
  },
  {
   "cell_type": "code",
   "execution_count": 45,
   "metadata": {
    "execution": {
     "iopub.execute_input": "2024-08-24T16:51:43.136377Z",
     "iopub.status.busy": "2024-08-24T16:51:43.135927Z",
     "iopub.status.idle": "2024-08-24T16:51:43.584586Z",
     "shell.execute_reply": "2024-08-24T16:51:43.583347Z",
     "shell.execute_reply.started": "2024-08-24T16:51:43.136337Z"
    }
   },
   "outputs": [
    {
     "name": "stderr",
     "output_type": "stream",
     "text": [
      "/tmp/ipykernel_5620/3612321853.py:10: RuntimeWarning: invalid value encountered in sqrt\n",
      "  plt.plot(len(y) * [i], -np.sqrt(-i*y), 'ro')\n",
      "/tmp/ipykernel_5620/3612321853.py:9: RuntimeWarning: invalid value encountered in sqrt\n",
      "  plt.plot(len(y) * [i], np.sqrt(i*y), 'ko')\n"
     ]
    },
    {
     "data": {
      "image/png": "[encoded data removed]",
      "text/plain": [
       "<Figure size 640x480 with 1 Axes>"
      ]
     },
     "metadata": {},
     "output_type": "display_data"
    }
   ],
   "source": [
    "plt.xlim(0, len(all_evals)+1);\n",
    "plt.ylim(-2, 5);\n",
    "plt.grid();\n",
    "\n",
    "for i in range(1,5):\n",
    "    plt.plot([0, len(all_evals)+1], 2*[ i*m ])\n",
    "\n",
    "for i, y in enumerate(all_evals):\n",
    "    plt.plot(len(y) * [i], np.sqrt(i*y), 'ko')\n",
    "    plt.plot(len(y) * [i], -np.sqrt(-i*y), 'ro')"
   ]
  },
  {
   "cell_type": "code",
   "execution_count": 49,
   "metadata": {
    "execution": {
     "iopub.execute_input": "2024-08-24T16:52:26.053418Z",
     "iopub.status.busy": "2024-08-24T16:52:26.052020Z",
     "iopub.status.idle": "2024-08-24T16:52:26.502892Z",
     "shell.execute_reply": "2024-08-24T16:52:26.500997Z",
     "shell.execute_reply.started": "2024-08-24T16:52:26.053335Z"
    }
   },
   "outputs": [
    {
     "name": "stderr",
     "output_type": "stream",
     "text": [
      "/tmp/ipykernel_5620/4051739698.py:9: RuntimeWarning: invalid value encountered in sqrt\n",
      "  plt.plot(len(y) * [i], -np.sqrt(-i*y), 'ro')\n",
      "/tmp/ipykernel_5620/4051739698.py:8: RuntimeWarning: invalid value encountered in sqrt\n",
      "  plt.plot(len(y) * [i], np.sqrt(i*y), 'ko')\n"
     ]
    },
    {
     "data": {
      "image/png": "[encoded data removed]",
      "text/plain": [
       "<Figure size 640x480 with 1 Axes>"
      ]
     },
     "metadata": {},
     "output_type": "display_data"
    }
   ],
   "source": [
    "plt.xlim(0, len(all_evals)+1);\n",
    "plt.ylim(-2, 5);\n",
    "\n",
    "for i in range(1,5):\n",
    "    plt.plot([0, len(all_evals)+1], 2*[ i*m ])\n",
    "\n",
    "for i, y in enumerate(all_evals):\n",
    "    plt.plot(len(y) * [i], np.sqrt(i*y), 'ko')\n",
    "    plt.plot(len(y) * [i], -np.sqrt(-i*y), 'ro')"
   ]
  }
 ],
 "metadata": {
  "kernelspec": {
   "display_name": "openparticle",
   "language": "python",
   "name": "openparticle"
  },
  "language_info": {
   "codemirror_mode": {
    "name": "ipython",
    "version": 3
   },
   "file_extension": ".py",
   "mimetype": "text/x-python",
   "name": "python",
   "nbconvert_exporter": "python",
   "pygments_lexer": "ipython3",
   "version": "3.10.12"
  }
 },
 "nbformat": 4,
 "nbformat_minor": 4
}
