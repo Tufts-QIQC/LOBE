{
 "cells": [
  {
   "cell_type": "code",
   "execution_count": 1,
   "metadata": {},
   "outputs": [],
   "source": [
    "%load_ext autoreload\n",
    "%autoreload 2"
   ]
  },
  {
   "cell_type": "code",
   "execution_count": 5,
   "metadata": {},
   "outputs": [],
   "source": [
    "from openparticle import ParticleOperator\n",
    "import numpy as np\n",
    "import cirq\n",
    "import matplotlib.pyplot as plt\n",
    "\n",
    "import sys, os\n",
    "sys.path.append(os.path.join(os.path.dirname(os.path.realpath('__file__')), '..'))\n",
    "from src.lobe.asp import get_target_state, add_prepare_circuit\n",
    "from src.lobe.rescale import bosonically_rescale_terms, get_numbers_of_bosonic_operators_in_terms, get_number_of_active_bosonic_modes\n",
    "from src.lobe.system import System\n",
    "from src.lobe.lcu import LCU\n",
    "from colors import *\n",
    "from cirq.contrib.svg import SVGCircuit\n",
    "from openparticle import generate_matrix\n",
    "from src.lobe._utils import get_basis_of_full_system\n",
    "from src.lobe.bosonic import bosonic_mode_block_encoding, bosonic_mode_plus_hc_block_encoding\n",
    "from src.lobe.fermionic import fermionic_product_block_encoding\n",
    "from src.lobe.index import index_over_terms\n",
    "from src.lobe.metrics import CircuitMetrics\n",
    "from functools import partial"
   ]
  },
  {
   "cell_type": "code",
   "execution_count": 6,
   "metadata": {},
   "outputs": [],
   "source": [
    "def static_yukawa_Hamiltonian(Cf = 1, Cb = 1, g = 1):\n",
    "    return (\n",
    "        Cf * ParticleOperator('b0^ b0') \n",
    "        + Cb * ParticleOperator('a0^ a0')\n",
    "        + g * ParticleOperator('b0^ b0')  *(\n",
    "            ParticleOperator('a0^') + ParticleOperator('a0')\n",
    "        )\n",
    "    )"
   ]
  },
  {
   "cell_type": "code",
   "execution_count": 7,
   "metadata": {},
   "outputs": [],
   "source": [
    "from openparticle import generate_matrix\n",
    "from src.lobe._utils import get_basis_of_full_system\n",
    "\n",
    "def check_unitary(operator, circuit, max_bose_occ, system, rescaling_factor):\n",
    "    if len(circuit.all_qubits()) <= 14:\n",
    "        print(\"Checking Unitary: \", max_bose_occ)\n",
    "        full_fock_basis = get_basis_of_full_system(\n",
    "            system.number_of_modes,\n",
    "            max_bose_occ,\n",
    "            has_fermions=operator.has_fermions,\n",
    "            has_antifermions=operator.has_antifermions,\n",
    "            has_bosons=operator.has_bosons,\n",
    "        )\n",
    "        expected_unitary = generate_matrix(operator, full_fock_basis)\n",
    "        rescaled_block = circuit.unitary()[:1 << system.number_of_system_qubits, :1 << system.number_of_system_qubits]*rescaling_factor\n",
    "        if not np.allclose(rescaled_block, expected_unitary):\n",
    "            print(circuit)\n",
    "            print(rescaled_block.real.round(2))\n",
    "            print(expected_unitary.real.round(2))\n",
    "            assert False\n",
    "        print(\"Passed\")\n",
    "    else:\n",
    "        print(\"Skipped: \", len(circuit.all_qubits()))"
   ]
  },
  {
   "cell_type": "code",
   "execution_count": 8,
   "metadata": {},
   "outputs": [],
   "source": [
    "def sy_lcu_circuit_metrics(max_bosonic_occupancy):\n",
    "    operator = static_yukawa_Hamiltonian().normal_order()\n",
    "    operator.remove_identity()\n",
    "    \n",
    "    lcu = LCU(operator, max_bosonic_occupancy=max_bosonic_occupancy, zero_threshold=1e-6)\n",
    "    circuit = lcu.get_circuit()\n",
    "    if len(circuit.all_qubits()) <= 14:\n",
    "        print(\"Checking Unitary: \", max_bosonic_occupancy)\n",
    "        full_fock_basis = get_basis_of_full_system(\n",
    "            1,\n",
    "            max_bosonic_occupancy,\n",
    "            has_fermions=operator.has_fermions,\n",
    "            has_antifermions=operator.has_antifermions,\n",
    "            has_bosons=operator.has_bosons,\n",
    "        )\n",
    "        expected_unitary = generate_matrix(operator, full_fock_basis)\n",
    "        if not np.allclose(lcu.unitary, expected_unitary):\n",
    "            print(circuit)\n",
    "            print(lcu.unitary.real.round(2))\n",
    "            print(expected_unitary.real.round(2))\n",
    "            assert False\n",
    "        print(\"Passed\")\n",
    "    else:\n",
    "        print(\"Skipped: \", len(circuit.all_qubits()))\n",
    "    return lcu.circuit_metrics, lcu.one_norm, len(lcu.index_register)"
   ]
  },
  {
   "cell_type": "code",
   "execution_count": 9,
   "metadata": {},
   "outputs": [],
   "source": [
    "def sy_lobe_circuit_metrics(max_bose_occ):\n",
    "    operator = static_yukawa_Hamiltonian().normal_order()\n",
    "    operator.remove_identity()\n",
    "    terms = operator.group()\n",
    "    \n",
    "    number_of_block_encoding_anillae = 3\n",
    "    index_register = [cirq.LineQubit(-i - 2) for i in range(int(np.ceil(np.log2(len(terms)))))]\n",
    "    block_encoding_ancillae = [cirq.LineQubit(-100 - i - len(index_register)) for i in range(number_of_block_encoding_anillae)]\n",
    "    ctrls = ([cirq.LineQubit(0)], [1])\n",
    "    clean_ancillae = [cirq.LineQubit(i + 100) for i in range(100)]\n",
    "    system = System(1, max_bose_occ, 1000, operator.has_fermions, operator.has_antifermions, operator.has_bosons)\n",
    "\n",
    "    block_encoding_functions = []\n",
    "    rescaling_factors = []\n",
    "    for term in terms:\n",
    "        if term == ParticleOperator(\"b0^ b0\"):\n",
    "            block_encoding_functions.append(\n",
    "                partial(\n",
    "                fermionic_product_block_encoding,\n",
    "                    system=system,\n",
    "                    block_encoding_ancilla=block_encoding_ancillae[0],\n",
    "                    active_indices=[0],\n",
    "                    operator_types=[2],\n",
    "                    clean_ancillae=clean_ancillae[10:],\n",
    "            ))\n",
    "            rescaling_factors.append(1)\n",
    "        elif term == ParticleOperator(\"a0^ a0\"):\n",
    "            block_encoding_functions.append(\n",
    "                partial(\n",
    "                    bosonic_mode_block_encoding,\n",
    "                    system=system,\n",
    "                    block_encoding_ancilla=block_encoding_ancillae[0],\n",
    "                    active_index=0,\n",
    "                    exponents=(1,1),\n",
    "                    clean_ancillae=clean_ancillae[10:],\n",
    "            ))\n",
    "            rescaling_factors.append(max_bose_occ)\n",
    "        elif term == (ParticleOperator(\"b0^ b0 a0^\") + ParticleOperator(\"b0^ b0 a0\")):\n",
    "            def _custom(ctrls=([], [])):\n",
    "                gates, metrics = fermionic_product_block_encoding(\n",
    "                    system=system,\n",
    "                    block_encoding_ancilla=block_encoding_ancillae[0],\n",
    "                    active_indices=[0],\n",
    "                    operator_types=[2],\n",
    "                    clean_ancillae=clean_ancillae[10:],\n",
    "                    ctrls=ctrls\n",
    "                )\n",
    "\n",
    "                _gates, _metrics = bosonic_mode_plus_hc_block_encoding(\n",
    "                    system,\n",
    "                    block_encoding_ancillae=block_encoding_ancillae[1:],\n",
    "                    active_index=0,\n",
    "                    exponents=(1, 0),\n",
    "                    clean_ancillae=clean_ancillae[10:],\n",
    "                    ctrls=ctrls\n",
    "                )\n",
    "                gates += _gates\n",
    "                metrics += _metrics\n",
    "\n",
    "                return gates, metrics\n",
    "\n",
    "            block_encoding_functions.append(_custom)\n",
    "            rescaling_factors.append(2*np.sqrt(max_bose_occ))\n",
    "        else:\n",
    "            raise RuntimeError(\"Term not expected: \", term)\n",
    "\n",
    "    rescaled_coefficients = []\n",
    "    for term, rescaling_factor in zip(terms, rescaling_factors):\n",
    "        rescaled_coefficients.append(term.coeffs[0] * rescaling_factor / max(rescaling_factors))\n",
    "\n",
    "    target_state = get_target_state(rescaled_coefficients)\n",
    "    gates = []\n",
    "    metrics = CircuitMetrics()\n",
    "\n",
    "    gates.append(cirq.X.on(ctrls[0][0]))\n",
    "\n",
    "    _gates, _metrics = add_prepare_circuit(index_register, target_state, clean_ancillae=clean_ancillae)\n",
    "    gates += _gates\n",
    "    metrics += _metrics\n",
    "\n",
    "    _gates, _metrics = index_over_terms(index_register, block_encoding_functions, clean_ancillae, ctrls=ctrls)\n",
    "    gates += _gates\n",
    "    metrics += _metrics\n",
    "\n",
    "    _gates, _metrics = add_prepare_circuit(index_register, target_state, dagger=True, clean_ancillae=clean_ancillae)\n",
    "    gates += _gates\n",
    "    metrics += _metrics\n",
    "\n",
    "    gates.append(cirq.X.on(ctrls[0][0]))\n",
    "\n",
    "    overall_rescaling_factor = sum([term.coeffs[0]*rescaling_factor for term, rescaling_factor in zip(terms, rescaling_factors)])\n",
    "    circuit = cirq.Circuit(gates)\n",
    "    check_unitary(operator, circuit, max_bose_occ, system, overall_rescaling_factor)\n",
    "\n",
    "    return  metrics, overall_rescaling_factor, len(index_register) + number_of_block_encoding_anillae"
   ]
  },
  {
   "cell_type": "code",
   "execution_count": 10,
   "metadata": {},
   "outputs": [
    {
     "name": "stdout",
     "output_type": "stream",
     "text": [
      "LCU\n"
     ]
    },
    {
     "ename": "TypeError",
     "evalue": "to_paulis() got an unexpected keyword argument 'max_bose_occ'",
     "output_type": "error",
     "traceback": [
      "\u001b[0;31m---------------------------------------------------------------------------\u001b[0m",
      "\u001b[0;31mTypeError\u001b[0m                                 Traceback (most recent call last)",
      "Cell \u001b[0;32mIn[10], line 3\u001b[0m\n\u001b[1;32m      1\u001b[0m omegas \u001b[38;5;241m=\u001b[39m [\u001b[38;5;241m1\u001b[39m, \u001b[38;5;241m3\u001b[39m, \u001b[38;5;241m7\u001b[39m, \u001b[38;5;241m15\u001b[39m, \u001b[38;5;241m31\u001b[39m, \u001b[38;5;241m63\u001b[39m, \u001b[38;5;241m127\u001b[39m]\n\u001b[1;32m      2\u001b[0m \u001b[38;5;28mprint\u001b[39m(\u001b[38;5;124m\"\u001b[39m\u001b[38;5;124mLCU\u001b[39m\u001b[38;5;124m\"\u001b[39m)\n\u001b[0;32m----> 3\u001b[0m LCU_DATA \u001b[38;5;241m=\u001b[39m [sy_lcu_circuit_metrics(omega) \u001b[38;5;28;01mfor\u001b[39;00m omega \u001b[38;5;129;01min\u001b[39;00m omegas]\n\u001b[1;32m      4\u001b[0m \u001b[38;5;28mprint\u001b[39m(\u001b[38;5;124m\"\u001b[39m\u001b[38;5;124mLOBE\u001b[39m\u001b[38;5;124m\"\u001b[39m)\n\u001b[1;32m      5\u001b[0m LOBE_DATA \u001b[38;5;241m=\u001b[39m [sy_lobe_circuit_metrics(omega) \u001b[38;5;28;01mfor\u001b[39;00m omega \u001b[38;5;129;01min\u001b[39;00m omegas]\n",
      "Cell \u001b[0;32mIn[10], line 3\u001b[0m, in \u001b[0;36m<listcomp>\u001b[0;34m(.0)\u001b[0m\n\u001b[1;32m      1\u001b[0m omegas \u001b[38;5;241m=\u001b[39m [\u001b[38;5;241m1\u001b[39m, \u001b[38;5;241m3\u001b[39m, \u001b[38;5;241m7\u001b[39m, \u001b[38;5;241m15\u001b[39m, \u001b[38;5;241m31\u001b[39m, \u001b[38;5;241m63\u001b[39m, \u001b[38;5;241m127\u001b[39m]\n\u001b[1;32m      2\u001b[0m \u001b[38;5;28mprint\u001b[39m(\u001b[38;5;124m\"\u001b[39m\u001b[38;5;124mLCU\u001b[39m\u001b[38;5;124m\"\u001b[39m)\n\u001b[0;32m----> 3\u001b[0m LCU_DATA \u001b[38;5;241m=\u001b[39m [\u001b[43msy_lcu_circuit_metrics\u001b[49m\u001b[43m(\u001b[49m\u001b[43momega\u001b[49m\u001b[43m)\u001b[49m \u001b[38;5;28;01mfor\u001b[39;00m omega \u001b[38;5;129;01min\u001b[39;00m omegas]\n\u001b[1;32m      4\u001b[0m \u001b[38;5;28mprint\u001b[39m(\u001b[38;5;124m\"\u001b[39m\u001b[38;5;124mLOBE\u001b[39m\u001b[38;5;124m\"\u001b[39m)\n\u001b[1;32m      5\u001b[0m LOBE_DATA \u001b[38;5;241m=\u001b[39m [sy_lobe_circuit_metrics(omega) \u001b[38;5;28;01mfor\u001b[39;00m omega \u001b[38;5;129;01min\u001b[39;00m omegas]\n",
      "Cell \u001b[0;32mIn[8], line 5\u001b[0m, in \u001b[0;36msy_lcu_circuit_metrics\u001b[0;34m(max_bose_occ)\u001b[0m\n\u001b[1;32m      2\u001b[0m operator \u001b[38;5;241m=\u001b[39m static_yukawa_Hamiltonian()\u001b[38;5;241m.\u001b[39mnormal_order()\n\u001b[1;32m      3\u001b[0m operator\u001b[38;5;241m.\u001b[39mremove_identity()\n\u001b[0;32m----> 5\u001b[0m lcu \u001b[38;5;241m=\u001b[39m \u001b[43mLCU\u001b[49m\u001b[43m(\u001b[49m\u001b[43moperator\u001b[49m\u001b[43m,\u001b[49m\u001b[43m \u001b[49m\u001b[43mmax_bose_occ\u001b[49m\u001b[38;5;241;43m=\u001b[39;49m\u001b[43mmax_bose_occ\u001b[49m\u001b[43m,\u001b[49m\u001b[43m \u001b[49m\u001b[43mzero_threshold\u001b[49m\u001b[38;5;241;43m=\u001b[39;49m\u001b[38;5;241;43m1e-6\u001b[39;49m\u001b[43m)\u001b[49m\n\u001b[1;32m      6\u001b[0m circuit \u001b[38;5;241m=\u001b[39m lcu\u001b[38;5;241m.\u001b[39mget_circuit()\n\u001b[1;32m      7\u001b[0m \u001b[38;5;28;01mif\u001b[39;00m \u001b[38;5;28mlen\u001b[39m(circuit\u001b[38;5;241m.\u001b[39mall_qubits()) \u001b[38;5;241m<\u001b[39m\u001b[38;5;241m=\u001b[39m \u001b[38;5;241m14\u001b[39m:\n",
      "File \u001b[0;32m~/Desktop/Research/SparseOracle/notebooks/../src/lobe/lcu.py:70\u001b[0m, in \u001b[0;36mLCU.__init__\u001b[0;34m(self, operator, max_bose_occ, zero_threshold)\u001b[0m\n\u001b[1;32m     68\u001b[0m \u001b[38;5;28mself\u001b[39m\u001b[38;5;241m.\u001b[39moperator \u001b[38;5;241m=\u001b[39m operator\n\u001b[1;32m     69\u001b[0m \u001b[38;5;28mself\u001b[39m\u001b[38;5;241m.\u001b[39mzero_threshold \u001b[38;5;241m=\u001b[39m zero_threshold\n\u001b[0;32m---> 70\u001b[0m paulis \u001b[38;5;241m=\u001b[39m \u001b[43moperator\u001b[49m\u001b[38;5;241;43m.\u001b[39;49m\u001b[43mto_paulis\u001b[49m\u001b[43m(\u001b[49m\n\u001b[1;32m     71\u001b[0m \u001b[43m    \u001b[49m\u001b[43mmax_bose_occ\u001b[49m\u001b[38;5;241;43m=\u001b[39;49m\u001b[43mmax_bose_occ\u001b[49m\u001b[43m,\u001b[49m\u001b[43m \u001b[49m\u001b[43mzero_threshold\u001b[49m\u001b[38;5;241;43m=\u001b[39;49m\u001b[43mzero_threshold\u001b[49m\n\u001b[1;32m     72\u001b[0m \u001b[43m\u001b[49m\u001b[43m)\u001b[49m\n\u001b[1;32m     74\u001b[0m \u001b[38;5;28mself\u001b[39m\u001b[38;5;241m.\u001b[39mpaulis \u001b[38;5;241m=\u001b[39m seperate_real_imag(paulis, zero_threshold\u001b[38;5;241m=\u001b[39mzero_threshold)\n\u001b[1;32m     76\u001b[0m \u001b[38;5;28mself\u001b[39m\u001b[38;5;241m.\u001b[39mcoeffs \u001b[38;5;241m=\u001b[39m \u001b[38;5;28mself\u001b[39m\u001b[38;5;241m.\u001b[39mpaulis\u001b[38;5;241m.\u001b[39mcoeff_vec\n",
      "\u001b[0;31mTypeError\u001b[0m: to_paulis() got an unexpected keyword argument 'max_bose_occ'"
     ]
    }
   ],
   "source": [
    "omegas = [1, 3, 7, 15, 31, 63, 127]\n",
    "print(\"LCU\")\n",
    "LCU_DATA = [sy_lcu_circuit_metrics(omega) for omega in omegas]\n",
    "print(\"LOBE\")\n",
    "LOBE_DATA = [sy_lobe_circuit_metrics(omega) for omega in omegas]\n",
    "\n",
    "system_qubits = [System(1, omega, 1000, True, False, True).number_of_system_qubits for omega in omegas]"
   ]
  },
  {
   "cell_type": "code",
   "execution_count": 11,
   "metadata": {},
   "outputs": [
    {
     "name": "stdout",
     "output_type": "stream",
     "text": [
      "basis\n"
     ]
    },
    {
     "ename": "AssertionError",
     "evalue": "",
     "output_type": "error",
     "traceback": [
      "\u001b[0;31m---------------------------------------------------------------------------\u001b[0m",
      "\u001b[0;31mAssertionError\u001b[0m                            Traceback (most recent call last)",
      "Cell \u001b[0;32mIn[11], line 13\u001b[0m\n\u001b[1;32m      5\u001b[0m full_fock_basis \u001b[38;5;241m=\u001b[39m get_basis_of_full_system(\n\u001b[1;32m      6\u001b[0m     \u001b[38;5;241m1\u001b[39m,\n\u001b[1;32m      7\u001b[0m     omega,\n\u001b[0;32m   (...)\u001b[0m\n\u001b[1;32m     10\u001b[0m     has_bosons\u001b[38;5;241m=\u001b[39m\u001b[38;5;28;01mTrue\u001b[39;00m,\n\u001b[1;32m     11\u001b[0m )\n\u001b[1;32m     12\u001b[0m \u001b[38;5;28mprint\u001b[39m(\u001b[38;5;124m\"\u001b[39m\u001b[38;5;124mbasis\u001b[39m\u001b[38;5;124m\"\u001b[39m)\n\u001b[0;32m---> 13\u001b[0m expected_unitary \u001b[38;5;241m=\u001b[39m \u001b[43mgenerate_matrix\u001b[49m\u001b[43m(\u001b[49m\u001b[43moperator\u001b[49m\u001b[43m,\u001b[49m\u001b[43m \u001b[49m\u001b[43mfull_fock_basis\u001b[49m\u001b[43m)\u001b[49m\n\u001b[1;32m     14\u001b[0m \u001b[38;5;28mprint\u001b[39m(\u001b[38;5;124m\"\u001b[39m\u001b[38;5;124mmatrix\u001b[39m\u001b[38;5;124m\"\u001b[39m)\n\u001b[1;32m     15\u001b[0m \u001b[38;5;28mprint\u001b[39m(np\u001b[38;5;241m.\u001b[39mlog2(expected_unitary\u001b[38;5;241m.\u001b[39mshape[\u001b[38;5;241m0\u001b[39m]))\n",
      "File \u001b[0;32m~/Desktop/Research/OpenParticle/openparticle/utils.py:153\u001b[0m, in \u001b[0;36mgenerate_matrix\u001b[0;34m(op, basis, max_bosonic_occupancy)\u001b[0m\n\u001b[1;32m    149\u001b[0m         rhs \u001b[38;5;241m=\u001b[39m _check_cutoff(\n\u001b[1;32m    150\u001b[0m             op \u001b[38;5;241m*\u001b[39m state_j, max_bosonic_occupancy\u001b[38;5;241m=\u001b[39mmax_bosonic_occupancy\n\u001b[1;32m    151\u001b[0m         )\n\u001b[1;32m    152\u001b[0m         \u001b[38;5;28;01mfor\u001b[39;00m i, state_i \u001b[38;5;129;01min\u001b[39;00m \u001b[38;5;28menumerate\u001b[39m(basis):\n\u001b[0;32m--> 153\u001b[0m             matrix[i][j] \u001b[38;5;241m=\u001b[39m \u001b[43moverlap\u001b[49m\u001b[43m(\u001b[49m\u001b[43mstate_i\u001b[49m\u001b[43m,\u001b[49m\u001b[43m \u001b[49m\u001b[43mrhs\u001b[49m\u001b[43m)\u001b[49m\n\u001b[1;32m    155\u001b[0m \u001b[38;5;28;01mreturn\u001b[39;00m matrix\n",
      "File \u001b[0;32m~/Desktop/Research/OpenParticle/openparticle/utils.py:160\u001b[0m, in \u001b[0;36moverlap\u001b[0;34m(bra, ket)\u001b[0m\n\u001b[1;32m    158\u001b[0m \u001b[38;5;28;01mdef\u001b[39;00m \u001b[38;5;21moverlap\u001b[39m(bra, ket):\n\u001b[1;32m    159\u001b[0m     \u001b[38;5;66;03m# Calculate ⟨bra|ket⟩\u001b[39;00m\n\u001b[0;32m--> 160\u001b[0m     \u001b[38;5;28;01massert\u001b[39;00m \u001b[38;5;28misinstance\u001b[39m(ket, (Fock, \u001b[38;5;28mint\u001b[39m))\n\u001b[1;32m    162\u001b[0m     \u001b[38;5;28;01mif\u001b[39;00m \u001b[38;5;28misinstance\u001b[39m(ket, \u001b[38;5;28mint\u001b[39m) \u001b[38;5;129;01mor\u001b[39;00m \u001b[38;5;28misinstance\u001b[39m(bra, \u001b[38;5;28mint\u001b[39m):\n\u001b[1;32m    163\u001b[0m         \u001b[38;5;28;01mreturn\u001b[39;00m \u001b[38;5;241m0\u001b[39m\n",
      "\u001b[0;31mAssertionError\u001b[0m: "
     ]
    }
   ],
   "source": [
    "operator = static_yukawa_Hamiltonian().normal_order()\n",
    "operator.remove_identity()\n",
    "operator_norms = []\n",
    "for omega in omegas:\n",
    "    full_fock_basis = get_basis_of_full_system(\n",
    "        1,\n",
    "        omega,\n",
    "        has_fermions=True,\n",
    "        has_antifermions=False,\n",
    "        has_bosons=True,\n",
    "    )\n",
    "    print(\"basis\")\n",
    "    expected_unitary = generate_matrix(operator, full_fock_basis)\n",
    "    print(\"matrix\")\n",
    "    print(np.log2(expected_unitary.shape[0]))\n",
    "    vals = np.linalg.eigvalsh(expected_unitary)\n",
    "    operator_norms.append(max(np.abs(vals)))\n",
    "    print(omega, operator_norms[-1])"
   ]
  },
  {
   "cell_type": "code",
   "execution_count": 12,
   "metadata": {},
   "outputs": [
    {
     "ename": "NameError",
     "evalue": "name 'LCU_DATA' is not defined",
     "output_type": "error",
     "traceback": [
      "\u001b[0;31m---------------------------------------------------------------------------\u001b[0m",
      "\u001b[0;31mNameError\u001b[0m                                 Traceback (most recent call last)",
      "Cell \u001b[0;32mIn[12], line 3\u001b[0m\n\u001b[1;32m      1\u001b[0m fig, axes \u001b[38;5;241m=\u001b[39m plt\u001b[38;5;241m.\u001b[39msubplots(\u001b[38;5;241m3\u001b[39m, \u001b[38;5;241m2\u001b[39m, figsize\u001b[38;5;241m=\u001b[39m(\u001b[38;5;241m16\u001b[39m \u001b[38;5;241m/\u001b[39m \u001b[38;5;241m2.54\u001b[39m, \u001b[38;5;241m18\u001b[39m \u001b[38;5;241m/\u001b[39m \u001b[38;5;241m2.54\u001b[39m))\n\u001b[0;32m----> 3\u001b[0m axes[\u001b[38;5;241m0\u001b[39m][\u001b[38;5;241m0\u001b[39m]\u001b[38;5;241m.\u001b[39mplot(omegas, [LCU_DATA[i][\u001b[38;5;241m0\u001b[39m]\u001b[38;5;241m.\u001b[39mnumber_of_elbows \u001b[38;5;28;01mfor\u001b[39;00m i \u001b[38;5;129;01min\u001b[39;00m \u001b[38;5;28mrange\u001b[39m(\u001b[38;5;28mlen\u001b[39m(omegas))], color\u001b[38;5;241m=\u001b[39mORANGE, marker\u001b[38;5;241m=\u001b[39m\u001b[38;5;124m'\u001b[39m\u001b[38;5;124m^\u001b[39m\u001b[38;5;124m'\u001b[39m, alpha \u001b[38;5;241m=\u001b[39m \u001b[38;5;241m1\u001b[39m)\n\u001b[1;32m      4\u001b[0m axes[\u001b[38;5;241m0\u001b[39m][\u001b[38;5;241m0\u001b[39m]\u001b[38;5;241m.\u001b[39mplot(omegas, [LOBE_DATA[i][\u001b[38;5;241m0\u001b[39m]\u001b[38;5;241m.\u001b[39mnumber_of_elbows \u001b[38;5;28;01mfor\u001b[39;00m i \u001b[38;5;129;01min\u001b[39;00m \u001b[38;5;28mrange\u001b[39m(\u001b[38;5;28mlen\u001b[39m(omegas))], color\u001b[38;5;241m=\u001b[39mBLUE, marker\u001b[38;5;241m=\u001b[39m\u001b[38;5;124m'\u001b[39m\u001b[38;5;124ms\u001b[39m\u001b[38;5;124m'\u001b[39m, alpha \u001b[38;5;241m=\u001b[39m \u001b[38;5;241m1\u001b[39m)\n\u001b[1;32m      5\u001b[0m axes[\u001b[38;5;241m0\u001b[39m][\u001b[38;5;241m0\u001b[39m]\u001b[38;5;241m.\u001b[39mset_ylabel(\u001b[38;5;124m\"\u001b[39m\u001b[38;5;124mNumber of Elbows\u001b[39m\u001b[38;5;124m\"\u001b[39m)\n",
      "Cell \u001b[0;32mIn[12], line 3\u001b[0m, in \u001b[0;36m<listcomp>\u001b[0;34m(.0)\u001b[0m\n\u001b[1;32m      1\u001b[0m fig, axes \u001b[38;5;241m=\u001b[39m plt\u001b[38;5;241m.\u001b[39msubplots(\u001b[38;5;241m3\u001b[39m, \u001b[38;5;241m2\u001b[39m, figsize\u001b[38;5;241m=\u001b[39m(\u001b[38;5;241m16\u001b[39m \u001b[38;5;241m/\u001b[39m \u001b[38;5;241m2.54\u001b[39m, \u001b[38;5;241m18\u001b[39m \u001b[38;5;241m/\u001b[39m \u001b[38;5;241m2.54\u001b[39m))\n\u001b[0;32m----> 3\u001b[0m axes[\u001b[38;5;241m0\u001b[39m][\u001b[38;5;241m0\u001b[39m]\u001b[38;5;241m.\u001b[39mplot(omegas, [\u001b[43mLCU_DATA\u001b[49m[i][\u001b[38;5;241m0\u001b[39m]\u001b[38;5;241m.\u001b[39mnumber_of_elbows \u001b[38;5;28;01mfor\u001b[39;00m i \u001b[38;5;129;01min\u001b[39;00m \u001b[38;5;28mrange\u001b[39m(\u001b[38;5;28mlen\u001b[39m(omegas))], color\u001b[38;5;241m=\u001b[39mORANGE, marker\u001b[38;5;241m=\u001b[39m\u001b[38;5;124m'\u001b[39m\u001b[38;5;124m^\u001b[39m\u001b[38;5;124m'\u001b[39m, alpha \u001b[38;5;241m=\u001b[39m \u001b[38;5;241m1\u001b[39m)\n\u001b[1;32m      4\u001b[0m axes[\u001b[38;5;241m0\u001b[39m][\u001b[38;5;241m0\u001b[39m]\u001b[38;5;241m.\u001b[39mplot(omegas, [LOBE_DATA[i][\u001b[38;5;241m0\u001b[39m]\u001b[38;5;241m.\u001b[39mnumber_of_elbows \u001b[38;5;28;01mfor\u001b[39;00m i \u001b[38;5;129;01min\u001b[39;00m \u001b[38;5;28mrange\u001b[39m(\u001b[38;5;28mlen\u001b[39m(omegas))], color\u001b[38;5;241m=\u001b[39mBLUE, marker\u001b[38;5;241m=\u001b[39m\u001b[38;5;124m'\u001b[39m\u001b[38;5;124ms\u001b[39m\u001b[38;5;124m'\u001b[39m, alpha \u001b[38;5;241m=\u001b[39m \u001b[38;5;241m1\u001b[39m)\n\u001b[1;32m      5\u001b[0m axes[\u001b[38;5;241m0\u001b[39m][\u001b[38;5;241m0\u001b[39m]\u001b[38;5;241m.\u001b[39mset_ylabel(\u001b[38;5;124m\"\u001b[39m\u001b[38;5;124mNumber of Elbows\u001b[39m\u001b[38;5;124m\"\u001b[39m)\n",
      "\u001b[0;31mNameError\u001b[0m: name 'LCU_DATA' is not defined"
     ]
    },
    {
     "data": {
      "image/png": "[encoded data removed]",
      "text/plain": [
       "<Figure size 629.921x708.661 with 6 Axes>"
      ]
     },
     "metadata": {},
     "output_type": "display_data"
    }
   ],
   "source": [
    "fig, axes = plt.subplots(3, 2, figsize=(16 / 2.54, 18 / 2.54))\n",
    "\n",
    "axes[0][0].plot(omegas, [LCU_DATA[i][0].number_of_elbows for i in range(len(omegas))], color=ORANGE, marker='^', alpha = 1)\n",
    "axes[0][0].plot(omegas, [LOBE_DATA[i][0].number_of_elbows for i in range(len(omegas))], color=BLUE, marker='s', alpha = 1)\n",
    "axes[0][0].set_ylabel(\"Number of Elbows\")\n",
    "axes[0][0].set_xlabel(\"Omega ($\\Omega$)\")\n",
    "\n",
    "axes[0][1].plot(omegas, [LCU_DATA[i][0].number_of_rotations for i in range(len(omegas))], color=ORANGE, marker='^', alpha = 1)\n",
    "axes[0][1].plot(omegas, [LOBE_DATA[i][0].number_of_rotations for i in range(len(omegas))], color=BLUE, marker='s', alpha = 1)\n",
    "axes[0][1].set_ylabel(\"Number of Rotations\")\n",
    "axes[0][1].set_xlabel(\"Omega ($\\Omega$)\")\n",
    "\n",
    "axes[1][0].plot(omegas, [LCU_DATA[i][2] for i in range(len(omegas))], color=ORANGE, marker='^', alpha = 1)\n",
    "axes[1][0].plot(omegas, [LOBE_DATA[i][2] for i in range(len(omegas))], color=BLUE, marker='s', alpha = 1)\n",
    "axes[1][0].set_ylabel(\"Number of BE-Ancillae\")\n",
    "axes[1][0].set_xlabel(\"Omega ($\\Omega$)\")\n",
    "\n",
    "axes[1][1].plot(omegas, [LCU_DATA[i][1] for i in range(len(omegas))], color=ORANGE, marker='^', alpha = 1)\n",
    "axes[1][1].plot(omegas, [LOBE_DATA[i][1] for i in range(len(omegas))], color=BLUE, marker='s', alpha = 1)\n",
    "axes[1][1].plot(omegas, [operator_norms[i] for i in range(len(omegas))], color=\"black\", marker='x', ls='--', alpha = 1)\n",
    "axes[1][1].set_ylabel(\"Rescaling Factor\")\n",
    "axes[1][1].set_xlabel(\"Omega ($\\Omega$)\")\n",
    "\n",
    "axes[2][0].plot(omegas, [LCU_DATA[i][0].ancillae_highwater() + LCU_DATA[i][2] + system_qubits[i] + 1 for i in range(len(omegas))], color=ORANGE, marker='^', alpha = 1, label=\"LCU\")\n",
    "axes[2][0].plot(omegas, [LOBE_DATA[i][0].ancillae_highwater() + LOBE_DATA[i][2] + system_qubits[i] + 1 for i in range(len(omegas))], color=BLUE, marker='s', alpha = 1, label=\"LOBE\")\n",
    "axes[2][0].plot([], [], color=\"black\", marker='x', ls='--', alpha = 1, label=\"Hamiltonian Norm\")\n",
    "axes[2][0].set_ylabel(\"Total Qubit Highwater\")\n",
    "axes[2][0].set_xlabel(\"Omega ($\\Omega$)\")\n",
    "\n",
    "fig.delaxes(axes[2][1])\n",
    "plt.tight_layout()\n",
    "axes[2][0].legend(loc='upper center', bbox_to_anchor=(1.5, 0.75),\n",
    "          fancybox=True, shadow=True, ncol=1)\n",
    "plt.savefig(\"../manuscript/figures/static_yukawa.pdf\", dpi=300)"
   ]
  },
  {
   "cell_type": "code",
   "execution_count": null,
   "metadata": {},
   "outputs": [],
   "source": []
  }
 ],
 "metadata": {
  "kernelspec": {
   "display_name": "lobe",
   "language": "python",
   "name": "python3"
  },
  "language_info": {
   "codemirror_mode": {
    "name": "ipython",
    "version": 3
   },
   "file_extension": ".py",
   "mimetype": "text/x-python",
   "name": "python",
   "nbconvert_exporter": "python",
   "pygments_lexer": "ipython3",
   "version": "3.9.6"
  },
  "orig_nbformat": 4
 },
 "nbformat": 4,
 "nbformat_minor": 2
}
